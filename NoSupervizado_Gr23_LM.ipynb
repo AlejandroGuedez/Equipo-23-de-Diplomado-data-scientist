{
 "cells": [
  {
   "cell_type": "markdown",
   "metadata": {
    "id": "uZuQhsPXySv0"
   },
   "source": [
    "# Aprendizaje No Supervisado\n",
    "### Grupo 23\n",
    "\n",
    "**Integrantes:** Franco Amilcar Genolet (francogeno97@gmail.com), Fabian Alejandro Zapata Cerutti (fzc501@gmail.com), Luis Alejandro Guedez Gomez (luis.guedez@dicsys.com), María Laura Mantovani (mantovanimlaura@gmail.com)."
   ]
  },
  {
   "cell_type": "markdown",
   "metadata": {
    "id": "pv0fJ1Z2nlCL"
   },
   "source": [
    "## Inicialización del entorno"
   ]
  },
  {
   "cell_type": "code",
   "execution_count": null,
   "metadata": {
    "_cell_guid": "79c7e3d0-c299-4dcb-8224-4455121ee9b0",
    "_uuid": "d629ff2d2480ee46fbb7e2d37f6b5fab8052498a",
    "id": "tlZD9rvqnlCZ"
   },
   "outputs": [],
   "source": [
    "import numpy as np\n",
    "import pandas as pd\n",
    "import seaborn as sns\n",
    "import missingno as msno\n",
    "pd.set_option('display.max_columns',1000)\n",
    "pd.set_option('display.max_rows',1000)\n",
    "import itertools\n",
    "import warnings\n",
    "warnings.filterwarnings(\"ignore\")\n",
    "import io\n",
    "from plotly.offline import init_notebook_mode, plot,iplot\n",
    "import plotly.graph_objs as go\n",
    "init_notebook_mode(connected=True)\n",
    "import matplotlib.pyplot as plt\n",
    "import plotly.tools as tls#visualization\n",
    "import plotly.figure_factory as ff#visualization\n",
    "#clusters\n",
    "from sklearn.cluster import KMeans,MeanShift\n",
    "from sklearn import decomposition"
   ]
  },
  {
   "cell_type": "markdown",
   "metadata": {
    "id": "p-nTVD8KnlDI"
   },
   "source": [
    "## 1. Análisis exploratorio de la base"
   ]
  },
  {
   "cell_type": "markdown",
   "metadata": {},
   "source": [
    "Descargamos el archivo y vemos las primeras dos líneas:"
   ]
  },
  {
   "cell_type": "code",
   "execution_count": null,
   "metadata": {
    "colab": {
     "base_uri": "https://localhost:8080/",
     "height": 327
    },
    "id": "bVqMR3V5nlDh",
    "outputId": "43b6b040-a108-42d6-cab2-cb66cc558605",
    "scrolled": true
   },
   "outputs": [],
   "source": [
    "#df = pd.read_csv('https://raw.githubusercontent.com/AlejandroGuedez/Equipo-23-de-Diplomado-data-scientist/Versiones/players_22.csv', low_memory=False)\n",
    "\n",
    "df=pd.read_csv(\"players_22.csv\")\n",
    "df.head(2)"
   ]
  },
  {
   "cell_type": "markdown",
   "metadata": {},
   "source": [
    "Revisamos las columnas (variables) del dataset:"
   ]
  },
  {
   "cell_type": "code",
   "execution_count": null,
   "metadata": {
    "colab": {
     "base_uri": "https://localhost:8080/"
    },
    "id": "_v4vKzconlDu",
    "outputId": "20df7797-b465-4a8a-c25a-7aca3f5de18a",
    "scrolled": false
   },
   "outputs": [],
   "source": [
    "variables = df.columns.values.tolist()\n",
    "for v in variables:\n",
    "    print(v)\n",
    "print(len(df.columns), 'variables')\n",
    "print(len(df))"
   ]
  },
  {
   "cell_type": "markdown",
   "metadata": {},
   "source": [
    "A diferencia del dataset revisado en clase, que tenía 89 variables, éste tiene 110. Vemos qué tipo de variables son, y evaluamos la proporción de nulos y ceros:"
   ]
  },
  {
   "cell_type": "code",
   "execution_count": null,
   "metadata": {
    "scrolled": true
   },
   "outputs": [],
   "source": [
    "def status(data):\n",
    "\n",
    "    data2=data \n",
    "    # total de rows\n",
    "    tot_rows=len(data2)\n",
    "    # total de nan\n",
    "    d2=data2.isnull().sum().reset_index()\n",
    "    d2.columns=['variable', 'q_nan']\n",
    "    # percentage of nan\n",
    "    d2[['p_nan']]=d2[['q_nan']]/tot_rows\n",
    "    # num of zeros\n",
    "    d2['q_zeros']=(data2==0).sum().values\n",
    "    # perc of zeros\n",
    "    d2['p_zeros']=d2[['q_zeros']]/tot_rows\n",
    "    # total unique values\n",
    "    d2['unique']=data2.nunique().values\n",
    "    # get data types per column\n",
    "    d2['type']=[str(x) for x in data2.dtypes.values]\n",
    "    return(d2)\n",
    "status(df)"
   ]
  },
  {
   "cell_type": "markdown",
   "metadata": {},
   "source": [
    "Las variables `pace`, `shooting`, `passing`, `dribbling`, `defending` y `physic` tienen 2132 registros nulos. Sospechamos que esto coincide con jugadores cuya única posición es GK (goalkeeper)."
   ]
  },
  {
   "cell_type": "code",
   "execution_count": null,
   "metadata": {},
   "outputs": [],
   "source": [
    "len(df.player_positions[df.player_positions == 'GK'])"
   ]
  },
  {
   "cell_type": "code",
   "execution_count": null,
   "metadata": {},
   "outputs": [],
   "source": [
    "# Datos de jugadores que solo son GK\n",
    "interesting_cols = [ 'pace', 'shooting', 'passing', 'dribbling', 'defending', 'physic' ]\n",
    "gk = df[df.player_positions == 'GK']\n",
    "gk[interesting_cols]"
   ]
  },
  {
   "cell_type": "markdown",
   "metadata": {},
   "source": [
    "Confirmamos la sospecha. \n",
    "\n",
    "En cuanto a la variable `goalkeeping_speed`, que tiene 17107 valores nulos, ¿será que ésta corresponde a jugadores que nunca juegan como arqueros?"
   ]
  },
  {
   "cell_type": "code",
   "execution_count": null,
   "metadata": {},
   "outputs": [],
   "source": [
    "len(df[~df.player_positions.str.contains('GK')])"
   ]
  },
  {
   "cell_type": "code",
   "execution_count": null,
   "metadata": {},
   "outputs": [],
   "source": [
    "# Datos de jugadores que nunca son GK\n",
    "interesting_cols = [ 'goalkeeping_speed' ]\n",
    "non_gk = df[~df.player_positions.str.contains('GK')]\n",
    "non_gk[interesting_cols].describe()"
   ]
  },
  {
   "cell_type": "markdown",
   "metadata": {},
   "source": [
    "Confirmamos esta otra sospecha. Si queremos incluir estas variables en el análisis, lo más lógico sería separar inicialmente a los arqueros."
   ]
  },
  {
   "cell_type": "markdown",
   "metadata": {},
   "source": [
    "Visualizamos gráficamente los datos faltantes:"
   ]
  },
  {
   "cell_type": "code",
   "execution_count": null,
   "metadata": {},
   "outputs": [],
   "source": [
    "null_values_series = df.isnull().sum().where(lambda x : x > 0).dropna().astype('Int32')\n",
    "print(null_values_series.sort_values(ascending=False).to_string()) # to_string() removes the name and dtype from the output\n",
    "msno.matrix(df[null_values_series.index.tolist()], figsize=(15, 8));"
   ]
  },
  {
   "cell_type": "markdown",
   "metadata": {},
   "source": [
    "Las variables que más datos faltantes tienen son las categóricas que son menos relevantes para este ejercicio. En cuanto a las numéricas (a partir de `physic` y hasta `pace` en el listado anterior), ya se explicó la razón por la cual faltan esos datos. En la gráfica se ve que los datos que faltan para una de estas variables, faltan también para el resto y se debe a la posición del jugador.\n",
    "\n",
    "Vemos algunas medidas descriptivas para las variables numéricas:"
   ]
  },
  {
   "cell_type": "code",
   "execution_count": null,
   "metadata": {},
   "outputs": [],
   "source": [
    "df.describe() #60 variables numericas"
   ]
  },
  {
   "cell_type": "markdown",
   "metadata": {},
   "source": [
    "Veamos gráficamente algunas de estas variables numéricas. El gráfico que sigue muestra la relación entre las variables potencial y salario, en función a la reputación internacional del jugador:"
   ]
  },
  {
   "cell_type": "code",
   "execution_count": null,
   "metadata": {
    "scrolled": true
   },
   "outputs": [],
   "source": [
    "plt.figure(figsize=(10, 8))\n",
    "ax = sns.scatterplot(x =df['potential'], y = df['wage_eur'], hue = df['international_reputation'])\n",
    "plt.xlabel(\"Potential\") \n",
    "plt.ylabel(\"Wage EUR\")\n",
    "plt.title(\"Potential & wage\", fontsize = 18)\n",
    "plt.show()"
   ]
  },
  {
   "cell_type": "markdown",
   "metadata": {},
   "source": [
    "Como es de esperarse, hay una gran correlacion entre el potencial y el salario cobrado en euros, a medida que la reputacion internacional aumenta, mas salario cobra tambien."
   ]
  },
  {
   "cell_type": "markdown",
   "metadata": {},
   "source": [
    "Las variables numéricas, tal como se observó en clase, son en su mayoría discretas. A partir de la variable `pace` y hasta `goalkeeping_speed` son variables numéricas discretas que van de 0 a 100. Estas variables son de desempeño del jugador, y las llamaremos skills_ratings. Dado que todas tienen la misma escala, será innecesario escalar como paso previo al clustering."
   ]
  },
  {
   "cell_type": "markdown",
   "metadata": {},
   "source": [
    "Para una primera aproximación global a los jugadores, analizaremos la variable `overall`. Como se vió en clase, esta variable se calcula usando otras variables de desempeño del jugador (skills_ratings), utilizando redondeo. Es decir que puede darnos una idea general de la performance global por jugador. Dicha variable es también numérica discreta, y toma valores enteros entre 0 y 100.\n",
    "\n",
    "Realizamos el histograma de la variable `overall` (desempeño global):"
   ]
  },
  {
   "cell_type": "code",
   "execution_count": null,
   "metadata": {
    "scrolled": true
   },
   "outputs": [],
   "source": [
    "nbins=1*(df.overall.max()-df.overall.min())+1\n",
    "df['overall'].hist(bins = nbins)\n",
    "print(nbins)"
   ]
  },
  {
   "cell_type": "markdown",
   "metadata": {},
   "source": [
    "Veamos la correlacion entre la valoracion general y el salario:"
   ]
  },
  {
   "cell_type": "code",
   "execution_count": null,
   "metadata": {
    "scrolled": true
   },
   "outputs": [],
   "source": [
    "fig, ax = plt.subplots(figsize=(7,5))\n",
    "plt.scatter(x=df['potential'], y=df['value_eur'] )\n",
    "plt.xlabel(\"Overall\") \n",
    "plt.ylabel(\"Value in EUR\")\n",
    "plt.title(\"Overall & Value in EUR\", fontsize = 15)\n",
    "plt.show()"
   ]
  },
  {
   "cell_type": "markdown",
   "metadata": {},
   "source": [
    "Como tambien era de esperarse, se observa una marcada correlacion entre la valoracion general y el salario"
   ]
  },
  {
   "cell_type": "markdown",
   "metadata": {},
   "source": [
    "Vemos la distribución de algunas variables puntuales:"
   ]
  },
  {
   "cell_type": "code",
   "execution_count": null,
   "metadata": {},
   "outputs": [],
   "source": [
    "\n",
    "fig, axes = plt.subplots(2, 2, figsize=(13, 9))\n",
    "axes[0,0].hist(df['wage_eur'])\n",
    "axes[0,0].set_xlabel('Wages in Euro')\n",
    "axes[0,0].set_ylabel('Count')\n",
    "axes[0,0].set_title('Distribution of Wages in Euros')\n",
    "\n",
    "axes[0,1].hist(df['age'], bins = 15)\n",
    "axes[0,1].set_xlabel('Age of Players')\n",
    "axes[0,1].set_ylabel('Count')\n",
    "axes[0,1].set_title('Distribution of Players Ages')\n",
    "\n",
    "# first two is using a matplotlib syntax, the next two I'll do with seaborn \n",
    "\n",
    "axes[1,0].set_title('Distribution of Height of Players')\n",
    "sns.histplot(df, x='height_cm', ax=axes[1,0], kde=True)\n",
    "axes[1,0].set_xlabel('Height in Centimeters')\n",
    "axes[1,0].set_ylabel('Count')\n",
    "\n",
    "\n",
    "axes[1,1].set_title('Distribution of Weight of Players')\n",
    "sns.histplot(df, x='weight_kg', ax=axes[1,1], kde=True)\n",
    "axes[1,1].set_xlabel('Weight in kg')\n",
    "axes[1,1].set_ylabel('Count')\n",
    "\n",
    "\n",
    "plt.tight_layout(pad=2)\n",
    "plt.show()"
   ]
  },
  {
   "cell_type": "markdown",
   "metadata": {},
   "source": [
    "Se observa que los salarios en Euros son en su mayoría menores a 50k, que la edad de los jugadores se centra entre 20 y 30 años. La altura y el peso de los jugadores tienen distribuciones acampanadas centradas aproximadamente en los 182 cm y los 75kg. "
   ]
  },
  {
   "cell_type": "markdown",
   "metadata": {},
   "source": [
    "Veamos de qué nacionalidades son los jugadores de la base:"
   ]
  },
  {
   "cell_type": "code",
   "execution_count": null,
   "metadata": {
    "scrolled": true
   },
   "outputs": [],
   "source": [
    "from collections import Counter\n",
    "bar_plot = dict(Counter(df['nationality_name'].values).most_common(10))\n",
    "bar_plot"
   ]
  },
  {
   "cell_type": "code",
   "execution_count": null,
   "metadata": {},
   "outputs": [],
   "source": [
    "fig, ax = plt.subplots(figsize = (10,8))\n",
    "plt.bar(*zip(*bar_plot.items()))\n",
    "ax.set_title('Most Popular Nationalities')\n",
    "plt.show()"
   ]
  },
  {
   "cell_type": "markdown",
   "metadata": {},
   "source": [
    "Analicemos ahora el puntaje en función a sus nacionalidades:"
   ]
  },
  {
   "cell_type": "code",
   "execution_count": null,
   "metadata": {},
   "outputs": [],
   "source": [
    "stats_rank = df.groupby(['nationality_name']).mean()\n",
    "print(stats_rank['overall'].sort_values(ascending=False))"
   ]
  },
  {
   "cell_type": "markdown",
   "metadata": {},
   "source": [
    "Se observa que los puntajes promedio más altos de los jugadores son de países menos populares según se vió en la gráfica anterior. "
   ]
  },
  {
   "cell_type": "markdown",
   "metadata": {},
   "source": [
    "Análogamente a como se hizo en clase, miramos ahora los mejores jugadores por su posición. En este dataset, no hay una única columna de posición, sino que hay dos: una muestra todas las posiciones en las que juega el jugador (`player_positions`, un mismo jugador puede jugar en más de una posición) y la otra muestra la posición que tiene en el club en el que juega. Usaremos esta última para simplificar este análisis: "
   ]
  },
  {
   "cell_type": "code",
   "execution_count": null,
   "metadata": {
    "scrolled": true
   },
   "outputs": [],
   "source": [
    "best_players_per_position=df.iloc[df.groupby(df['club_position'])['overall'].idxmax()][['club_position','short_name','overall']]\n",
    "best_players_per_position"
   ]
  },
  {
   "cell_type": "markdown",
   "metadata": {},
   "source": [
    "Vemos cuántos jugadores hay por cada posición (tomamos la posición que tienen en el club):"
   ]
  },
  {
   "cell_type": "code",
   "execution_count": null,
   "metadata": {},
   "outputs": [],
   "source": [
    "pd.DataFrame(df.club_position.value_counts().sort_index())"
   ]
  },
  {
   "cell_type": "markdown",
   "metadata": {},
   "source": [
    "Aquí se observa un valor más chico de arqueros (701). \n",
    "\n",
    "Vemos los promedios de la variable `overall` por club (primeros 10):"
   ]
  },
  {
   "cell_type": "code",
   "execution_count": null,
   "metadata": {},
   "outputs": [],
   "source": [
    "club_avg_overall=df.groupby(\"club_name\")[\"overall\"].mean().reset_index().sort_values(\"overall\",ascending=False)\n",
    "club_avg_overall.head(10)"
   ]
  },
  {
   "cell_type": "markdown",
   "metadata": {
    "id": "p-nTVD8KnlDI"
   },
   "source": [
    "## 2. Evaluación visual  e intuitiva de a dos variables numéricas por vez"
   ]
  },
  {
   "cell_type": "markdown",
   "metadata": {},
   "source": [
    "Esperamos que los resultados de los goalkeepers (arqueros/porteros) sean diferentes al resto, por lo que antes de analizar visualmente las variables, definiremos a estos dentro de un grupo separado:"
   ]
  },
  {
   "cell_type": "code",
   "execution_count": null,
   "metadata": {},
   "outputs": [],
   "source": [
    "df['gk_new']=df.player_positions.apply(lambda x: 1 if x == 'GK' else 0)\n",
    "df[['player_positions','gk_new']].head(10)"
   ]
  },
  {
   "cell_type": "markdown",
   "metadata": {},
   "source": [
    "Una vez separados los arqueros, armamos el conjunto de skills_ratings:"
   ]
  },
  {
   "cell_type": "code",
   "execution_count": null,
   "metadata": {},
   "outputs": [],
   "source": [
    "skills_ratings = ['pace', 'shooting', 'passing', 'dribbling', 'defending', \n",
    "                    'physic', 'attacking_crossing', 'attacking_finishing', 'attacking_heading_accuracy', \n",
    "                    'attacking_short_passing', 'attacking_volleys', 'skill_dribbling', 'skill_curve', \n",
    "                    'skill_fk_accuracy', 'skill_long_passing', 'skill_ball_control', 'movement_acceleration', \n",
    "                    'movement_sprint_speed', 'movement_agility', 'movement_reactions', 'movement_balance', \n",
    "                    'power_shot_power', 'power_jumping', 'power_stamina', 'power_strength', 'power_long_shots', \n",
    "                    'mentality_aggression', 'mentality_interceptions', 'mentality_positioning', 'mentality_vision', \n",
    "                    'mentality_penalties', 'mentality_composure', 'defending_marking_awareness', 'defending_standing_tackle', \n",
    "                    'defending_sliding_tackle', 'goalkeeping_diving', 'goalkeeping_handling', 'goalkeeping_kicking', \n",
    "                    'goalkeeping_positioning', 'goalkeeping_reflexes', 'goalkeeping_speed']"
   ]
  },
  {
   "cell_type": "code",
   "execution_count": null,
   "metadata": {},
   "outputs": [],
   "source": [
    "len(skills_ratings)"
   ]
  },
  {
   "cell_type": "markdown",
   "metadata": {},
   "source": [
    "Tenemos 41 variables que queremos ver como se comportan entre sí. Con el siguiente código graficaremos estas 41 variables de a pares."
   ]
  },
  {
   "cell_type": "code",
   "execution_count": null,
   "metadata": {
    "scrolled": true
   },
   "outputs": [],
   "source": [
    "n_cols = 5\n",
    "n_rows = int((len(skills_ratings)) // n_cols) + (len(skills_ratings) % n_cols > 0)\n",
    "x = 0\n",
    "for i, col in enumerate(skills_ratings):\n",
    "    subplot = 0\n",
    "    fig = plt.figure(figsize=(30, 40))\n",
    "    for x in range(i,len(skills_ratings)):\n",
    "        subplot = subplot + 1\n",
    "        ax = fig.add_subplot(n_rows, n_cols, subplot)\n",
    "        ax.set_title(col + ' vs. ' + skills_ratings[x])\n",
    "        if x == i:\n",
    "            sns.kdeplot(data=df, x=skills_ratings[i], fill=True)#, hue='')\n",
    "        else:\n",
    "            sns.scatterplot(data=df.sample(5200), x=skills_ratings[i], y=skills_ratings[x], hue='gk_new')\n",
    "    print('*  '*50)\n",
    "    print(col)\n",
    "    fig.tight_layout(pad=0.4, w_pad=0.5, h_pad=1.0)\n",
    "    plt.show()   \n",
    "    plt.close()"
   ]
  },
  {
   "cell_type": "markdown",
   "metadata": {},
   "source": [
    "Lo primero que se observa de las gráficas, es que las primeras variables (`pace`, `shooting`, `passing`, `dribbling`, `defending`, y `physic`) no tienen puntos naranjas, que son los que corresponden a los goalkeepers (arqueros/porteros). Ya habíamos mencionado que dichas variables eran nulas para este grupo. Por la misma razón, para estas variables el gráfico de a pares con `goalkeeping_speed` queda vacío. \n",
    "\n",
    "Además, los gráficos de variables contra las cuales si se puede cruzar `goalkeeping_speed` solo tienen puntos naranjas (goalkeepers). \n",
    "\n",
    "En las gráficas en las que están tanto goalkeepers con el resto de los jugadores, se observa claramente como los primeros se separan del resto. Cabe pensar que la posición en la cancha aporta un dato relevante para el armado de los clusters.\n",
    "\n"
   ]
  },
  {
   "cell_type": "markdown",
   "metadata": {
    "id": "p-nTVD8KnlDI"
   },
   "source": [
    "## 3. Técnicas de clustering"
   ]
  },
  {
   "cell_type": "code",
   "execution_count": null,
   "metadata": {},
   "outputs": [],
   "source": [
    "skills_ratings_non_gk = ['pace', 'shooting', 'passing', 'dribbling', 'defending', \n",
    "                    'physic', 'attacking_crossing', 'attacking_finishing', 'attacking_heading_accuracy', \n",
    "                    'attacking_short_passing', 'attacking_volleys', 'skill_dribbling', 'skill_curve', \n",
    "                    'skill_fk_accuracy', 'skill_long_passing', 'skill_ball_control', 'movement_acceleration', \n",
    "                    'movement_sprint_speed', 'movement_agility', 'movement_reactions', 'movement_balance', \n",
    "                    'power_shot_power', 'power_jumping', 'power_stamina', 'power_strength', 'power_long_shots', \n",
    "                    'mentality_aggression', 'mentality_interceptions', 'mentality_positioning', 'mentality_vision', \n",
    "                    'mentality_penalties', 'mentality_composure', 'defending_marking_awareness', 'defending_standing_tackle', \n",
    "                    'defending_sliding_tackle', 'goalkeeping_diving', 'goalkeeping_handling', 'goalkeeping_kicking', \n",
    "                    'goalkeeping_positioning', 'goalkeeping_reflexes']"
   ]
  },
  {
   "cell_type": "markdown",
   "metadata": {
    "id": "p-nTVD8KnlDI"
   },
   "source": [
    "#### 3.1. Kmeans"
   ]
  },
  {
   "cell_type": "markdown",
   "metadata": {},
   "source": [
    "Debemos definir la cantidad de clusters. Probemos con 2, 3 y 4 clusters."
   ]
  },
  {
   "cell_type": "code",
   "execution_count": null,
   "metadata": {},
   "outputs": [],
   "source": [
    "non_gk_skills=non_gk[skills_ratings_non_gk]\n",
    "\n",
    "km_2 = KMeans(n_clusters=2)\n",
    "km_2.fit(non_gk_skills)\n",
    "non_gk_skills['kmeans_2'] = km_2.labels_ # Agregamos las etiquetas al df\n",
    "\n",
    "km_3 = KMeans(n_clusters=3)\n",
    "km_3.fit(non_gk_skills)\n",
    "non_gk_skills['kmeans_3'] = km_3.labels_ # Agregamos las etiquetas al df\n",
    "\n",
    "km_4 = KMeans(n_clusters=4)\n",
    "km_4.fit(non_gk_skills)\n",
    "non_gk_skills['kmeans_4'] = km_4.labels_ # Agregamos las etiquetas al df"
   ]
  },
  {
   "cell_type": "code",
   "execution_count": null,
   "metadata": {},
   "outputs": [],
   "source": [
    "non_gk_skills.head(5)"
   ]
  },
  {
   "cell_type": "markdown",
   "metadata": {},
   "source": [
    "Antes de repetir las gráficas, veamos los puntajes promedio para cada columna por cluster, según las 3 alternativas que probamos (2, 3 y 4 clusters)"
   ]
  },
  {
   "cell_type": "markdown",
   "metadata": {},
   "source": [
    "**K-means de 2 clusters**"
   ]
  },
  {
   "cell_type": "code",
   "execution_count": null,
   "metadata": {},
   "outputs": [],
   "source": [
    "means_all = non_gk_skills.iloc[:, 0:40].mean()#.map('{:,.0f}'.format)\n",
    "means_k2 = non_gk_skills.groupby('kmeans_2')[non_gk_skills.columns[0:40]].mean().transpose()\n",
    "means_k2['total'] = means_all\n",
    "means_k2['0_vs_total'] = (((means_k2[0] / means_k2['total']) -1)  *100).map('{:,.0f}%'.format)\n",
    "means_k2['1_vs_total'] = (((means_k2[1] / means_k2['total']) -1)  *100).map('{:,.0f}%'.format)\n",
    "means_k2[0] = means_k2[0].map('{:,.0f}'.format)\n",
    "means_k2[1] = means_k2[1].map('{:,.0f}'.format)\n",
    "means_k2['total'] = means_k2['total'].map('{:,.0f}'.format)\n",
    "means_k2"
   ]
  },
  {
   "cell_type": "code",
   "execution_count": null,
   "metadata": {},
   "outputs": [],
   "source": [
    "non_gk_skills.kmeans_2.value_counts()"
   ]
  },
  {
   "cell_type": "markdown",
   "metadata": {},
   "source": [
    "Al dividir los jugadores (excluyendo arqueros) en dos clusters, se observa que el cluster 0 parece ser más fuerte en defensa, ya que para las 3 habilidades de defensa (`defending_marking_awareness`, `defending_standing_tackle` y `defending_sliding_tackle`), el puntaje promedio de los jugadores es casi el doble de los del cluster 1. Por el contrario, el cluster 1 tiene bajo puntaje promedio para dichas habilidades, y en cambio muestra puntajes más altos para las habilidades más relacionadas con el ataque, como `attacking_volleys`, `attacking_fishing`, `shooting`. Ninguno de los clusters muestra diferencias marcadas para las habilidades relacionadas a goalkeeping. Esto tiene sentido, ya que ninguno de estos jugadores es arquero. Probablemente convenga quitar estas variables para el armado de los clusters, ya que no están aportando información significativa."
   ]
  },
  {
   "cell_type": "markdown",
   "metadata": {},
   "source": [
    "**K-means de 3 clusters**"
   ]
  },
  {
   "cell_type": "code",
   "execution_count": null,
   "metadata": {
    "scrolled": false
   },
   "outputs": [],
   "source": [
    "means_k3 = non_gk_skills.groupby('kmeans_3')[non_gk_skills.columns[0:40]].mean().transpose()\n",
    "means_k3['total'] = means_all\n",
    "means_k3['0_vs_total'] = (((means_k3[0] / means_k3['total']) -1)  *100).map('{:,.0f}%'.format)\n",
    "means_k3['1_vs_total'] = (((means_k3[1] / means_k3['total']) -1)  *100).map('{:,.0f}%'.format)\n",
    "means_k3['2_vs_total'] = (((means_k3[2] / means_k3['total']) -1)  *100).map('{:,.0f}%'.format)\n",
    "means_k3[0] = means_k3[0].map('{:,.0f}'.format)\n",
    "means_k3[1] = means_k3[1].map('{:,.0f}'.format)\n",
    "means_k3[2] = means_k3[2].map('{:,.0f}'.format)\n",
    "means_k3['total'] = means_k3['total'].map('{:,.0f}'.format)\n",
    "means_k3"
   ]
  },
  {
   "cell_type": "code",
   "execution_count": null,
   "metadata": {},
   "outputs": [],
   "source": [
    "non_gk_skills.kmeans_3.value_counts()"
   ]
  },
  {
   "cell_type": "markdown",
   "metadata": {},
   "source": [
    "Al dividir en tres clusters, parece que el que antes era el cluster 1 ahora es el 2, y el que antes era el cluster 0 se dividió en 2. El ahora cluster 2 (antes 1) tiene bajo puntaje promedio para las habilidades de defensa, y muestra puntajes más altos para las habilidades más relacionadas con el ataque, como `attacking_volleys`, `attacking_fishing`, `shooting`. Nuevamente ninguno de los clusters muestra diferencias marcadas para las habilidades relacionadas a goalkeeping. "
   ]
  },
  {
   "cell_type": "markdown",
   "metadata": {},
   "source": [
    "**K-means de 4 clusters**"
   ]
  },
  {
   "cell_type": "code",
   "execution_count": null,
   "metadata": {},
   "outputs": [],
   "source": [
    "means_k4 = non_gk_skills.groupby('kmeans_4')[non_gk_skills.columns[0:40]].mean().transpose()\n",
    "means_k4['total'] = means_all\n",
    "means_k4['0_vs_total'] = (((means_k4[0] / means_k4['total']) -1)  *100).map('{:,.0f}%'.format)\n",
    "means_k4['1_vs_total'] = (((means_k4[1] / means_k4['total']) -1)  *100).map('{:,.0f}%'.format)\n",
    "means_k4['2_vs_total'] = (((means_k4[2] / means_k4['total']) -1)  *100).map('{:,.0f}%'.format)\n",
    "means_k4['3_vs_total'] = (((means_k4[3] / means_k4['total']) -1)  *100).map('{:,.0f}%'.format)\n",
    "means_k4[0] = means_k4[0].map('{:,.0f}'.format)\n",
    "means_k4[1] = means_k4[1].map('{:,.0f}'.format)\n",
    "means_k4[2] = means_k4[2].map('{:,.0f}'.format)\n",
    "means_k4[3] = means_k4[3].map('{:,.0f}'.format)\n",
    "means_k4['total'] = means_k4['total'].map('{:,.0f}'.format)\n",
    "means_k4"
   ]
  },
  {
   "cell_type": "code",
   "execution_count": null,
   "metadata": {},
   "outputs": [],
   "source": [
    "non_gk_skills.kmeans_4.value_counts()"
   ]
  },
  {
   "cell_type": "markdown",
   "metadata": {},
   "source": [
    "Al dividir en cuatro clusters, parece que un porcentaje que conformaba antes el cluster 1 ahora está en el 2. Este cluster se caracteriza por tener bajos puntajes en las habilidades relacionadas con el ataque: `shooting`, `passing`, `dribbling`, `attacking_finishing`, `attacking_volleys`, y `skill_dribbling`, y puntajes mas altos que el promedio en las habilidades de defensa: `defending_marking_awareness`, `defending_standing_tackle` y `defending_sliding_tackle`. "
   ]
  },
  {
   "cell_type": "markdown",
   "metadata": {},
   "source": [
    "REDACTAR MEJOR: nos parece en terminos d interpretacion, mejor quedarnos con 2 clusters (fuertes en defensa, vs fuertes en ataque)\n",
    "\n",
    "\n",
    "Quitamos las habilidades de goalkeeping:"
   ]
  },
  {
   "cell_type": "code",
   "execution_count": null,
   "metadata": {},
   "outputs": [],
   "source": [
    "skills_ratings_non_gk_new = ['pace', 'shooting', 'passing', 'dribbling', 'defending', \n",
    "                    'physic', 'attacking_crossing', 'attacking_finishing', 'attacking_heading_accuracy', \n",
    "                    'attacking_short_passing', 'attacking_volleys', 'skill_dribbling', 'skill_curve', \n",
    "                    'skill_fk_accuracy', 'skill_long_passing', 'skill_ball_control', 'movement_acceleration', \n",
    "                    'movement_sprint_speed', 'movement_agility', 'movement_reactions', 'movement_balance', \n",
    "                    'power_shot_power', 'power_jumping', 'power_stamina', 'power_strength', 'power_long_shots', \n",
    "                    'mentality_aggression', 'mentality_interceptions', 'mentality_positioning', 'mentality_vision', \n",
    "                    'mentality_penalties', 'mentality_composure', 'defending_marking_awareness', 'defending_standing_tackle', \n",
    "                    'defending_sliding_tackle']"
   ]
  },
  {
   "cell_type": "markdown",
   "metadata": {},
   "source": [
    "Veamos gráficamente como quedan los clusters."
   ]
  },
  {
   "cell_type": "code",
   "execution_count": null,
   "metadata": {},
   "outputs": [],
   "source": [
    "non_gk_skills_new=non_gk[skills_ratings_non_gk_new]\n",
    "\n",
    "km_2_new = KMeans(n_clusters=2)\n",
    "km_2_new.fit(non_gk_skills_new)\n",
    "non_gk_skills_new['kmeans_2_new'] = km_2_new.labels_ # Agregamos las etiquetas al df"
   ]
  },
  {
   "cell_type": "code",
   "execution_count": null,
   "metadata": {},
   "outputs": [],
   "source": [
    "n_cols = 5\n",
    "n_rows = int((len(skills_ratings_non_gk_new)) // n_cols) + (len(skills_ratings_non_gk_new) % n_cols > 0)\n",
    "x = 0\n",
    "for i, col in enumerate(skills_ratings_non_gk_new):\n",
    "    subplot = 0\n",
    "    fig = plt.figure(figsize=(30, 40))\n",
    "    for x in range(i,len(skills_ratings_non_gk_new)):\n",
    "        subplot = subplot + 1\n",
    "        ax = fig.add_subplot(n_rows, n_cols, subplot)\n",
    "        ax.set_title(col + ' vs. ' + skills_ratings_non_gk_new[x])\n",
    "        if x == i:\n",
    "            sns.kdeplot(data=non_gk_skills_new, x=skills_ratings_non_gk_new[i], fill=True)#, hue='')\n",
    "        else:\n",
    "            sns.scatterplot(data=non_gk_skills_new.sample(5200), x=skills_ratings_non_gk_new[i], y=skills_ratings_non_gk_new[x], hue='kmeans_2_new', palette=['blue', 'red'])\n",
    "    print('*  '*50)\n",
    "    print(col)\n",
    "    fig.tight_layout(pad=0.4, w_pad=0.5, h_pad=1.0)\n",
    "    plt.show()   \n",
    "    plt.close()"
   ]
  },
  {
   "cell_type": "markdown",
   "metadata": {},
   "source": [
    "REVISAR CONCLUSION\n",
    "\n",
    "\n",
    "Se observa que hay variables para las cuales los clusters quedan superpuestos, indicando que dichas variables no están aportando información para la agrupación que se analiza. Para algunas variables vistas de a pares, la división es bien clara, por ejemplo: `shooting` vs `passing`, `shotting` vs `defending`, `shotting` vs `attacking_short_passing`, `shotting` vs `mentality_interceptions`, `shotting` vs `defending_marking_awareness`, `shotting` vs `defending_standing_tackle`, `shotting` vs `defendindg_sliding_tackle`, `pacing` vs `defending`, `passing` vs `mentality_interceptions`, etc. Esto nuevamente refuerza la hipótesis de que para cada posición habrá habilidades en las que los distintos jugadores se irán destacando."
   ]
  },
  {
   "cell_type": "markdown",
   "metadata": {},
   "source": [
    "# CHICOS aca quise probar reagrupar las posiciones pero no me salió"
   ]
  },
  {
   "cell_type": "code",
   "execution_count": null,
   "metadata": {},
   "outputs": [],
   "source": [
    "forwards=['RF', 'ST', 'LW', 'LF', 'RS', 'LS', 'RM', 'LM','RW']\n",
    "midfielders=['RCM','LCM','LDM','CAM','CDM','LAM','RDM','CM','RAM','CF']\n",
    "defenders=['RCB','CB','LCB','LB','RB','RWB','LWB']\n",
    "goalkeepers=['GK']\n",
    "\n",
    "def pos2(position):\n",
    "    if position in forwards:\n",
    "        return 'Forward'\n",
    "    \n",
    "    elif position in midfielders:\n",
    "        return 'Midfielder'\n",
    "    \n",
    "    elif position in defenders:\n",
    "        return 'Defender'\n",
    "    \n",
    "    elif position in goalkeepers:\n",
    "        return 'GK'\n",
    "    \n",
    "    else:\n",
    "        return 'nan'"
   ]
  },
  {
   "cell_type": "code",
   "execution_count": null,
   "metadata": {},
   "outputs": [],
   "source": [
    "df[\"position_grouped\"]=df[\"player_positions\"].apply(lambda x: pos2(x))\n",
    "df[\"position_grouped\"].value_counts()"
   ]
  },
  {
   "cell_type": "markdown",
   "metadata": {
    "id": "p-nTVD8KnlDI"
   },
   "source": [
    "#### 3.2. MeanShift"
   ]
  },
  {
   "cell_type": "markdown",
   "metadata": {},
   "source": [
    "En el punto anterior se probó Kmeans con 2, 3 y 4 clusters. La función MeanShift en cambio no requiere que sepamos de antemano cuántos clusters puede ser apropiado para el dataset sino que obtiene una cantidad de clusters."
   ]
  },
  {
   "cell_type": "code",
   "execution_count": null,
   "metadata": {
    "scrolled": true
   },
   "outputs": [],
   "source": [
    "from numpy import random\n",
    "ms = MeanShift(bandwidth=2, seeds=[random.randint(300, high=10000, size=37, dtype=int)])\n",
    "ms.fit(non_gk_skills_new)\n",
    "n_clusters = len(np.unique(ms.labels_))\n",
    "\n",
    "non_gk_skills_new['ms_clusters'] = ms.labels_ # Agregamos las etiquetas al df\n",
    "\n",
    "print(\"Cantidad de clusters encontrados por MeanShift : %d\" % n_clusters)"
   ]
  },
  {
   "cell_type": "markdown",
   "metadata": {},
   "source": [
    "#### 3.3. DBSCAN"
   ]
  },
  {
   "cell_type": "code",
   "execution_count": null,
   "metadata": {},
   "outputs": [],
   "source": [
    "from sklearn.cluster import DBSCAN\n",
    "dbscan = DBSCAN(eps=10, min_samples=2).fit(non_gk_skills)\n",
    "dbscan.labels_\n",
    "#n_clusters_ = len(labels_unique)"
   ]
  },
  {
   "cell_type": "code",
   "execution_count": null,
   "metadata": {},
   "outputs": [],
   "source": [
    "print('DBSCAN encontró ', max(dbscan.labels_)+1, 'clusters, según los hiperparámetros elegidos')"
   ]
  },
  {
   "cell_type": "markdown",
   "metadata": {
    "id": "p-nTVD8KnlDI"
   },
   "source": [
    "#### 3.3. Elección justificada de hiper-parámetros"
   ]
  },
  {
   "cell_type": "code",
   "execution_count": null,
   "metadata": {},
   "outputs": [],
   "source": [
    "#Prueba: para elegir el hiperparámetro n_clusters, variando de 2 a 11 clusters\n",
    "scores = [KMeans(n_clusters=i).fit(non_gk_skills_new).inertia_ for i in range(2,12)]\n",
    "\n",
    "plt.plot(np.arange(2, 12), scores)\n",
    "plt.xlabel('Number of clusters')\n",
    "plt.ylabel(\"Inertia\")\n",
    "plt.title(\"Inertia of k-Means versus number of clusters\")"
   ]
  },
  {
   "cell_type": "markdown",
   "metadata": {
    "id": "p-nTVD8KnlDI"
   },
   "source": [
    "## 4. Evaluación y Análisis de los clusters encontrados"
   ]
  },
  {
   "cell_type": "markdown",
   "metadata": {
    "id": "p-nTVD8KnlDI"
   },
   "source": [
    "## 5. ¿Se realizó alguna normalización o escalado de la base? ¿Por qué?"
   ]
  },
  {
   "cell_type": "markdown",
   "metadata": {},
   "source": [
    "## 6. Uso de alguna transformación (proyección, Embedding) para visualizar los resultados y/o usarla como preprocesado para aplicar alguna técnica de clustering"
   ]
  }
 ],
 "metadata": {
  "colab": {
   "name": "NoSupervizado_Gr23-original.ipynb",
   "provenance": [],
   "toc_visible": true
  },
  "kernelspec": {
   "display_name": "Python 3 (ipykernel)",
   "language": "python",
   "name": "python3"
  },
  "language_info": {
   "codemirror_mode": {
    "name": "ipython",
    "version": 3
   },
   "file_extension": ".py",
   "mimetype": "text/x-python",
   "name": "python",
   "nbconvert_exporter": "python",
   "pygments_lexer": "ipython3",
   "version": "3.9.12"
  }
 },
 "nbformat": 4,
 "nbformat_minor": 1
}
