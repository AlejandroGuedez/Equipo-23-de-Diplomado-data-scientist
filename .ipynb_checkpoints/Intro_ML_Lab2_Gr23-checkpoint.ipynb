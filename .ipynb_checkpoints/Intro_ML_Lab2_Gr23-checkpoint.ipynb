{
 "cells": [
  {
   "cell_type": "markdown",
   "metadata": {},
   "source": [
    "# Laboratorio 2: Armado de un esquema de aprendizaje automático\n",
    "\n",
    "### Grupo 23\n",
    "\n",
    "**Integrantes:** Franco Amilcar Genolet (francogeno97@gmail.com), Fabian Alejandro Zapata Cerutti (fzc501@gmail.com), Luis Alejandro Guedez Gomez (luis.guedez@dicsys.com), María Laura Mantovani (mantovanimlaura@gmail.com)."
   ]
  },
  {
   "cell_type": "markdown",
   "metadata": {},
   "source": [
    "## Librerías"
   ]
  },
  {
   "cell_type": "code",
   "execution_count": 1,
   "metadata": {},
   "outputs": [],
   "source": [
    "import numpy as np\n",
    "import pandas as pd\n",
    "import seaborn as sns\n",
    "import matplotlib.pyplot as plt\n",
    "from scipy import stats\n",
    "from sklearn.model_selection import train_test_split\n",
    "from sklearn.linear_model import SGDClassifier\n",
    "from sklearn.datasets import load_iris\n",
    "from sklearn.datasets import make_classification\n",
    "from sklearn.model_selection import train_test_split\n",
    "from sklearn.metrics import confusion_matrix\n",
    "from sklearn.metrics import classification_report\n",
    "from sklearn.preprocessing import scale\n",
    "from sklearn.utils.fixes import loguniform\n",
    "from sklearn.model_selection import ParameterSampler\n",
    "from sklearn.model_selection import RandomizedSearchCV\n",
    "from sklearn.tree import DecisionTreeClassifier\n",
    "from sklearn.tree import plot_tree\n",
    "from sklearn.model_selection import GridSearchCV"
   ]
  },
  {
   "cell_type": "markdown",
   "metadata": {},
   "source": [
    "## Carga de datos y división en entrenamiento y evaluación\n",
    "\n",
    "La celda siguiente se encarga de la carga de datos (haciendo uso de pandas). Estos serán los que se trabajarán en el resto del laboratorio."
   ]
  },
  {
   "cell_type": "code",
   "execution_count": 2,
   "metadata": {},
   "outputs": [
    {
     "data": {
      "text/html": [
       "<div>\n",
       "<style scoped>\n",
       "    .dataframe tbody tr th:only-of-type {\n",
       "        vertical-align: middle;\n",
       "    }\n",
       "\n",
       "    .dataframe tbody tr th {\n",
       "        vertical-align: top;\n",
       "    }\n",
       "\n",
       "    .dataframe thead th {\n",
       "        text-align: right;\n",
       "    }\n",
       "</style>\n",
       "<table border=\"1\" class=\"dataframe\">\n",
       "  <thead>\n",
       "    <tr style=\"text-align: right;\">\n",
       "      <th></th>\n",
       "      <th>TARGET</th>\n",
       "      <th>LOAN</th>\n",
       "      <th>MORTDUE</th>\n",
       "      <th>VALUE</th>\n",
       "      <th>YOJ</th>\n",
       "      <th>DEROG</th>\n",
       "      <th>DELINQ</th>\n",
       "      <th>CLAGE</th>\n",
       "      <th>NINQ</th>\n",
       "      <th>CLNO</th>\n",
       "      <th>DEBTINC</th>\n",
       "    </tr>\n",
       "  </thead>\n",
       "  <tbody>\n",
       "    <tr>\n",
       "      <th>0</th>\n",
       "      <td>0</td>\n",
       "      <td>4700</td>\n",
       "      <td>88026.0</td>\n",
       "      <td>115506.0</td>\n",
       "      <td>6.0</td>\n",
       "      <td>0.0</td>\n",
       "      <td>0.0</td>\n",
       "      <td>182.248332</td>\n",
       "      <td>0.0</td>\n",
       "      <td>27.0</td>\n",
       "      <td>29.209023</td>\n",
       "    </tr>\n",
       "    <tr>\n",
       "      <th>1</th>\n",
       "      <td>0</td>\n",
       "      <td>19300</td>\n",
       "      <td>39926.0</td>\n",
       "      <td>101208.0</td>\n",
       "      <td>4.0</td>\n",
       "      <td>0.0</td>\n",
       "      <td>0.0</td>\n",
       "      <td>140.051638</td>\n",
       "      <td>0.0</td>\n",
       "      <td>14.0</td>\n",
       "      <td>31.545694</td>\n",
       "    </tr>\n",
       "    <tr>\n",
       "      <th>2</th>\n",
       "      <td>0</td>\n",
       "      <td>5700</td>\n",
       "      <td>71556.0</td>\n",
       "      <td>79538.0</td>\n",
       "      <td>2.0</td>\n",
       "      <td>0.0</td>\n",
       "      <td>0.0</td>\n",
       "      <td>92.643085</td>\n",
       "      <td>0.0</td>\n",
       "      <td>15.0</td>\n",
       "      <td>41.210012</td>\n",
       "    </tr>\n",
       "    <tr>\n",
       "      <th>3</th>\n",
       "      <td>0</td>\n",
       "      <td>13000</td>\n",
       "      <td>44875.0</td>\n",
       "      <td>57713.0</td>\n",
       "      <td>0.0</td>\n",
       "      <td>1.0</td>\n",
       "      <td>0.0</td>\n",
       "      <td>184.990324</td>\n",
       "      <td>1.0</td>\n",
       "      <td>12.0</td>\n",
       "      <td>28.602076</td>\n",
       "    </tr>\n",
       "    <tr>\n",
       "      <th>4</th>\n",
       "      <td>0</td>\n",
       "      <td>19300</td>\n",
       "      <td>72752.0</td>\n",
       "      <td>106084.0</td>\n",
       "      <td>11.0</td>\n",
       "      <td>0.0</td>\n",
       "      <td>0.0</td>\n",
       "      <td>193.707100</td>\n",
       "      <td>1.0</td>\n",
       "      <td>13.0</td>\n",
       "      <td>30.686106</td>\n",
       "    </tr>\n",
       "  </tbody>\n",
       "</table>\n",
       "</div>"
      ],
      "text/plain": [
       "   TARGET   LOAN  MORTDUE     VALUE   YOJ  DEROG  DELINQ       CLAGE  NINQ  \\\n",
       "0       0   4700  88026.0  115506.0   6.0    0.0     0.0  182.248332   0.0   \n",
       "1       0  19300  39926.0  101208.0   4.0    0.0     0.0  140.051638   0.0   \n",
       "2       0   5700  71556.0   79538.0   2.0    0.0     0.0   92.643085   0.0   \n",
       "3       0  13000  44875.0   57713.0   0.0    1.0     0.0  184.990324   1.0   \n",
       "4       0  19300  72752.0  106084.0  11.0    0.0     0.0  193.707100   1.0   \n",
       "\n",
       "   CLNO    DEBTINC  \n",
       "0  27.0  29.209023  \n",
       "1  14.0  31.545694  \n",
       "2  15.0  41.210012  \n",
       "3  12.0  28.602076  \n",
       "4  13.0  30.686106  "
      ]
     },
     "execution_count": 2,
     "metadata": {},
     "output_type": "execute_result"
    }
   ],
   "source": [
    "dataset = pd.read_csv(\"./data/loan_data.csv\", comment=\"#\")\n",
    "#dataset = pd.read_csv(\"../IntroduccionAprendizajeAutomatico/data/loan_data.csv\", comment=\"#\")\n",
    "\n",
    "# División entre instancias y etiquetas\n",
    "X, y = dataset.iloc[:, 1:], dataset.TARGET #defino como X a toda la tabla excepto la primer columna (columna de índice 0)\n",
    "\n",
    "# División entre entrenamiento y evaluación\n",
    "X_train, X_test, y_train, y_test = train_test_split(X, y, test_size=0.2, random_state=0)\n",
    "\n",
    "# Visualizamos los datos\n",
    "dataset.head()"
   ]
  },
  {
   "cell_type": "code",
   "execution_count": 3,
   "metadata": {},
   "outputs": [
    {
     "data": {
      "image/png": "[encoded data removed]",
      "text/plain": [
       "<Figure size 1080x1080 with 10 Axes>"
      ]
     },
     "metadata": {
      "needs_background": "light"
     },
     "output_type": "display_data"
    }
   ],
   "source": [
    "fig = plt.figure(figsize=(15, 15))\n",
    "cols_interest = ['LOAN', 'MORTDUE', 'VALUE', 'YOJ', 'DEROG', 'DELINQ', 'CLAGE',\n",
    "       'NINQ', 'CLNO', 'DEBTINC']\n",
    "\n",
    "for i, coln in enumerate(cols_interest):\n",
    "    ax = fig.add_subplot(4,5,i+1)\n",
    "    sns.kdeplot(data=dataset, x=coln, hue='TARGET')"
   ]
  },
  {
   "cell_type": "code",
   "execution_count": 4,
   "metadata": {},
   "outputs": [
    {
     "data": {
      "image/png": "[encoded data removed]",
      "text/plain": [
       "<Figure size 864x864 with 10 Axes>"
      ]
     },
     "metadata": {
      "needs_background": "light"
     },
     "output_type": "display_data"
    }
   ],
   "source": [
    "fig = plt.figure(figsize=(12, 12))\n",
    "cols_interest = ['LOAN', 'MORTDUE', 'VALUE', 'YOJ', 'DEROG', 'DELINQ', 'CLAGE',\n",
    "       'NINQ', 'CLNO', 'DEBTINC']\n",
    "\n",
    "for i, coln in enumerate(cols_interest):\n",
    "    ax = fig.add_subplot(4,5,i+1)\n",
    "    dataset.boxplot(coln, ax=ax, grid=False,  by='TARGET', showfliers=False);\n",
    "\n",
    "fig.suptitle('')\n",
    "plt.tight_layout()"
   ]
  },
  {
   "cell_type": "code",
   "execution_count": 5,
   "metadata": {},
   "outputs": [
    {
     "data": {
      "text/plain": [
       "1854"
      ]
     },
     "execution_count": 5,
     "metadata": {},
     "output_type": "execute_result"
    }
   ],
   "source": [
    "len(dataset)"
   ]
  },
  {
   "cell_type": "markdown",
   "metadata": {},
   "source": [
    "## Ejercicio 1: Descripción de los Datos y la Tarea\n",
    "\n",
    "Responder las siguientes preguntas:\n",
    "\n",
    "1. ¿De qué se trata el conjunto de datos?\n",
    "2. ¿Cuál es la variable objetivo que hay que predecir? ¿Qué significado tiene?\n",
    "3. ¿Qué información (atributos) hay disponible para hacer la predicción?\n",
    "4. ¿Qué atributos imagina ud. que son los más determinantes para la predicción?\n",
    "\n",
    "**No hace falta escribir código para responder estas preguntas.**"
   ]
  },
  {
   "cell_type": "markdown",
   "metadata": {},
   "source": [
    "1.   El dataset contiene tiene 1854 datos de solicitantes de préstamos de un banco. \n",
    "\n",
    "2.   La variable a predecir es \"TARGET\" (primera columna del dataset). Esta variable es binaria: 1 indica que el solicitante incumplió sus compromisos de pago del préstamo, mientras que 0 indica que el solicitante saldó la deuda.\n",
    "\n",
    "3.   Para cada aplicante se registraron 10 atributos, a saber:\n",
    "    \n",
    ">01- LOAN: Monto del préstamo solicitado </br>\n",
    ">02- MORTDUE: Cantidad adeudada en la hipoteca existente</br>\n",
    ">03- VALUE: Valor de la propiedad actual</br>\n",
    ">04- YOJ: Años de antigüedad en el trabajo actual</br>\n",
    ">05- DEROG: Cantidad de informes negativos (derogativos)</br>\n",
    ">06- DELINQ: Cantidad de líneas crediticias morosas</br>\n",
    ">07- CLAGE: Antigüedad en meses del intercambio comercial más antigüo</br>\n",
    ">08- NINQ: Cantidad de líneas crediticias recientes</br>\n",
    ">09- CLNO: Cantidad de líneas crediticias</br>\n",
    ">10- DEBTINC: Ratio entre ingresos y deuda</br>\n",
    "    \n",
    "4.   Leyendo las descripciones de las variables, pareciera que las más determinantes serán LOAN, DEROG y DEBTINC. Viendo sus gráficas podemos ver que DEROG y DELINQ tienen distribuciones significativamente diferentes según la clase. DEBTINC y CLAGE también parecen estár brindando información acerca de la variable TARGET.\n",
    "\n"
   ]
  },
  {
   "cell_type": "markdown",
   "metadata": {},
   "source": [
    "## Ejercicio 2: Predicción con Modelos Lineales\n",
    "\n",
    "En este ejercicio se entrenarán modelos lineales de clasificación para predecir la variable objetivo.\n",
    "\n",
    "Para ello, deberán utilizar la clase SGDClassifier de scikit-learn.\n",
    "\n",
    "Documentación:\n",
    "- https://scikit-learn.org/stable/modules/sgd.html\n",
    "- https://scikit-learn.org/stable/modules/generated/sklearn.linear_model.SGDClassifier.html\n"
   ]
  },
  {
   "cell_type": "markdown",
   "metadata": {},
   "source": [
    "### Ejercicio 2.1: SGDClassifier con hiperparámetros por defecto\n",
    "\n",
    "Entrenar y evaluar el clasificador SGDClassifier usando los valores por omisión de scikit-learn para todos los parámetros. Únicamente **fijar la semilla aleatoria** para hacer repetible el experimento.\n",
    "\n",
    "Evaluar sobre el conjunto de **entrenamiento** y sobre el conjunto de **evaluación**, reportando:\n",
    "- Accuracy\n",
    "- Precision\n",
    "- Recall\n",
    "- F1\n",
    "- matriz de confusión"
   ]
  },
  {
   "cell_type": "markdown",
   "metadata": {},
   "source": [
    "Usamos la función SGDClassifier para ajustar el modelo. Dejamos los parámetros con sus valores por defecto, fijando únicamente la semilla aleatoria para hacer repetibles los resultados:"
   ]
  },
  {
   "cell_type": "code",
   "execution_count": 6,
   "metadata": {},
   "outputs": [],
   "source": [
    "model = SGDClassifier(random_state=0)\n",
    "model.fit(X_train, y_train)\n",
    "\n",
    "# Vectores de etiquetas predichas\n",
    "y_pred = model.predict(X)\n",
    "y_pred_train = model.predict(X_train)\n",
    "y_pred_test = model.predict(X_test)"
   ]
  },
  {
   "cell_type": "markdown",
   "metadata": {},
   "source": [
    "Evaluamos el modelo sobre el conjunto de entrenamiento:"
   ]
  },
  {
   "cell_type": "code",
   "execution_count": 7,
   "metadata": {},
   "outputs": [
    {
     "name": "stdout",
     "output_type": "stream",
     "text": [
      "              precision    recall  f1-score   support\n",
      "\n",
      "           0       0.83      1.00      0.91      1232\n",
      "           1       0.00      0.00      0.00       251\n",
      "\n",
      "    accuracy                           0.83      1483\n",
      "   macro avg       0.42      0.50      0.45      1483\n",
      "weighted avg       0.69      0.83      0.75      1483\n",
      "\n"
     ]
    },
    {
     "name": "stderr",
     "output_type": "stream",
     "text": [
      "C:\\Users\\Naranja\\anaconda3\\lib\\site-packages\\sklearn\\metrics\\_classification.py:1318: UndefinedMetricWarning: Precision and F-score are ill-defined and being set to 0.0 in labels with no predicted samples. Use `zero_division` parameter to control this behavior.\n",
      "  _warn_prf(average, modifier, msg_start, len(result))\n",
      "C:\\Users\\Naranja\\anaconda3\\lib\\site-packages\\sklearn\\metrics\\_classification.py:1318: UndefinedMetricWarning: Precision and F-score are ill-defined and being set to 0.0 in labels with no predicted samples. Use `zero_division` parameter to control this behavior.\n",
      "  _warn_prf(average, modifier, msg_start, len(result))\n",
      "C:\\Users\\Naranja\\anaconda3\\lib\\site-packages\\sklearn\\metrics\\_classification.py:1318: UndefinedMetricWarning: Precision and F-score are ill-defined and being set to 0.0 in labels with no predicted samples. Use `zero_division` parameter to control this behavior.\n",
      "  _warn_prf(average, modifier, msg_start, len(result))\n"
     ]
    }
   ],
   "source": [
    "print(classification_report(y_train, y_pred_train))"
   ]
  },
  {
   "cell_type": "markdown",
   "metadata": {},
   "source": [
    "El código nos devuelve una alerta de que no puede dividir por cero. Esto se explica porque el vector de valores predichos que devolvió el modelo con los parámetros por defecto es un vector de ceros:"
   ]
  },
  {
   "cell_type": "code",
   "execution_count": 8,
   "metadata": {},
   "outputs": [
    {
     "name": "stdout",
     "output_type": "stream",
     "text": [
      "0\n"
     ]
    }
   ],
   "source": [
    "print(sum(y_pred))"
   ]
  },
  {
   "cell_type": "markdown",
   "metadata": {},
   "source": [
    "La matriz de confusión para el conjunto de entrenamiento por lo tanto tendrá solo ceros en la columna de la derecha (Verdaderos Positivos y Falsos Positivos):"
   ]
  },
  {
   "cell_type": "code",
   "execution_count": 9,
   "metadata": {},
   "outputs": [
    {
     "name": "stdout",
     "output_type": "stream",
     "text": [
      "[[1232    0]\n",
      " [ 251    0]]\n"
     ]
    }
   ],
   "source": [
    "cm = confusion_matrix(y_train, y_pred_train)\n",
    "print(cm) "
   ]
  },
  {
   "cell_type": "markdown",
   "metadata": {},
   "source": [
    "Evaluamos ahora el modelo sobre el conjunto de test (evaluación):"
   ]
  },
  {
   "cell_type": "code",
   "execution_count": 10,
   "metadata": {},
   "outputs": [
    {
     "name": "stdout",
     "output_type": "stream",
     "text": [
      "              precision    recall  f1-score   support\n",
      "\n",
      "           0       0.84      1.00      0.92       313\n",
      "           1       0.00      0.00      0.00        58\n",
      "\n",
      "    accuracy                           0.84       371\n",
      "   macro avg       0.42      0.50      0.46       371\n",
      "weighted avg       0.71      0.84      0.77       371\n",
      "\n"
     ]
    },
    {
     "name": "stderr",
     "output_type": "stream",
     "text": [
      "C:\\Users\\Naranja\\anaconda3\\lib\\site-packages\\sklearn\\metrics\\_classification.py:1318: UndefinedMetricWarning: Precision and F-score are ill-defined and being set to 0.0 in labels with no predicted samples. Use `zero_division` parameter to control this behavior.\n",
      "  _warn_prf(average, modifier, msg_start, len(result))\n",
      "C:\\Users\\Naranja\\anaconda3\\lib\\site-packages\\sklearn\\metrics\\_classification.py:1318: UndefinedMetricWarning: Precision and F-score are ill-defined and being set to 0.0 in labels with no predicted samples. Use `zero_division` parameter to control this behavior.\n",
      "  _warn_prf(average, modifier, msg_start, len(result))\n",
      "C:\\Users\\Naranja\\anaconda3\\lib\\site-packages\\sklearn\\metrics\\_classification.py:1318: UndefinedMetricWarning: Precision and F-score are ill-defined and being set to 0.0 in labels with no predicted samples. Use `zero_division` parameter to control this behavior.\n",
      "  _warn_prf(average, modifier, msg_start, len(result))\n"
     ]
    }
   ],
   "source": [
    "print(classification_report(y_test, y_pred_test))"
   ]
  },
  {
   "cell_type": "markdown",
   "metadata": {},
   "source": [
    "Nuevamente vemos la misma alerta de que el no puede dividir por cero (antes ya chequeamos que el modelo devuelve, tanto para los datos de entrenamiento como para los datos de evaluación, da un vector nulo de valores predichos). Asimismo, la matriz de confusión para el conjunto de test tiene solo ceros en la columna de la derecha (Verdaderos Positivos y Falsos Positivos):"
   ]
  },
  {
   "cell_type": "code",
   "execution_count": 11,
   "metadata": {},
   "outputs": [
    {
     "name": "stdout",
     "output_type": "stream",
     "text": [
      "[[313   0]\n",
      " [ 58   0]]\n"
     ]
    }
   ],
   "source": [
    "cm = confusion_matrix(y_test, y_pred_test)\n",
    "print(cm) "
   ]
  },
  {
   "cell_type": "code",
   "execution_count": 12,
   "metadata": {},
   "outputs": [
    {
     "name": "stdout",
     "output_type": "stream",
     "text": [
      "Train+Test True Negatives: 1545\n",
      "Train+Test False Positives: 0\n",
      "Train+Test False Negatives: 309\n",
      "Train+Test True Positives: 0\n"
     ]
    }
   ],
   "source": [
    "tn, fp, fn, tp = confusion_matrix(y, y_pred).ravel()\n",
    "print('Train+Test True Negatives:',tn)\n",
    "print('Train+Test False Positives:',fp)\n",
    "print('Train+Test False Negatives:',fn)\n",
    "print('Train+Test True Positives:',tp)"
   ]
  },
  {
   "cell_type": "markdown",
   "metadata": {},
   "source": [
    "La **matriz de confusión** completa (incluyendo datos de entrenamiento y de test) entrega 1545 verdaderos negativos (registros cuya etiqueta predicha es 0 y la etiqueta real es 0), 0 falsos positivos (de hecho ningún registro predicho dió 1), 309 falsos negativos (casos en los que la etiqueta predicha es 0 y realmente debería haber sido 1) y 0 verdaderos positivos (el modelo no predijo ningún valor positivo)."
   ]
  },
  {
   "cell_type": "markdown",
   "metadata": {},
   "source": [
    "### Ejercicio 2.2: Ajuste de Hiperparámetros\n",
    "\n",
    "Seleccionar valores para los hiperparámetros principales del SGDClassifier. Como mínimo, probar diferentes funciones de loss, tasas de entrenamiento y tasas de regularización.\n",
    "\n",
    "Para ello, usar grid-search y 5-fold cross-validation sobre el conjunto de entrenamiento para explorar muchas combinaciones posibles de valores.\n",
    "\n",
    "Reportar accuracy promedio y varianza para todas las configuraciones.\n",
    "\n",
    "Para la mejor configuración encontrada, evaluar sobre el conjunto de **entrenamiento** y sobre el conjunto de **evaluación**, reportando:\n",
    "- Accuracy\n",
    "- Precision\n",
    "- Recall\n",
    "- F1\n",
    "- matriz de confusión\n",
    "\n",
    "Documentación:\n",
    "- https://scikit-learn.org/stable/modules/grid_search.html\n",
    "- https://scikit-learn.org/stable/modules/generated/sklearn.model_selection.GridSearchCV.html"
   ]
  },
  {
   "cell_type": "markdown",
   "metadata": {},
   "source": [
    "A continuación definimos el diccionario param_dist que nos va a permitir luego ajustar distintos modelos con combinaciones de distintas funciones de pérdida, valores de alpha (constante que multiplica el término de regularización) y tasas de aprendizaje:"
   ]
  },
  {
   "cell_type": "code",
   "execution_count": 13,
   "metadata": {},
   "outputs": [],
   "source": [
    "param_dist = {\n",
    "    'loss': [               # función de pérdida\n",
    "        'hinge',            # linear SVM\n",
    "        'log',              # logistic regression\n",
    "        'modified_huber',   # smooth loss that brings tolerance to outliers\n",
    "    ],\n",
    "    'alpha': loguniform(1e-4, 1e2),  # constante que multiplica el término de regularización\n",
    "                                     # loguniform devuelve valores aleatorios entre 0.0001 y 100.0\n",
    "    'learning_rate' : [    # tasa de aprendizaje\n",
    "        'constant',        # eta = eta0, la tasa de aprendizaje es constante para todas las iteraciones\n",
    "        'optimal',         # eta = 1.0 / (alpha * (t + t0)), la tasa de aprendizaje va haciéndose cada vez mas chica\n",
    "        'adaptive',        # eta = eta0, siempre que el entrenamiento decrezca \n",
    "    ]    \n",
    "}"
   ]
  },
  {
   "cell_type": "markdown",
   "metadata": {},
   "source": [
    "A continuación fijamos la semilla y definimos 20 modelos tomando aleatoriamente las distintas combinaciones de parámetros definidos en param_dist."
   ]
  },
  {
   "cell_type": "code",
   "execution_count": 14,
   "metadata": {},
   "outputs": [
    {
     "name": "stdout",
     "output_type": "stream",
     "text": [
      "{'alpha': 0.196282248134428, 'learning_rate': 'optimal', 'loss': 'hinge'}\n",
      "{'alpha': 0.4135997393839892, 'learning_rate': 'optimal', 'loss': 'log'}\n",
      "{'alpha': 0.020243716364208936, 'learning_rate': 'adaptive', 'loss': 'hinge'}\n",
      "{'alpha': 60.530820800790195, 'learning_rate': 'adaptive', 'loss': 'log'}\n",
      "{'alpha': 5.6279499752231406, 'learning_rate': 'adaptive', 'loss': 'hinge'}\n",
      "{'alpha': 0.02273572337709218, 'learning_rate': 'optimal', 'loss': 'log'}\n",
      "{'alpha': 0.01057735212605254, 'learning_rate': 'constant', 'loss': 'hinge'}\n",
      "{'alpha': 9.901912249089664, 'learning_rate': 'adaptive', 'loss': 'hinge'}\n",
      "{'alpha': 74.42349368719803, 'learning_rate': 'constant', 'loss': 'log'}\n",
      "{'alpha': 0.05873218708481509, 'learning_rate': 'adaptive', 'loss': 'hinge'}\n",
      "{'alpha': 0.3105408607593016, 'learning_rate': 'optimal', 'loss': 'hinge'}\n",
      "{'alpha': 0.13523525694052882, 'learning_rate': 'constant', 'loss': 'modified_huber'}\n",
      "{'alpha': 4.419795105236872, 'learning_rate': 'constant', 'loss': 'modified_huber'}\n",
      "{'alpha': 0.0006476032810713016, 'learning_rate': 'constant', 'loss': 'log'}\n",
      "{'alpha': 0.0007907682124793838, 'learning_rate': 'constant', 'loss': 'hinge'}\n",
      "{'alpha': 0.020841735823424294, 'learning_rate': 'constant', 'loss': 'log'}\n",
      "{'alpha': 0.05008410754918169, 'learning_rate': 'constant', 'loss': 'log'}\n",
      "{'alpha': 1.5338651335458604, 'learning_rate': 'optimal', 'loss': 'log'}\n",
      "{'alpha': 1.0013831806758098, 'learning_rate': 'adaptive', 'loss': 'modified_huber'}\n",
      "{'alpha': 0.0005936873372035247, 'learning_rate': 'adaptive', 'loss': 'log'}\n"
     ]
    }
   ],
   "source": [
    "for params in ParameterSampler(param_dist, 20, random_state=0):\n",
    "    print(params)\n",
    "    model = SGDClassifier(**params, random_state=0, eta0=0.01)"
   ]
  },
  {
   "cell_type": "markdown",
   "metadata": {},
   "source": [
    "Una vez definidos nuestros 20 modelos, se hace el ajuste sobre los datos de entrenamiento:"
   ]
  },
  {
   "cell_type": "code",
   "execution_count": 15,
   "metadata": {},
   "outputs": [
    {
     "data": {
      "text/plain": [
       "RandomizedSearchCV(cv=3,\n",
       "                   estimator=SGDClassifier(alpha=0.0005936873372035247,\n",
       "                                           eta0=0.01, learning_rate='adaptive',\n",
       "                                           loss='log', random_state=0),\n",
       "                   n_iter=20,\n",
       "                   param_distributions={'alpha': <scipy.stats._distn_infrastructure.rv_frozen object at 0x000001C2333D94F0>,\n",
       "                                        'learning_rate': ['constant', 'optimal',\n",
       "                                                          'adaptive'],\n",
       "                                        'loss': ['hinge', 'log',\n",
       "                                                 'modified_huber']},\n",
       "                   random_state=0)"
      ]
     },
     "execution_count": 15,
     "metadata": {},
     "output_type": "execute_result"
    }
   ],
   "source": [
    "cv = RandomizedSearchCV(model, param_dist, n_iter=20, cv=3, random_state=0)\n",
    "cv.fit(X_train, y_train)"
   ]
  },
  {
   "cell_type": "markdown",
   "metadata": {},
   "source": [
    "Se guardan los resultados en un dataframe"
   ]
  },
  {
   "cell_type": "code",
   "execution_count": 16,
   "metadata": {
    "scrolled": true
   },
   "outputs": [
    {
     "data": {
      "text/html": [
       "<div>\n",
       "<style scoped>\n",
       "    .dataframe tbody tr th:only-of-type {\n",
       "        vertical-align: middle;\n",
       "    }\n",
       "\n",
       "    .dataframe tbody tr th {\n",
       "        vertical-align: top;\n",
       "    }\n",
       "\n",
       "    .dataframe thead th {\n",
       "        text-align: right;\n",
       "    }\n",
       "</style>\n",
       "<table border=\"1\" class=\"dataframe\">\n",
       "  <thead>\n",
       "    <tr style=\"text-align: right;\">\n",
       "      <th></th>\n",
       "      <th>param_loss</th>\n",
       "      <th>param_alpha</th>\n",
       "      <th>param_learning_rate</th>\n",
       "      <th>mean_test_score</th>\n",
       "      <th>std_test_score</th>\n",
       "      <th>rank_test_score</th>\n",
       "    </tr>\n",
       "  </thead>\n",
       "  <tbody>\n",
       "    <tr>\n",
       "      <th>0</th>\n",
       "      <td>hinge</td>\n",
       "      <td>0.196282</td>\n",
       "      <td>optimal</td>\n",
       "      <td>0.608077</td>\n",
       "      <td>0.292830</td>\n",
       "      <td>18</td>\n",
       "    </tr>\n",
       "    <tr>\n",
       "      <th>1</th>\n",
       "      <td>log</td>\n",
       "      <td>0.4136</td>\n",
       "      <td>optimal</td>\n",
       "      <td>0.612125</td>\n",
       "      <td>0.308307</td>\n",
       "      <td>15</td>\n",
       "    </tr>\n",
       "    <tr>\n",
       "      <th>2</th>\n",
       "      <td>hinge</td>\n",
       "      <td>0.020244</td>\n",
       "      <td>adaptive</td>\n",
       "      <td>0.820629</td>\n",
       "      <td>0.012030</td>\n",
       "      <td>11</td>\n",
       "    </tr>\n",
       "    <tr>\n",
       "      <th>3</th>\n",
       "      <td>log</td>\n",
       "      <td>60.530821</td>\n",
       "      <td>adaptive</td>\n",
       "      <td>0.830749</td>\n",
       "      <td>0.000884</td>\n",
       "      <td>2</td>\n",
       "    </tr>\n",
       "    <tr>\n",
       "      <th>4</th>\n",
       "      <td>hinge</td>\n",
       "      <td>5.62795</td>\n",
       "      <td>adaptive</td>\n",
       "      <td>0.830749</td>\n",
       "      <td>0.000884</td>\n",
       "      <td>2</td>\n",
       "    </tr>\n",
       "    <tr>\n",
       "      <th>5</th>\n",
       "      <td>log</td>\n",
       "      <td>0.022736</td>\n",
       "      <td>optimal</td>\n",
       "      <td>0.612125</td>\n",
       "      <td>0.308307</td>\n",
       "      <td>15</td>\n",
       "    </tr>\n",
       "    <tr>\n",
       "      <th>6</th>\n",
       "      <td>hinge</td>\n",
       "      <td>0.010577</td>\n",
       "      <td>constant</td>\n",
       "      <td>0.795667</td>\n",
       "      <td>0.044636</td>\n",
       "      <td>12</td>\n",
       "    </tr>\n",
       "    <tr>\n",
       "      <th>7</th>\n",
       "      <td>hinge</td>\n",
       "      <td>9.901912</td>\n",
       "      <td>adaptive</td>\n",
       "      <td>0.777442</td>\n",
       "      <td>0.070268</td>\n",
       "      <td>13</td>\n",
       "    </tr>\n",
       "    <tr>\n",
       "      <th>8</th>\n",
       "      <td>log</td>\n",
       "      <td>74.423494</td>\n",
       "      <td>constant</td>\n",
       "      <td>0.830749</td>\n",
       "      <td>0.000884</td>\n",
       "      <td>2</td>\n",
       "    </tr>\n",
       "    <tr>\n",
       "      <th>9</th>\n",
       "      <td>hinge</td>\n",
       "      <td>0.058732</td>\n",
       "      <td>adaptive</td>\n",
       "      <td>0.751801</td>\n",
       "      <td>0.100929</td>\n",
       "      <td>14</td>\n",
       "    </tr>\n",
       "    <tr>\n",
       "      <th>10</th>\n",
       "      <td>hinge</td>\n",
       "      <td>0.310541</td>\n",
       "      <td>optimal</td>\n",
       "      <td>0.608077</td>\n",
       "      <td>0.292830</td>\n",
       "      <td>18</td>\n",
       "    </tr>\n",
       "    <tr>\n",
       "      <th>11</th>\n",
       "      <td>modified_huber</td>\n",
       "      <td>0.135235</td>\n",
       "      <td>constant</td>\n",
       "      <td>0.830749</td>\n",
       "      <td>0.000884</td>\n",
       "      <td>2</td>\n",
       "    </tr>\n",
       "    <tr>\n",
       "      <th>12</th>\n",
       "      <td>modified_huber</td>\n",
       "      <td>4.419795</td>\n",
       "      <td>constant</td>\n",
       "      <td>0.830749</td>\n",
       "      <td>0.000884</td>\n",
       "      <td>2</td>\n",
       "    </tr>\n",
       "    <tr>\n",
       "      <th>13</th>\n",
       "      <td>log</td>\n",
       "      <td>0.000648</td>\n",
       "      <td>constant</td>\n",
       "      <td>0.830749</td>\n",
       "      <td>0.000884</td>\n",
       "      <td>2</td>\n",
       "    </tr>\n",
       "    <tr>\n",
       "      <th>14</th>\n",
       "      <td>hinge</td>\n",
       "      <td>0.000791</td>\n",
       "      <td>constant</td>\n",
       "      <td>0.830749</td>\n",
       "      <td>0.000884</td>\n",
       "      <td>2</td>\n",
       "    </tr>\n",
       "    <tr>\n",
       "      <th>15</th>\n",
       "      <td>log</td>\n",
       "      <td>0.020842</td>\n",
       "      <td>constant</td>\n",
       "      <td>0.825362</td>\n",
       "      <td>0.007977</td>\n",
       "      <td>10</td>\n",
       "    </tr>\n",
       "    <tr>\n",
       "      <th>16</th>\n",
       "      <td>log</td>\n",
       "      <td>0.050084</td>\n",
       "      <td>constant</td>\n",
       "      <td>0.830749</td>\n",
       "      <td>0.000884</td>\n",
       "      <td>2</td>\n",
       "    </tr>\n",
       "    <tr>\n",
       "      <th>17</th>\n",
       "      <td>log</td>\n",
       "      <td>1.533865</td>\n",
       "      <td>optimal</td>\n",
       "      <td>0.526430</td>\n",
       "      <td>0.269083</td>\n",
       "      <td>20</td>\n",
       "    </tr>\n",
       "    <tr>\n",
       "      <th>18</th>\n",
       "      <td>modified_huber</td>\n",
       "      <td>1.001383</td>\n",
       "      <td>adaptive</td>\n",
       "      <td>0.612125</td>\n",
       "      <td>0.309739</td>\n",
       "      <td>15</td>\n",
       "    </tr>\n",
       "    <tr>\n",
       "      <th>19</th>\n",
       "      <td>log</td>\n",
       "      <td>0.000594</td>\n",
       "      <td>adaptive</td>\n",
       "      <td>0.830752</td>\n",
       "      <td>0.006598</td>\n",
       "      <td>1</td>\n",
       "    </tr>\n",
       "  </tbody>\n",
       "</table>\n",
       "</div>"
      ],
      "text/plain": [
       "        param_loss param_alpha param_learning_rate  mean_test_score  \\\n",
       "0            hinge    0.196282             optimal         0.608077   \n",
       "1              log      0.4136             optimal         0.612125   \n",
       "2            hinge    0.020244            adaptive         0.820629   \n",
       "3              log   60.530821            adaptive         0.830749   \n",
       "4            hinge     5.62795            adaptive         0.830749   \n",
       "5              log    0.022736             optimal         0.612125   \n",
       "6            hinge    0.010577            constant         0.795667   \n",
       "7            hinge    9.901912            adaptive         0.777442   \n",
       "8              log   74.423494            constant         0.830749   \n",
       "9            hinge    0.058732            adaptive         0.751801   \n",
       "10           hinge    0.310541             optimal         0.608077   \n",
       "11  modified_huber    0.135235            constant         0.830749   \n",
       "12  modified_huber    4.419795            constant         0.830749   \n",
       "13             log    0.000648            constant         0.830749   \n",
       "14           hinge    0.000791            constant         0.830749   \n",
       "15             log    0.020842            constant         0.825362   \n",
       "16             log    0.050084            constant         0.830749   \n",
       "17             log    1.533865             optimal         0.526430   \n",
       "18  modified_huber    1.001383            adaptive         0.612125   \n",
       "19             log    0.000594            adaptive         0.830752   \n",
       "\n",
       "    std_test_score  rank_test_score  \n",
       "0         0.292830               18  \n",
       "1         0.308307               15  \n",
       "2         0.012030               11  \n",
       "3         0.000884                2  \n",
       "4         0.000884                2  \n",
       "5         0.308307               15  \n",
       "6         0.044636               12  \n",
       "7         0.070268               13  \n",
       "8         0.000884                2  \n",
       "9         0.100929               14  \n",
       "10        0.292830               18  \n",
       "11        0.000884                2  \n",
       "12        0.000884                2  \n",
       "13        0.000884                2  \n",
       "14        0.000884                2  \n",
       "15        0.007977               10  \n",
       "16        0.000884                2  \n",
       "17        0.269083               20  \n",
       "18        0.309739               15  \n",
       "19        0.006598                1  "
      ]
     },
     "execution_count": 16,
     "metadata": {},
     "output_type": "execute_result"
    }
   ],
   "source": [
    "results = cv.cv_results_\n",
    "df = pd.DataFrame(results)\n",
    "df[['param_loss', 'param_alpha', 'param_learning_rate', 'mean_test_score', 'std_test_score', 'rank_test_score']]"
   ]
  },
  {
   "cell_type": "markdown",
   "metadata": {},
   "source": [
    "Vemos cuál es el mejor modelo para predecir la variable TARGET:"
   ]
  },
  {
   "cell_type": "code",
   "execution_count": 17,
   "metadata": {
    "scrolled": true
   },
   "outputs": [
    {
     "data": {
      "text/plain": [
       "SGDClassifier(alpha=0.0005936873372035247, eta0=0.01, learning_rate='adaptive',\n",
       "              loss='log', random_state=0)"
      ]
     },
     "execution_count": 17,
     "metadata": {},
     "output_type": "execute_result"
    }
   ],
   "source": [
    "cv.best_estimator_"
   ]
  },
  {
   "cell_type": "markdown",
   "metadata": {},
   "source": [
    "El modelo que eligió usa la función de pérdida 'log' y la tasa de aprendizaje 'adaptive', seteando el eta0 en 0.01 y multiplicando al término de regularización por una constante más alta (alpha=0.0006, en contraposición al valor por defecto 0.0001). Evaluemos ahora este modelo en función de Accuracy, Precision, Recall, F1 y matriz de confusión, sobre el conjunto de entrenamiento y sobre el conjunto de evaluación."
   ]
  },
  {
   "cell_type": "markdown",
   "metadata": {},
   "source": [
    "Calculamos los valores predichos tanto para el conjunto de entrenamiento como para el conjunto de test:"
   ]
  },
  {
   "cell_type": "code",
   "execution_count": 18,
   "metadata": {},
   "outputs": [],
   "source": [
    "best_model = cv.best_estimator_\n",
    "best_model.fit(X_train, y_train)\n",
    "y_pred_bm = best_model.predict(X)\n",
    "y_pred_train_bm = best_model.predict(X_train)\n",
    "y_pred_test_bm = best_model.predict(X_test)"
   ]
  },
  {
   "cell_type": "markdown",
   "metadata": {},
   "source": [
    "Evaluamos el modelo en términos de Accuracy, Precision, Recall y F1 para el conjunto de entrenamiento."
   ]
  },
  {
   "cell_type": "code",
   "execution_count": 19,
   "metadata": {},
   "outputs": [
    {
     "name": "stdout",
     "output_type": "stream",
     "text": [
      "              precision    recall  f1-score   support\n",
      "\n",
      "           0       0.84      0.98      0.91      1232\n",
      "           1       0.46      0.07      0.12       251\n",
      "\n",
      "    accuracy                           0.83      1483\n",
      "   macro avg       0.65      0.53      0.51      1483\n",
      "weighted avg       0.77      0.83      0.77      1483\n",
      "\n"
     ]
    }
   ],
   "source": [
    "print(classification_report(y_train, y_pred_train_bm))"
   ]
  },
  {
   "cell_type": "markdown",
   "metadata": {},
   "source": [
    "Se destaca que ya no llega la alerta de división por cero, ya que el modelo si está generando algunos predichos de etiqueta '1'. Sin embargo la precisión del modelo sigue siendo baja para esta clase. "
   ]
  },
  {
   "cell_type": "code",
   "execution_count": 20,
   "metadata": {},
   "outputs": [
    {
     "name": "stdout",
     "output_type": "stream",
     "text": [
      "[[1212   20]\n",
      " [ 234   17]]\n"
     ]
    }
   ],
   "source": [
    "cm_bm = confusion_matrix(y_train, y_pred_train_bm)\n",
    "print(cm_bm) "
   ]
  },
  {
   "cell_type": "markdown",
   "metadata": {},
   "source": [
    "La matriz de confusión confirma lo antes observado: 37 aplicantes fueron etiquetados como casos positivos de incumplimiento, y 20 de estos eran falsos positivos. "
   ]
  },
  {
   "cell_type": "markdown",
   "metadata": {},
   "source": [
    "Evaluamos el modelo para el conjunto de test:"
   ]
  },
  {
   "cell_type": "code",
   "execution_count": 21,
   "metadata": {},
   "outputs": [
    {
     "name": "stdout",
     "output_type": "stream",
     "text": [
      "              precision    recall  f1-score   support\n",
      "\n",
      "           0       0.85      1.00      0.92       313\n",
      "           1       1.00      0.03      0.07        58\n",
      "\n",
      "    accuracy                           0.85       371\n",
      "   macro avg       0.92      0.52      0.49       371\n",
      "weighted avg       0.87      0.85      0.78       371\n",
      "\n"
     ]
    }
   ],
   "source": [
    "print(classification_report(y_test, y_pred_test_bm))"
   ]
  },
  {
   "cell_type": "code",
   "execution_count": 22,
   "metadata": {},
   "outputs": [
    {
     "name": "stdout",
     "output_type": "stream",
     "text": [
      "[[313   0]\n",
      " [ 56   2]]\n"
     ]
    }
   ],
   "source": [
    "cm_bm = confusion_matrix(y_test, y_pred_test_bm)\n",
    "print(cm_bm) "
   ]
  },
  {
   "cell_type": "markdown",
   "metadata": {},
   "source": [
    "En el conjunto de entrenamiento no hay falsos positivos, por lo que la precisión de la clase '1' es del 100%. Sin embargo, el modelo no realiza una buena predicción ya que etiqueta 56 registros como negativos, siendo que son en realidad positivos."
   ]
  },
  {
   "cell_type": "markdown",
   "metadata": {},
   "source": [
    "La matriz de confusión para todos los datos resulta:"
   ]
  },
  {
   "cell_type": "code",
   "execution_count": 23,
   "metadata": {},
   "outputs": [
    {
     "name": "stdout",
     "output_type": "stream",
     "text": [
      "[[1525   20]\n",
      " [ 290   19]]\n",
      "Train+Test True Negatives: 1525\n",
      "Train+Test False Positives: 20\n",
      "Train+Test False Negatives: 290\n",
      "Train+Test True Positives: 19\n"
     ]
    }
   ],
   "source": [
    "tn, fp, fn, tp = confusion_matrix(y, y_pred_bm).ravel()\n",
    "print(confusion_matrix(y, y_pred_bm))\n",
    "print('Train+Test True Negatives:',tn)\n",
    "print('Train+Test False Positives:',fp)\n",
    "print('Train+Test False Negatives:',fn)\n",
    "print('Train+Test True Positives:',tp)"
   ]
  },
  {
   "cell_type": "markdown",
   "metadata": {},
   "source": [
    "## Ejercicio 3: Árboles de Decisión\n",
    "\n",
    "En este ejercicio se entrenarán árboles de decisión para predecir la variable objetivo.\n",
    "\n",
    "Para ello, deberán utilizar la clase DecisionTreeClassifier de scikit-learn.\n",
    "\n",
    "Documentación:\n",
    "- https://scikit-learn.org/stable/modules/tree.html\n",
    "  - https://scikit-learn.org/stable/modules/tree.html#tips-on-practical-use\n",
    "- https://scikit-learn.org/stable/modules/generated/sklearn.tree.DecisionTreeClassifier.html\n",
    "- https://scikit-learn.org/stable/auto_examples/tree/plot_unveil_tree_structure.html"
   ]
  },
  {
   "cell_type": "markdown",
   "metadata": {},
   "source": [
    "### Ejercicio 3.1: DecisionTreeClassifier con hiperparámetros por defecto\n",
    "\n",
    "Entrenar y evaluar el clasificador DecisionTreeClassifier usando los valores por omisión de scikit-learn para todos los parámetros. Únicamente **fijar la semilla aleatoria** para hacer repetible el experimento.\n",
    "\n",
    "Evaluar sobre el conjunto de **entrenamiento** y sobre el conjunto de **evaluación**, reportando:\n",
    "- Accuracy\n",
    "- Precision\n",
    "- Recall\n",
    "- F1\n",
    "- matriz de confusión\n"
   ]
  },
  {
   "cell_type": "markdown",
   "metadata": {},
   "source": [
    "A continuación, usamos la función DecisionTreeClassifier para ajustar el modelo. Dejamos los parámetros con sus valores por defecto, fijando únicamente la semilla aleatoria para hacer repetibles los resultados:"
   ]
  },
  {
   "cell_type": "code",
   "execution_count": 24,
   "metadata": {},
   "outputs": [],
   "source": [
    "model = DecisionTreeClassifier(random_state=0)\n",
    "model.fit(X_train, y_train)\n",
    "\n",
    "# Vectores de etiquetas predichas\n",
    "y_pred = model.predict(X)\n",
    "y_pred_train = model.predict(X_train)\n",
    "y_pred_test = model.predict(X_test)"
   ]
  },
  {
   "cell_type": "markdown",
   "metadata": {},
   "source": [
    "Vemos la gráfica del árbol resultante:"
   ]
  },
  {
   "cell_type": "code",
   "execution_count": 25,
   "metadata": {},
   "outputs": [
    {
     "data": {
      "text/plain": [
       "[Text(0.8641823060608008, 0.9782608695652174, 'X[9] <= 43.681\\ngini = 0.281\\nsamples = 1483\\nvalue = [1232, 251]'),\n",
       " Text(0.7612716112860723, 0.9347826086956522, 'X[5] <= 1.5\\ngini = 0.227\\nsamples = 1409\\nvalue = [1225, 184]'),\n",
       " Text(0.6356610322000128, 0.8913043478260869, 'X[4] <= 1.5\\ngini = 0.189\\nsamples = 1313\\nvalue = [1174, 139]'),\n",
       " Text(0.48933093386464427, 0.8478260869565217, 'X[6] <= 173.132\\ngini = 0.169\\nsamples = 1274\\nvalue = [1155, 119]'),\n",
       " Text(0.2830516100006427, 0.8043478260869565, 'X[2] <= 84241.5\\ngini = 0.249\\nsamples = 612\\nvalue = [523, 89]'),\n",
       " Text(0.16839128478694004, 0.7608695652173914, 'X[0] <= 16850.0\\ngini = 0.345\\nsamples = 257\\nvalue = [200, 57]'),\n",
       " Text(0.08998007584034964, 0.717391304347826, 'X[2] <= 50823.0\\ngini = 0.413\\nsamples = 168\\nvalue = [119, 49]'),\n",
       " Text(0.01645349958223536, 0.6739130434782609, 'X[6] <= 69.725\\ngini = 0.499\\nsamples = 40\\nvalue = [21, 19]'),\n",
       " Text(0.00822674979111768, 0.6304347826086957, 'gini = 0.0\\nsamples = 10\\nvalue = [10, 0]'),\n",
       " Text(0.024680249373353044, 0.6304347826086957, 'X[0] <= 9700.0\\ngini = 0.464\\nsamples = 30\\nvalue = [11, 19]'),\n",
       " Text(0.01645349958223536, 0.5869565217391305, 'gini = 0.0\\nsamples = 13\\nvalue = [0, 13]'),\n",
       " Text(0.03290699916447072, 0.5869565217391305, 'X[6] <= 123.703\\ngini = 0.457\\nsamples = 17\\nvalue = [11, 6]'),\n",
       " Text(0.024680249373353044, 0.5434782608695652, 'gini = 0.0\\nsamples = 10\\nvalue = [10, 0]'),\n",
       " Text(0.041133748955588405, 0.5434782608695652, 'X[9] <= 23.785\\ngini = 0.245\\nsamples = 7\\nvalue = [1, 6]'),\n",
       " Text(0.03290699916447072, 0.5, 'gini = 0.0\\nsamples = 1\\nvalue = [1, 0]'),\n",
       " Text(0.04936049874670609, 0.5, 'gini = 0.0\\nsamples = 6\\nvalue = [0, 6]'),\n",
       " Text(0.1635066520984639, 0.6739130434782609, 'X[7] <= 4.0\\ngini = 0.359\\nsamples = 128\\nvalue = [98, 30]'),\n",
       " Text(0.13779805900122116, 0.6304347826086957, 'X[2] <= 82193.0\\ngini = 0.32\\nsamples = 120\\nvalue = [96, 24]'),\n",
       " Text(0.11106112218008869, 0.5869565217391305, 'X[3] <= 11.5\\ngini = 0.287\\nsamples = 115\\nvalue = [95, 20]'),\n",
       " Text(0.08226749791117681, 0.5434782608695652, 'X[6] <= 82.263\\ngini = 0.225\\nsamples = 93\\nvalue = [81, 12]'),\n",
       " Text(0.06581399832894144, 0.5, 'X[0] <= 11050.0\\ngini = 0.48\\nsamples = 15\\nvalue = [9, 6]'),\n",
       " Text(0.057587248537823765, 0.45652173913043476, 'X[2] <= 77108.0\\ngini = 0.298\\nsamples = 11\\nvalue = [9, 2]'),\n",
       " Text(0.04936049874670609, 0.41304347826086957, 'X[6] <= 79.306\\ngini = 0.18\\nsamples = 10\\nvalue = [9, 1]'),\n",
       " Text(0.041133748955588405, 0.3695652173913043, 'gini = 0.0\\nsamples = 8\\nvalue = [8, 0]'),\n",
       " Text(0.057587248537823765, 0.3695652173913043, 'X[8] <= 16.0\\ngini = 0.5\\nsamples = 2\\nvalue = [1, 1]'),\n",
       " Text(0.04936049874670609, 0.32608695652173914, 'gini = 0.0\\nsamples = 1\\nvalue = [1, 0]'),\n",
       " Text(0.06581399832894144, 0.32608695652173914, 'gini = 0.0\\nsamples = 1\\nvalue = [0, 1]'),\n",
       " Text(0.06581399832894144, 0.41304347826086957, 'gini = 0.0\\nsamples = 1\\nvalue = [0, 1]'),\n",
       " Text(0.07404074812005913, 0.45652173913043476, 'gini = 0.0\\nsamples = 4\\nvalue = [0, 4]'),\n",
       " Text(0.09872099749341218, 0.5, 'X[0] <= 10050.0\\ngini = 0.142\\nsamples = 78\\nvalue = [72, 6]'),\n",
       " Text(0.09049424770229449, 0.45652173913043476, 'X[2] <= 55316.0\\ngini = 0.266\\nsamples = 38\\nvalue = [32, 6]'),\n",
       " Text(0.08226749791117681, 0.41304347826086957, 'gini = 0.0\\nsamples = 1\\nvalue = [0, 1]'),\n",
       " Text(0.09872099749341218, 0.41304347826086957, 'X[8] <= 18.5\\ngini = 0.234\\nsamples = 37\\nvalue = [32, 5]'),\n",
       " Text(0.09049424770229449, 0.3695652173913043, 'gini = 0.0\\nsamples = 15\\nvalue = [15, 0]'),\n",
       " Text(0.10694774728452985, 0.3695652173913043, 'X[8] <= 21.5\\ngini = 0.351\\nsamples = 22\\nvalue = [17, 5]'),\n",
       " Text(0.09049424770229449, 0.32608695652173914, 'X[9] <= 37.903\\ngini = 0.494\\nsamples = 9\\nvalue = [5, 4]'),\n",
       " Text(0.08226749791117681, 0.2826086956521739, 'gini = 0.0\\nsamples = 4\\nvalue = [0, 4]'),\n",
       " Text(0.09872099749341218, 0.2826086956521739, 'gini = 0.0\\nsamples = 5\\nvalue = [5, 0]'),\n",
       " Text(0.12340124686676522, 0.32608695652173914, 'X[6] <= 98.975\\ngini = 0.142\\nsamples = 13\\nvalue = [12, 1]'),\n",
       " Text(0.11517449707564753, 0.2826086956521739, 'X[3] <= 6.5\\ngini = 0.5\\nsamples = 2\\nvalue = [1, 1]'),\n",
       " Text(0.10694774728452985, 0.2391304347826087, 'gini = 0.0\\nsamples = 1\\nvalue = [0, 1]'),\n",
       " Text(0.12340124686676522, 0.2391304347826087, 'gini = 0.0\\nsamples = 1\\nvalue = [1, 0]'),\n",
       " Text(0.13162799665788288, 0.2826086956521739, 'gini = 0.0\\nsamples = 11\\nvalue = [11, 0]'),\n",
       " Text(0.10694774728452985, 0.45652173913043476, 'gini = 0.0\\nsamples = 40\\nvalue = [40, 0]'),\n",
       " Text(0.1398547464490006, 0.5434782608695652, 'X[0] <= 12100.0\\ngini = 0.463\\nsamples = 22\\nvalue = [14, 8]'),\n",
       " Text(0.13162799665788288, 0.5, 'X[2] <= 80000.0\\ngini = 0.219\\nsamples = 16\\nvalue = [14, 2]'),\n",
       " Text(0.12340124686676522, 0.45652173913043476, 'X[9] <= 30.076\\ngini = 0.124\\nsamples = 15\\nvalue = [14, 1]'),\n",
       " Text(0.11517449707564753, 0.41304347826086957, 'gini = 0.0\\nsamples = 1\\nvalue = [0, 1]'),\n",
       " Text(0.13162799665788288, 0.41304347826086957, 'gini = 0.0\\nsamples = 14\\nvalue = [14, 0]'),\n",
       " Text(0.1398547464490006, 0.45652173913043476, 'gini = 0.0\\nsamples = 1\\nvalue = [0, 1]'),\n",
       " Text(0.14808149624011827, 0.5, 'gini = 0.0\\nsamples = 6\\nvalue = [0, 6]'),\n",
       " Text(0.16453499582235362, 0.5869565217391305, 'X[9] <= 23.217\\ngini = 0.32\\nsamples = 5\\nvalue = [1, 4]'),\n",
       " Text(0.15630824603123594, 0.5434782608695652, 'gini = 0.0\\nsamples = 1\\nvalue = [1, 0]'),\n",
       " Text(0.1727617456134713, 0.5434782608695652, 'gini = 0.0\\nsamples = 4\\nvalue = [0, 4]'),\n",
       " Text(0.18921524519570668, 0.6304347826086957, 'X[3] <= 2.0\\ngini = 0.375\\nsamples = 8\\nvalue = [2, 6]'),\n",
       " Text(0.18098849540458897, 0.5869565217391305, 'gini = 0.0\\nsamples = 2\\nvalue = [2, 0]'),\n",
       " Text(0.19744199498682435, 0.5869565217391305, 'gini = 0.0\\nsamples = 6\\nvalue = [0, 6]'),\n",
       " Text(0.24680249373353044, 0.717391304347826, 'X[6] <= 64.167\\ngini = 0.164\\nsamples = 89\\nvalue = [81, 8]'),\n",
       " Text(0.23034899415129506, 0.6739130434782609, 'X[0] <= 24050.0\\ngini = 0.444\\nsamples = 15\\nvalue = [10, 5]'),\n",
       " Text(0.22212224436017738, 0.6304347826086957, 'X[2] <= 67673.5\\ngini = 0.408\\nsamples = 7\\nvalue = [2, 5]'),\n",
       " Text(0.2138954945690597, 0.5869565217391305, 'X[9] <= 37.817\\ngini = 0.444\\nsamples = 3\\nvalue = [2, 1]'),\n",
       " Text(0.20566874477794203, 0.5434782608695652, 'gini = 0.0\\nsamples = 2\\nvalue = [2, 0]'),\n",
       " Text(0.22212224436017738, 0.5434782608695652, 'gini = 0.0\\nsamples = 1\\nvalue = [0, 1]'),\n",
       " Text(0.23034899415129506, 0.5869565217391305, 'gini = 0.0\\nsamples = 4\\nvalue = [0, 4]'),\n",
       " Text(0.23857574394241274, 0.6304347826086957, 'gini = 0.0\\nsamples = 8\\nvalue = [8, 0]'),\n",
       " Text(0.26325599331576577, 0.6739130434782609, 'X[0] <= 25800.0\\ngini = 0.078\\nsamples = 74\\nvalue = [71, 3]'),\n",
       " Text(0.2550292435246481, 0.6304347826086957, 'gini = 0.0\\nsamples = 47\\nvalue = [47, 0]'),\n",
       " Text(0.2714827431068835, 0.6304347826086957, 'X[0] <= 26500.0\\ngini = 0.198\\nsamples = 27\\nvalue = [24, 3]'),\n",
       " Text(0.26325599331576577, 0.5869565217391305, 'gini = 0.0\\nsamples = 2\\nvalue = [0, 2]'),\n",
       " Text(0.2797094928980012, 0.5869565217391305, 'X[2] <= 80511.5\\ngini = 0.077\\nsamples = 25\\nvalue = [24, 1]'),\n",
       " Text(0.2714827431068835, 0.5434782608695652, 'gini = 0.0\\nsamples = 23\\nvalue = [23, 0]'),\n",
       " Text(0.2879362426891188, 0.5434782608695652, 'X[6] <= 142.026\\ngini = 0.5\\nsamples = 2\\nvalue = [1, 1]'),\n",
       " Text(0.2797094928980012, 0.5, 'gini = 0.0\\nsamples = 1\\nvalue = [0, 1]'),\n",
       " Text(0.29616299248023653, 0.5, 'gini = 0.0\\nsamples = 1\\nvalue = [1, 0]'),\n",
       " Text(0.3977119352143454, 0.7608695652173914, 'X[6] <= 62.536\\ngini = 0.164\\nsamples = 355\\nvalue = [323, 32]'),\n",
       " Text(0.3771450607365512, 0.717391304347826, 'X[8] <= 32.5\\ngini = 0.278\\nsamples = 6\\nvalue = [1, 5]'),\n",
       " Text(0.36891831094543354, 0.6739130434782609, 'gini = 0.0\\nsamples = 5\\nvalue = [0, 5]'),\n",
       " Text(0.3853718105276689, 0.6739130434782609, 'gini = 0.0\\nsamples = 1\\nvalue = [1, 0]'),\n",
       " Text(0.4182788096921396, 0.717391304347826, 'X[1] <= 197091.0\\ngini = 0.143\\nsamples = 349\\nvalue = [322, 27]'),\n",
       " Text(0.40182531010990424, 0.6739130434782609, 'X[8] <= 36.5\\ngini = 0.129\\nsamples = 345\\nvalue = [321, 24]'),\n",
       " Text(0.39359856031878654, 0.6304347826086957, 'X[0] <= 7650.0\\ngini = 0.12\\nsamples = 343\\nvalue = [321, 22]'),\n",
       " Text(0.32906999164470724, 0.5869565217391305, 'X[9] <= 40.264\\ngini = 0.426\\nsamples = 13\\nvalue = [9, 4]'),\n",
       " Text(0.3208432418535896, 0.5434782608695652, 'X[1] <= 64312.0\\ngini = 0.298\\nsamples = 11\\nvalue = [9, 2]'),\n",
       " Text(0.3126164920624719, 0.5, 'gini = 0.0\\nsamples = 1\\nvalue = [0, 1]'),\n",
       " Text(0.32906999164470724, 0.5, 'X[6] <= 172.026\\ngini = 0.18\\nsamples = 10\\nvalue = [9, 1]'),\n",
       " Text(0.3208432418535896, 0.45652173913043476, 'gini = 0.0\\nsamples = 9\\nvalue = [9, 0]'),\n",
       " Text(0.33729674143582494, 0.45652173913043476, 'gini = 0.0\\nsamples = 1\\nvalue = [0, 1]'),\n",
       " Text(0.33729674143582494, 0.5434782608695652, 'gini = 0.0\\nsamples = 2\\nvalue = [0, 2]'),\n",
       " Text(0.45812712899286584, 0.5869565217391305, 'X[1] <= 116215.0\\ngini = 0.103\\nsamples = 330\\nvalue = [312, 18]'),\n",
       " Text(0.418535895623112, 0.5434782608695652, 'X[9] <= 42.24\\ngini = 0.073\\nsamples = 291\\nvalue = [280, 11]'),\n",
       " Text(0.38871392763031043, 0.5, 'X[4] <= 0.5\\ngini = 0.061\\nsamples = 286\\nvalue = [277, 9]'),\n",
       " Text(0.3537502410180603, 0.45652173913043476, 'X[9] <= 19.78\\ngini = 0.043\\nsamples = 272\\nvalue = [266, 6]'),\n",
       " Text(0.3331833665402661, 0.41304347826086957, 'X[2] <= 96631.0\\ngini = 0.5\\nsamples = 2\\nvalue = [1, 1]'),\n",
       " Text(0.3249566167491484, 0.3695652173913043, 'gini = 0.0\\nsamples = 1\\nvalue = [1, 0]'),\n",
       " Text(0.34141011633138374, 0.3695652173913043, 'gini = 0.0\\nsamples = 1\\nvalue = [0, 1]'),\n",
       " Text(0.3743171154958545, 0.41304347826086957, 'X[8] <= 35.5\\ngini = 0.036\\nsamples = 270\\nvalue = [265, 5]'),\n",
       " Text(0.35786361591361915, 0.3695652173913043, 'X[9] <= 36.037\\ngini = 0.03\\nsamples = 267\\nvalue = [263, 4]'),\n",
       " Text(0.34963686612250144, 0.32608695652173914, 'gini = 0.0\\nsamples = 167\\nvalue = [167, 0]'),\n",
       " Text(0.3660903657047368, 0.32608695652173914, 'X[9] <= 36.054\\ngini = 0.077\\nsamples = 100\\nvalue = [96, 4]'),\n",
       " Text(0.35786361591361915, 0.2826086956521739, 'gini = 0.0\\nsamples = 1\\nvalue = [0, 1]'),\n",
       " Text(0.3743171154958545, 0.2826086956521739, 'X[3] <= 17.5\\ngini = 0.059\\nsamples = 99\\nvalue = [96, 3]'),\n",
       " Text(0.35786361591361915, 0.2391304347826087, 'X[3] <= 3.5\\ngini = 0.042\\nsamples = 94\\nvalue = [92, 2]'),\n",
       " Text(0.34963686612250144, 0.1956521739130435, 'X[3] <= 2.5\\ngini = 0.124\\nsamples = 30\\nvalue = [28, 2]'),\n",
       " Text(0.34141011633138374, 0.15217391304347827, 'gini = 0.0\\nsamples = 19\\nvalue = [19, 0]'),\n",
       " Text(0.35786361591361915, 0.15217391304347827, 'X[1] <= 92975.5\\ngini = 0.298\\nsamples = 11\\nvalue = [9, 2]'),\n",
       " Text(0.34963686612250144, 0.10869565217391304, 'X[6] <= 88.205\\ngini = 0.18\\nsamples = 10\\nvalue = [9, 1]'),\n",
       " Text(0.34141011633138374, 0.06521739130434782, 'X[7] <= 1.0\\ngini = 0.444\\nsamples = 3\\nvalue = [2, 1]'),\n",
       " Text(0.3331833665402661, 0.021739130434782608, 'gini = 0.0\\nsamples = 1\\nvalue = [0, 1]'),\n",
       " Text(0.34963686612250144, 0.021739130434782608, 'gini = 0.0\\nsamples = 2\\nvalue = [2, 0]'),\n",
       " Text(0.35786361591361915, 0.06521739130434782, 'gini = 0.0\\nsamples = 7\\nvalue = [7, 0]'),\n",
       " Text(0.3660903657047368, 0.10869565217391304, 'gini = 0.0\\nsamples = 1\\nvalue = [0, 1]'),\n",
       " Text(0.3660903657047368, 0.1956521739130435, 'gini = 0.0\\nsamples = 64\\nvalue = [64, 0]'),\n",
       " Text(0.39077061507808986, 0.2391304347826087, 'X[6] <= 163.116\\ngini = 0.32\\nsamples = 5\\nvalue = [4, 1]'),\n",
       " Text(0.38254386528697215, 0.1956521739130435, 'gini = 0.0\\nsamples = 4\\nvalue = [4, 0]'),\n",
       " Text(0.39899736486920756, 0.1956521739130435, 'gini = 0.0\\nsamples = 1\\nvalue = [0, 1]'),\n",
       " Text(0.39077061507808986, 0.3695652173913043, 'X[3] <= 9.5\\ngini = 0.444\\nsamples = 3\\nvalue = [2, 1]'),\n",
       " Text(0.38254386528697215, 0.32608695652173914, 'gini = 0.0\\nsamples = 1\\nvalue = [0, 1]'),\n",
       " Text(0.39899736486920756, 0.32608695652173914, 'gini = 0.0\\nsamples = 2\\nvalue = [2, 0]'),\n",
       " Text(0.42367761424256056, 0.45652173913043476, 'X[8] <= 23.0\\ngini = 0.337\\nsamples = 14\\nvalue = [11, 3]'),\n",
       " Text(0.4154508644514429, 0.41304347826086957, 'X[3] <= 2.5\\ngini = 0.48\\nsamples = 5\\nvalue = [2, 3]'),\n",
       " Text(0.4072241146603252, 0.3695652173913043, 'gini = 0.0\\nsamples = 2\\nvalue = [2, 0]'),\n",
       " Text(0.42367761424256056, 0.3695652173913043, 'gini = 0.0\\nsamples = 3\\nvalue = [0, 3]'),\n",
       " Text(0.43190436403367827, 0.41304347826086957, 'gini = 0.0\\nsamples = 9\\nvalue = [9, 0]'),\n",
       " Text(0.4483578636159136, 0.5, 'X[2] <= 116081.5\\ngini = 0.48\\nsamples = 5\\nvalue = [3, 2]'),\n",
       " Text(0.4401311138247959, 0.45652173913043476, 'gini = 0.0\\nsamples = 2\\nvalue = [0, 2]'),\n",
       " Text(0.4565846134070313, 0.45652173913043476, 'gini = 0.0\\nsamples = 3\\nvalue = [3, 0]'),\n",
       " Text(0.4977183623626197, 0.5434782608695652, 'X[2] <= 166063.0\\ngini = 0.295\\nsamples = 39\\nvalue = [32, 7]'),\n",
       " Text(0.48126486278038433, 0.5, 'X[9] <= 34.647\\ngini = 0.5\\nsamples = 12\\nvalue = [6, 6]'),\n",
       " Text(0.4730381129892667, 0.45652173913043476, 'X[8] <= 17.0\\ngini = 0.375\\nsamples = 8\\nvalue = [6, 2]'),\n",
       " Text(0.464811363198149, 0.41304347826086957, 'gini = 0.0\\nsamples = 2\\nvalue = [0, 2]'),\n",
       " Text(0.48126486278038433, 0.41304347826086957, 'gini = 0.0\\nsamples = 6\\nvalue = [6, 0]'),\n",
       " Text(0.48949161257150203, 0.45652173913043476, 'gini = 0.0\\nsamples = 4\\nvalue = [0, 4]'),\n",
       " Text(0.5141718619448551, 0.5, 'X[7] <= 4.0\\ngini = 0.071\\nsamples = 27\\nvalue = [26, 1]'),\n",
       " Text(0.5059451121537374, 0.45652173913043476, 'gini = 0.0\\nsamples = 26\\nvalue = [26, 0]'),\n",
       " Text(0.5223986117359728, 0.45652173913043476, 'gini = 0.0\\nsamples = 1\\nvalue = [0, 1]'),\n",
       " Text(0.4100520599010219, 0.6304347826086957, 'gini = 0.0\\nsamples = 2\\nvalue = [0, 2]'),\n",
       " Text(0.43473230927437495, 0.6739130434782609, 'X[6] <= 135.13\\ngini = 0.375\\nsamples = 4\\nvalue = [1, 3]'),\n",
       " Text(0.4265055594832573, 0.6304347826086957, 'gini = 0.0\\nsamples = 1\\nvalue = [1, 0]'),\n",
       " Text(0.44295905906549266, 0.6304347826086957, 'gini = 0.0\\nsamples = 3\\nvalue = [0, 3]'),\n",
       " Text(0.6956102577286458, 0.8043478260869565, 'X[9] <= 12.867\\ngini = 0.087\\nsamples = 662\\nvalue = [632, 30]'),\n",
       " Text(0.6873835079375281, 0.7608695652173914, 'gini = 0.0\\nsamples = 2\\nvalue = [0, 2]'),\n",
       " Text(0.7038370075197635, 0.7608695652173914, 'X[1] <= 382608.0\\ngini = 0.081\\nsamples = 660\\nvalue = [632, 28]'),\n",
       " Text(0.6956102577286458, 0.717391304347826, 'X[6] <= 898.665\\ngini = 0.079\\nsamples = 659\\nvalue = [632, 27]'),\n",
       " Text(0.6873835079375281, 0.6739130434782609, 'X[5] <= 0.5\\ngini = 0.076\\nsamples = 658\\nvalue = [632, 26]'),\n",
       " Text(0.5921974419949868, 0.6304347826086957, 'X[2] <= 47415.0\\ngini = 0.059\\nsamples = 587\\nvalue = [569, 18]'),\n",
       " Text(0.5306253615270904, 0.5869565217391305, 'X[1] <= 30098.5\\ngini = 0.278\\nsamples = 18\\nvalue = [15, 3]'),\n",
       " Text(0.5223986117359728, 0.5434782608695652, 'gini = 0.0\\nsamples = 14\\nvalue = [14, 0]'),\n",
       " Text(0.5388521113182081, 0.5434782608695652, 'X[9] <= 27.195\\ngini = 0.375\\nsamples = 4\\nvalue = [1, 3]'),\n",
       " Text(0.5306253615270904, 0.5, 'gini = 0.0\\nsamples = 1\\nvalue = [1, 0]'),\n",
       " Text(0.5470788611093258, 0.5, 'gini = 0.0\\nsamples = 3\\nvalue = [0, 3]'),\n",
       " Text(0.6537695224628832, 0.5869565217391305, 'X[8] <= 39.0\\ngini = 0.051\\nsamples = 569\\nvalue = [554, 15]'),\n",
       " Text(0.6072369689568738, 0.5434782608695652, 'X[1] <= 159932.5\\ngini = 0.04\\nsamples = 533\\nvalue = [522, 11]'),\n",
       " Text(0.5635323606915612, 0.5, 'X[0] <= 18550.0\\ngini = 0.027\\nsamples = 503\\nvalue = [496, 7]'),\n",
       " Text(0.5398804550420978, 0.45652173913043476, 'X[0] <= 6800.0\\ngini = 0.007\\nsamples = 273\\nvalue = [272, 1]'),\n",
       " Text(0.5316537052509801, 0.41304347826086957, 'X[3] <= 5.5\\ngini = 0.153\\nsamples = 12\\nvalue = [11, 1]'),\n",
       " Text(0.5234269554598625, 0.3695652173913043, 'X[3] <= 3.5\\ngini = 0.5\\nsamples = 2\\nvalue = [1, 1]'),\n",
       " Text(0.5152002056687448, 0.32608695652173914, 'gini = 0.0\\nsamples = 1\\nvalue = [1, 0]'),\n",
       " Text(0.5316537052509801, 0.32608695652173914, 'gini = 0.0\\nsamples = 1\\nvalue = [0, 1]'),\n",
       " Text(0.5398804550420978, 0.3695652173913043, 'gini = 0.0\\nsamples = 10\\nvalue = [10, 0]'),\n",
       " Text(0.5481072048332155, 0.41304347826086957, 'gini = 0.0\\nsamples = 261\\nvalue = [261, 0]'),\n",
       " Text(0.5871842663410245, 0.45652173913043476, 'X[2] <= 63249.0\\ngini = 0.051\\nsamples = 230\\nvalue = [224, 6]'),\n",
       " Text(0.5645607044154508, 0.41304347826086957, 'X[8] <= 22.5\\ngini = 0.346\\nsamples = 9\\nvalue = [7, 2]'),\n",
       " Text(0.5563339546243332, 0.3695652173913043, 'X[6] <= 198.039\\ngini = 0.444\\nsamples = 3\\nvalue = [1, 2]'),\n",
       " Text(0.5481072048332155, 0.32608695652173914, 'gini = 0.0\\nsamples = 1\\nvalue = [1, 0]'),\n",
       " Text(0.5645607044154508, 0.32608695652173914, 'gini = 0.0\\nsamples = 2\\nvalue = [0, 2]'),\n",
       " Text(0.5727874542065685, 0.3695652173913043, 'gini = 0.0\\nsamples = 6\\nvalue = [6, 0]'),\n",
       " Text(0.6098078282665981, 0.41304347826086957, 'X[0] <= 18650.0\\ngini = 0.036\\nsamples = 221\\nvalue = [217, 4]'),\n",
       " Text(0.5892409537888039, 0.3695652173913043, 'X[6] <= 201.045\\ngini = 0.444\\nsamples = 3\\nvalue = [2, 1]'),\n",
       " Text(0.5810142039976862, 0.32608695652173914, 'gini = 0.0\\nsamples = 1\\nvalue = [0, 1]'),\n",
       " Text(0.5974677035799216, 0.32608695652173914, 'gini = 0.0\\nsamples = 2\\nvalue = [2, 0]'),\n",
       " Text(0.6303747027443923, 0.3695652173913043, 'X[8] <= 34.5\\ngini = 0.027\\nsamples = 218\\nvalue = [215, 3]'),\n",
       " Text(0.6139212031621569, 0.32608695652173914, 'X[8] <= 14.5\\ngini = 0.01\\nsamples = 200\\nvalue = [199, 1]'),\n",
       " Text(0.6056944533710392, 0.2826086956521739, 'X[8] <= 13.5\\ngini = 0.105\\nsamples = 18\\nvalue = [17, 1]'),\n",
       " Text(0.5974677035799216, 0.2391304347826087, 'gini = 0.0\\nsamples = 17\\nvalue = [17, 0]'),\n",
       " Text(0.6139212031621569, 0.2391304347826087, 'gini = 0.0\\nsamples = 1\\nvalue = [0, 1]'),\n",
       " Text(0.6221479529532746, 0.2826086956521739, 'gini = 0.0\\nsamples = 182\\nvalue = [182, 0]'),\n",
       " Text(0.6468282023266276, 0.32608695652173914, 'X[6] <= 252.413\\ngini = 0.198\\nsamples = 18\\nvalue = [16, 2]'),\n",
       " Text(0.63860145253551, 0.2826086956521739, 'gini = 0.0\\nsamples = 14\\nvalue = [14, 0]'),\n",
       " Text(0.6550549521177453, 0.2826086956521739, 'X[9] <= 37.102\\ngini = 0.5\\nsamples = 4\\nvalue = [2, 2]'),\n",
       " Text(0.6468282023266276, 0.2391304347826087, 'gini = 0.0\\nsamples = 2\\nvalue = [0, 2]'),\n",
       " Text(0.663281701908863, 0.2391304347826087, 'gini = 0.0\\nsamples = 2\\nvalue = [2, 0]'),\n",
       " Text(0.6509415772221865, 0.5, 'X[2] <= 227322.5\\ngini = 0.231\\nsamples = 30\\nvalue = [26, 4]'),\n",
       " Text(0.6344880776399512, 0.45652173913043476, 'X[9] <= 28.323\\ngini = 0.5\\nsamples = 6\\nvalue = [3, 3]'),\n",
       " Text(0.6262613278488335, 0.41304347826086957, 'gini = 0.0\\nsamples = 3\\nvalue = [3, 0]'),\n",
       " Text(0.6427148274310688, 0.41304347826086957, 'gini = 0.0\\nsamples = 3\\nvalue = [0, 3]'),\n",
       " Text(0.6673950768044219, 0.45652173913043476, 'X[9] <= 43.023\\ngini = 0.08\\nsamples = 24\\nvalue = [23, 1]'),\n",
       " Text(0.6591683270133042, 0.41304347826086957, 'gini = 0.0\\nsamples = 23\\nvalue = [23, 0]'),\n",
       " Text(0.6756218265955396, 0.41304347826086957, 'gini = 0.0\\nsamples = 1\\nvalue = [0, 1]'),\n",
       " Text(0.7003020759688926, 0.5434782608695652, 'X[3] <= 25.5\\ngini = 0.198\\nsamples = 36\\nvalue = [32, 4]'),\n",
       " Text(0.6920753261777749, 0.5, 'X[9] <= 25.441\\ngini = 0.157\\nsamples = 35\\nvalue = [32, 3]'),\n",
       " Text(0.6838485763866572, 0.45652173913043476, 'gini = 0.0\\nsamples = 1\\nvalue = [0, 1]'),\n",
       " Text(0.7003020759688926, 0.45652173913043476, 'X[0] <= 26900.0\\ngini = 0.111\\nsamples = 34\\nvalue = [32, 2]'),\n",
       " Text(0.6920753261777749, 0.41304347826086957, 'gini = 0.0\\nsamples = 30\\nvalue = [30, 0]'),\n",
       " Text(0.7085288257600103, 0.41304347826086957, 'X[2] <= 141590.0\\ngini = 0.5\\nsamples = 4\\nvalue = [2, 2]'),\n",
       " Text(0.7003020759688926, 0.3695652173913043, 'gini = 0.0\\nsamples = 2\\nvalue = [0, 2]'),\n",
       " Text(0.716755575551128, 0.3695652173913043, 'gini = 0.0\\nsamples = 2\\nvalue = [2, 0]'),\n",
       " Text(0.7085288257600103, 0.5, 'gini = 0.0\\nsamples = 1\\nvalue = [0, 1]'),\n",
       " Text(0.7825695738800694, 0.6304347826086957, 'X[9] <= 43.153\\ngini = 0.2\\nsamples = 71\\nvalue = [63, 8]'),\n",
       " Text(0.7743428240889517, 0.5869565217391305, 'X[4] <= 0.5\\ngini = 0.18\\nsamples = 70\\nvalue = [63, 7]'),\n",
       " Text(0.7578893245067164, 0.5434782608695652, 'X[9] <= 35.745\\ngini = 0.144\\nsamples = 64\\nvalue = [59, 5]'),\n",
       " Text(0.7496625747155987, 0.5, 'X[9] <= 34.596\\ngini = 0.251\\nsamples = 34\\nvalue = [29, 5]'),\n",
       " Text(0.741435824924481, 0.45652173913043476, 'X[2] <= 45633.5\\ngini = 0.17\\nsamples = 32\\nvalue = [29, 3]'),\n",
       " Text(0.7332090751333633, 0.41304347826086957, 'gini = 0.0\\nsamples = 1\\nvalue = [0, 1]'),\n",
       " Text(0.7496625747155987, 0.41304347826086957, 'X[8] <= 31.5\\ngini = 0.121\\nsamples = 31\\nvalue = [29, 2]'),\n",
       " Text(0.7332090751333633, 0.3695652173913043, 'X[9] <= 22.709\\ngini = 0.071\\nsamples = 27\\nvalue = [26, 1]'),\n",
       " Text(0.7249823253422456, 0.32608695652173914, 'X[6] <= 207.68\\ngini = 0.375\\nsamples = 4\\nvalue = [3, 1]'),\n",
       " Text(0.716755575551128, 0.2826086956521739, 'gini = 0.0\\nsamples = 1\\nvalue = [0, 1]'),\n",
       " Text(0.7332090751333633, 0.2826086956521739, 'gini = 0.0\\nsamples = 3\\nvalue = [3, 0]'),\n",
       " Text(0.741435824924481, 0.32608695652173914, 'gini = 0.0\\nsamples = 23\\nvalue = [23, 0]'),\n",
       " Text(0.766116074297834, 0.3695652173913043, 'X[1] <= 79692.5\\ngini = 0.375\\nsamples = 4\\nvalue = [3, 1]'),\n",
       " Text(0.7578893245067164, 0.32608695652173914, 'gini = 0.0\\nsamples = 1\\nvalue = [0, 1]'),\n",
       " Text(0.7743428240889517, 0.32608695652173914, 'gini = 0.0\\nsamples = 3\\nvalue = [3, 0]'),\n",
       " Text(0.7578893245067164, 0.45652173913043476, 'gini = 0.0\\nsamples = 2\\nvalue = [0, 2]'),\n",
       " Text(0.766116074297834, 0.5, 'gini = 0.0\\nsamples = 30\\nvalue = [30, 0]'),\n",
       " Text(0.7907963236711871, 0.5434782608695652, 'X[7] <= 1.0\\ngini = 0.444\\nsamples = 6\\nvalue = [4, 2]'),\n",
       " Text(0.7825695738800694, 0.5, 'gini = 0.0\\nsamples = 4\\nvalue = [4, 0]'),\n",
       " Text(0.7990230734623047, 0.5, 'gini = 0.0\\nsamples = 2\\nvalue = [0, 2]'),\n",
       " Text(0.7907963236711871, 0.5869565217391305, 'gini = 0.0\\nsamples = 1\\nvalue = [0, 1]'),\n",
       " Text(0.7038370075197635, 0.6739130434782609, 'gini = 0.0\\nsamples = 1\\nvalue = [0, 1]'),\n",
       " Text(0.7120637573108811, 0.717391304347826, 'gini = 0.0\\nsamples = 1\\nvalue = [0, 1]'),\n",
       " Text(0.7819911305353815, 0.8478260869565217, 'X[6] <= 179.345\\ngini = 0.5\\nsamples = 39\\nvalue = [19, 20]'),\n",
       " Text(0.7531975062664695, 0.8043478260869565, 'X[0] <= 16950.0\\ngini = 0.426\\nsamples = 26\\nvalue = [8, 18]'),\n",
       " Text(0.7367440066842342, 0.7608695652173914, 'X[1] <= 61826.0\\ngini = 0.486\\nsamples = 12\\nvalue = [7, 5]'),\n",
       " Text(0.7285172568931165, 0.717391304347826, 'gini = 0.0\\nsamples = 5\\nvalue = [0, 5]'),\n",
       " Text(0.7449707564753519, 0.717391304347826, 'gini = 0.0\\nsamples = 7\\nvalue = [7, 0]'),\n",
       " Text(0.7696510058487049, 0.7608695652173914, 'X[1] <= 103516.0\\ngini = 0.133\\nsamples = 14\\nvalue = [1, 13]'),\n",
       " Text(0.7614242560575872, 0.717391304347826, 'gini = 0.0\\nsamples = 12\\nvalue = [0, 12]'),\n",
       " Text(0.7778777556398226, 0.717391304347826, 'X[6] <= 167.43\\ngini = 0.5\\nsamples = 2\\nvalue = [1, 1]'),\n",
       " Text(0.7696510058487049, 0.6739130434782609, 'gini = 0.0\\nsamples = 1\\nvalue = [0, 1]'),\n",
       " Text(0.7861045054309402, 0.6739130434782609, 'gini = 0.0\\nsamples = 1\\nvalue = [1, 0]'),\n",
       " Text(0.8107847548042934, 0.8043478260869565, 'X[6] <= 349.751\\ngini = 0.26\\nsamples = 13\\nvalue = [11, 2]'),\n",
       " Text(0.8025580050131756, 0.7608695652173914, 'X[3] <= 1.5\\ngini = 0.153\\nsamples = 12\\nvalue = [11, 1]'),\n",
       " Text(0.7943312552220579, 0.717391304347826, 'gini = 0.0\\nsamples = 1\\nvalue = [0, 1]'),\n",
       " Text(0.8107847548042934, 0.717391304347826, 'gini = 0.0\\nsamples = 11\\nvalue = [11, 0]'),\n",
       " Text(0.819011504595411, 0.7608695652173914, 'gini = 0.0\\nsamples = 1\\nvalue = [0, 1]'),\n",
       " Text(0.8868821903721319, 0.8913043478260869, 'X[5] <= 3.5\\ngini = 0.498\\nsamples = 96\\nvalue = [51, 45]'),\n",
       " Text(0.8642586284465582, 0.8478260869565217, 'X[2] <= 152376.0\\ngini = 0.463\\nsamples = 77\\nvalue = [49, 28]'),\n",
       " Text(0.8560318786554406, 0.8043478260869565, 'X[6] <= 153.816\\ngini = 0.435\\nsamples = 72\\nvalue = [49, 23]'),\n",
       " Text(0.8354650041776464, 0.7608695652173914, 'X[3] <= 4.5\\ngini = 0.499\\nsamples = 25\\nvalue = [12, 13]'),\n",
       " Text(0.8272382543865286, 0.717391304347826, 'X[2] <= 126349.5\\ngini = 0.32\\nsamples = 15\\nvalue = [12, 3]'),\n",
       " Text(0.819011504595411, 0.6739130434782609, 'X[6] <= 29.293\\ngini = 0.142\\nsamples = 13\\nvalue = [12, 1]'),\n",
       " Text(0.8107847548042934, 0.6304347826086957, 'gini = 0.0\\nsamples = 1\\nvalue = [0, 1]'),\n",
       " Text(0.8272382543865286, 0.6304347826086957, 'gini = 0.0\\nsamples = 12\\nvalue = [12, 0]'),\n",
       " Text(0.8354650041776464, 0.6739130434782609, 'gini = 0.0\\nsamples = 2\\nvalue = [0, 2]'),\n",
       " Text(0.8436917539687641, 0.717391304347826, 'gini = 0.0\\nsamples = 10\\nvalue = [0, 10]'),\n",
       " Text(0.8765987531332348, 0.7608695652173914, 'X[3] <= 8.0\\ngini = 0.335\\nsamples = 47\\nvalue = [37, 10]'),\n",
       " Text(0.8601452535509995, 0.717391304347826, 'X[6] <= 206.87\\ngini = 0.488\\nsamples = 19\\nvalue = [11, 8]'),\n",
       " Text(0.8519185037598818, 0.6739130434782609, 'X[1] <= 40302.0\\ngini = 0.391\\nsamples = 15\\nvalue = [11, 4]'),\n",
       " Text(0.8436917539687641, 0.6304347826086957, 'gini = 0.0\\nsamples = 2\\nvalue = [0, 2]'),\n",
       " Text(0.8601452535509995, 0.6304347826086957, 'X[3] <= 6.5\\ngini = 0.26\\nsamples = 13\\nvalue = [11, 2]'),\n",
       " Text(0.8519185037598818, 0.5869565217391305, 'gini = 0.0\\nsamples = 10\\nvalue = [10, 0]'),\n",
       " Text(0.8683720033421171, 0.5869565217391305, 'X[2] <= 68546.0\\ngini = 0.444\\nsamples = 3\\nvalue = [1, 2]'),\n",
       " Text(0.8601452535509995, 0.5434782608695652, 'gini = 0.0\\nsamples = 1\\nvalue = [1, 0]'),\n",
       " Text(0.8765987531332348, 0.5434782608695652, 'gini = 0.0\\nsamples = 2\\nvalue = [0, 2]'),\n",
       " Text(0.8683720033421171, 0.6739130434782609, 'gini = 0.0\\nsamples = 4\\nvalue = [0, 4]'),\n",
       " Text(0.8930522527154702, 0.717391304347826, 'X[9] <= 12.927\\ngini = 0.133\\nsamples = 28\\nvalue = [26, 2]'),\n",
       " Text(0.8848255029243525, 0.6739130434782609, 'gini = 0.0\\nsamples = 1\\nvalue = [0, 1]'),\n",
       " Text(0.9012790025065879, 0.6739130434782609, 'X[7] <= 1.5\\ngini = 0.071\\nsamples = 27\\nvalue = [26, 1]'),\n",
       " Text(0.8930522527154702, 0.6304347826086957, 'gini = 0.0\\nsamples = 24\\nvalue = [24, 0]'),\n",
       " Text(0.9095057522977055, 0.6304347826086957, 'X[3] <= 22.0\\ngini = 0.444\\nsamples = 3\\nvalue = [2, 1]'),\n",
       " Text(0.9012790025065879, 0.5869565217391305, 'gini = 0.0\\nsamples = 2\\nvalue = [2, 0]'),\n",
       " Text(0.9177325020888232, 0.5869565217391305, 'gini = 0.0\\nsamples = 1\\nvalue = [0, 1]'),\n",
       " Text(0.8724853782376759, 0.8043478260869565, 'gini = 0.0\\nsamples = 5\\nvalue = [0, 5]'),\n",
       " Text(0.9095057522977055, 0.8478260869565217, 'X[2] <= 66953.5\\ngini = 0.188\\nsamples = 19\\nvalue = [2, 17]'),\n",
       " Text(0.9012790025065879, 0.8043478260869565, 'X[5] <= 5.0\\ngini = 0.444\\nsamples = 3\\nvalue = [2, 1]'),\n",
       " Text(0.8930522527154702, 0.7608695652173914, 'gini = 0.0\\nsamples = 2\\nvalue = [2, 0]'),\n",
       " Text(0.9095057522977055, 0.7608695652173914, 'gini = 0.0\\nsamples = 1\\nvalue = [0, 1]'),\n",
       " Text(0.9177325020888232, 0.8043478260869565, 'gini = 0.0\\nsamples = 16\\nvalue = [0, 16]'),\n",
       " Text(0.9670930008355293, 0.9347826086956522, 'X[6] <= 299.897\\ngini = 0.171\\nsamples = 74\\nvalue = [7, 67]'),\n",
       " Text(0.9506395012532939, 0.8913043478260869, 'X[9] <= 44.155\\ngini = 0.108\\nsamples = 70\\nvalue = [4, 66]'),\n",
       " Text(0.9424127514621762, 0.8478260869565217, 'X[8] <= 19.5\\ngini = 0.48\\nsamples = 10\\nvalue = [4, 6]'),\n",
       " Text(0.9341860016710586, 0.8043478260869565, 'gini = 0.0\\nsamples = 3\\nvalue = [3, 0]'),\n",
       " Text(0.9506395012532939, 0.8043478260869565, 'X[3] <= 10.5\\ngini = 0.245\\nsamples = 7\\nvalue = [1, 6]'),\n",
       " Text(0.9424127514621762, 0.7608695652173914, 'gini = 0.0\\nsamples = 5\\nvalue = [0, 5]'),\n",
       " Text(0.9588662510444116, 0.7608695652173914, 'X[0] <= 31850.0\\ngini = 0.5\\nsamples = 2\\nvalue = [1, 1]'),\n",
       " Text(0.9506395012532939, 0.717391304347826, 'gini = 0.0\\nsamples = 1\\nvalue = [1, 0]'),\n",
       " Text(0.9670930008355293, 0.717391304347826, 'gini = 0.0\\nsamples = 1\\nvalue = [0, 1]'),\n",
       " Text(0.9588662510444116, 0.8478260869565217, 'gini = 0.0\\nsamples = 60\\nvalue = [0, 60]'),\n",
       " Text(0.9835465004177646, 0.8913043478260869, 'X[8] <= 22.5\\ngini = 0.375\\nsamples = 4\\nvalue = [3, 1]'),\n",
       " Text(0.975319750626647, 0.8478260869565217, 'gini = 0.0\\nsamples = 3\\nvalue = [3, 0]'),\n",
       " Text(0.9917732502088823, 0.8478260869565217, 'gini = 0.0\\nsamples = 1\\nvalue = [0, 1]')]"
      ]
     },
     "execution_count": 25,
     "metadata": {},
     "output_type": "execute_result"
    },
    {
     "data": {
      "image/png": "[encoded data removed]",
      "text/plain": [
       "<Figure size 432x288 with 1 Axes>"
      ]
     },
     "metadata": {
      "needs_background": "light"
     },
     "output_type": "display_data"
    }
   ],
   "source": [
    "plot_tree(model, filled=True)"
   ]
  },
  {
   "cell_type": "markdown",
   "metadata": {},
   "source": [
    "Por defecto, la función DecisionTreeClassifier no establece una profundidad máxima para el árbol de decisión. Como resultado obtuvimos un árbol bastante complejo y que podría estar sobreajustándose a los datos de entrenamiento."
   ]
  },
  {
   "cell_type": "markdown",
   "metadata": {},
   "source": [
    "Evaluamos el modelo sobre el conjunto de entrenamiento:"
   ]
  },
  {
   "cell_type": "code",
   "execution_count": 26,
   "metadata": {},
   "outputs": [
    {
     "name": "stdout",
     "output_type": "stream",
     "text": [
      "              precision    recall  f1-score   support\n",
      "\n",
      "           0       1.00      1.00      1.00      1232\n",
      "           1       1.00      1.00      1.00       251\n",
      "\n",
      "    accuracy                           1.00      1483\n",
      "   macro avg       1.00      1.00      1.00      1483\n",
      "weighted avg       1.00      1.00      1.00      1483\n",
      "\n"
     ]
    }
   ],
   "source": [
    "print(classification_report(y_train, y_pred_train))"
   ]
  },
  {
   "cell_type": "markdown",
   "metadata": {},
   "source": [
    "El reporte de clasificación indica que el modelo clasificó perfectamente los datos de entrenamiento. Esto es esperable porque el árbol resultante era muy complejo y la metodología en sí busca ajustarse por completo a los datos de entrenamiento para armar la predicción, es decir que es propio de la metodología que se está utilizando. La matriz de confusión para este conjunto tendrá solamente datos en la diagonal principal (verdaderos negativos y verdaderos positivos):"
   ]
  },
  {
   "cell_type": "code",
   "execution_count": 27,
   "metadata": {
    "scrolled": true
   },
   "outputs": [
    {
     "name": "stdout",
     "output_type": "stream",
     "text": [
      "[[1232    0]\n",
      " [   0  251]]\n"
     ]
    }
   ],
   "source": [
    "cm = confusion_matrix(y_train, y_pred_train)\n",
    "print(cm) "
   ]
  },
  {
   "cell_type": "markdown",
   "metadata": {},
   "source": [
    "Evaluamos ahora el modelo sobre el conjunto de test (evaluación):"
   ]
  },
  {
   "cell_type": "code",
   "execution_count": 28,
   "metadata": {},
   "outputs": [
    {
     "name": "stdout",
     "output_type": "stream",
     "text": [
      "              precision    recall  f1-score   support\n",
      "\n",
      "           0       0.93      0.93      0.93       313\n",
      "           1       0.62      0.64      0.63        58\n",
      "\n",
      "    accuracy                           0.88       371\n",
      "   macro avg       0.77      0.78      0.78       371\n",
      "weighted avg       0.88      0.88      0.88       371\n",
      "\n"
     ]
    }
   ],
   "source": [
    "print(classification_report(y_test, y_pred_test))"
   ]
  },
  {
   "cell_type": "markdown",
   "metadata": {},
   "source": [
    "En el reporte de clasificación observamos que el modelo es bastante preciso para la clase negativa y algo menos preciso para la clase positiva. Veamos la matriz de confusión:"
   ]
  },
  {
   "cell_type": "code",
   "execution_count": 29,
   "metadata": {},
   "outputs": [
    {
     "name": "stdout",
     "output_type": "stream",
     "text": [
      "[[290  23]\n",
      " [ 21  37]]\n"
     ]
    }
   ],
   "source": [
    "cm = confusion_matrix(y_test, y_pred_test)\n",
    "print(cm)"
   ]
  },
  {
   "cell_type": "markdown",
   "metadata": {},
   "source": [
    "Si bien en cantidades los valores más grandes se ubican en la diagonal principal, se observa que la cantidad de elementos mal clasificados (tanto positivos como negativos) es bastante próxima a los bien clasificados como positivos. Es por esto que en el reporte de clasificación obtuvimos precisión, recall y F1 apenas por encima de 0.6."
   ]
  },
  {
   "cell_type": "markdown",
   "metadata": {},
   "source": [
    "Veamos la matriz de clasificación con la muestra completa"
   ]
  },
  {
   "cell_type": "code",
   "execution_count": 30,
   "metadata": {},
   "outputs": [
    {
     "name": "stdout",
     "output_type": "stream",
     "text": [
      "[[1522   23]\n",
      " [  21  288]]\n",
      "Train+Test True Negatives: 1522\n",
      "Train+Test False Positives: 23\n",
      "Train+Test False Negatives: 21\n",
      "Train+Test True Positives: 288\n"
     ]
    }
   ],
   "source": [
    "cm = confusion_matrix(y, y_pred)\n",
    "print(cm)\n",
    "\n",
    "tn, fp, fn, tp = confusion_matrix(y, y_pred).ravel()\n",
    "print('Train+Test True Negatives:',tn)\n",
    "print('Train+Test False Positives:',fp)\n",
    "print('Train+Test False Negatives:',fn)\n",
    "print('Train+Test True Positives:',tp)"
   ]
  },
  {
   "cell_type": "markdown",
   "metadata": {},
   "source": [
    "La **matriz de confusión** completa (incluyendo datos de entrenamiento y de test) entrega 1522 verdaderos negativos (registros cuya etiqueta predicha es 0 y la etiqueta real es 0), 23 falsos positivos, 21 falsos negativos (casos en los que la etiqueta predicha es 0 y realmente debería haber sido 1) y 288 verdaderos positivos."
   ]
  },
  {
   "cell_type": "markdown",
   "metadata": {},
   "source": [
    "### Ejercicio 3.2: Ajuste de Hiperparámetros\n",
    "\n",
    "Seleccionar valores para los hiperparámetros principales del DecisionTreeClassifier. Como mínimo, probar diferentes criterios de partición (criterion), profundidad máxima del árbol (max_depth), y cantidad mínima de samples por hoja (min_samples_leaf).\n",
    "\n",
    "Para ello, usar grid-search y 5-fold cross-validation sobre el conjunto de entrenamiento para explorar muchas combinaciones posibles de valores.\n",
    "\n",
    "Reportar accuracy promedio y varianza para todas las configuraciones.\n",
    "\n",
    "Para la mejor configuración encontrada, evaluar sobre el conjunto de **entrenamiento** y sobre el conjunto de **evaluación**, reportando:\n",
    "- Accuracy\n",
    "- Precision\n",
    "- Recall\n",
    "- F1\n",
    "- matriz de confusión\n",
    "\n",
    "\n",
    "Documentación:\n",
    "- https://scikit-learn.org/stable/modules/grid_search.html\n",
    "- https://scikit-learn.org/stable/modules/generated/sklearn.model_selection.GridSearchCV.html"
   ]
  },
  {
   "cell_type": "markdown",
   "metadata": {},
   "source": [
    "Como hicimos para el ejercicio anterior, definimos un diccionario (param_grid) que nos va a permitir luego ajustar modelos con combinaciones de distintos criterios de partición, profundidades máximas del árbol y cantidad mínima de muestras por hoja:"
   ]
  },
  {
   "cell_type": "code",
   "execution_count": 31,
   "metadata": {},
   "outputs": [],
   "source": [
    "param_grid = {\n",
    "    'criterion': ['gini', 'entropy'],\n",
    "    'max_depth': [1, 2, 3, 4],\n",
    "    'min_samples_leaf': [10, 15, 20],\n",
    "}"
   ]
  },
  {
   "cell_type": "markdown",
   "metadata": {},
   "source": [
    "A continuación usamos la función GridSearchCV para generar todas las combinaciones posibles de parámetros definidos en param_grid."
   ]
  },
  {
   "cell_type": "code",
   "execution_count": 32,
   "metadata": {
    "scrolled": true
   },
   "outputs": [
    {
     "data": {
      "text/plain": [
       "GridSearchCV(cv=3, estimator=DecisionTreeClassifier(random_state=0),\n",
       "             param_grid={'criterion': ['gini', 'entropy'],\n",
       "                         'max_depth': [1, 2, 3, 4],\n",
       "                         'min_samples_leaf': [10, 15, 20]},\n",
       "             scoring='accuracy')"
      ]
     },
     "execution_count": 32,
     "metadata": {},
     "output_type": "execute_result"
    }
   ],
   "source": [
    "cv = GridSearchCV(model, param_grid, scoring='accuracy', cv=3)\n",
    "cv.fit(X_train, y_train)"
   ]
  },
  {
   "cell_type": "markdown",
   "metadata": {},
   "source": [
    "Vemos los resultados en una tabla:"
   ]
  },
  {
   "cell_type": "code",
   "execution_count": 33,
   "metadata": {},
   "outputs": [
    {
     "data": {
      "text/html": [
       "<div>\n",
       "<style scoped>\n",
       "    .dataframe tbody tr th:only-of-type {\n",
       "        vertical-align: middle;\n",
       "    }\n",
       "\n",
       "    .dataframe tbody tr th {\n",
       "        vertical-align: top;\n",
       "    }\n",
       "\n",
       "    .dataframe thead th {\n",
       "        text-align: right;\n",
       "    }\n",
       "</style>\n",
       "<table border=\"1\" class=\"dataframe\">\n",
       "  <thead>\n",
       "    <tr style=\"text-align: right;\">\n",
       "      <th></th>\n",
       "      <th>criterion</th>\n",
       "      <th>max_depth</th>\n",
       "      <th>min_samples_leaf</th>\n",
       "      <th>mean_test_score</th>\n",
       "      <th>std_test_score</th>\n",
       "      <th>rank_test_score</th>\n",
       "    </tr>\n",
       "  </thead>\n",
       "  <tbody>\n",
       "    <tr>\n",
       "      <th>0</th>\n",
       "      <td>gini</td>\n",
       "      <td>1</td>\n",
       "      <td>10</td>\n",
       "      <td>0.865145</td>\n",
       "      <td>0.007675</td>\n",
       "      <td>12</td>\n",
       "    </tr>\n",
       "    <tr>\n",
       "      <th>1</th>\n",
       "      <td>gini</td>\n",
       "      <td>1</td>\n",
       "      <td>15</td>\n",
       "      <td>0.865145</td>\n",
       "      <td>0.007675</td>\n",
       "      <td>12</td>\n",
       "    </tr>\n",
       "    <tr>\n",
       "      <th>2</th>\n",
       "      <td>gini</td>\n",
       "      <td>1</td>\n",
       "      <td>20</td>\n",
       "      <td>0.865145</td>\n",
       "      <td>0.007675</td>\n",
       "      <td>12</td>\n",
       "    </tr>\n",
       "    <tr>\n",
       "      <th>3</th>\n",
       "      <td>gini</td>\n",
       "      <td>2</td>\n",
       "      <td>10</td>\n",
       "      <td>0.867844</td>\n",
       "      <td>0.009548</td>\n",
       "      <td>9</td>\n",
       "    </tr>\n",
       "    <tr>\n",
       "      <th>4</th>\n",
       "      <td>gini</td>\n",
       "      <td>2</td>\n",
       "      <td>15</td>\n",
       "      <td>0.865145</td>\n",
       "      <td>0.007675</td>\n",
       "      <td>12</td>\n",
       "    </tr>\n",
       "    <tr>\n",
       "      <th>5</th>\n",
       "      <td>gini</td>\n",
       "      <td>2</td>\n",
       "      <td>20</td>\n",
       "      <td>0.865145</td>\n",
       "      <td>0.007675</td>\n",
       "      <td>12</td>\n",
       "    </tr>\n",
       "    <tr>\n",
       "      <th>6</th>\n",
       "      <td>gini</td>\n",
       "      <td>3</td>\n",
       "      <td>10</td>\n",
       "      <td>0.867850</td>\n",
       "      <td>0.015479</td>\n",
       "      <td>8</td>\n",
       "    </tr>\n",
       "    <tr>\n",
       "      <th>7</th>\n",
       "      <td>gini</td>\n",
       "      <td>3</td>\n",
       "      <td>15</td>\n",
       "      <td>0.870538</td>\n",
       "      <td>0.005834</td>\n",
       "      <td>6</td>\n",
       "    </tr>\n",
       "    <tr>\n",
       "      <th>8</th>\n",
       "      <td>gini</td>\n",
       "      <td>3</td>\n",
       "      <td>20</td>\n",
       "      <td>0.864471</td>\n",
       "      <td>0.007443</td>\n",
       "      <td>23</td>\n",
       "    </tr>\n",
       "    <tr>\n",
       "      <th>9</th>\n",
       "      <td>gini</td>\n",
       "      <td>4</td>\n",
       "      <td>10</td>\n",
       "      <td>0.871894</td>\n",
       "      <td>0.013721</td>\n",
       "      <td>3</td>\n",
       "    </tr>\n",
       "    <tr>\n",
       "      <th>10</th>\n",
       "      <td>gini</td>\n",
       "      <td>4</td>\n",
       "      <td>15</td>\n",
       "      <td>0.870539</td>\n",
       "      <td>0.007449</td>\n",
       "      <td>5</td>\n",
       "    </tr>\n",
       "    <tr>\n",
       "      <th>11</th>\n",
       "      <td>gini</td>\n",
       "      <td>4</td>\n",
       "      <td>20</td>\n",
       "      <td>0.861772</td>\n",
       "      <td>0.005176</td>\n",
       "      <td>24</td>\n",
       "    </tr>\n",
       "    <tr>\n",
       "      <th>12</th>\n",
       "      <td>entropy</td>\n",
       "      <td>1</td>\n",
       "      <td>10</td>\n",
       "      <td>0.865145</td>\n",
       "      <td>0.007675</td>\n",
       "      <td>12</td>\n",
       "    </tr>\n",
       "    <tr>\n",
       "      <th>13</th>\n",
       "      <td>entropy</td>\n",
       "      <td>1</td>\n",
       "      <td>15</td>\n",
       "      <td>0.865145</td>\n",
       "      <td>0.007675</td>\n",
       "      <td>12</td>\n",
       "    </tr>\n",
       "    <tr>\n",
       "      <th>14</th>\n",
       "      <td>entropy</td>\n",
       "      <td>1</td>\n",
       "      <td>20</td>\n",
       "      <td>0.865145</td>\n",
       "      <td>0.007675</td>\n",
       "      <td>12</td>\n",
       "    </tr>\n",
       "    <tr>\n",
       "      <th>15</th>\n",
       "      <td>entropy</td>\n",
       "      <td>2</td>\n",
       "      <td>10</td>\n",
       "      <td>0.865145</td>\n",
       "      <td>0.007675</td>\n",
       "      <td>12</td>\n",
       "    </tr>\n",
       "    <tr>\n",
       "      <th>16</th>\n",
       "      <td>entropy</td>\n",
       "      <td>2</td>\n",
       "      <td>15</td>\n",
       "      <td>0.865145</td>\n",
       "      <td>0.007675</td>\n",
       "      <td>12</td>\n",
       "    </tr>\n",
       "    <tr>\n",
       "      <th>17</th>\n",
       "      <td>entropy</td>\n",
       "      <td>2</td>\n",
       "      <td>20</td>\n",
       "      <td>0.865145</td>\n",
       "      <td>0.007675</td>\n",
       "      <td>12</td>\n",
       "    </tr>\n",
       "    <tr>\n",
       "      <th>18</th>\n",
       "      <td>entropy</td>\n",
       "      <td>3</td>\n",
       "      <td>10</td>\n",
       "      <td>0.865151</td>\n",
       "      <td>0.013316</td>\n",
       "      <td>11</td>\n",
       "    </tr>\n",
       "    <tr>\n",
       "      <th>19</th>\n",
       "      <td>entropy</td>\n",
       "      <td>3</td>\n",
       "      <td>15</td>\n",
       "      <td>0.873912</td>\n",
       "      <td>0.009856</td>\n",
       "      <td>1</td>\n",
       "    </tr>\n",
       "    <tr>\n",
       "      <th>20</th>\n",
       "      <td>entropy</td>\n",
       "      <td>3</td>\n",
       "      <td>20</td>\n",
       "      <td>0.865820</td>\n",
       "      <td>0.008980</td>\n",
       "      <td>10</td>\n",
       "    </tr>\n",
       "    <tr>\n",
       "      <th>21</th>\n",
       "      <td>entropy</td>\n",
       "      <td>4</td>\n",
       "      <td>10</td>\n",
       "      <td>0.870548</td>\n",
       "      <td>0.016139</td>\n",
       "      <td>4</td>\n",
       "    </tr>\n",
       "    <tr>\n",
       "      <th>22</th>\n",
       "      <td>entropy</td>\n",
       "      <td>4</td>\n",
       "      <td>15</td>\n",
       "      <td>0.873238</td>\n",
       "      <td>0.010642</td>\n",
       "      <td>2</td>\n",
       "    </tr>\n",
       "    <tr>\n",
       "      <th>23</th>\n",
       "      <td>entropy</td>\n",
       "      <td>4</td>\n",
       "      <td>20</td>\n",
       "      <td>0.868519</td>\n",
       "      <td>0.012367</td>\n",
       "      <td>7</td>\n",
       "    </tr>\n",
       "  </tbody>\n",
       "</table>\n",
       "</div>"
      ],
      "text/plain": [
       "   criterion  max_depth  min_samples_leaf  mean_test_score  std_test_score  \\\n",
       "0       gini          1                10         0.865145        0.007675   \n",
       "1       gini          1                15         0.865145        0.007675   \n",
       "2       gini          1                20         0.865145        0.007675   \n",
       "3       gini          2                10         0.867844        0.009548   \n",
       "4       gini          2                15         0.865145        0.007675   \n",
       "5       gini          2                20         0.865145        0.007675   \n",
       "6       gini          3                10         0.867850        0.015479   \n",
       "7       gini          3                15         0.870538        0.005834   \n",
       "8       gini          3                20         0.864471        0.007443   \n",
       "9       gini          4                10         0.871894        0.013721   \n",
       "10      gini          4                15         0.870539        0.007449   \n",
       "11      gini          4                20         0.861772        0.005176   \n",
       "12   entropy          1                10         0.865145        0.007675   \n",
       "13   entropy          1                15         0.865145        0.007675   \n",
       "14   entropy          1                20         0.865145        0.007675   \n",
       "15   entropy          2                10         0.865145        0.007675   \n",
       "16   entropy          2                15         0.865145        0.007675   \n",
       "17   entropy          2                20         0.865145        0.007675   \n",
       "18   entropy          3                10         0.865151        0.013316   \n",
       "19   entropy          3                15         0.873912        0.009856   \n",
       "20   entropy          3                20         0.865820        0.008980   \n",
       "21   entropy          4                10         0.870548        0.016139   \n",
       "22   entropy          4                15         0.873238        0.010642   \n",
       "23   entropy          4                20         0.868519        0.012367   \n",
       "\n",
       "    rank_test_score  \n",
       "0                12  \n",
       "1                12  \n",
       "2                12  \n",
       "3                 9  \n",
       "4                12  \n",
       "5                12  \n",
       "6                 8  \n",
       "7                 6  \n",
       "8                23  \n",
       "9                 3  \n",
       "10                5  \n",
       "11               24  \n",
       "12               12  \n",
       "13               12  \n",
       "14               12  \n",
       "15               12  \n",
       "16               12  \n",
       "17               12  \n",
       "18               11  \n",
       "19                1  \n",
       "20               10  \n",
       "21                4  \n",
       "22                2  \n",
       "23                7  "
      ]
     },
     "execution_count": 33,
     "metadata": {},
     "output_type": "execute_result"
    }
   ],
   "source": [
    "pd.concat([pd.DataFrame(cv.cv_results_[\"params\"]),\n",
    "           pd.DataFrame(cv.cv_results_[\"mean_test_score\"], columns=[\"mean_test_score\"]),\n",
    "           pd.DataFrame(cv.cv_results_[\"std_test_score\"], columns=[\"std_test_score\"]),\n",
    "           pd.DataFrame(cv.cv_results_[\"rank_test_score\"], columns=[\"rank_test_score\"])], axis=1)"
   ]
  },
  {
   "cell_type": "markdown",
   "metadata": {},
   "source": [
    "En la tabla se observa que todos los modelos tienen una Accuracy similar por encima de 0.86. No obstante esto, el modelo de la fila 19 es el número 1 del ranking. "
   ]
  },
  {
   "cell_type": "code",
   "execution_count": 34,
   "metadata": {},
   "outputs": [
    {
     "data": {
      "text/plain": [
       "DecisionTreeClassifier(criterion='entropy', max_depth=3, min_samples_leaf=15,\n",
       "                       random_state=0)"
      ]
     },
     "execution_count": 34,
     "metadata": {},
     "output_type": "execute_result"
    }
   ],
   "source": [
    "cv.best_estimator_"
   ]
  },
  {
   "cell_type": "markdown",
   "metadata": {},
   "source": [
    "El modelo que eligió usa el criterio 'entropy' para medir la calidad de cada partición. Además, definió una profundidad máxima de 3 nodos y un mínimo de 15 muestras por hoja."
   ]
  },
  {
   "cell_type": "markdown",
   "metadata": {},
   "source": [
    "Calculamos los valores predichos tanto para el conjunto de entrenamiento como para el conjunto de test:"
   ]
  },
  {
   "cell_type": "code",
   "execution_count": 35,
   "metadata": {},
   "outputs": [],
   "source": [
    "best_model = cv.best_estimator_\n",
    "best_model.fit(X_train, y_train)\n",
    "y_pred_bm = best_model.predict(X)\n",
    "y_pred_train_bm = best_model.predict(X_train)\n",
    "y_pred_test_bm = best_model.predict(X_test)"
   ]
  },
  {
   "cell_type": "markdown",
   "metadata": {},
   "source": [
    "Vemos la gráfica del árbol resultante:"
   ]
  },
  {
   "cell_type": "code",
   "execution_count": 36,
   "metadata": {},
   "outputs": [
    {
     "data": {
      "text/plain": [
       "[Text(0.5909090909090909, 0.875, 'X[9] <= 43.681\\nentropy = 0.656\\nsamples = 1483\\nvalue = [1232, 251]'),\n",
       " Text(0.36363636363636365, 0.625, 'X[5] <= 1.5\\nentropy = 0.559\\nsamples = 1409\\nvalue = [1225, 184]'),\n",
       " Text(0.18181818181818182, 0.375, 'X[6] <= 178.661\\nentropy = 0.487\\nsamples = 1313\\nvalue = [1174, 139]'),\n",
       " Text(0.09090909090909091, 0.125, 'entropy = 0.631\\nsamples = 680\\nvalue = [572, 108]'),\n",
       " Text(0.2727272727272727, 0.125, 'entropy = 0.282\\nsamples = 633\\nvalue = [602, 31]'),\n",
       " Text(0.5454545454545454, 0.375, 'X[5] <= 3.5\\nentropy = 0.997\\nsamples = 96\\nvalue = [51, 45]'),\n",
       " Text(0.45454545454545453, 0.125, 'entropy = 0.946\\nsamples = 77\\nvalue = [49, 28]'),\n",
       " Text(0.6363636363636364, 0.125, 'entropy = 0.485\\nsamples = 19\\nvalue = [2, 17]'),\n",
       " Text(0.8181818181818182, 0.625, 'X[9] <= 45.439\\nentropy = 0.452\\nsamples = 74\\nvalue = [7, 67]'),\n",
       " Text(0.7272727272727273, 0.375, 'entropy = 0.871\\nsamples = 24\\nvalue = [7, 17]'),\n",
       " Text(0.9090909090909091, 0.375, 'entropy = 0.0\\nsamples = 50\\nvalue = [0, 50]')]"
      ]
     },
     "execution_count": 36,
     "metadata": {},
     "output_type": "execute_result"
    },
    {
     "data": {
      "image/png": "[encoded data removed]",
      "text/plain": [
       "<Figure size 432x288 with 1 Axes>"
      ]
     },
     "metadata": {
      "needs_background": "light"
     },
     "output_type": "display_data"
    }
   ],
   "source": [
    "plot_tree(best_model, filled=True)"
   ]
  },
  {
   "cell_type": "markdown",
   "metadata": {},
   "source": [
    "Vemos que el árbol resultante es mucho menos complejo que el que eligió el modelo con parámetros por defecto. Evaluamos el modelo en términos de Accuracy, Precision, Recall y F1 para el conjunto de entrenamiento.\n"
   ]
  },
  {
   "cell_type": "code",
   "execution_count": 37,
   "metadata": {},
   "outputs": [
    {
     "name": "stdout",
     "output_type": "stream",
     "text": [
      "              precision    recall  f1-score   support\n",
      "\n",
      "           0       0.88      0.99      0.93      1232\n",
      "           1       0.90      0.33      0.49       251\n",
      "\n",
      "    accuracy                           0.88      1483\n",
      "   macro avg       0.89      0.66      0.71      1483\n",
      "weighted avg       0.88      0.88      0.86      1483\n",
      "\n"
     ]
    }
   ],
   "source": [
    "print(classification_report(y_train, y_pred_train_bm))"
   ]
  },
  {
   "cell_type": "markdown",
   "metadata": {},
   "source": [
    "Se observa que este modelo es el mejor de todos los vistos para clasificar los valores positivos, con una precisión de 0.90. Vemos la matriz de confusión resultante:"
   ]
  },
  {
   "cell_type": "code",
   "execution_count": 38,
   "metadata": {},
   "outputs": [
    {
     "name": "stdout",
     "output_type": "stream",
     "text": [
      "[[1223    9]\n",
      " [ 167   84]]\n"
     ]
    }
   ],
   "source": [
    "cm_bm = confusion_matrix(y_train, y_pred_train_bm)\n",
    "print(cm_bm) "
   ]
  },
  {
   "cell_type": "markdown",
   "metadata": {},
   "source": [
    "La matriz de confusión muestra que 93 aplicantes fueron etiquetados como casos positivos de incumplimiento, y apenas 9 de estos eran falsos positivos. La clasificación de negativos también es buena, ya que de un total de 1390 predichos negativos, 167 eran falsos negativos."
   ]
  },
  {
   "cell_type": "markdown",
   "metadata": {},
   "source": [
    "Evaluamos el modelo para el conjunto de test:"
   ]
  },
  {
   "cell_type": "code",
   "execution_count": 39,
   "metadata": {
    "scrolled": false
   },
   "outputs": [
    {
     "name": "stdout",
     "output_type": "stream",
     "text": [
      "              precision    recall  f1-score   support\n",
      "\n",
      "           0       0.90      0.98      0.94       313\n",
      "           1       0.81      0.38      0.52        58\n",
      "\n",
      "    accuracy                           0.89       371\n",
      "   macro avg       0.86      0.68      0.73       371\n",
      "weighted avg       0.88      0.89      0.87       371\n",
      "\n"
     ]
    }
   ],
   "source": [
    "print(classification_report(y_test, y_pred_test_bm))"
   ]
  },
  {
   "cell_type": "markdown",
   "metadata": {},
   "source": [
    "También los resultados son óptimos para el conjunto de test en comparación con los modelos que se vieron en las consignas anteriores. Vemos la matriz de confusión:"
   ]
  },
  {
   "cell_type": "code",
   "execution_count": 40,
   "metadata": {},
   "outputs": [
    {
     "name": "stdout",
     "output_type": "stream",
     "text": [
      "[[308   5]\n",
      " [ 36  22]]\n"
     ]
    }
   ],
   "source": [
    "cm_bm = confusion_matrix(y_test, y_pred_test_bm)\n",
    "print(cm_bm) "
   ]
  },
  {
   "cell_type": "markdown",
   "metadata": {},
   "source": [
    "Aquí vemos 5 falsos positivos y 36 falsos negativos. Vemos la matriz de confusión para el total de los datos (train y test):"
   ]
  },
  {
   "cell_type": "code",
   "execution_count": 41,
   "metadata": {},
   "outputs": [
    {
     "name": "stdout",
     "output_type": "stream",
     "text": [
      "[[1531   14]\n",
      " [ 203  106]]\n",
      "Train+Test True Negatives: 1531\n",
      "Train+Test False Positives: 14\n",
      "Train+Test False Negatives: 203\n",
      "Train+Test True Positives: 106\n"
     ]
    }
   ],
   "source": [
    "tn, fp, fn, tp = confusion_matrix(y, y_pred_bm).ravel()\n",
    "print(confusion_matrix(y, y_pred_bm))\n",
    "print('Train+Test True Negatives:',tn)\n",
    "print('Train+Test False Positives:',fp)\n",
    "print('Train+Test False Negatives:',fn)\n",
    "print('Train+Test True Positives:',tp)"
   ]
  }
 ],
 "metadata": {
  "kernelspec": {
   "display_name": "Python 3 (ipykernel)",
   "language": "python",
   "name": "python3"
  },
  "language_info": {
   "codemirror_mode": {
    "name": "ipython",
    "version": 3
   },
   "file_extension": ".py",
   "mimetype": "text/x-python",
   "name": "python",
   "nbconvert_exporter": "python",
   "pygments_lexer": "ipython3",
   "version": "3.9.12"
  }
 },
 "nbformat": 4,
 "nbformat_minor": 4
}
