{
  "nbformat": 4,
  "nbformat_minor": 0,
  "metadata": {
    "colab": {
      "name": "TP_Parte_2_Gr23_v_2022_04_18.ipynb",
      "provenance": [],
      "collapsed_sections": [],
      "toc_visible": true,
      "include_colab_link": true
    },
    "kernelspec": {
      "name": "python3",
      "display_name": "Python 3"
    }
  },
  "cells": [
    {
      "cell_type": "markdown",
      "metadata": {
        "id": "view-in-github",
        "colab_type": "text"
      },
      "source": [
        "<a href=\"https://colab.research.google.com/github/AlejandroGuedez/Equipo-23-de-Diplomado-data-scientist/blob/main/TP_Parte_2_Gr23_v_2022_04_18.ipynb\" target=\"_parent\"><img src=\"https://colab.research.google.com/assets/colab-badge.svg\" alt=\"Open In Colab\"/></a>"
      ]
    },
    {
      "cell_type": "markdown",
      "metadata": {
        "id": "LYvAOR2VzHmW"
      },
      "source": [
        "\n",
        "**Diplomatura en Ciencia de Datos, Aprendizaje Automático y sus Aplicaciones**\n",
        "\n",
        "**Edición 2022**\n",
        "\n",
        "---\n",
        "## Trabajo práctico entregable - Parte 2 - Grupo 23"
      ]
    },
    {
      "cell_type": "markdown",
      "source": [
        "**Integrantes:** Franco Amilcar Genolet (francogeno97@gmail.com), Fabian Alejandro Zapata Cerutti (fzc501@gmail.com), Luis Alejandro Guedez Gomez (luis.guedez@dicsys.com), María Laura Mantovani (mantovanimlaura@gmail.com)."
      ],
      "metadata": {
        "id": "_04NUtbiukNE"
      }
    },
    {
      "cell_type": "markdown",
      "metadata": {
        "id": "co_0M_ojtmUh"
      },
      "source": [
        "## Ejercicio 1: Estimación\n",
        "\n",
        "**Consigna:**  Calcular una estimación puntual y un intervalo de confianza de nivel (1-alpha) para la resta entre la media del salario Neto para Hombres menos la media del salario Neto para otros géneros(diferencia de las medias entre el grupoA y grupoB). \n",
        "¿Cómo se relaciona este intervalo de confianza con el test de hipótesis?"
      ]
    },
    {
      "cell_type": "code",
      "metadata": {
        "id": "Xwdfo7z20TUK",
        "colab": {
          "base_uri": "https://localhost:8080/"
        },
        "outputId": "df25bdf9-6ad7-422f-ea92-3d763fea5c5a"
      },
      "source": [
        "#Importamos las librerías que necesitamos para trabajar\n",
        "import io\n",
        "import matplotlib\n",
        "import matplotlib.pyplot as plt\n",
        "import numpy\n",
        "import pandas as pd\n",
        "import seaborn\n",
        "import scipy.stats\n",
        "import statsmodels.stats.api as smss\n",
        "seaborn.set_context('talk')"
      ],
      "execution_count": 2,
      "outputs": [
        {
          "output_type": "stream",
          "name": "stderr",
          "text": [
            "/usr/local/lib/python3.7/dist-packages/statsmodels/tools/_testing.py:19: FutureWarning: pandas.util.testing is deprecated. Use the functions in the public API at pandas.testing instead.\n",
            "  import pandas.util.testing as tm\n"
          ]
        }
      ]
    },
    {
      "cell_type": "code",
      "metadata": {
        "id": "Vviv_sqXdR5W"
      },
      "source": [
        "#Lectura del dataset\n",
        "url = 'https://cs.famaf.unc.edu.ar/~mteruel/datasets/diplodatos/sysarmy_survey_2020_processed.csv'\n",
        "df = pd.read_csv(url)"
      ],
      "execution_count": 3,
      "outputs": []
    },
    {
      "cell_type": "markdown",
      "source": [
        "Para responder a la pregunta, primero vemos las distribuciones de la variable salario mensual neto agrupadas por la columna `profile_gender`."
      ],
      "metadata": {
        "id": "X3_mXXMnTuQM"
      }
    },
    {
      "cell_type": "code",
      "metadata": {
        "id": "2lzmzK1NuPNT",
        "colab": {
          "base_uri": "https://localhost:8080/",
          "height": 206
        },
        "outputId": "74df283a-e305-41a8-a24b-afd26cf8eba0"
      },
      "source": [
        "df[['profile_gender', 'salary_monthly_NETO']].groupby('profile_gender').describe()"
      ],
      "execution_count": 4,
      "outputs": [
        {
          "output_type": "execute_result",
          "data": {
            "text/plain": [
              "               salary_monthly_NETO                                     \\\n",
              "                             count          mean            std   min   \n",
              "profile_gender                                                          \n",
              "Hombre                      4944.0  98836.063558  102159.664237   1.0   \n",
              "Mujer                        908.0  73501.414465   56256.880181   2.0   \n",
              "Otros                         31.0  95441.354839   88635.674358  40.0   \n",
              "\n",
              "                                                       \n",
              "                    25%      50%       75%        max  \n",
              "profile_gender                                         \n",
              "Hombre          53285.0  80000.0  110000.0  2080000.0  \n",
              "Mujer           43818.0  65000.0   92000.0   800000.0  \n",
              "Otros           39500.0  74000.0  117500.0   380000.0  "
            ],
            "text/html": [
              "\n",
              "  <div id=\"df-7d41c888-2728-4998-b408-d23a028f81e1\">\n",
              "    <div class=\"colab-df-container\">\n",
              "      <div>\n",
              "<style scoped>\n",
              "    .dataframe tbody tr th:only-of-type {\n",
              "        vertical-align: middle;\n",
              "    }\n",
              "\n",
              "    .dataframe tbody tr th {\n",
              "        vertical-align: top;\n",
              "    }\n",
              "\n",
              "    .dataframe thead tr th {\n",
              "        text-align: left;\n",
              "    }\n",
              "\n",
              "    .dataframe thead tr:last-of-type th {\n",
              "        text-align: right;\n",
              "    }\n",
              "</style>\n",
              "<table border=\"1\" class=\"dataframe\">\n",
              "  <thead>\n",
              "    <tr>\n",
              "      <th></th>\n",
              "      <th colspan=\"8\" halign=\"left\">salary_monthly_NETO</th>\n",
              "    </tr>\n",
              "    <tr>\n",
              "      <th></th>\n",
              "      <th>count</th>\n",
              "      <th>mean</th>\n",
              "      <th>std</th>\n",
              "      <th>min</th>\n",
              "      <th>25%</th>\n",
              "      <th>50%</th>\n",
              "      <th>75%</th>\n",
              "      <th>max</th>\n",
              "    </tr>\n",
              "    <tr>\n",
              "      <th>profile_gender</th>\n",
              "      <th></th>\n",
              "      <th></th>\n",
              "      <th></th>\n",
              "      <th></th>\n",
              "      <th></th>\n",
              "      <th></th>\n",
              "      <th></th>\n",
              "      <th></th>\n",
              "    </tr>\n",
              "  </thead>\n",
              "  <tbody>\n",
              "    <tr>\n",
              "      <th>Hombre</th>\n",
              "      <td>4944.0</td>\n",
              "      <td>98836.063558</td>\n",
              "      <td>102159.664237</td>\n",
              "      <td>1.0</td>\n",
              "      <td>53285.0</td>\n",
              "      <td>80000.0</td>\n",
              "      <td>110000.0</td>\n",
              "      <td>2080000.0</td>\n",
              "    </tr>\n",
              "    <tr>\n",
              "      <th>Mujer</th>\n",
              "      <td>908.0</td>\n",
              "      <td>73501.414465</td>\n",
              "      <td>56256.880181</td>\n",
              "      <td>2.0</td>\n",
              "      <td>43818.0</td>\n",
              "      <td>65000.0</td>\n",
              "      <td>92000.0</td>\n",
              "      <td>800000.0</td>\n",
              "    </tr>\n",
              "    <tr>\n",
              "      <th>Otros</th>\n",
              "      <td>31.0</td>\n",
              "      <td>95441.354839</td>\n",
              "      <td>88635.674358</td>\n",
              "      <td>40.0</td>\n",
              "      <td>39500.0</td>\n",
              "      <td>74000.0</td>\n",
              "      <td>117500.0</td>\n",
              "      <td>380000.0</td>\n",
              "    </tr>\n",
              "  </tbody>\n",
              "</table>\n",
              "</div>\n",
              "      <button class=\"colab-df-convert\" onclick=\"convertToInteractive('df-7d41c888-2728-4998-b408-d23a028f81e1')\"\n",
              "              title=\"Convert this dataframe to an interactive table.\"\n",
              "              style=\"display:none;\">\n",
              "        \n",
              "  <svg xmlns=\"http://www.w3.org/2000/svg\" height=\"24px\"viewBox=\"0 0 24 24\"\n",
              "       width=\"24px\">\n",
              "    <path d=\"M0 0h24v24H0V0z\" fill=\"none\"/>\n",
              "    <path d=\"M18.56 5.44l.94 2.06.94-2.06 2.06-.94-2.06-.94-.94-2.06-.94 2.06-2.06.94zm-11 1L8.5 8.5l.94-2.06 2.06-.94-2.06-.94L8.5 2.5l-.94 2.06-2.06.94zm10 10l.94 2.06.94-2.06 2.06-.94-2.06-.94-.94-2.06-.94 2.06-2.06.94z\"/><path d=\"M17.41 7.96l-1.37-1.37c-.4-.4-.92-.59-1.43-.59-.52 0-1.04.2-1.43.59L10.3 9.45l-7.72 7.72c-.78.78-.78 2.05 0 2.83L4 21.41c.39.39.9.59 1.41.59.51 0 1.02-.2 1.41-.59l7.78-7.78 2.81-2.81c.8-.78.8-2.07 0-2.86zM5.41 20L4 18.59l7.72-7.72 1.47 1.35L5.41 20z\"/>\n",
              "  </svg>\n",
              "      </button>\n",
              "      \n",
              "  <style>\n",
              "    .colab-df-container {\n",
              "      display:flex;\n",
              "      flex-wrap:wrap;\n",
              "      gap: 12px;\n",
              "    }\n",
              "\n",
              "    .colab-df-convert {\n",
              "      background-color: #E8F0FE;\n",
              "      border: none;\n",
              "      border-radius: 50%;\n",
              "      cursor: pointer;\n",
              "      display: none;\n",
              "      fill: #1967D2;\n",
              "      height: 32px;\n",
              "      padding: 0 0 0 0;\n",
              "      width: 32px;\n",
              "    }\n",
              "\n",
              "    .colab-df-convert:hover {\n",
              "      background-color: #E2EBFA;\n",
              "      box-shadow: 0px 1px 2px rgba(60, 64, 67, 0.3), 0px 1px 3px 1px rgba(60, 64, 67, 0.15);\n",
              "      fill: #174EA6;\n",
              "    }\n",
              "\n",
              "    [theme=dark] .colab-df-convert {\n",
              "      background-color: #3B4455;\n",
              "      fill: #D2E3FC;\n",
              "    }\n",
              "\n",
              "    [theme=dark] .colab-df-convert:hover {\n",
              "      background-color: #434B5C;\n",
              "      box-shadow: 0px 1px 3px 1px rgba(0, 0, 0, 0.15);\n",
              "      filter: drop-shadow(0px 1px 2px rgba(0, 0, 0, 0.3));\n",
              "      fill: #FFFFFF;\n",
              "    }\n",
              "  </style>\n",
              "\n",
              "      <script>\n",
              "        const buttonEl =\n",
              "          document.querySelector('#df-7d41c888-2728-4998-b408-d23a028f81e1 button.colab-df-convert');\n",
              "        buttonEl.style.display =\n",
              "          google.colab.kernel.accessAllowed ? 'block' : 'none';\n",
              "\n",
              "        async function convertToInteractive(key) {\n",
              "          const element = document.querySelector('#df-7d41c888-2728-4998-b408-d23a028f81e1');\n",
              "          const dataTable =\n",
              "            await google.colab.kernel.invokeFunction('convertToInteractive',\n",
              "                                                     [key], {});\n",
              "          if (!dataTable) return;\n",
              "\n",
              "          const docLinkHtml = 'Like what you see? Visit the ' +\n",
              "            '<a target=\"_blank\" href=https://colab.research.google.com/notebooks/data_table.ipynb>data table notebook</a>'\n",
              "            + ' to learn more about interactive tables.';\n",
              "          element.innerHTML = '';\n",
              "          dataTable['output_type'] = 'display_data';\n",
              "          await google.colab.output.renderOutput(dataTable, element);\n",
              "          const docLink = document.createElement('div');\n",
              "          docLink.innerHTML = docLinkHtml;\n",
              "          element.appendChild(docLink);\n",
              "        }\n",
              "      </script>\n",
              "    </div>\n",
              "  </div>\n",
              "  "
            ]
          },
          "metadata": {},
          "execution_count": 4
        }
      ]
    },
    {
      "cell_type": "markdown",
      "source": [
        "Al igual que en la parte 1 del práctico, nos encontramos con que el mínimo de nuestras distribuciones es demasiado bajo e irreal. Establecemos un valor mínimo de \\$1000 para poder trabajar sobre datos más realistas:"
      ],
      "metadata": {
        "id": "XUB7b9ABT-tm"
      }
    },
    {
      "cell_type": "code",
      "metadata": {
        "colab": {
          "base_uri": "https://localhost:8080/",
          "height": 206
        },
        "id": "pycKJ5jWkShW",
        "outputId": "fc95dc97-0842-491a-cdd3-dd34fabf9502"
      },
      "source": [
        "df[df.salary_monthly_NETO > 1000]\\\n",
        "  [['profile_gender', 'salary_monthly_NETO']].groupby('profile_gender').describe()"
      ],
      "execution_count": 5,
      "outputs": [
        {
          "output_type": "execute_result",
          "data": {
            "text/plain": [
              "               salary_monthly_NETO                                         \\\n",
              "                             count           mean            std      min   \n",
              "profile_gender                                                              \n",
              "Hombre                      4815.0  101481.624343  102215.304684   1100.0   \n",
              "Mujer                        863.0   77328.913778   55082.760570   2000.0   \n",
              "Otros                         28.0  105660.714286   87235.710235  34000.0   \n",
              "\n",
              "                                                       \n",
              "                    25%      50%       75%        max  \n",
              "profile_gender                                         \n",
              "Hombre          55000.0  80000.0  110000.0  2080000.0  \n",
              "Mujer           47850.0  67200.0   93000.0   800000.0  \n",
              "Otros           43750.0  78900.0  122750.0   380000.0  "
            ],
            "text/html": [
              "\n",
              "  <div id=\"df-629098ca-6af2-4d65-aa98-63ceebe554a0\">\n",
              "    <div class=\"colab-df-container\">\n",
              "      <div>\n",
              "<style scoped>\n",
              "    .dataframe tbody tr th:only-of-type {\n",
              "        vertical-align: middle;\n",
              "    }\n",
              "\n",
              "    .dataframe tbody tr th {\n",
              "        vertical-align: top;\n",
              "    }\n",
              "\n",
              "    .dataframe thead tr th {\n",
              "        text-align: left;\n",
              "    }\n",
              "\n",
              "    .dataframe thead tr:last-of-type th {\n",
              "        text-align: right;\n",
              "    }\n",
              "</style>\n",
              "<table border=\"1\" class=\"dataframe\">\n",
              "  <thead>\n",
              "    <tr>\n",
              "      <th></th>\n",
              "      <th colspan=\"8\" halign=\"left\">salary_monthly_NETO</th>\n",
              "    </tr>\n",
              "    <tr>\n",
              "      <th></th>\n",
              "      <th>count</th>\n",
              "      <th>mean</th>\n",
              "      <th>std</th>\n",
              "      <th>min</th>\n",
              "      <th>25%</th>\n",
              "      <th>50%</th>\n",
              "      <th>75%</th>\n",
              "      <th>max</th>\n",
              "    </tr>\n",
              "    <tr>\n",
              "      <th>profile_gender</th>\n",
              "      <th></th>\n",
              "      <th></th>\n",
              "      <th></th>\n",
              "      <th></th>\n",
              "      <th></th>\n",
              "      <th></th>\n",
              "      <th></th>\n",
              "      <th></th>\n",
              "    </tr>\n",
              "  </thead>\n",
              "  <tbody>\n",
              "    <tr>\n",
              "      <th>Hombre</th>\n",
              "      <td>4815.0</td>\n",
              "      <td>101481.624343</td>\n",
              "      <td>102215.304684</td>\n",
              "      <td>1100.0</td>\n",
              "      <td>55000.0</td>\n",
              "      <td>80000.0</td>\n",
              "      <td>110000.0</td>\n",
              "      <td>2080000.0</td>\n",
              "    </tr>\n",
              "    <tr>\n",
              "      <th>Mujer</th>\n",
              "      <td>863.0</td>\n",
              "      <td>77328.913778</td>\n",
              "      <td>55082.760570</td>\n",
              "      <td>2000.0</td>\n",
              "      <td>47850.0</td>\n",
              "      <td>67200.0</td>\n",
              "      <td>93000.0</td>\n",
              "      <td>800000.0</td>\n",
              "    </tr>\n",
              "    <tr>\n",
              "      <th>Otros</th>\n",
              "      <td>28.0</td>\n",
              "      <td>105660.714286</td>\n",
              "      <td>87235.710235</td>\n",
              "      <td>34000.0</td>\n",
              "      <td>43750.0</td>\n",
              "      <td>78900.0</td>\n",
              "      <td>122750.0</td>\n",
              "      <td>380000.0</td>\n",
              "    </tr>\n",
              "  </tbody>\n",
              "</table>\n",
              "</div>\n",
              "      <button class=\"colab-df-convert\" onclick=\"convertToInteractive('df-629098ca-6af2-4d65-aa98-63ceebe554a0')\"\n",
              "              title=\"Convert this dataframe to an interactive table.\"\n",
              "              style=\"display:none;\">\n",
              "        \n",
              "  <svg xmlns=\"http://www.w3.org/2000/svg\" height=\"24px\"viewBox=\"0 0 24 24\"\n",
              "       width=\"24px\">\n",
              "    <path d=\"M0 0h24v24H0V0z\" fill=\"none\"/>\n",
              "    <path d=\"M18.56 5.44l.94 2.06.94-2.06 2.06-.94-2.06-.94-.94-2.06-.94 2.06-2.06.94zm-11 1L8.5 8.5l.94-2.06 2.06-.94-2.06-.94L8.5 2.5l-.94 2.06-2.06.94zm10 10l.94 2.06.94-2.06 2.06-.94-2.06-.94-.94-2.06-.94 2.06-2.06.94z\"/><path d=\"M17.41 7.96l-1.37-1.37c-.4-.4-.92-.59-1.43-.59-.52 0-1.04.2-1.43.59L10.3 9.45l-7.72 7.72c-.78.78-.78 2.05 0 2.83L4 21.41c.39.39.9.59 1.41.59.51 0 1.02-.2 1.41-.59l7.78-7.78 2.81-2.81c.8-.78.8-2.07 0-2.86zM5.41 20L4 18.59l7.72-7.72 1.47 1.35L5.41 20z\"/>\n",
              "  </svg>\n",
              "      </button>\n",
              "      \n",
              "  <style>\n",
              "    .colab-df-container {\n",
              "      display:flex;\n",
              "      flex-wrap:wrap;\n",
              "      gap: 12px;\n",
              "    }\n",
              "\n",
              "    .colab-df-convert {\n",
              "      background-color: #E8F0FE;\n",
              "      border: none;\n",
              "      border-radius: 50%;\n",
              "      cursor: pointer;\n",
              "      display: none;\n",
              "      fill: #1967D2;\n",
              "      height: 32px;\n",
              "      padding: 0 0 0 0;\n",
              "      width: 32px;\n",
              "    }\n",
              "\n",
              "    .colab-df-convert:hover {\n",
              "      background-color: #E2EBFA;\n",
              "      box-shadow: 0px 1px 2px rgba(60, 64, 67, 0.3), 0px 1px 3px 1px rgba(60, 64, 67, 0.15);\n",
              "      fill: #174EA6;\n",
              "    }\n",
              "\n",
              "    [theme=dark] .colab-df-convert {\n",
              "      background-color: #3B4455;\n",
              "      fill: #D2E3FC;\n",
              "    }\n",
              "\n",
              "    [theme=dark] .colab-df-convert:hover {\n",
              "      background-color: #434B5C;\n",
              "      box-shadow: 0px 1px 3px 1px rgba(0, 0, 0, 0.15);\n",
              "      filter: drop-shadow(0px 1px 2px rgba(0, 0, 0, 0.3));\n",
              "      fill: #FFFFFF;\n",
              "    }\n",
              "  </style>\n",
              "\n",
              "      <script>\n",
              "        const buttonEl =\n",
              "          document.querySelector('#df-629098ca-6af2-4d65-aa98-63ceebe554a0 button.colab-df-convert');\n",
              "        buttonEl.style.display =\n",
              "          google.colab.kernel.accessAllowed ? 'block' : 'none';\n",
              "\n",
              "        async function convertToInteractive(key) {\n",
              "          const element = document.querySelector('#df-629098ca-6af2-4d65-aa98-63ceebe554a0');\n",
              "          const dataTable =\n",
              "            await google.colab.kernel.invokeFunction('convertToInteractive',\n",
              "                                                     [key], {});\n",
              "          if (!dataTable) return;\n",
              "\n",
              "          const docLinkHtml = 'Like what you see? Visit the ' +\n",
              "            '<a target=\"_blank\" href=https://colab.research.google.com/notebooks/data_table.ipynb>data table notebook</a>'\n",
              "            + ' to learn more about interactive tables.';\n",
              "          element.innerHTML = '';\n",
              "          dataTable['output_type'] = 'display_data';\n",
              "          await google.colab.output.renderOutput(dataTable, element);\n",
              "          const docLink = document.createElement('div');\n",
              "          docLink.innerHTML = docLinkHtml;\n",
              "          element.appendChild(docLink);\n",
              "        }\n",
              "      </script>\n",
              "    </div>\n",
              "  </div>\n",
              "  "
            ]
          },
          "metadata": {},
          "execution_count": 5
        }
      ]
    },
    {
      "cell_type": "markdown",
      "source": [
        "Podemos ir viendo que la cuenta de hombres en la muestra es significativamente mayor a la de mujeres. Y que \"Otros\" solo presenta 28 casos. "
      ],
      "metadata": {
        "id": "zhZCZPsBUqgq"
      }
    },
    {
      "cell_type": "markdown",
      "source": [
        "Definimos nuestros grupos A (Hombres) y B (Otros géneros)."
      ],
      "metadata": {
        "id": "BHMPpObpVpGW"
      }
    },
    {
      "cell_type": "code",
      "metadata": {
        "id": "OfzFpDO-lYxk"
      },
      "source": [
        "is_man = df.profile_gender == 'Hombre'\n",
        "\n",
        "groupA = df[(df.salary_monthly_NETO > 1000) & is_man].salary_monthly_NETO\n",
        "groupB = df[(df.salary_monthly_NETO > 1000) & ~is_man].salary_monthly_NETO"
      ],
      "execution_count": 7,
      "outputs": []
    },
    {
      "cell_type": "markdown",
      "source": [
        "A continuación tomamos una muestra aleatoria de 50 observaciones del grupo A y una muestra aleatoria del mismo tamaño para el grupo B."
      ],
      "metadata": {
        "id": "R_Xy01SmcQvU"
      }
    },
    {
      "cell_type": "code",
      "source": [
        "n_A = 50\n",
        "n_B = 50\n",
        "\n",
        "Muestra_A = groupA.sample(n_A, replace=False,random_state=1)\n",
        "Muestra_B = groupB.sample(n_B, replace=False,random_state=1)"
      ],
      "metadata": {
        "id": "uofL8INBP3TQ"
      },
      "execution_count": 8,
      "outputs": []
    },
    {
      "cell_type": "markdown",
      "source": [
        "Para la estimación puntual de la media poblacional usamos la media muestral:"
      ],
      "metadata": {
        "id": "YsIcyEnjWWJR"
      }
    },
    {
      "cell_type": "code",
      "source": [
        "Muestra_A_mean = Muestra_A.mean()\n",
        "Muestra_B_mean = Muestra_B.mean()\n",
        "print(Muestra_A_mean)\n",
        "print(Muestra_B_mean)\n"
      ],
      "metadata": {
        "colab": {
          "base_uri": "https://localhost:8080/"
        },
        "id": "K9U_rVDaWrmr",
        "outputId": "8b41b872-53dd-440c-b7df-9c4bc9306659"
      },
      "execution_count": 9,
      "outputs": [
        {
          "output_type": "stream",
          "name": "stdout",
          "text": [
            "90903.6\n",
            "75990.4972\n"
          ]
        }
      ]
    },
    {
      "cell_type": "markdown",
      "source": [
        "La estimación puntual de la resta entre la media del salario Neto para Hombres menos la media del salario Neto para otros géneros se obtiene restando la media de A y la media de B:"
      ],
      "metadata": {
        "id": "5tHhA7FaXlw_"
      }
    },
    {
      "cell_type": "code",
      "source": [
        "AmenosB = Muestra_A.mean() - Muestra_B.mean()\n",
        "print('La estimación puntual de la diferencia entre los salarios netos de A y B es: ',AmenosB)"
      ],
      "metadata": {
        "colab": {
          "base_uri": "https://localhost:8080/"
        },
        "id": "oDiUUodbXyhM",
        "outputId": "3bd22bb9-cd74-485b-e6e0-3fa480aa7097"
      },
      "execution_count": 10,
      "outputs": [
        {
          "output_type": "stream",
          "name": "stdout",
          "text": [
            "La estimación puntual de la diferencia entre los salarios netos de A y B es:  14913.102800000008\n"
          ]
        }
      ]
    },
    {
      "cell_type": "markdown",
      "source": [
        "Calculamos el desvío estándar de las muestras."
      ],
      "metadata": {
        "id": "gSMrDoTOXcbl"
      }
    },
    {
      "cell_type": "code",
      "source": [
        "Muestra_A_std = Muestra_A.std()\n",
        "Muestra_B_std = Muestra_B.std()\n",
        "print(Muestra_A_std)\n",
        "print(Muestra_B_std)"
      ],
      "metadata": {
        "colab": {
          "base_uri": "https://localhost:8080/"
        },
        "id": "8sRahaOIXhZN",
        "outputId": "abbdf23f-b341-420d-d92e-7fc5136a407e"
      },
      "execution_count": 11,
      "outputs": [
        {
          "output_type": "stream",
          "name": "stdout",
          "text": [
            "50991.95100629682\n",
            "38281.80698247742\n"
          ]
        }
      ]
    },
    {
      "cell_type": "markdown",
      "source": [
        "Vemos que las varianzas de las muestras difieren.\n",
        "\n",
        "Para calcular el intervalo de confianza para la diferencia de medias usamos la función CompareMeans, varianzas diferentes."
      ],
      "metadata": {
        "id": "mGosJxv1ij1N"
      }
    },
    {
      "cell_type": "code",
      "source": [
        "X1 = Muestra_A\n",
        "X2 = Muestra_B\n",
        "\n",
        "cm = smss.CompareMeans(smss.DescrStatsW(X1), smss.DescrStatsW(X2))\n",
        "print(cm.tconfint_diff(alpha=0.05,usevar='unequal'))"
      ],
      "metadata": {
        "colab": {
          "base_uri": "https://localhost:8080/"
        },
        "id": "6kFCszcan2LF",
        "outputId": "e1c7e1ba-94dc-4c45-c60a-1bd230d9f8c7"
      },
      "execution_count": 12,
      "outputs": [
        {
          "output_type": "stream",
          "name": "stdout",
          "text": [
            "(-2999.0727617312623, 32825.27836173128)\n"
          ]
        }
      ]
    },
    {
      "cell_type": "markdown",
      "source": [
        "La interpretación de este resultado es que la diferencia de Medias entre el Grupo A y el Grupo B estará entre los valores \\-$2.999  y \\$32.825 con una confianza del 95%. \n",
        "\n",
        "Esto sería equivalente a platear un test de hipótesis en el que la hipótesis nula establezca que la media del salario neto del grupo A es igual a la media del salario neto del grupo B. Con el resultado de este test no podemos rechazar la hipótesis nula de que las medias son iguales, ya que el intervalo incluye el valor cero (indicando que es posible que las medias sean iguales).\n",
        "\n",
        "Aumentamos el tamaño de la muestra para mejorar el intervalo."
      ],
      "metadata": {
        "id": "MfYz52s2tMIm"
      }
    },
    {
      "cell_type": "code",
      "source": [
        "n_A_100 = 100\n",
        "n_B_100 = 100\n",
        "\n",
        "Muestra_A_100 = groupA.sample(n_A_100, replace=False,random_state=1)\n",
        "Muestra_B_100 = groupB.sample(n_B_100, replace=False,random_state=1)\n",
        "\n",
        "Muestra_A_100_mean = Muestra_A_100.mean()\n",
        "Muestra_B_100_mean = Muestra_B_100.mean()\n",
        "print('Media de la muestra A:', Muestra_A_100_mean)\n",
        "print('Media de la muestra B:', Muestra_B_100_mean)\n",
        "\n",
        "AmenosB_100 = Muestra_A_100.mean() - Muestra_B_100.mean()\n",
        "print(\"La diferencia de medias entre A y B es:\", AmenosB_100)\n",
        "\n",
        "Muestra_A_100_std = Muestra_A_100.std()\n",
        "Muestra_B_100_std = Muestra_B_100.std()\n",
        "print('Desvío estándar de la muestra A:', Muestra_A_100_std)\n",
        "print('Desvío estándar de la muestra B:', Muestra_B_100_std)"
      ],
      "metadata": {
        "colab": {
          "base_uri": "https://localhost:8080/"
        },
        "id": "6Und06y5uTOJ",
        "outputId": "663028d0-d10a-491e-9cc3-a4d4c62fed8d"
      },
      "execution_count": 13,
      "outputs": [
        {
          "output_type": "stream",
          "name": "stdout",
          "text": [
            "Media de la muestra A: 95812.9\n",
            "Media de la muestra B: 75820.1123\n",
            "La diferencia de medias entre A y B es: 19992.7877\n",
            "Desvío estándar de la muestra A: 69050.66690620671\n",
            "Desvío estándar de la muestra B: 40334.017214063315\n"
          ]
        }
      ]
    },
    {
      "cell_type": "code",
      "source": [
        "X1 = Muestra_A_100\n",
        "X2 = Muestra_B_100\n",
        "\n",
        "cm = smss.CompareMeans(smss.DescrStatsW(X1), smss.DescrStatsW(X2))\n",
        "print(cm.tconfint_diff(alpha=0.05,usevar='unequal'))"
      ],
      "metadata": {
        "colab": {
          "base_uri": "https://localhost:8080/"
        },
        "id": "Kib6onOVuxlW",
        "outputId": "74434b5f-0c00-45b2-f0a7-7188238cd889"
      },
      "execution_count": 14,
      "outputs": [
        {
          "output_type": "stream",
          "name": "stdout",
          "text": [
            "(4199.593251853588, 35785.98214814642)\n"
          ]
        }
      ]
    },
    {
      "cell_type": "markdown",
      "source": [
        "Al aumentar el tamaño de la muestra, los resultados obtenidos permiten rechazar la hipótesis nula de igualdad entre las medias. Podemos decir con un 95% de confianza que la media del grupo A es diferente (mayor, ya que el intervalo está dentro de los valores positivos) a la del grupo B."
      ],
      "metadata": {
        "id": "9HASsZoay9IA"
      }
    },
    {
      "cell_type": "markdown",
      "metadata": {
        "id": "IFi2T7Y6nM92"
      },
      "source": [
        "## Ejercicio 2: Test de hipótesis\n"
      ]
    },
    {
      "cell_type": "markdown",
      "metadata": {
        "id": "Rzxe8UYU6EfJ"
      },
      "source": [
        "\n",
        "### 2.1 Formalización\n",
        "\n",
        "Describir formalmente los distintos componentes de un test de hipótesis para comprobar si la distribución de los salarios es distinta entre los grupos A y B.\n",
        "\n",
        "**Hipótesis**\n",
        "\n",
        "$H_0$ = Los hombres cobran igual que los otros géneros\n",
        "\n",
        "$H_1$ = Los hombres cobran diferente a los otros géneros\n",
        "\n",
        "**Estadístico (Pivote)**\n",
        "  * Identificar el estadístico\n",
        "  * Escribir qué distribución tiene bajo $H_0$\n"
      ]
    },
    {
      "cell_type": "markdown",
      "source": [
        "El estadístico que se usa para estimar la diferencia de medias es t que por el test de Welch se define como la siguiente fórmula:\n"
      ],
      "metadata": {
        "id": "g9lLbk1t3iOp"
      }
    },
    {
      "cell_type": "markdown",
      "source": [
        "El estadístico que se usa para estimar la diferencia de medias es t que por el test de Welch se define como la siguiente fórmula: ![image.png](data:image/png;base64,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)"
      ],
      "metadata": {
        "id": "y9UdJYUNbDxQ"
      }
    },
    {
      "cell_type": "markdown",
      "source": [
        "con: ![image.png](data:image/png;base64,iVBORw0KGgoAAAANSUhEUgAAAGsAAAA2CAYAAADAr2clAAAHoklEQVR4nO2bbUiT3x/Gr3tTW72QkN8IyiICX8R0GQkZiNsQpBIrYvaAYmgFkSEkvqgot0FglpRKghb2gFaWmGYiYbhNMl8UGmmJuophWEsXIlmp85zv74X/32j/aendlq3uDwy5z8N9LnftnPPd99wTiIggERDIFlqAxNyRzAogJLMCCMmsAEIyK4CQzAogJLMCCMmsAEIya54wxvDo0SM4nU5wzn/p2JJZ86C6uhqRkZH49OkTlEolzp49+0vHD/qlowUw79+/x969ezEwMICVK1dCpVLB6XR6tLFardBqtX7TIJk1RxwOBwAgJycHMTExqKyshFqtdtdbrVbodDr4NdVKEnOCMUb5+fmkUqkIAKlUKhodHf2lGiSz5kBLSwsZDAZyuVw0NTVFFRUVBIBaWlqIiKi6upqMRiNZLBa/6pACjDlgs9lgMpnw5s0byOVypKenAwC0Wi0GBwexb98+ANNLoT+R9qw5EB8fDwBIT0+HUqlEY2Mj8vPzIZPJYLPZ8PTpU6jVajx//tyvOgQi6fDxRxAROOdobm6G0+nEli1bEBYWBplsemG6efMmCgoK8OzZM3eZP5DM8gHZ2dmIi4tDVVUVGhoa/DaOtGf5gBUrVmD37t1ISkry6zg+mVk0HVVCEAQIguALXRIz8FMzi3OOI0eOQCaTQS6XQ6fT+TVf9t+HYi6vP5GfigZNJhMcDgdGRkbQ3t4+4zJARGhubvYqT0xMnPcslMlkCAoKQnBw8Kx/5XI5goKC8OLFC9H/1++KaLOICF1dXXj79i36+/uxbNkyVFRUzGgAY+ynRH7vPpzzeUdgHR0dPtHjK5YsWYK1a9f+sJ1oswRBgFqtRn19PTZu3Ijk5GTk5ubOaNbWrVs9rsUuUzOZIiZU/vr1K7Kzs0Vp8Ac3btyYUzvRAUZvby8iIiJQU1ODtrY2lJaWQq/Xo6amxt1Gp9Phw4cPmJiYwLp163D37l0IgoD4+Hj09PRgeHh4XmMaDAavMsYYJiYmMD4+jsnJSYyPj2NiYgK3bt3644IdUTOLcw69Xg+lUgmLxYI9e/bA5XJBoVB4tLNYLKirq8POnTvR2toKIsKOHTtw+vRpqFSqeY8bFRUFhUIBhUIBuVz+3bZ/mlEAxGXdGWOk0WhocnKSpqamqKioiABQe3u7V9vx8XEKDw+nEydOUHR0NPX394sZUoKIRM0smUwGjUaDkJAQAIBGo0FnZyfWr1/v1XbRokVIS0tDeXk5rFYrIiIifurD9TcjOsAwmUwwGo3u69mWHSKCQqHA2NgY7HY7IiMjPertdjsyMjJgsVjESvmlvHr1yqf3k8lkWLNmzZza+jU3SES4cOECli9fjrq6OoSGhqK8vNwrgrPb7Vi9erW/ZPgMIkJ0dDRGRkYQHBzsk3s+fPhwzmb59fDx1KlTVFVVRUTTB3j//PMPDQ0NueuNRiMB8Puhna9oamqi+Ph44pwvyPh+Oc+6f/8+rl69iidPnqCqqgoA8PnzZzidTly8eBEpKSmIjIyE1WpFYWEhvnz54g8ZPoWIcOXKFZw5c8a95BMRzGaz+1oQBOh0Onefly9foqury12/dOlSbN68WbQGv2TdOzo6oFarcfDgQXdZZ2cnCgoKIAgCamtrAQBmsxm5ubmIjY31hwyf0t7eDrPZ7KW1rKwMra2tSEhIQHZ2tkdudGhoCG1tbe6novr6+n5OxILM5//R0NDgXgp/ZzjnlJGRQY2NjTPW5+TkUGZmJgGgx48fe9T19vbS/v37fbJ0Lvi7lJqaSnfu3FloGd+lp6eHAMz4hnPOKSYmhlwuFwGgw4cPe7QrLi6my5cv+0THgpv1u8M5p5MnT1JZWdmM9a9fv6bQ0FBijNGuXbsIANlsNnd9UlISdXd3+0SLZNYPsNlsFBwcPOsyVlFRQZmZmUREZLFYCADl5eUR55wYYxQSEkKMMZ9o+euP9TnnOHDgAFJTU71OA4gIt2/fhslkmvVL/4MHD7B9+3YA05mc5ORkVFZWYnR0FH19fUhISPDqa7fbxYn1ieUBCuec6uvrSafTeTy0+R8DAwO0atWqWWcV55yCgoI8Zk5tbS0BoKKiIrp+/brXfmU0Gik5OVmU3r/aLKLpL+sjIyMEgA4dOuQ2hjFGBoOBDAbDrH0ZY16BB2OM4uLiKDo6mrKysny2XxFJZhHR9AzJy8sjpVJJg4ODREQ0NDRE4eHh3w25CwsLKS0tzav80qVLBIA2bdrkMevu3btH586do7GxMVE6//o9C5jOPMTGxmJ4eNidcbl27RoyMzNn3as+fvyInp4eZGVledUlJSVBoVBApVK5+zc1NaG4uBhHjx7F4sWLxQkVZfEfCGOMEhMTKTQ0lFwu13dzgAaDgcLCwggAaTQaSklJ8ajnnJNer6fS0lJ3mdVqJYfDQQDI4XCI0iiZ9Q2VlZUEgI4dO0bnz5+ftR1jjBhjNDY2Rt3d3TMmojnnXmaXlJSQXq+nd+/eidInmfUNnHPasGEDbdu2zS+Zda1WS2azmaKiokT1l35F8g2CIOD48eOQy+V+eYZDq9WipKRkzk8z/T/SDxMCCCkaDCAkswIIyawAQjIrgJDMCiAkswKIfwEHJmZgBvWIOAAAAABJRU5ErkJggg==)"
      ],
      "metadata": {
        "id": "MaEGByhoYXYI"
      }
    },
    {
      "cell_type": "markdown",
      "source": [
        ""
      ],
      "metadata": {
        "id": "r5hqJs51dB9f"
      }
    },
    {
      "cell_type": "markdown",
      "source": [
        "donde ![image.png](data:image/png;base64,iVBORw0KGgoAAAANSUhEUgAAABsAAAAaCAYAAABGiCfwAAACNElEQVRIid1VsWoqURA9Ky82QtJFApLGRRC7gI3V4gaxiRhhm5SKlQj5ARf9Bis/IOgPpLCI0UrUzkYi6SWWaULI3jmvCNkX3TzXbSxyYLnMzJ09d2bP3dFIEgdC6FBEByf7s+1YrVYb9svLC05PTz2J6/Ua0Wh0w3d2dhaMrNfr4e3tzbXf398RDoc9ia+vrzg5OXHtTCbjS6b9WoF42rgNEYGmae4aCn2ejyS+mqJp2sb6P+ys7OHhAZFIBKlUCpeXlzBNE81mEwCQzWYRj8dhmiZ0XUer1fIvjTsgInQch9VqlQDY6XQoIiRJpRQty2K326XjOK5/F3aSfWE6nRIAi8UiRYQiwkKhwF6vt096MDIRYblc5tHRESeTCRuNBtvt9l7VfMdeatQ0DTc3N/j4+MD9/T0AoFar+Qoi0Df7DqUUw+Ewk8kkHccJVFGgygBgOBzi6uoKi8UC4/HYd/9P6tyLbDAYwDRNVCoVAJ+/NBEJRATAv41KKQLg09MTRYTpdJrHx8d8fn4O3MadZEopJhIJ9vt913d3d0cAtG3bs19EaNs2Lcvier3ej0xEuFwueX19zU6n4zkAAOZyOSqlNuTfarU4Go2o6zpns5k/2Ww2IwD3icVi7gsHgwHz+bwbi8fjGxU+Pj5yPp8zFotRKeUh+3HEKKX+KSgU2rhPIoLvKdvx29tbnJ+f4+LiAoZhBBNIUBiGQRFhvV73xHxHTFAYhoFSqYR2u+2J/d5JfVCyv4oTyU4c5CxZAAAAAElFTkSuQmCC) y ![image.png](data:image/png;base64,iVBORw0KGgoAAAANSUhEUgAAAB8AAAAYCAYAAAACqyaBAAACDklEQVRIie2WsWsiQRjFXw4JdqKgRViSZhsRbMRUQsZiQS1strKzFFNuYeduYSNaWqUJpBRLUQgEmSJ/QAKyWPgniI3lzr6r3MPTTWIwl+O4V755M7+Z2Y9v9owk8U368V3g//A3RRK+7+MrSiMUThLT6RTNZhOGYaDX6518A5GwgeFwCMuy8Pz8DJKoVCooFovI5/M7ueVyifV6veOlUilcXl5+Hj4ajWAYBiKRCFarFTRNO7ggSbiuu+Mlk8l3wdvJB2VZFgEQAAuFAl9eXvYyvu/T9/0P+7/rIFwpRaUUJ5MJ2+02hRBsNBo7CzqOw3g8zpubG2qaFngXFxdMJBJstVrHw5VSFEJQCBF4tm1TCEGl1F42m83y7u6OJNntdtlut9+FhsI9z+PV1RWllFRK8fX1lZlMhuPx+OACnU6HpVKJDw8PrFarH7ruUDhJDgaD4HsD4OPj496pt5rP50HuGHAonPxVNGHQrYbDIQHQtu2DWcdxeH9/fxz8I/I8j+fn57y9vWU0GqXrunsZKWXo/E/DlVI0TTO4nVwut1dsjuOwXq+fDj6bzXh9fU0AnM1mgWfbNjOZDPv9fgBOp9N8o5UwtMOFSUqJcrmMSqUCKSWEEJBSIhaLwTRNbDYbAIBt29B1HU9PT8d3uFNI13UuFovQ03/pex6LxVCr1UJfwzOGjfwB/d1/Mv8s/Cfdv52RW6WlQgAAAABJRU5ErkJggg==) son la media muestral y el error estándar muestral para el iésimo grupo, para un determinado desvío estándar ![image.png](data:image/png;base64,iVBORw0KGgoAAAANSUhEUgAAABIAAAAXCAYAAAAGAx/kAAABdUlEQVQ4je2Uu4rCYBCFT0IIkj6NlewD2PgAIvbaWdiIdhFBrXyENPY2gm22sLGIiAjBUtjSzlJcWbC1yGXOVhtIxNuyxS7saWfmmznD/49CkvgBqT8B+Qf9FhBJiMj3QSThui4ajQZM00Sn08FDT40pOY5DwzC4XC4ZBAF1Xedms0mnXUhNQeG6Lmq1GsrlMtbrNbLZLEzTjHO22y08z7ttTVEUZDIZTKdTlEolzGYz7HY75HK5OGc4HMIwjPvWDocDu90u8/k8AbDf7zOKorvWtC+giKDVakHTNIzHY4gILMvCfr+P45Zlwfd9TCaT6xOFYUgA7PV6cZdqtUrbtkmS7XabQRAQQGrCDzrNF8agKIpYr9cJgMVikQA4GAziosViwfl8zkKhQBFJ+np/ZWJHIsLj8cjVasUwDBOdRYTn85mn04me5yU4b3aLF8u+JhEhAPq+z0qlchFXyMcvZLPZhK7rGI1GUNXkp3gKdEt/6Iw8q0/EvsMSLrX8qQAAAABJRU5ErkJggg==) y tamaño muestral ![image.png](data:image/png;base64,iVBORw0KGgoAAAANSUhEUgAAABkAAAAZCAYAAADE6YVjAAACMUlEQVRIid1VP2siQRx9u2wZQkoFIRECAVHEIhMwSBYErzaigoLNtYLEDyD5BnaCTZoogoim0LOJjdhY2NnaxcomH2Bn3hV3N9zi+gfubPJgYXfezLx97zd/DJLEiWGeWuBriVi7CCklDMMAABiGod8BgCSUUvrbNE0XvwV6QClF27YZDAaZSCQIgFJKzddqNYZCIQJgIBBgNpv1mkbDU+SP0MvLC+v1OgFwMBi4eMdxmEqlXOK7sLcm0+kUuVwOZ2dnaLfb+Hu1N5tN3N7ewjSPKOsudSklr6+v6TgOS6USAXA+n2s+Go1yOBwedLHXieM4EELANE08Pj4CAN7e3nThHcfB3d3dYRf7nLy/v7PVamlXkUiE4XCYUkpKKZlOp6mU+jcn3W4X8XgcwK8lmk6nsVwuMRqNQBI3NzeuZbtYLPD09OQ5l6cISfR6PVxeXuq2fD4Py7LQ6XQgpYQQwjVmOBzi4uLi+Lg2mw3Pz89dcSilWCwWCYCNRoPr9fqoqHbGNR6PkclkXHEYhoF8Pg8A6Pf78Pv9misUCggGg/j4+PA04jpWSGI2m2G1WuH+/n6rczKZhM/nQywW0z8wmUzw+voKy7Lw+fmJQCCg+2963yF+fHPH9fz8TAD6sW17y3q1WmW73Xa1jcdjXl1d7dz9Bum+tJRSemcfPPh+I5vNQggBIQQeHh62OxxdvT2wbZtSSpbLZU/+v9wntm0jk8mgUql48ltxnQJf5/r9OiI/Afhm3GU/GpfiAAAAAElFTkSuQmCC)"
      ],
      "metadata": {
        "id": "N3f_OwBLcPHH"
      }
    },
    {
      "cell_type": "markdown",
      "source": [
        "Este estadístico tiene una distribución t-student con grados de libertad 𝒱 que pueden aproximarse con la siguiente fórmula:\n",
        "\n",
        "![image.png](data:image/png;base64,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)"
      ],
      "metadata": {
        "id": "5_TObNUZbpwF"
      }
    },
    {
      "cell_type": "markdown",
      "source": [
        "Fuentes: [Wikipedia](https://en.wikipedia.org/wiki/Welch%27s_t-test) y [Stackoverflow](https://stackoverflow.com/questions/31768464/confidence-interval-for-t-test-difference-between-means-in-python)."
      ],
      "metadata": {
        "id": "L868g78Qemxj"
      }
    },
    {
      "cell_type": "markdown",
      "metadata": {
        "id": "3Ip_5YdenC8u"
      },
      "source": [
        "### 2.2 P-valor\n",
        "\n",
        "1. Calcule el p-valor y decida si rechazar o no la hipótesis nula.\n",
        "2. Interprete el resultado.\n",
        "\n",
        "Links útiles:\n",
        "* [Test de hipótesis usando scipy](https://docs.scipy.org/doc/scipy/reference/generated/scipy.stats.ttest_ind.html)\n",
        "* [Test de Welch](http://daniellakens.blogspot.com/2015/01/always-use-welchs-t-test-instead-of.html)"
      ]
    },
    {
      "cell_type": "markdown",
      "source": [
        "Usando el método summary de la función CompareMeans podemos encontrar el p-valor:"
      ],
      "metadata": {
        "id": "26JjGwY3fEdo"
      }
    },
    {
      "cell_type": "code",
      "source": [
        "print(cm.summary(use_t=True,alpha=0.05,usevar='unequal')) "
      ],
      "metadata": {
        "colab": {
          "base_uri": "https://localhost:8080/"
        },
        "id": "8ICSWJRSyLI6",
        "outputId": "d418279e-ee3d-49b2-8e22-8ca7585dc984"
      },
      "execution_count": 27,
      "outputs": [
        {
          "output_type": "stream",
          "name": "stdout",
          "text": [
            "                          Test for equality of means                          \n",
            "==============================================================================\n",
            "                 coef    std err          t      P>|t|      [0.025      0.975]\n",
            "------------------------------------------------------------------------------\n",
            "subset #1   1.999e+04   7996.767      2.500      0.013    4199.593    3.58e+04\n",
            "==============================================================================\n"
          ]
        }
      ]
    },
    {
      "cell_type": "markdown",
      "source": [
        "El p-valor obtenido es de 0.013, es decir que la probabilidad de que las medias de los dos grupos sean iguales (de que hayamos obtenido estos resultados siendo $H_0$ cierta) es de 1.3%. Con un alpha de 0.05 rechazamos la hipótesis de igualdad de medias para Hombres y otros géneros."
      ],
      "metadata": {
        "id": "gg4jmwxVfnWd"
      }
    },
    {
      "cell_type": "markdown",
      "source": [
        "Se obtienen idénticos resultados usando la función `stats.ttest_ind()`:"
      ],
      "metadata": {
        "id": "2-V8LWR2iUEk"
      }
    },
    {
      "cell_type": "code",
      "source": [
        "from scipy import stats\n",
        "import plotly.graph_objects as go\n",
        "\n",
        "stats.ttest_ind(Muestra_A_100, Muestra_B_100,equal_var=False)"
      ],
      "metadata": {
        "colab": {
          "base_uri": "https://localhost:8080/"
        },
        "id": "TlCTqseRkX3k",
        "outputId": "65e2dd54-b03b-4243-c655-86c1237657f1"
      },
      "execution_count": 29,
      "outputs": [
        {
          "output_type": "execute_result",
          "data": {
            "text/plain": [
              "Ttest_indResult(statistic=2.5001089558924163, pvalue=0.013426243950173958)"
            ]
          },
          "metadata": {},
          "execution_count": 29
        }
      ]
    },
    {
      "cell_type": "markdown",
      "source": [
        "Podemos ver las distribuciones de nuestra muestra con el siguiente gráfico:"
      ],
      "metadata": {
        "id": "rwmzPGNyit1K"
      }
    },
    {
      "cell_type": "code",
      "source": [
        "flg = go.Figure()\n",
        "flg.add_trace(go.Box(y=Muestra_A_100,name=\"Hombres\"))\n",
        "flg.add_trace(go.Box(y=Muestra_B_100,name=\"Otros géneros\"))\n",
        "flg.update_layout(\n",
        "    title={\n",
        "        'text':\"Salario por grupo\",\n",
        "        'y': 0.9,\n",
        "        'x': 0.9,\n",
        "        'xanchor':'center',\n",
        "        'yanchor':'top'\n",
        "    }\n",
        ")\n",
        "flg.show()"
      ],
      "metadata": {
        "colab": {
          "base_uri": "https://localhost:8080/",
          "height": 542
        },
        "id": "sE5GDxn4ozOh",
        "outputId": "72ea3946-c0aa-4e0c-d570-ca52d64d5ba0"
      },
      "execution_count": 31,
      "outputs": [
        {
          "output_type": "display_data",
          "data": {
            "text/html": [
              "<html>\n",
              "<head><meta charset=\"utf-8\" /></head>\n",
              "<body>\n",
              "    <div>            <script src=\"https://cdnjs.cloudflare.com/ajax/libs/mathjax/2.7.5/MathJax.js?config=TeX-AMS-MML_SVG\"></script><script type=\"text/javascript\">if (window.MathJax) {MathJax.Hub.Config({SVG: {font: \"STIX-Web\"}});}</script>                <script type=\"text/javascript\">window.PlotlyConfig = {MathJaxConfig: 'local'};</script>\n",
              "        <script src=\"https://cdn.plot.ly/plotly-2.8.3.min.js\"></script>                <div id=\"376afb93-4445-4116-8146-da2bb40a2966\" class=\"plotly-graph-div\" style=\"height:525px; width:100%;\"></div>            <script type=\"text/javascript\">                                    window.PLOTLYENV=window.PLOTLYENV || {};                                    if (document.getElementById(\"376afb93-4445-4116-8146-da2bb40a2966\")) {                    Plotly.newPlot(                        \"376afb93-4445-4116-8146-da2bb40a2966\",                        [{\"name\":\"Hombres\",\"y\":[98000.0,150000.0,63900.0,300000.0,88000.0,45000.0,100000.0,85000.0,190000.0,35000.0,76000.0,65000.0,40000.0,36462.0,64000.0,78657.0,140000.0,73000.0,75000.0,85000.0,200000.0,71000.0,90000.0,43981.0,170000.0,95877.0,40000.0,76000.0,63540.0,130000.0,89000.0,95000.0,110000.0,78000.0,76000.0,25000.0,97000.0,57000.0,80000.0,80000.0,149863.0,95000.0,25000.0,45000.0,65000.0,125000.0,17900.0,97000.0,120000.0,150000.0,64000.0,74000.0,62000.0,107000.0,300000.0,115000.0,140000.0,275000.0,500000.0,90000.0,78000.0,114278.0,130000.0,54000.0,36000.0,42000.0,33600.0,172000.0,140000.0,80000.0,45000.0,44000.0,52000.0,60000.0,73232.0,110000.0,52000.0,50000.0,58700.0,126000.0,122000.0,230000.0,108000.0,72000.0,180000.0,76000.0,53900.0,84000.0,70000.0,137000.0,180000.0,16600.0,53000.0,22000.0,33000.0,85000.0,17800.0,82000.0,73000.0,63000.0],\"type\":\"box\"},{\"name\":\"Otros g\\u00e9neros\",\"y\":[56403.0,62000.0,58600.0,75000.0,60000.0,80000.0,51000.0,70000.0,40000.0,45000.0,83727.0,39000.0,74000.0,75700.0,90000.0,51686.0,100000.0,120000.0,35000.0,54722.0,49000.0,90000.0,95000.0,54500.0,92914.0,80000.0,64000.0,170282.0,260000.0,89000.0,115000.0,93000.0,36422.0,50000.0,82000.0,41500.0,37000.0,68000.0,105000.0,62933.86,54000.0,51000.0,35000.0,77100.0,95000.0,114000.0,40000.0,73035.0,83000.0,120000.0,53000.0,44300.0,94500.0,54000.0,141000.0,64983.19,52009.0,80000.0,265000.0,31180.0,130401.0,98000.0,127000.0,81000.0,53819.09,48900.0,80000.0,67000.0,91185.0,95000.0,96188.63,57670.0,48316.0,67275.0,2500.0,58300.0,102000.0,68928.0,15000.0,120000.0,95000.0,35000.0,41097.0,67000.0,16000.0,72000.0,125484.46,53250.0,83000.0,56000.0,56000.0,72000.0,54000.0,50000.0,80000.0,43000.0,92000.0,33200.0,150000.0,120000.0],\"type\":\"box\"}],                        {\"template\":{\"data\":{\"bar\":[{\"error_x\":{\"color\":\"#2a3f5f\"},\"error_y\":{\"color\":\"#2a3f5f\"},\"marker\":{\"line\":{\"color\":\"#E5ECF6\",\"width\":0.5},\"pattern\":{\"fillmode\":\"overlay\",\"size\":10,\"solidity\":0.2}},\"type\":\"bar\"}],\"barpolar\":[{\"marker\":{\"line\":{\"color\":\"#E5ECF6\",\"width\":0.5},\"pattern\":{\"fillmode\":\"overlay\",\"size\":10,\"solidity\":0.2}},\"type\":\"barpolar\"}],\"carpet\":[{\"aaxis\":{\"endlinecolor\":\"#2a3f5f\",\"gridcolor\":\"white\",\"linecolor\":\"white\",\"minorgridcolor\":\"white\",\"startlinecolor\":\"#2a3f5f\"},\"baxis\":{\"endlinecolor\":\"#2a3f5f\",\"gridcolor\":\"white\",\"linecolor\":\"white\",\"minorgridcolor\":\"white\",\"startlinecolor\":\"#2a3f5f\"},\"type\":\"carpet\"}],\"choropleth\":[{\"colorbar\":{\"outlinewidth\":0,\"ticks\":\"\"},\"type\":\"choropleth\"}],\"contour\":[{\"colorbar\":{\"outlinewidth\":0,\"ticks\":\"\"},\"colorscale\":[[0.0,\"#0d0887\"],[0.1111111111111111,\"#46039f\"],[0.2222222222222222,\"#7201a8\"],[0.3333333333333333,\"#9c179e\"],[0.4444444444444444,\"#bd3786\"],[0.5555555555555556,\"#d8576b\"],[0.6666666666666666,\"#ed7953\"],[0.7777777777777778,\"#fb9f3a\"],[0.8888888888888888,\"#fdca26\"],[1.0,\"#f0f921\"]],\"type\":\"contour\"}],\"contourcarpet\":[{\"colorbar\":{\"outlinewidth\":0,\"ticks\":\"\"},\"type\":\"contourcarpet\"}],\"heatmap\":[{\"colorbar\":{\"outlinewidth\":0,\"ticks\":\"\"},\"colorscale\":[[0.0,\"#0d0887\"],[0.1111111111111111,\"#46039f\"],[0.2222222222222222,\"#7201a8\"],[0.3333333333333333,\"#9c179e\"],[0.4444444444444444,\"#bd3786\"],[0.5555555555555556,\"#d8576b\"],[0.6666666666666666,\"#ed7953\"],[0.7777777777777778,\"#fb9f3a\"],[0.8888888888888888,\"#fdca26\"],[1.0,\"#f0f921\"]],\"type\":\"heatmap\"}],\"heatmapgl\":[{\"colorbar\":{\"outlinewidth\":0,\"ticks\":\"\"},\"colorscale\":[[0.0,\"#0d0887\"],[0.1111111111111111,\"#46039f\"],[0.2222222222222222,\"#7201a8\"],[0.3333333333333333,\"#9c179e\"],[0.4444444444444444,\"#bd3786\"],[0.5555555555555556,\"#d8576b\"],[0.6666666666666666,\"#ed7953\"],[0.7777777777777778,\"#fb9f3a\"],[0.8888888888888888,\"#fdca26\"],[1.0,\"#f0f921\"]],\"type\":\"heatmapgl\"}],\"histogram\":[{\"marker\":{\"pattern\":{\"fillmode\":\"overlay\",\"size\":10,\"solidity\":0.2}},\"type\":\"histogram\"}],\"histogram2d\":[{\"colorbar\":{\"outlinewidth\":0,\"ticks\":\"\"},\"colorscale\":[[0.0,\"#0d0887\"],[0.1111111111111111,\"#46039f\"],[0.2222222222222222,\"#7201a8\"],[0.3333333333333333,\"#9c179e\"],[0.4444444444444444,\"#bd3786\"],[0.5555555555555556,\"#d8576b\"],[0.6666666666666666,\"#ed7953\"],[0.7777777777777778,\"#fb9f3a\"],[0.8888888888888888,\"#fdca26\"],[1.0,\"#f0f921\"]],\"type\":\"histogram2d\"}],\"histogram2dcontour\":[{\"colorbar\":{\"outlinewidth\":0,\"ticks\":\"\"},\"colorscale\":[[0.0,\"#0d0887\"],[0.1111111111111111,\"#46039f\"],[0.2222222222222222,\"#7201a8\"],[0.3333333333333333,\"#9c179e\"],[0.4444444444444444,\"#bd3786\"],[0.5555555555555556,\"#d8576b\"],[0.6666666666666666,\"#ed7953\"],[0.7777777777777778,\"#fb9f3a\"],[0.8888888888888888,\"#fdca26\"],[1.0,\"#f0f921\"]],\"type\":\"histogram2dcontour\"}],\"mesh3d\":[{\"colorbar\":{\"outlinewidth\":0,\"ticks\":\"\"},\"type\":\"mesh3d\"}],\"parcoords\":[{\"line\":{\"colorbar\":{\"outlinewidth\":0,\"ticks\":\"\"}},\"type\":\"parcoords\"}],\"pie\":[{\"automargin\":true,\"type\":\"pie\"}],\"scatter\":[{\"marker\":{\"colorbar\":{\"outlinewidth\":0,\"ticks\":\"\"}},\"type\":\"scatter\"}],\"scatter3d\":[{\"line\":{\"colorbar\":{\"outlinewidth\":0,\"ticks\":\"\"}},\"marker\":{\"colorbar\":{\"outlinewidth\":0,\"ticks\":\"\"}},\"type\":\"scatter3d\"}],\"scattercarpet\":[{\"marker\":{\"colorbar\":{\"outlinewidth\":0,\"ticks\":\"\"}},\"type\":\"scattercarpet\"}],\"scattergeo\":[{\"marker\":{\"colorbar\":{\"outlinewidth\":0,\"ticks\":\"\"}},\"type\":\"scattergeo\"}],\"scattergl\":[{\"marker\":{\"colorbar\":{\"outlinewidth\":0,\"ticks\":\"\"}},\"type\":\"scattergl\"}],\"scattermapbox\":[{\"marker\":{\"colorbar\":{\"outlinewidth\":0,\"ticks\":\"\"}},\"type\":\"scattermapbox\"}],\"scatterpolar\":[{\"marker\":{\"colorbar\":{\"outlinewidth\":0,\"ticks\":\"\"}},\"type\":\"scatterpolar\"}],\"scatterpolargl\":[{\"marker\":{\"colorbar\":{\"outlinewidth\":0,\"ticks\":\"\"}},\"type\":\"scatterpolargl\"}],\"scatterternary\":[{\"marker\":{\"colorbar\":{\"outlinewidth\":0,\"ticks\":\"\"}},\"type\":\"scatterternary\"}],\"surface\":[{\"colorbar\":{\"outlinewidth\":0,\"ticks\":\"\"},\"colorscale\":[[0.0,\"#0d0887\"],[0.1111111111111111,\"#46039f\"],[0.2222222222222222,\"#7201a8\"],[0.3333333333333333,\"#9c179e\"],[0.4444444444444444,\"#bd3786\"],[0.5555555555555556,\"#d8576b\"],[0.6666666666666666,\"#ed7953\"],[0.7777777777777778,\"#fb9f3a\"],[0.8888888888888888,\"#fdca26\"],[1.0,\"#f0f921\"]],\"type\":\"surface\"}],\"table\":[{\"cells\":{\"fill\":{\"color\":\"#EBF0F8\"},\"line\":{\"color\":\"white\"}},\"header\":{\"fill\":{\"color\":\"#C8D4E3\"},\"line\":{\"color\":\"white\"}},\"type\":\"table\"}]},\"layout\":{\"annotationdefaults\":{\"arrowcolor\":\"#2a3f5f\",\"arrowhead\":0,\"arrowwidth\":1},\"autotypenumbers\":\"strict\",\"coloraxis\":{\"colorbar\":{\"outlinewidth\":0,\"ticks\":\"\"}},\"colorscale\":{\"diverging\":[[0,\"#8e0152\"],[0.1,\"#c51b7d\"],[0.2,\"#de77ae\"],[0.3,\"#f1b6da\"],[0.4,\"#fde0ef\"],[0.5,\"#f7f7f7\"],[0.6,\"#e6f5d0\"],[0.7,\"#b8e186\"],[0.8,\"#7fbc41\"],[0.9,\"#4d9221\"],[1,\"#276419\"]],\"sequential\":[[0.0,\"#0d0887\"],[0.1111111111111111,\"#46039f\"],[0.2222222222222222,\"#7201a8\"],[0.3333333333333333,\"#9c179e\"],[0.4444444444444444,\"#bd3786\"],[0.5555555555555556,\"#d8576b\"],[0.6666666666666666,\"#ed7953\"],[0.7777777777777778,\"#fb9f3a\"],[0.8888888888888888,\"#fdca26\"],[1.0,\"#f0f921\"]],\"sequentialminus\":[[0.0,\"#0d0887\"],[0.1111111111111111,\"#46039f\"],[0.2222222222222222,\"#7201a8\"],[0.3333333333333333,\"#9c179e\"],[0.4444444444444444,\"#bd3786\"],[0.5555555555555556,\"#d8576b\"],[0.6666666666666666,\"#ed7953\"],[0.7777777777777778,\"#fb9f3a\"],[0.8888888888888888,\"#fdca26\"],[1.0,\"#f0f921\"]]},\"colorway\":[\"#636efa\",\"#EF553B\",\"#00cc96\",\"#ab63fa\",\"#FFA15A\",\"#19d3f3\",\"#FF6692\",\"#B6E880\",\"#FF97FF\",\"#FECB52\"],\"font\":{\"color\":\"#2a3f5f\"},\"geo\":{\"bgcolor\":\"white\",\"lakecolor\":\"white\",\"landcolor\":\"#E5ECF6\",\"showlakes\":true,\"showland\":true,\"subunitcolor\":\"white\"},\"hoverlabel\":{\"align\":\"left\"},\"hovermode\":\"closest\",\"mapbox\":{\"style\":\"light\"},\"paper_bgcolor\":\"white\",\"plot_bgcolor\":\"#E5ECF6\",\"polar\":{\"angularaxis\":{\"gridcolor\":\"white\",\"linecolor\":\"white\",\"ticks\":\"\"},\"bgcolor\":\"#E5ECF6\",\"radialaxis\":{\"gridcolor\":\"white\",\"linecolor\":\"white\",\"ticks\":\"\"}},\"scene\":{\"xaxis\":{\"backgroundcolor\":\"#E5ECF6\",\"gridcolor\":\"white\",\"gridwidth\":2,\"linecolor\":\"white\",\"showbackground\":true,\"ticks\":\"\",\"zerolinecolor\":\"white\"},\"yaxis\":{\"backgroundcolor\":\"#E5ECF6\",\"gridcolor\":\"white\",\"gridwidth\":2,\"linecolor\":\"white\",\"showbackground\":true,\"ticks\":\"\",\"zerolinecolor\":\"white\"},\"zaxis\":{\"backgroundcolor\":\"#E5ECF6\",\"gridcolor\":\"white\",\"gridwidth\":2,\"linecolor\":\"white\",\"showbackground\":true,\"ticks\":\"\",\"zerolinecolor\":\"white\"}},\"shapedefaults\":{\"line\":{\"color\":\"#2a3f5f\"}},\"ternary\":{\"aaxis\":{\"gridcolor\":\"white\",\"linecolor\":\"white\",\"ticks\":\"\"},\"baxis\":{\"gridcolor\":\"white\",\"linecolor\":\"white\",\"ticks\":\"\"},\"bgcolor\":\"#E5ECF6\",\"caxis\":{\"gridcolor\":\"white\",\"linecolor\":\"white\",\"ticks\":\"\"}},\"title\":{\"x\":0.05},\"xaxis\":{\"automargin\":true,\"gridcolor\":\"white\",\"linecolor\":\"white\",\"ticks\":\"\",\"title\":{\"standoff\":15},\"zerolinecolor\":\"white\",\"zerolinewidth\":2},\"yaxis\":{\"automargin\":true,\"gridcolor\":\"white\",\"linecolor\":\"white\",\"ticks\":\"\",\"title\":{\"standoff\":15},\"zerolinecolor\":\"white\",\"zerolinewidth\":2}}},\"title\":{\"text\":\"Salario por grupo\",\"y\":0.9,\"x\":0.9,\"xanchor\":\"center\",\"yanchor\":\"top\"}},                        {\"responsive\": true}                    ).then(function(){\n",
              "                            \n",
              "var gd = document.getElementById('376afb93-4445-4116-8146-da2bb40a2966');\n",
              "var x = new MutationObserver(function (mutations, observer) {{\n",
              "        var display = window.getComputedStyle(gd).display;\n",
              "        if (!display || display === 'none') {{\n",
              "            console.log([gd, 'removed!']);\n",
              "            Plotly.purge(gd);\n",
              "            observer.disconnect();\n",
              "        }}\n",
              "}});\n",
              "\n",
              "// Listen for the removal of the full notebook cells\n",
              "var notebookContainer = gd.closest('#notebook-container');\n",
              "if (notebookContainer) {{\n",
              "    x.observe(notebookContainer, {childList: true});\n",
              "}}\n",
              "\n",
              "// Listen for the clearing of the current output cell\n",
              "var outputEl = gd.closest('.output');\n",
              "if (outputEl) {{\n",
              "    x.observe(outputEl, {childList: true});\n",
              "}}\n",
              "\n",
              "                        })                };                            </script>        </div>\n",
              "</body>\n",
              "</html>"
            ]
          },
          "metadata": {}
        }
      ]
    },
    {
      "cell_type": "markdown",
      "metadata": {
        "id": "8VxiQr5YrQYR"
      },
      "source": [
        "### [Opcional] 2.3 Potencia del test\n",
        "\n",
        "Nuestra muestra, ¿era lo suficientemente grande para detectar si existe o no una diferencia entre los grupos?\n",
        "\n",
        "1. Utilice la función `tt_ind_solve_power` para calcular el tamaño necesario de la muestra para un poder estadístico de 0.8, 0.9 y 0.95, asumiendo una significancia estadística de 0.05.\n",
        "2. ¿Cómo intepretan el poder estadístico de un test? Dado su conocimiento de dominio sobre los datos, ¿les parece que esta muestra es lo suficientemente grande para ser representativo de la tendencia general? ¿y para utilizarlo en un juicio penal contra una empresa XX por una causa de discriminación?\n",
        "\n",
        "[Documentación](https://www.statsmodels.org/stable/generated/statsmodels.stats.power.tt_ind_solve_power.html)\n",
        "\n",
        "NOTA: este análisis debería hacerse ANTES de recolectar los datos."
      ]
    },
    {
      "cell_type": "code",
      "source": [
        "from statsmodels.stats.power import  tt_ind_solve_power\n",
        "import math\n",
        "effect_size = (groupA.mean() - groupB.mean()) / groupB.std()\n",
        "# nobs1=None  - What we want to know\n",
        "alpha = 0.05\n",
        "ratio = len(groupB) / len(groupA)\n",
        "n_80 = tt_ind_solve_power(effect_size=effect_size, nobs1=None, alpha=0.05, power=0.8, ratio=ratio)\n",
        "n_90 = tt_ind_solve_power(effect_size=effect_size, nobs1=None, alpha=0.05, power=0.9, ratio=ratio)\n",
        "n_95 = tt_ind_solve_power(effect_size=effect_size, nobs1=None, alpha=0.05, power=0.95, ratio=ratio)\n",
        "print('Para una potencia del 80%, n tendrá que ser de',math.ceil(n_80),'observaciones.')\n",
        "print('Para una potencia del 90%, n tendrá que ser de',math.ceil(n_90),'observaciones.')\n",
        "print('Para una potencia del 95%, n tendrá que ser de',math.ceil(n_95),'observaciones.')"
      ],
      "metadata": {
        "colab": {
          "base_uri": "https://localhost:8080/"
        },
        "id": "nxn-kh0tk61B",
        "outputId": "20338101-2c39-44f6-a098-91bb7bd45c3f"
      },
      "execution_count": 48,
      "outputs": [
        {
          "output_type": "stream",
          "name": "stdout",
          "text": [
            "Para una potencia del 80%, n tendrá que ser de 299 observaciones.\n",
            "Para una potencia del 90%, n tendrá que ser de 399 observaciones.\n",
            "Para una potencia del 95%, n tendrá que ser de 493 observaciones.\n"
          ]
        }
      ]
    },
    {
      "cell_type": "markdown",
      "source": [
        "Podemos ver la potencia que tuvo nuestro test (n=100):"
      ],
      "metadata": {
        "id": "_0uHwm-qoR0q"
      }
    },
    {
      "cell_type": "code",
      "source": [
        "power = tt_ind_solve_power(effect_size=effect_size, nobs1=100, alpha=0.05, power=None, ratio=ratio)\n",
        "print('La potencia del test usando n=100 es de',power)"
      ],
      "metadata": {
        "colab": {
          "base_uri": "https://localhost:8080/"
        },
        "id": "6wrdu47ioYhu",
        "outputId": "ccbe7fc6-3a2b-433b-e338-dddb901f9108"
      },
      "execution_count": 52,
      "outputs": [
        {
          "output_type": "stream",
          "name": "stdout",
          "text": [
            "La potencia del test usando n=100 es de 0.3645307228882372\n"
          ]
        }
      ]
    },
    {
      "cell_type": "code",
      "source": [
        "print('La probabilidad de cometer error tipo 2 es igual a',1-power)"
      ],
      "metadata": {
        "colab": {
          "base_uri": "https://localhost:8080/"
        },
        "id": "1W4JmTmOpaRs",
        "outputId": "3a20bebd-4e67-4d33-9ec9-c61d7a12cac9"
      },
      "execution_count": 53,
      "outputs": [
        {
          "output_type": "stream",
          "name": "stdout",
          "text": [
            "La probabilidad de cometer error tipo 2 es igual a 0.6354692771117628\n"
          ]
        }
      ]
    },
    {
      "cell_type": "markdown",
      "source": [
        "Esto quiere decir que había un 64% de probabilidad de que **no** rechacemos $H_0$ siendo $H_0$ falsa. "
      ],
      "metadata": {
        "id": "phM9Tlo0o9k_"
      }
    },
    {
      "cell_type": "markdown",
      "metadata": {
        "id": "useKMdPyMod5"
      },
      "source": [
        "## Ejercicio 3: Comunicación y visualización\n",
        "\n",
        "**Consigna:** Seleccionen un resultado que les parezca relevante a partir de alguno de los ejercicios del entregable. Diseñe e implemente una comunicación en base a este mensaje, en un archivo PDF.\n",
        "\n",
        "Elija las palabras y visualización más adecuada para que la comunicación sea entendible, efectiva y se dapte a UNA de las siguientes situaciones:\n",
        "\n",
        "1. Una sección en un artículo de difusión a presentar como parte de una organización sin fines de lucro.\n",
        "No más de 1 página A4 (o dos si los gráficos son muy grandes).\n",
        "  1. Ejemplo: Alguna de las secciones [Los ecosistemas de emprendimiento de América Latina y el Caribe frente al COVID-19: Impactos, necesidades y recomendaciones](https://publications.iadb.org/es/los-ecosistemas-de-emprendimiento-de-america-latina-y-el-caribe-frente-al-covid-19-impactos-necesidades-y-recomendaciones), por ejemplo la sección *2.2. Reacciones de los emprendedores*.\n",
        "  2. Ejemplo: Alguna de las secciones de [The state of gender pay gap in 2021](https://www.payscale.com/data/gender-pay-gap?tk=carousel-ps-rc-job)\n",
        "  3. Puntos clave: \n",
        "    1. Simpleza de los gráficos.\n",
        "    2. Comunicación en lenguaje simple a personas que no son necesariamente expertos de dominio.\n",
        "    2. Selección de UNA oración sobre la que se hace énfasis.\n",
        "    3. No es necesario que mencionen objetivos ni descripciones del conjunto de datos, se supone que eso ya estaría explicado en otras secciones del informe.\n",
        "\n",
        "2. Una publicación científica o reporte técnico interno. No más de una página A4:\n",
        "  2. Ejemplo: La sección de resultados de [IZA DP No. 12914: The Impact of a Minimum Wage Change on the Distribution of Wages and Household Income](https://www.iza.org/publications/dp/12914/the-impact-of-a-minimum-wage-change-on-the-distribution-of-wages-and-household-income).\n",
        "  2. Ejemplo: Alguna de las secciones de [Temporary reduction in daily global CO2 emissions during the COVID-19 forced confinement](https://www.nature.com/articles/s41558-020-0797-x)\n",
        "  3. Puntos clave:\n",
        "    3. Nivel de detalle técnico requerido. Es necesario justificar la validez del análisis.\n",
        "    4. La idea presentada puede ser más compleja. Pueden asumir que la audiencia tiene conocimiento técnico y va a analizar las visualizaciones en detalle. \n",
        "    5. Pueden presentar más en detalle las limitaciones del análisis (significancia estadística, etc.)\n",
        "    2. No es necesario que mencionen objetivos ni descripciones del conjunto de datos, se supone que eso ya estaría explicado en otras secciones del informe.\n",
        "\n",
        "3. Un tweet (o post de LinkedIn) para la cuenta de su empresa consultora que hace análisis de datos. El objetivo es promocionar un análisis de datos abiertos que van a incluir en su portfolio:\n",
        "  1. Ejemplo: [Comparación vacunas covid](https://twitter.com/infobeautiful/status/1381577746527236098?s=20)\n",
        "  2. Ejemplo: [Tweet del BID](https://twitter.com/el_BID/status/1388508583944507396?s=20). Lo valioso de este tweet es que usaron un único número para transmitir un mensaje. Puede ser algo así, o con un gráfico muy simple.\n",
        "  3. Ejemplo: [Cambio climático](https://twitter.com/UNFCCC/status/1387732156190011394?s=20) Es un muy buen ejemplo, excepto que el gráfico no se lee nada y hay que entrar a la publicación original.\n",
        "  3. Ejemplo: [¿Cuánto están los programadores en las empresas?](https://www.linkedin.com/posts/denis-rothman-0b034043_tech-career-work-activity-6793861923269054464-gS6y) (No verificamos la veracidad o seriedad de la fuente).\n",
        "  4. Puntos clave:\n",
        "    1. Su audiencia no va a mirar la visualización por más de unos segundos, y no tiene conocimiento técnico.\n",
        "  3. Tienen que incluir además una *breve* descripción de cómo obtuvieron los datos que están presentando, que no entraría en el tweet.\n"
      ]
    },
    {
      "cell_type": "code",
      "metadata": {
        "id": "twwYHUztt45L"
      },
      "source": [
        ""
      ],
      "execution_count": null,
      "outputs": []
    }
  ]
}