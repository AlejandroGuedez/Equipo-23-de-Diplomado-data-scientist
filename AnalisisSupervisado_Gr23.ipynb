{
 "cells": [
  {
   "cell_type": "markdown",
   "metadata": {},
   "source": [
    "# DiploDatos Kaggle Competition\n",
    "### Grupo 23\n",
    "\n",
    "**Integrantes:** Franco Amilcar Genolet (francogeno97@gmail.com), Fabian Alejandro Zapata Cerutti (fzc501@gmail.com), Luis Alejandro Guedez Gomez (luis.guedez@dicsys.com), María Laura Mantovani (mantovanimlaura@gmail.com)."
   ]
  },
  {
   "cell_type": "markdown",
   "metadata": {},
   "source": [
    "### Librerías"
   ]
  },
  {
   "cell_type": "code",
   "execution_count": 41,
   "metadata": {},
   "outputs": [],
   "source": [
    "import pandas as pd\n",
    "import numpy as np\n",
    "import seaborn as sns\n",
    "import matplotlib.pyplot as plt\n",
    "import missingno as msno\n",
    "\n",
    "from sklearn.preprocessing import StandardScaler, MinMaxScaler, LabelEncoder, OneHotEncoder\n",
    "from sklearn.impute import SimpleImputer\n",
    "from sklearn.model_selection import train_test_split, GridSearchCV, StratifiedKFold\n",
    "from sklearn.metrics import accuracy_score, ConfusionMatrixDisplay, classification_report\n",
    "from sklearn.impute import KNNImputer\n",
    "from sklearn.metrics import precision_score, accuracy_score, recall_score\n",
    "\n",
    "from sklearn.tree import DecisionTreeClassifier\n",
    "\n",
    "import warnings\n",
    "warnings.filterwarnings(\"ignore\") "
   ]
  },
  {
   "cell_type": "markdown",
   "metadata": {},
   "source": [
    "### Importación del dataset"
   ]
  },
  {
   "cell_type": "code",
   "execution_count": 2,
   "metadata": {},
   "outputs": [],
   "source": [
    "df = pd.read_csv('Práctico_Aprendizaje_supervisado/train.csv')"
   ]
  },
  {
   "cell_type": "markdown",
   "metadata": {},
   "source": [
    "### Exporación y análisis de los datos"
   ]
  },
  {
   "cell_type": "code",
   "execution_count": 3,
   "metadata": {
    "scrolled": true
   },
   "outputs": [
    {
     "data": {
      "text/html": [
       "<div>\n",
       "<style scoped>\n",
       "    .dataframe tbody tr th:only-of-type {\n",
       "        vertical-align: middle;\n",
       "    }\n",
       "\n",
       "    .dataframe tbody tr th {\n",
       "        vertical-align: top;\n",
       "    }\n",
       "\n",
       "    .dataframe thead th {\n",
       "        text-align: right;\n",
       "    }\n",
       "</style>\n",
       "<table border=\"1\" class=\"dataframe\">\n",
       "  <thead>\n",
       "    <tr style=\"text-align: right;\">\n",
       "      <th></th>\n",
       "      <th>PassengerId</th>\n",
       "      <th>HomePlanet</th>\n",
       "      <th>CryoSleep</th>\n",
       "      <th>Cabin</th>\n",
       "      <th>Destination</th>\n",
       "      <th>Age</th>\n",
       "      <th>VIP</th>\n",
       "      <th>RoomService</th>\n",
       "      <th>FoodCourt</th>\n",
       "      <th>ShoppingMall</th>\n",
       "      <th>Spa</th>\n",
       "      <th>VRDeck</th>\n",
       "      <th>Name</th>\n",
       "      <th>Transported</th>\n",
       "    </tr>\n",
       "  </thead>\n",
       "  <tbody>\n",
       "    <tr>\n",
       "      <th>0</th>\n",
       "      <td>3430</td>\n",
       "      <td>Europa</td>\n",
       "      <td>False</td>\n",
       "      <td>C/123/P</td>\n",
       "      <td>TRAPPIST-1e</td>\n",
       "      <td>57.0</td>\n",
       "      <td>False</td>\n",
       "      <td>0.0</td>\n",
       "      <td>3859.0</td>\n",
       "      <td>13.0</td>\n",
       "      <td>195.0</td>\n",
       "      <td>3874.0</td>\n",
       "      <td>Azhah Tronsive</td>\n",
       "      <td>0</td>\n",
       "    </tr>\n",
       "    <tr>\n",
       "      <th>1</th>\n",
       "      <td>669</td>\n",
       "      <td>Mars</td>\n",
       "      <td>True</td>\n",
       "      <td>F/126/S</td>\n",
       "      <td>NaN</td>\n",
       "      <td>18.0</td>\n",
       "      <td>False</td>\n",
       "      <td>0.0</td>\n",
       "      <td>0.0</td>\n",
       "      <td>0.0</td>\n",
       "      <td>0.0</td>\n",
       "      <td>0.0</td>\n",
       "      <td>Roswal Sha</td>\n",
       "      <td>1</td>\n",
       "    </tr>\n",
       "    <tr>\n",
       "      <th>2</th>\n",
       "      <td>8430</td>\n",
       "      <td>Europa</td>\n",
       "      <td>True</td>\n",
       "      <td>B/343/S</td>\n",
       "      <td>TRAPPIST-1e</td>\n",
       "      <td>33.0</td>\n",
       "      <td>NaN</td>\n",
       "      <td>0.0</td>\n",
       "      <td>0.0</td>\n",
       "      <td>0.0</td>\n",
       "      <td>0.0</td>\n",
       "      <td>0.0</td>\n",
       "      <td>Shaiam Tinganking</td>\n",
       "      <td>1</td>\n",
       "    </tr>\n",
       "    <tr>\n",
       "      <th>3</th>\n",
       "      <td>6463</td>\n",
       "      <td>Earth</td>\n",
       "      <td>False</td>\n",
       "      <td>F/1420/P</td>\n",
       "      <td>TRAPPIST-1e</td>\n",
       "      <td>43.0</td>\n",
       "      <td>False</td>\n",
       "      <td>142.0</td>\n",
       "      <td>1208.0</td>\n",
       "      <td>0.0</td>\n",
       "      <td>0.0</td>\n",
       "      <td>204.0</td>\n",
       "      <td>Landa Grifford</td>\n",
       "      <td>0</td>\n",
       "    </tr>\n",
       "    <tr>\n",
       "      <th>4</th>\n",
       "      <td>85</td>\n",
       "      <td>Earth</td>\n",
       "      <td>False</td>\n",
       "      <td>G/9/P</td>\n",
       "      <td>TRAPPIST-1e</td>\n",
       "      <td>19.0</td>\n",
       "      <td>False</td>\n",
       "      <td>0.0</td>\n",
       "      <td>0.0</td>\n",
       "      <td>670.0</td>\n",
       "      <td>1.0</td>\n",
       "      <td>34.0</td>\n",
       "      <td>Gracy Dunnisey</td>\n",
       "      <td>0</td>\n",
       "    </tr>\n",
       "  </tbody>\n",
       "</table>\n",
       "</div>"
      ],
      "text/plain": [
       "   PassengerId HomePlanet CryoSleep     Cabin  Destination   Age    VIP  \\\n",
       "0         3430     Europa     False   C/123/P  TRAPPIST-1e  57.0  False   \n",
       "1          669       Mars      True   F/126/S          NaN  18.0  False   \n",
       "2         8430     Europa      True   B/343/S  TRAPPIST-1e  33.0    NaN   \n",
       "3         6463      Earth     False  F/1420/P  TRAPPIST-1e  43.0  False   \n",
       "4           85      Earth     False     G/9/P  TRAPPIST-1e  19.0  False   \n",
       "\n",
       "   RoomService  FoodCourt  ShoppingMall    Spa  VRDeck               Name  \\\n",
       "0          0.0     3859.0          13.0  195.0  3874.0     Azhah Tronsive   \n",
       "1          0.0        0.0           0.0    0.0     0.0         Roswal Sha   \n",
       "2          0.0        0.0           0.0    0.0     0.0  Shaiam Tinganking   \n",
       "3        142.0     1208.0           0.0    0.0   204.0     Landa Grifford   \n",
       "4          0.0        0.0         670.0    1.0    34.0     Gracy Dunnisey   \n",
       "\n",
       "   Transported  \n",
       "0            0  \n",
       "1            1  \n",
       "2            1  \n",
       "3            0  \n",
       "4            0  "
      ]
     },
     "execution_count": 3,
     "metadata": {},
     "output_type": "execute_result"
    }
   ],
   "source": [
    "df.head()"
   ]
  },
  {
   "cell_type": "code",
   "execution_count": 4,
   "metadata": {},
   "outputs": [
    {
     "data": {
      "text/plain": [
       "(7823, 14)"
      ]
     },
     "execution_count": 4,
     "metadata": {},
     "output_type": "execute_result"
    }
   ],
   "source": [
    "df.shape"
   ]
  },
  {
   "cell_type": "markdown",
   "metadata": {},
   "source": [
    "Se tiene un dataset con 7.823 registros, 13 variables explicativas y una variable Target (Transported). La descripción de las variables (fuente: [kaggle.com](https://www.kaggle.com/competitions/spaceship-titanic/overview)) es la siguiente:\n",
    "\n",
    "* PassengerId: Id único por pasajero. \n",
    "* HomePlanet: Planeta del cual el pasajero parte, típicamente su planeta de residencia permanente.\n",
    "* CryoSleep: Indica si el pasajero eligió ser puesto en animación suspendida durante la duración del viaje. Los pasajeros en criosueño están confinados en sus cabinas.\n",
    "* Cabin: El número de cabina en donde se queda el pasajero. Toma la forma cubierta/número/lado, donde lado puede ser P para babor o S para estribor.\n",
    "* Destination: El planeta al que desembarcará el pasajero.\n",
    "* Age: La edad del pasajero.\n",
    "* VIP: Indica si el pasajero pagó por servicio especial VIP durante el viaje.\n",
    "* RoomService, FoodCourt, ShoppingMall, Spa, VRDeck: Monto que el pasajero ha facturado en cada uno de los servicios de lujo del Spaceship Titanic.\n",
    "* Name: Nombre y apellido del pasajero.\n",
    "* Transported: Indica si el pasajero fue transportado a otra dimensión. Este es el target, la columna que está tratando de predecir.\n",
    "\n",
    "Veamos ahora cuántos nulos, ceros y valores únicos existen por cada variable, y qué tipo de dato es cada una."
   ]
  },
  {
   "cell_type": "code",
   "execution_count": 5,
   "metadata": {},
   "outputs": [
    {
     "data": {
      "text/html": [
       "<div>\n",
       "<style scoped>\n",
       "    .dataframe tbody tr th:only-of-type {\n",
       "        vertical-align: middle;\n",
       "    }\n",
       "\n",
       "    .dataframe tbody tr th {\n",
       "        vertical-align: top;\n",
       "    }\n",
       "\n",
       "    .dataframe thead th {\n",
       "        text-align: right;\n",
       "    }\n",
       "</style>\n",
       "<table border=\"1\" class=\"dataframe\">\n",
       "  <thead>\n",
       "    <tr style=\"text-align: right;\">\n",
       "      <th></th>\n",
       "      <th>variable</th>\n",
       "      <th>q_nan</th>\n",
       "      <th>p_nan</th>\n",
       "      <th>q_zeros</th>\n",
       "      <th>p_zeros</th>\n",
       "      <th>unique</th>\n",
       "      <th>type</th>\n",
       "    </tr>\n",
       "  </thead>\n",
       "  <tbody>\n",
       "    <tr>\n",
       "      <th>0</th>\n",
       "      <td>PassengerId</td>\n",
       "      <td>0</td>\n",
       "      <td>0.000000</td>\n",
       "      <td>1</td>\n",
       "      <td>0.000128</td>\n",
       "      <td>7823</td>\n",
       "      <td>int64</td>\n",
       "    </tr>\n",
       "    <tr>\n",
       "      <th>1</th>\n",
       "      <td>HomePlanet</td>\n",
       "      <td>179</td>\n",
       "      <td>0.022881</td>\n",
       "      <td>0</td>\n",
       "      <td>0.000000</td>\n",
       "      <td>3</td>\n",
       "      <td>object</td>\n",
       "    </tr>\n",
       "    <tr>\n",
       "      <th>2</th>\n",
       "      <td>CryoSleep</td>\n",
       "      <td>196</td>\n",
       "      <td>0.025054</td>\n",
       "      <td>4871</td>\n",
       "      <td>0.622651</td>\n",
       "      <td>2</td>\n",
       "      <td>object</td>\n",
       "    </tr>\n",
       "    <tr>\n",
       "      <th>3</th>\n",
       "      <td>Cabin</td>\n",
       "      <td>184</td>\n",
       "      <td>0.023520</td>\n",
       "      <td>0</td>\n",
       "      <td>0.000000</td>\n",
       "      <td>6009</td>\n",
       "      <td>object</td>\n",
       "    </tr>\n",
       "    <tr>\n",
       "      <th>4</th>\n",
       "      <td>Destination</td>\n",
       "      <td>160</td>\n",
       "      <td>0.020453</td>\n",
       "      <td>0</td>\n",
       "      <td>0.000000</td>\n",
       "      <td>3</td>\n",
       "      <td>object</td>\n",
       "    </tr>\n",
       "    <tr>\n",
       "      <th>5</th>\n",
       "      <td>Age</td>\n",
       "      <td>162</td>\n",
       "      <td>0.020708</td>\n",
       "      <td>160</td>\n",
       "      <td>0.020453</td>\n",
       "      <td>80</td>\n",
       "      <td>float64</td>\n",
       "    </tr>\n",
       "    <tr>\n",
       "      <th>6</th>\n",
       "      <td>VIP</td>\n",
       "      <td>184</td>\n",
       "      <td>0.023520</td>\n",
       "      <td>7456</td>\n",
       "      <td>0.953087</td>\n",
       "      <td>2</td>\n",
       "      <td>object</td>\n",
       "    </tr>\n",
       "    <tr>\n",
       "      <th>7</th>\n",
       "      <td>RoomService</td>\n",
       "      <td>154</td>\n",
       "      <td>0.019686</td>\n",
       "      <td>5042</td>\n",
       "      <td>0.644510</td>\n",
       "      <td>1195</td>\n",
       "      <td>float64</td>\n",
       "    </tr>\n",
       "    <tr>\n",
       "      <th>8</th>\n",
       "      <td>FoodCourt</td>\n",
       "      <td>155</td>\n",
       "      <td>0.019813</td>\n",
       "      <td>4940</td>\n",
       "      <td>0.631471</td>\n",
       "      <td>1400</td>\n",
       "      <td>float64</td>\n",
       "    </tr>\n",
       "    <tr>\n",
       "      <th>9</th>\n",
       "      <td>ShoppingMall</td>\n",
       "      <td>188</td>\n",
       "      <td>0.024032</td>\n",
       "      <td>5036</td>\n",
       "      <td>0.643743</td>\n",
       "      <td>1045</td>\n",
       "      <td>float64</td>\n",
       "    </tr>\n",
       "    <tr>\n",
       "      <th>10</th>\n",
       "      <td>Spa</td>\n",
       "      <td>158</td>\n",
       "      <td>0.020197</td>\n",
       "      <td>4819</td>\n",
       "      <td>0.616004</td>\n",
       "      <td>1238</td>\n",
       "      <td>float64</td>\n",
       "    </tr>\n",
       "    <tr>\n",
       "      <th>11</th>\n",
       "      <td>VRDeck</td>\n",
       "      <td>169</td>\n",
       "      <td>0.021603</td>\n",
       "      <td>4941</td>\n",
       "      <td>0.631599</td>\n",
       "      <td>1229</td>\n",
       "      <td>float64</td>\n",
       "    </tr>\n",
       "    <tr>\n",
       "      <th>12</th>\n",
       "      <td>Name</td>\n",
       "      <td>184</td>\n",
       "      <td>0.023520</td>\n",
       "      <td>0</td>\n",
       "      <td>0.000000</td>\n",
       "      <td>7623</td>\n",
       "      <td>object</td>\n",
       "    </tr>\n",
       "    <tr>\n",
       "      <th>13</th>\n",
       "      <td>Transported</td>\n",
       "      <td>0</td>\n",
       "      <td>0.000000</td>\n",
       "      <td>3859</td>\n",
       "      <td>0.493289</td>\n",
       "      <td>2</td>\n",
       "      <td>int64</td>\n",
       "    </tr>\n",
       "  </tbody>\n",
       "</table>\n",
       "</div>"
      ],
      "text/plain": [
       "        variable  q_nan     p_nan  q_zeros   p_zeros  unique     type\n",
       "0    PassengerId      0  0.000000        1  0.000128    7823    int64\n",
       "1     HomePlanet    179  0.022881        0  0.000000       3   object\n",
       "2      CryoSleep    196  0.025054     4871  0.622651       2   object\n",
       "3          Cabin    184  0.023520        0  0.000000    6009   object\n",
       "4    Destination    160  0.020453        0  0.000000       3   object\n",
       "5            Age    162  0.020708      160  0.020453      80  float64\n",
       "6            VIP    184  0.023520     7456  0.953087       2   object\n",
       "7    RoomService    154  0.019686     5042  0.644510    1195  float64\n",
       "8      FoodCourt    155  0.019813     4940  0.631471    1400  float64\n",
       "9   ShoppingMall    188  0.024032     5036  0.643743    1045  float64\n",
       "10           Spa    158  0.020197     4819  0.616004    1238  float64\n",
       "11        VRDeck    169  0.021603     4941  0.631599    1229  float64\n",
       "12          Name    184  0.023520        0  0.000000    7623   object\n",
       "13   Transported      0  0.000000     3859  0.493289       2    int64"
      ]
     },
     "execution_count": 5,
     "metadata": {},
     "output_type": "execute_result"
    }
   ],
   "source": [
    "def status(data):\n",
    "    data2=data\n",
    "    # total de rows\n",
    "    tot_rows=len(data2)\n",
    "    # total de nan\n",
    "    d2=data2.isnull().sum().reset_index()\n",
    "    d2.columns=['variable', 'q_nan']\n",
    "    # percentage of nan\n",
    "    d2[['p_nan']]=d2[['q_nan']]/tot_rows\n",
    "    # num of zeros\n",
    "    d2['q_zeros']=(data2==0).sum().values\n",
    "    # perc of zeros\n",
    "    d2['p_zeros']=d2[['q_zeros']]/tot_rows\n",
    "    # total unique values\n",
    "    d2['unique']=data2.nunique().values\n",
    "    # get data types per column\n",
    "    d2['type']=[str(x) for x in data2.dtypes.values]\n",
    "    return(d2)\n",
    "status(df)"
   ]
  },
  {
   "cell_type": "markdown",
   "metadata": {},
   "source": [
    "PassengerId y Transported son las únicas variables que no tienen faltantes. Veamos cómo se comportan estos faltantes en las otras variables para decidir qué hacer con ellos:"
   ]
  },
  {
   "cell_type": "code",
   "execution_count": 6,
   "metadata": {},
   "outputs": [
    {
     "data": {
      "text/plain": [
       "<matplotlib.axes._subplots.AxesSubplot at 0x21e7bba1e20>"
      ]
     },
     "execution_count": 6,
     "metadata": {},
     "output_type": "execute_result"
    },
    {
     "data": {
      "image/png": "[encoded data removed]",
      "text/plain": [
       "<Figure size 1080x576 with 2 Axes>"
      ]
     },
     "metadata": {
      "needs_background": "light"
     },
     "output_type": "display_data"
    }
   ],
   "source": [
    "msno.matrix(df,figsize=(15, 8), fontsize=12, color=[0,0,0.2])\n"
   ]
  },
  {
   "cell_type": "markdown",
   "metadata": {},
   "source": [
    "Vemos que los datos faltantes son aleatorios y no parecen responder a un problema sistemático. Haremos un análisis exploratorio de las variables antes de comenzar.\n",
    "\n",
    "Graficamos las variables numéricas con respecto a la variable target:"
   ]
  },
  {
   "cell_type": "code",
   "execution_count": 7,
   "metadata": {},
   "outputs": [],
   "source": [
    "numerical_cols = ['Age', 'RoomService', 'FoodCourt', 'ShoppingMall', 'Spa', 'VRDeck']"
   ]
  },
  {
   "cell_type": "code",
   "execution_count": 8,
   "metadata": {},
   "outputs": [
    {
     "data": {
      "image/png": "[encoded data removed]",
      "text/plain": [
       "<Figure size 1080x1080 with 6 Axes>"
      ]
     },
     "metadata": {
      "needs_background": "light"
     },
     "output_type": "display_data"
    }
   ],
   "source": [
    "fig = plt.figure(figsize=(15, 15))\n",
    "\n",
    "for i, coln in enumerate(numerical_cols):\n",
    "    ax = fig.add_subplot(3,3,i+1)\n",
    "    sns.kdeplot(data=df, x=coln, hue='Transported')"
   ]
  },
  {
   "cell_type": "markdown",
   "metadata": {},
   "source": [
    "En cuanto a la edad, se observa que la distribución de los pasajeros transportados se encuentra algo más corrida hacia la izquierda, lo cual podría indicar un grupo más joven. Hay un pequeño salto en la densidad de este grupo cuando los valores son menores 10 aproximadamente. En cuanto a RoomService, FoodCourt, ShoppingMall, Spa, VRDeck (monto facturado en servicios de lujo), las distribuciones estan fuertemente concentradas en el cero. Esto es por el volumen de pasajeros que no facturaron esos servicios. \n",
    "\n",
    "Analicemos ahora el boxplot de estas variables en cada grupo para comparar los cuartiles de las respectivas distribuciones:"
   ]
  },
  {
   "cell_type": "code",
   "execution_count": 9,
   "metadata": {},
   "outputs": [
    {
     "data": {
      "image/png": "[encoded data removed]",
      "text/plain": [
       "<Figure size 864x864 with 6 Axes>"
      ]
     },
     "metadata": {
      "needs_background": "light"
     },
     "output_type": "display_data"
    }
   ],
   "source": [
    "fig = plt.figure(figsize=(12, 12))\n",
    "\n",
    "for i, coln in enumerate(numerical_cols):\n",
    "    ax = fig.add_subplot(3,3,i+1)\n",
    "    df.boxplot(coln, ax=ax, by='Transported',grid=False,showfliers=False);  \n",
    "\n",
    "fig.suptitle('')\n",
    "plt.tight_layout()"
   ]
  },
  {
   "cell_type": "markdown",
   "metadata": {},
   "source": [
    "Como se puede ver en el boxplot, las variables RoomService, FoodCourt, ShoppingMall, Spa, VRDeck (monto facturado en servicios de lujo), tienen mediana cero tanto para el grupo de transportados como para el grupo de no transportados. Sin embargo el grupo de no transportados tiene más datos por encima de esa mediana. A continuación vemos este mismo gráfico pero sin quitar los fliers (valores que se encuentran por fuera de 1.5 por el rango intercuartílico, y podrían considerarse outliers):"
   ]
  },
  {
   "cell_type": "code",
   "execution_count": 10,
   "metadata": {},
   "outputs": [
    {
     "data": {
      "image/png": "[encoded data removed]",
      "text/plain": [
       "<Figure size 864x864 with 6 Axes>"
      ]
     },
     "metadata": {
      "needs_background": "light"
     },
     "output_type": "display_data"
    }
   ],
   "source": [
    "fig = plt.figure(figsize=(12, 12))\n",
    "\n",
    "for i, coln in enumerate(numerical_cols):\n",
    "    ax = fig.add_subplot(3,3,i+1)\n",
    "    df.boxplot(coln, ax=ax, by='Transported',grid=False,showfliers=True);  \n",
    "\n",
    "fig.suptitle('')\n",
    "plt.tight_layout()"
   ]
  },
  {
   "cell_type": "markdown",
   "metadata": {},
   "source": [
    "A continuación se grafican las variables categóricas. Separamos Cabin en 3 para ver también cómo se comportan con respecto a la variable target."
   ]
  },
  {
   "cell_type": "code",
   "execution_count": 11,
   "metadata": {},
   "outputs": [],
   "source": [
    "df['CabinDeck'] = df.Cabin.str.rsplit(pat='/', n=3, expand=True )[0]\n",
    "df['CabinNum'] = df.Cabin.str.rsplit(pat='/', n=3, expand=True )[1].astype(float)\n",
    "df['CabinSide'] = df.Cabin.str.rsplit(pat='/', n=3, expand=True )[2]"
   ]
  },
  {
   "cell_type": "code",
   "execution_count": 12,
   "metadata": {},
   "outputs": [],
   "source": [
    "categorical_cols = ['HomePlanet', 'CryoSleep', 'Destination', 'VIP', 'CabinDeck', 'CabinSide']"
   ]
  },
  {
   "cell_type": "code",
   "execution_count": 13,
   "metadata": {},
   "outputs": [],
   "source": [
    "tr_yes = df[df.Transported == 1]\n",
    "tr_no = df[df.Transported == 0]"
   ]
  },
  {
   "cell_type": "code",
   "execution_count": 14,
   "metadata": {},
   "outputs": [],
   "source": [
    "def labeling_yes(val):\n",
    "    return f'{val / 100 * len(tr_yes):.0f}\\n{val:.0f}%'\n",
    "def labeling_no(val):\n",
    "    return f'{val / 100 * len(tr_no):.0f}\\n{val:.0f}%'"
   ]
  },
  {
   "cell_type": "code",
   "execution_count": 15,
   "metadata": {},
   "outputs": [],
   "source": [
    "colors = ['seagreen','mediumseagreen','springgreen','lightgreen','darkseagreen','dimgray','whitesmoke']"
   ]
  },
  {
   "cell_type": "code",
   "execution_count": 16,
   "metadata": {},
   "outputs": [
    {
     "data": {
      "image/png": "[encoded data removed]",
      "text/plain": [
       "<Figure size 1296x1296 with 6 Axes>"
      ]
     },
     "metadata": {},
     "output_type": "display_data"
    },
    {
     "data": {
      "image/png": "[encoded data removed]",
      "text/plain": [
       "<Figure size 1296x1296 with 6 Axes>"
      ]
     },
     "metadata": {},
     "output_type": "display_data"
    }
   ],
   "source": [
    "fig1 = plt.figure(figsize=(18, 18))\n",
    "for i, coln in enumerate(categorical_cols):\n",
    "    ax1 = fig1.add_subplot(1,len(categorical_cols),i+1)\n",
    "    ax1.set_title(categorical_cols[i])\n",
    "    tr_yes.groupby(categorical_cols[i]).size().plot(kind='pie', autopct=labeling_yes, textprops={'fontsize': 7},colors=colors, ax=ax1)\n",
    "    ax1.set_xlabel('Transported = Yes', size=10)\n",
    "    ax1.set_ylabel(categorical_cols[i], size=10)\n",
    "\n",
    "plt.show()\n",
    "fig2 = plt.figure(figsize=(18, 18))\n",
    "for i, coln in enumerate(categorical_cols):\n",
    "    ax2 = fig2.add_subplot(1,len(categorical_cols),i+1)\n",
    "    ax2.set_title(categorical_cols[i])\n",
    "    tr_no.groupby(categorical_cols[i]).size().plot(kind='pie', autopct=labeling_yes, textprops={'fontsize': 7},colors=colors, ax=ax2)\n",
    "    ax2.set_xlabel('Transported = No', size=10)\n",
    "    ax2.set_ylabel(categorical_cols[i], size=10)\n",
    "\n",
    "plt.show()"
   ]
  },
  {
   "cell_type": "markdown",
   "metadata": {},
   "source": [
    "En principio, las variables que en mayor medida muestran distribuciones diferenciadas entre las clases son: CryoSleep y HomePlanet (Europa y Tierra). También puede que Cabin_Side este teniendo alguna influencia. Se codifican también Destination y VIP para terminar de evaluar si serán descartadas o no más adelante."
   ]
  },
  {
   "cell_type": "code",
   "execution_count": 17,
   "metadata": {},
   "outputs": [],
   "source": [
    "df['CryoSleep_num']=df.CryoSleep.astype(str).apply(lambda x: 1 if x == 'True' else (0 if x == 'False' else np.nan)) \n",
    "df['HomePlanet_num']=df.HomePlanet.apply(lambda x: 1 if x == 'Europa' else (2 if x == 'Earth' else (3 if x == 'Mars' else np.nan))) \n",
    "df['CabinSide_num']=df.CabinSide.apply(lambda x: 1 if x == 'S' else 2 if x == 'P' else np.nan) \n",
    "df['VIP_num']=df.VIP.astype(str).apply(lambda x: 1 if x == 'True' else 0 if x == 'False' else np.nan) \n",
    "df['Destination_num']=df.Destination.apply(lambda x: 1 if x == 'TRAPPIST-1e' else 2 if x == '55 Cancri e' else 3 if x == 'PSO J318.5-22' else np.nan) "
   ]
  },
  {
   "cell_type": "code",
   "execution_count": 18,
   "metadata": {},
   "outputs": [
    {
     "data": {
      "text/html": [
       "<div>\n",
       "<style scoped>\n",
       "    .dataframe tbody tr th:only-of-type {\n",
       "        vertical-align: middle;\n",
       "    }\n",
       "\n",
       "    .dataframe tbody tr th {\n",
       "        vertical-align: top;\n",
       "    }\n",
       "\n",
       "    .dataframe thead th {\n",
       "        text-align: right;\n",
       "    }\n",
       "</style>\n",
       "<table border=\"1\" class=\"dataframe\">\n",
       "  <thead>\n",
       "    <tr style=\"text-align: right;\">\n",
       "      <th></th>\n",
       "      <th>PassengerId</th>\n",
       "      <th>Age</th>\n",
       "      <th>RoomService</th>\n",
       "      <th>FoodCourt</th>\n",
       "      <th>ShoppingMall</th>\n",
       "      <th>Spa</th>\n",
       "      <th>VRDeck</th>\n",
       "      <th>Transported</th>\n",
       "      <th>CabinNum</th>\n",
       "      <th>CryoSleep_num</th>\n",
       "      <th>HomePlanet_num</th>\n",
       "      <th>CabinSide_num</th>\n",
       "      <th>VIP_num</th>\n",
       "      <th>Destination_num</th>\n",
       "    </tr>\n",
       "  </thead>\n",
       "  <tbody>\n",
       "    <tr>\n",
       "      <th>count</th>\n",
       "      <td>7823.000000</td>\n",
       "      <td>7661.000000</td>\n",
       "      <td>7669.000000</td>\n",
       "      <td>7668.000000</td>\n",
       "      <td>7635.000000</td>\n",
       "      <td>7665.000000</td>\n",
       "      <td>7654.000000</td>\n",
       "      <td>7823.000000</td>\n",
       "      <td>7639.000000</td>\n",
       "      <td>7627.000000</td>\n",
       "      <td>7644.000000</td>\n",
       "      <td>7639.000000</td>\n",
       "      <td>7639.000000</td>\n",
       "      <td>7663.000000</td>\n",
       "    </tr>\n",
       "    <tr>\n",
       "      <th>mean</th>\n",
       "      <td>4345.691039</td>\n",
       "      <td>28.879389</td>\n",
       "      <td>226.078237</td>\n",
       "      <td>455.643062</td>\n",
       "      <td>172.600393</td>\n",
       "      <td>305.023222</td>\n",
       "      <td>295.476744</td>\n",
       "      <td>0.506711</td>\n",
       "      <td>598.233931</td>\n",
       "      <td>0.361348</td>\n",
       "      <td>1.955521</td>\n",
       "      <td>1.497447</td>\n",
       "      <td>0.023956</td>\n",
       "      <td>1.400496</td>\n",
       "    </tr>\n",
       "    <tr>\n",
       "      <th>std</th>\n",
       "      <td>2504.576803</td>\n",
       "      <td>14.461548</td>\n",
       "      <td>679.180148</td>\n",
       "      <td>1621.290107</td>\n",
       "      <td>597.923749</td>\n",
       "      <td>1133.423579</td>\n",
       "      <td>1093.485752</td>\n",
       "      <td>0.499987</td>\n",
       "      <td>511.402123</td>\n",
       "      <td>0.480423</td>\n",
       "      <td>0.678146</td>\n",
       "      <td>0.500026</td>\n",
       "      <td>0.152922</td>\n",
       "      <td>0.654670</td>\n",
       "    </tr>\n",
       "    <tr>\n",
       "      <th>min</th>\n",
       "      <td>0.000000</td>\n",
       "      <td>0.000000</td>\n",
       "      <td>0.000000</td>\n",
       "      <td>0.000000</td>\n",
       "      <td>0.000000</td>\n",
       "      <td>0.000000</td>\n",
       "      <td>0.000000</td>\n",
       "      <td>0.000000</td>\n",
       "      <td>0.000000</td>\n",
       "      <td>0.000000</td>\n",
       "      <td>1.000000</td>\n",
       "      <td>1.000000</td>\n",
       "      <td>0.000000</td>\n",
       "      <td>1.000000</td>\n",
       "    </tr>\n",
       "    <tr>\n",
       "      <th>25%</th>\n",
       "      <td>2182.500000</td>\n",
       "      <td>19.000000</td>\n",
       "      <td>0.000000</td>\n",
       "      <td>0.000000</td>\n",
       "      <td>0.000000</td>\n",
       "      <td>0.000000</td>\n",
       "      <td>0.000000</td>\n",
       "      <td>0.000000</td>\n",
       "      <td>168.000000</td>\n",
       "      <td>0.000000</td>\n",
       "      <td>1.000000</td>\n",
       "      <td>1.000000</td>\n",
       "      <td>0.000000</td>\n",
       "      <td>1.000000</td>\n",
       "    </tr>\n",
       "    <tr>\n",
       "      <th>50%</th>\n",
       "      <td>4345.000000</td>\n",
       "      <td>27.000000</td>\n",
       "      <td>0.000000</td>\n",
       "      <td>0.000000</td>\n",
       "      <td>0.000000</td>\n",
       "      <td>0.000000</td>\n",
       "      <td>0.000000</td>\n",
       "      <td>1.000000</td>\n",
       "      <td>424.000000</td>\n",
       "      <td>0.000000</td>\n",
       "      <td>2.000000</td>\n",
       "      <td>1.000000</td>\n",
       "      <td>0.000000</td>\n",
       "      <td>1.000000</td>\n",
       "    </tr>\n",
       "    <tr>\n",
       "      <th>75%</th>\n",
       "      <td>6515.500000</td>\n",
       "      <td>38.000000</td>\n",
       "      <td>44.000000</td>\n",
       "      <td>69.000000</td>\n",
       "      <td>28.000000</td>\n",
       "      <td>58.000000</td>\n",
       "      <td>46.000000</td>\n",
       "      <td>1.000000</td>\n",
       "      <td>992.000000</td>\n",
       "      <td>1.000000</td>\n",
       "      <td>2.000000</td>\n",
       "      <td>2.000000</td>\n",
       "      <td>0.000000</td>\n",
       "      <td>2.000000</td>\n",
       "    </tr>\n",
       "    <tr>\n",
       "      <th>max</th>\n",
       "      <td>8692.000000</td>\n",
       "      <td>79.000000</td>\n",
       "      <td>14327.000000</td>\n",
       "      <td>29813.000000</td>\n",
       "      <td>23492.000000</td>\n",
       "      <td>22408.000000</td>\n",
       "      <td>24133.000000</td>\n",
       "      <td>1.000000</td>\n",
       "      <td>1893.000000</td>\n",
       "      <td>1.000000</td>\n",
       "      <td>3.000000</td>\n",
       "      <td>2.000000</td>\n",
       "      <td>1.000000</td>\n",
       "      <td>3.000000</td>\n",
       "    </tr>\n",
       "  </tbody>\n",
       "</table>\n",
       "</div>"
      ],
      "text/plain": [
       "       PassengerId          Age   RoomService     FoodCourt  ShoppingMall  \\\n",
       "count  7823.000000  7661.000000   7669.000000   7668.000000   7635.000000   \n",
       "mean   4345.691039    28.879389    226.078237    455.643062    172.600393   \n",
       "std    2504.576803    14.461548    679.180148   1621.290107    597.923749   \n",
       "min       0.000000     0.000000      0.000000      0.000000      0.000000   \n",
       "25%    2182.500000    19.000000      0.000000      0.000000      0.000000   \n",
       "50%    4345.000000    27.000000      0.000000      0.000000      0.000000   \n",
       "75%    6515.500000    38.000000     44.000000     69.000000     28.000000   \n",
       "max    8692.000000    79.000000  14327.000000  29813.000000  23492.000000   \n",
       "\n",
       "                Spa        VRDeck  Transported     CabinNum  CryoSleep_num  \\\n",
       "count   7665.000000   7654.000000  7823.000000  7639.000000    7627.000000   \n",
       "mean     305.023222    295.476744     0.506711   598.233931       0.361348   \n",
       "std     1133.423579   1093.485752     0.499987   511.402123       0.480423   \n",
       "min        0.000000      0.000000     0.000000     0.000000       0.000000   \n",
       "25%        0.000000      0.000000     0.000000   168.000000       0.000000   \n",
       "50%        0.000000      0.000000     1.000000   424.000000       0.000000   \n",
       "75%       58.000000     46.000000     1.000000   992.000000       1.000000   \n",
       "max    22408.000000  24133.000000     1.000000  1893.000000       1.000000   \n",
       "\n",
       "       HomePlanet_num  CabinSide_num      VIP_num  Destination_num  \n",
       "count     7644.000000    7639.000000  7639.000000      7663.000000  \n",
       "mean         1.955521       1.497447     0.023956         1.400496  \n",
       "std          0.678146       0.500026     0.152922         0.654670  \n",
       "min          1.000000       1.000000     0.000000         1.000000  \n",
       "25%          1.000000       1.000000     0.000000         1.000000  \n",
       "50%          2.000000       1.000000     0.000000         1.000000  \n",
       "75%          2.000000       2.000000     0.000000         2.000000  \n",
       "max          3.000000       2.000000     1.000000         3.000000  "
      ]
     },
     "execution_count": 18,
     "metadata": {},
     "output_type": "execute_result"
    }
   ],
   "source": [
    "df.describe()"
   ]
  },
  {
   "cell_type": "markdown",
   "metadata": {},
   "source": [
    "Definimos un imputador KNN para completar los valores faltantes de las variables continuas usando la técnica del vecino más cercano (k-Nearest Neighbor)."
   ]
  },
  {
   "cell_type": "code",
   "execution_count": 19,
   "metadata": {},
   "outputs": [],
   "source": [
    "# Hacemos una copia del dataframe para imputar las variables continuas por KNN\n",
    "df_continuas = df.copy()\n",
    "df_continuas = df_continuas[['PassengerId','Age','RoomService', 'FoodCourt', 'ShoppingMall', 'Spa', 'VRDeck','Transported']]\n",
    "imputer_knn = KNNImputer(n_neighbors=2)\n",
    "df_continuas[df_continuas.columns] = imputer_knn.fit_transform(df_continuas)"
   ]
  },
  {
   "cell_type": "code",
   "execution_count": 20,
   "metadata": {},
   "outputs": [
    {
     "data": {
      "text/html": [
       "<div>\n",
       "<style scoped>\n",
       "    .dataframe tbody tr th:only-of-type {\n",
       "        vertical-align: middle;\n",
       "    }\n",
       "\n",
       "    .dataframe tbody tr th {\n",
       "        vertical-align: top;\n",
       "    }\n",
       "\n",
       "    .dataframe thead th {\n",
       "        text-align: right;\n",
       "    }\n",
       "</style>\n",
       "<table border=\"1\" class=\"dataframe\">\n",
       "  <thead>\n",
       "    <tr style=\"text-align: right;\">\n",
       "      <th></th>\n",
       "      <th>variable</th>\n",
       "      <th>q_nan</th>\n",
       "      <th>p_nan</th>\n",
       "      <th>q_zeros</th>\n",
       "      <th>p_zeros</th>\n",
       "      <th>unique</th>\n",
       "      <th>type</th>\n",
       "    </tr>\n",
       "  </thead>\n",
       "  <tbody>\n",
       "    <tr>\n",
       "      <th>0</th>\n",
       "      <td>PassengerId</td>\n",
       "      <td>0</td>\n",
       "      <td>0.0</td>\n",
       "      <td>1</td>\n",
       "      <td>0.000128</td>\n",
       "      <td>7823</td>\n",
       "      <td>float64</td>\n",
       "    </tr>\n",
       "    <tr>\n",
       "      <th>1</th>\n",
       "      <td>Age</td>\n",
       "      <td>0</td>\n",
       "      <td>0.0</td>\n",
       "      <td>160</td>\n",
       "      <td>0.020453</td>\n",
       "      <td>120</td>\n",
       "      <td>float64</td>\n",
       "    </tr>\n",
       "    <tr>\n",
       "      <th>2</th>\n",
       "      <td>RoomService</td>\n",
       "      <td>0</td>\n",
       "      <td>0.0</td>\n",
       "      <td>5141</td>\n",
       "      <td>0.657165</td>\n",
       "      <td>1219</td>\n",
       "      <td>float64</td>\n",
       "    </tr>\n",
       "    <tr>\n",
       "      <th>3</th>\n",
       "      <td>FoodCourt</td>\n",
       "      <td>0</td>\n",
       "      <td>0.0</td>\n",
       "      <td>5040</td>\n",
       "      <td>0.644254</td>\n",
       "      <td>1435</td>\n",
       "      <td>float64</td>\n",
       "    </tr>\n",
       "    <tr>\n",
       "      <th>4</th>\n",
       "      <td>ShoppingMall</td>\n",
       "      <td>0</td>\n",
       "      <td>0.0</td>\n",
       "      <td>5155</td>\n",
       "      <td>0.658954</td>\n",
       "      <td>1086</td>\n",
       "      <td>float64</td>\n",
       "    </tr>\n",
       "    <tr>\n",
       "      <th>5</th>\n",
       "      <td>Spa</td>\n",
       "      <td>0</td>\n",
       "      <td>0.0</td>\n",
       "      <td>4911</td>\n",
       "      <td>0.627764</td>\n",
       "      <td>1275</td>\n",
       "      <td>float64</td>\n",
       "    </tr>\n",
       "    <tr>\n",
       "      <th>6</th>\n",
       "      <td>VRDeck</td>\n",
       "      <td>0</td>\n",
       "      <td>0.0</td>\n",
       "      <td>5048</td>\n",
       "      <td>0.645277</td>\n",
       "      <td>1266</td>\n",
       "      <td>float64</td>\n",
       "    </tr>\n",
       "    <tr>\n",
       "      <th>7</th>\n",
       "      <td>Transported</td>\n",
       "      <td>0</td>\n",
       "      <td>0.0</td>\n",
       "      <td>3859</td>\n",
       "      <td>0.493289</td>\n",
       "      <td>2</td>\n",
       "      <td>float64</td>\n",
       "    </tr>\n",
       "  </tbody>\n",
       "</table>\n",
       "</div>"
      ],
      "text/plain": [
       "       variable  q_nan  p_nan  q_zeros   p_zeros  unique     type\n",
       "0   PassengerId      0    0.0        1  0.000128    7823  float64\n",
       "1           Age      0    0.0      160  0.020453     120  float64\n",
       "2   RoomService      0    0.0     5141  0.657165    1219  float64\n",
       "3     FoodCourt      0    0.0     5040  0.644254    1435  float64\n",
       "4  ShoppingMall      0    0.0     5155  0.658954    1086  float64\n",
       "5           Spa      0    0.0     4911  0.627764    1275  float64\n",
       "6        VRDeck      0    0.0     5048  0.645277    1266  float64\n",
       "7   Transported      0    0.0     3859  0.493289       2  float64"
      ]
     },
     "execution_count": 20,
     "metadata": {},
     "output_type": "execute_result"
    }
   ],
   "source": [
    "status(df_continuas)"
   ]
  },
  {
   "cell_type": "markdown",
   "metadata": {},
   "source": [
    "Se imputan las las variables booleanas por la moda (valor más frecuente)."
   ]
  },
  {
   "cell_type": "code",
   "execution_count": 21,
   "metadata": {},
   "outputs": [],
   "source": [
    "# Hacemos una copia del dataframe para imputar las variables categóricas por su valor más frecuente\n",
    "df_categoricas = df.copy()\n",
    "df_categoricas = df_categoricas[['PassengerId','CryoSleep_num','HomePlanet_num','CabinSide_num','VIP_num','Destination_num']]\n",
    "imputer_mf = SimpleImputer(strategy='most_frequent')\n",
    "df_categoricas[df_categoricas.columns] = imputer_mf.fit_transform(df_categoricas)"
   ]
  },
  {
   "cell_type": "code",
   "execution_count": 22,
   "metadata": {},
   "outputs": [
    {
     "data": {
      "text/html": [
       "<div>\n",
       "<style scoped>\n",
       "    .dataframe tbody tr th:only-of-type {\n",
       "        vertical-align: middle;\n",
       "    }\n",
       "\n",
       "    .dataframe tbody tr th {\n",
       "        vertical-align: top;\n",
       "    }\n",
       "\n",
       "    .dataframe thead th {\n",
       "        text-align: right;\n",
       "    }\n",
       "</style>\n",
       "<table border=\"1\" class=\"dataframe\">\n",
       "  <thead>\n",
       "    <tr style=\"text-align: right;\">\n",
       "      <th></th>\n",
       "      <th>variable</th>\n",
       "      <th>q_nan</th>\n",
       "      <th>p_nan</th>\n",
       "      <th>q_zeros</th>\n",
       "      <th>p_zeros</th>\n",
       "      <th>unique</th>\n",
       "      <th>type</th>\n",
       "    </tr>\n",
       "  </thead>\n",
       "  <tbody>\n",
       "    <tr>\n",
       "      <th>0</th>\n",
       "      <td>PassengerId</td>\n",
       "      <td>0</td>\n",
       "      <td>0.0</td>\n",
       "      <td>1</td>\n",
       "      <td>0.000128</td>\n",
       "      <td>7823</td>\n",
       "      <td>float64</td>\n",
       "    </tr>\n",
       "    <tr>\n",
       "      <th>1</th>\n",
       "      <td>CryoSleep_num</td>\n",
       "      <td>0</td>\n",
       "      <td>0.0</td>\n",
       "      <td>5067</td>\n",
       "      <td>0.647705</td>\n",
       "      <td>2</td>\n",
       "      <td>float64</td>\n",
       "    </tr>\n",
       "    <tr>\n",
       "      <th>2</th>\n",
       "      <td>HomePlanet_num</td>\n",
       "      <td>0</td>\n",
       "      <td>0.0</td>\n",
       "      <td>0</td>\n",
       "      <td>0.000000</td>\n",
       "      <td>3</td>\n",
       "      <td>float64</td>\n",
       "    </tr>\n",
       "    <tr>\n",
       "      <th>3</th>\n",
       "      <td>CabinSide_num</td>\n",
       "      <td>0</td>\n",
       "      <td>0.0</td>\n",
       "      <td>0</td>\n",
       "      <td>0.000000</td>\n",
       "      <td>2</td>\n",
       "      <td>float64</td>\n",
       "    </tr>\n",
       "    <tr>\n",
       "      <th>4</th>\n",
       "      <td>VIP_num</td>\n",
       "      <td>0</td>\n",
       "      <td>0.0</td>\n",
       "      <td>7640</td>\n",
       "      <td>0.976607</td>\n",
       "      <td>2</td>\n",
       "      <td>float64</td>\n",
       "    </tr>\n",
       "    <tr>\n",
       "      <th>5</th>\n",
       "      <td>Destination_num</td>\n",
       "      <td>0</td>\n",
       "      <td>0.0</td>\n",
       "      <td>0</td>\n",
       "      <td>0.000000</td>\n",
       "      <td>3</td>\n",
       "      <td>float64</td>\n",
       "    </tr>\n",
       "  </tbody>\n",
       "</table>\n",
       "</div>"
      ],
      "text/plain": [
       "          variable  q_nan  p_nan  q_zeros   p_zeros  unique     type\n",
       "0      PassengerId      0    0.0        1  0.000128    7823  float64\n",
       "1    CryoSleep_num      0    0.0     5067  0.647705       2  float64\n",
       "2   HomePlanet_num      0    0.0        0  0.000000       3  float64\n",
       "3    CabinSide_num      0    0.0        0  0.000000       2  float64\n",
       "4          VIP_num      0    0.0     7640  0.976607       2  float64\n",
       "5  Destination_num      0    0.0        0  0.000000       3  float64"
      ]
     },
     "execution_count": 22,
     "metadata": {},
     "output_type": "execute_result"
    }
   ],
   "source": [
    "status(df_categoricas)"
   ]
  },
  {
   "cell_type": "markdown",
   "metadata": {},
   "source": [
    "Unimos las columnas imputadas en un dataframe, y verificamos que no haya nulos"
   ]
  },
  {
   "cell_type": "code",
   "execution_count": 23,
   "metadata": {},
   "outputs": [
    {
     "data": {
      "text/html": [
       "<div>\n",
       "<style scoped>\n",
       "    .dataframe tbody tr th:only-of-type {\n",
       "        vertical-align: middle;\n",
       "    }\n",
       "\n",
       "    .dataframe tbody tr th {\n",
       "        vertical-align: top;\n",
       "    }\n",
       "\n",
       "    .dataframe thead th {\n",
       "        text-align: right;\n",
       "    }\n",
       "</style>\n",
       "<table border=\"1\" class=\"dataframe\">\n",
       "  <thead>\n",
       "    <tr style=\"text-align: right;\">\n",
       "      <th></th>\n",
       "      <th>variable</th>\n",
       "      <th>q_nan</th>\n",
       "      <th>p_nan</th>\n",
       "      <th>q_zeros</th>\n",
       "      <th>p_zeros</th>\n",
       "      <th>unique</th>\n",
       "      <th>type</th>\n",
       "    </tr>\n",
       "  </thead>\n",
       "  <tbody>\n",
       "    <tr>\n",
       "      <th>0</th>\n",
       "      <td>PassengerId</td>\n",
       "      <td>0</td>\n",
       "      <td>0.0</td>\n",
       "      <td>1</td>\n",
       "      <td>0.000128</td>\n",
       "      <td>7823</td>\n",
       "      <td>float64</td>\n",
       "    </tr>\n",
       "    <tr>\n",
       "      <th>1</th>\n",
       "      <td>Age</td>\n",
       "      <td>0</td>\n",
       "      <td>0.0</td>\n",
       "      <td>160</td>\n",
       "      <td>0.020453</td>\n",
       "      <td>120</td>\n",
       "      <td>float64</td>\n",
       "    </tr>\n",
       "    <tr>\n",
       "      <th>2</th>\n",
       "      <td>RoomService</td>\n",
       "      <td>0</td>\n",
       "      <td>0.0</td>\n",
       "      <td>5141</td>\n",
       "      <td>0.657165</td>\n",
       "      <td>1219</td>\n",
       "      <td>float64</td>\n",
       "    </tr>\n",
       "    <tr>\n",
       "      <th>3</th>\n",
       "      <td>FoodCourt</td>\n",
       "      <td>0</td>\n",
       "      <td>0.0</td>\n",
       "      <td>5040</td>\n",
       "      <td>0.644254</td>\n",
       "      <td>1435</td>\n",
       "      <td>float64</td>\n",
       "    </tr>\n",
       "    <tr>\n",
       "      <th>4</th>\n",
       "      <td>ShoppingMall</td>\n",
       "      <td>0</td>\n",
       "      <td>0.0</td>\n",
       "      <td>5155</td>\n",
       "      <td>0.658954</td>\n",
       "      <td>1086</td>\n",
       "      <td>float64</td>\n",
       "    </tr>\n",
       "    <tr>\n",
       "      <th>5</th>\n",
       "      <td>Spa</td>\n",
       "      <td>0</td>\n",
       "      <td>0.0</td>\n",
       "      <td>4911</td>\n",
       "      <td>0.627764</td>\n",
       "      <td>1275</td>\n",
       "      <td>float64</td>\n",
       "    </tr>\n",
       "    <tr>\n",
       "      <th>6</th>\n",
       "      <td>VRDeck</td>\n",
       "      <td>0</td>\n",
       "      <td>0.0</td>\n",
       "      <td>5048</td>\n",
       "      <td>0.645277</td>\n",
       "      <td>1266</td>\n",
       "      <td>float64</td>\n",
       "    </tr>\n",
       "    <tr>\n",
       "      <th>7</th>\n",
       "      <td>Transported</td>\n",
       "      <td>0</td>\n",
       "      <td>0.0</td>\n",
       "      <td>3859</td>\n",
       "      <td>0.493289</td>\n",
       "      <td>2</td>\n",
       "      <td>float64</td>\n",
       "    </tr>\n",
       "    <tr>\n",
       "      <th>8</th>\n",
       "      <td>CryoSleep_num</td>\n",
       "      <td>0</td>\n",
       "      <td>0.0</td>\n",
       "      <td>5067</td>\n",
       "      <td>0.647705</td>\n",
       "      <td>2</td>\n",
       "      <td>float64</td>\n",
       "    </tr>\n",
       "    <tr>\n",
       "      <th>9</th>\n",
       "      <td>HomePlanet_num</td>\n",
       "      <td>0</td>\n",
       "      <td>0.0</td>\n",
       "      <td>0</td>\n",
       "      <td>0.000000</td>\n",
       "      <td>3</td>\n",
       "      <td>float64</td>\n",
       "    </tr>\n",
       "    <tr>\n",
       "      <th>10</th>\n",
       "      <td>CabinSide_num</td>\n",
       "      <td>0</td>\n",
       "      <td>0.0</td>\n",
       "      <td>0</td>\n",
       "      <td>0.000000</td>\n",
       "      <td>2</td>\n",
       "      <td>float64</td>\n",
       "    </tr>\n",
       "    <tr>\n",
       "      <th>11</th>\n",
       "      <td>VIP_num</td>\n",
       "      <td>0</td>\n",
       "      <td>0.0</td>\n",
       "      <td>7640</td>\n",
       "      <td>0.976607</td>\n",
       "      <td>2</td>\n",
       "      <td>float64</td>\n",
       "    </tr>\n",
       "    <tr>\n",
       "      <th>12</th>\n",
       "      <td>Destination_num</td>\n",
       "      <td>0</td>\n",
       "      <td>0.0</td>\n",
       "      <td>0</td>\n",
       "      <td>0.000000</td>\n",
       "      <td>3</td>\n",
       "      <td>float64</td>\n",
       "    </tr>\n",
       "  </tbody>\n",
       "</table>\n",
       "</div>"
      ],
      "text/plain": [
       "           variable  q_nan  p_nan  q_zeros   p_zeros  unique     type\n",
       "0       PassengerId      0    0.0        1  0.000128    7823  float64\n",
       "1               Age      0    0.0      160  0.020453     120  float64\n",
       "2       RoomService      0    0.0     5141  0.657165    1219  float64\n",
       "3         FoodCourt      0    0.0     5040  0.644254    1435  float64\n",
       "4      ShoppingMall      0    0.0     5155  0.658954    1086  float64\n",
       "5               Spa      0    0.0     4911  0.627764    1275  float64\n",
       "6            VRDeck      0    0.0     5048  0.645277    1266  float64\n",
       "7       Transported      0    0.0     3859  0.493289       2  float64\n",
       "8     CryoSleep_num      0    0.0     5067  0.647705       2  float64\n",
       "9    HomePlanet_num      0    0.0        0  0.000000       3  float64\n",
       "10    CabinSide_num      0    0.0        0  0.000000       2  float64\n",
       "11          VIP_num      0    0.0     7640  0.976607       2  float64\n",
       "12  Destination_num      0    0.0        0  0.000000       3  float64"
      ]
     },
     "execution_count": 23,
     "metadata": {},
     "output_type": "execute_result"
    }
   ],
   "source": [
    "df_imputed = df_continuas\n",
    "df_imputed = df_continuas.set_index('PassengerId').join(df_categoricas.set_index('PassengerId')).reset_index()\n",
    "status(df_imputed)"
   ]
  },
  {
   "cell_type": "markdown",
   "metadata": {},
   "source": [
    "Separamos las variables explicativas (X) de nuestra variable TARGET (y):"
   ]
  },
  {
   "cell_type": "code",
   "execution_count": 24,
   "metadata": {},
   "outputs": [],
   "source": [
    "X = df_imputed.drop('Transported', axis=1)\n",
    "y = df_imputed.Transported"
   ]
  },
  {
   "cell_type": "code",
   "execution_count": 25,
   "metadata": {},
   "outputs": [
    {
     "data": {
      "text/plain": [
       "Text(0.5, 1.0, 'Correlation between Variables')"
      ]
     },
     "execution_count": 25,
     "metadata": {},
     "output_type": "execute_result"
    },
    {
     "data": {
      "image/png": "[encoded data removed]",
      "text/plain": [
       "<Figure size 1296x864 with 2 Axes>"
      ]
     },
     "metadata": {
      "needs_background": "light"
     },
     "output_type": "display_data"
    }
   ],
   "source": [
    "# Revisamos que no haya una correlación fuerte entre nuestras variables explicativas\n",
    "plt.figure(figsize=(18,12))\n",
    "sns.heatmap(X.corr(),annot=True, fmt='.2f')\n",
    "plt.title('Correlation between Variables', fontsize=14)"
   ]
  },
  {
   "cell_type": "code",
   "execution_count": 30,
   "metadata": {},
   "outputs": [
    {
     "data": {
      "text/html": [
       "<div>\n",
       "<style scoped>\n",
       "    .dataframe tbody tr th:only-of-type {\n",
       "        vertical-align: middle;\n",
       "    }\n",
       "\n",
       "    .dataframe tbody tr th {\n",
       "        vertical-align: top;\n",
       "    }\n",
       "\n",
       "    .dataframe thead th {\n",
       "        text-align: right;\n",
       "    }\n",
       "</style>\n",
       "<table border=\"1\" class=\"dataframe\">\n",
       "  <thead>\n",
       "    <tr style=\"text-align: right;\">\n",
       "      <th></th>\n",
       "      <th>PassengerId</th>\n",
       "      <th>Age</th>\n",
       "      <th>RoomService</th>\n",
       "      <th>FoodCourt</th>\n",
       "      <th>ShoppingMall</th>\n",
       "      <th>Spa</th>\n",
       "      <th>VRDeck</th>\n",
       "      <th>CryoSleep_num</th>\n",
       "      <th>HomePlanet_num</th>\n",
       "      <th>CabinSide_num</th>\n",
       "      <th>VIP_num</th>\n",
       "      <th>Destination_num</th>\n",
       "    </tr>\n",
       "  </thead>\n",
       "  <tbody>\n",
       "    <tr>\n",
       "      <th>0</th>\n",
       "      <td>0.394616</td>\n",
       "      <td>0.721519</td>\n",
       "      <td>0.000000</td>\n",
       "      <td>0.129440</td>\n",
       "      <td>0.000553</td>\n",
       "      <td>0.008702</td>\n",
       "      <td>0.160527</td>\n",
       "      <td>0.0</td>\n",
       "      <td>0.0</td>\n",
       "      <td>1.0</td>\n",
       "      <td>0.0</td>\n",
       "      <td>0.0</td>\n",
       "    </tr>\n",
       "    <tr>\n",
       "      <th>1</th>\n",
       "      <td>0.076967</td>\n",
       "      <td>0.227848</td>\n",
       "      <td>0.000000</td>\n",
       "      <td>0.000000</td>\n",
       "      <td>0.000000</td>\n",
       "      <td>0.000000</td>\n",
       "      <td>0.000000</td>\n",
       "      <td>1.0</td>\n",
       "      <td>1.0</td>\n",
       "      <td>0.0</td>\n",
       "      <td>0.0</td>\n",
       "      <td>0.0</td>\n",
       "    </tr>\n",
       "    <tr>\n",
       "      <th>2</th>\n",
       "      <td>0.969857</td>\n",
       "      <td>0.417722</td>\n",
       "      <td>0.000000</td>\n",
       "      <td>0.000000</td>\n",
       "      <td>0.000000</td>\n",
       "      <td>0.000000</td>\n",
       "      <td>0.000000</td>\n",
       "      <td>1.0</td>\n",
       "      <td>0.0</td>\n",
       "      <td>0.0</td>\n",
       "      <td>0.0</td>\n",
       "      <td>0.0</td>\n",
       "    </tr>\n",
       "    <tr>\n",
       "      <th>3</th>\n",
       "      <td>0.743557</td>\n",
       "      <td>0.544304</td>\n",
       "      <td>0.009911</td>\n",
       "      <td>0.040519</td>\n",
       "      <td>0.000000</td>\n",
       "      <td>0.000000</td>\n",
       "      <td>0.008453</td>\n",
       "      <td>0.0</td>\n",
       "      <td>0.5</td>\n",
       "      <td>1.0</td>\n",
       "      <td>0.0</td>\n",
       "      <td>0.0</td>\n",
       "    </tr>\n",
       "    <tr>\n",
       "      <th>4</th>\n",
       "      <td>0.009779</td>\n",
       "      <td>0.240506</td>\n",
       "      <td>0.000000</td>\n",
       "      <td>0.000000</td>\n",
       "      <td>0.028520</td>\n",
       "      <td>0.000045</td>\n",
       "      <td>0.001409</td>\n",
       "      <td>0.0</td>\n",
       "      <td>0.5</td>\n",
       "      <td>1.0</td>\n",
       "      <td>0.0</td>\n",
       "      <td>0.0</td>\n",
       "    </tr>\n",
       "    <tr>\n",
       "      <th>...</th>\n",
       "      <td>...</td>\n",
       "      <td>...</td>\n",
       "      <td>...</td>\n",
       "      <td>...</td>\n",
       "      <td>...</td>\n",
       "      <td>...</td>\n",
       "      <td>...</td>\n",
       "      <td>...</td>\n",
       "      <td>...</td>\n",
       "      <td>...</td>\n",
       "      <td>...</td>\n",
       "      <td>...</td>\n",
       "    </tr>\n",
       "    <tr>\n",
       "      <th>7818</th>\n",
       "      <td>0.751035</td>\n",
       "      <td>0.151899</td>\n",
       "      <td>0.000000</td>\n",
       "      <td>0.000000</td>\n",
       "      <td>0.000000</td>\n",
       "      <td>0.000000</td>\n",
       "      <td>0.000000</td>\n",
       "      <td>0.0</td>\n",
       "      <td>1.0</td>\n",
       "      <td>0.0</td>\n",
       "      <td>0.0</td>\n",
       "      <td>0.0</td>\n",
       "    </tr>\n",
       "    <tr>\n",
       "      <th>7819</th>\n",
       "      <td>0.309825</td>\n",
       "      <td>0.556962</td>\n",
       "      <td>0.000000</td>\n",
       "      <td>0.000000</td>\n",
       "      <td>0.031670</td>\n",
       "      <td>0.002767</td>\n",
       "      <td>0.000124</td>\n",
       "      <td>0.0</td>\n",
       "      <td>0.5</td>\n",
       "      <td>0.0</td>\n",
       "      <td>0.0</td>\n",
       "      <td>0.0</td>\n",
       "    </tr>\n",
       "    <tr>\n",
       "      <th>7820</th>\n",
       "      <td>0.929130</td>\n",
       "      <td>0.696203</td>\n",
       "      <td>0.000000</td>\n",
       "      <td>0.000000</td>\n",
       "      <td>0.000000</td>\n",
       "      <td>0.000000</td>\n",
       "      <td>0.000000</td>\n",
       "      <td>1.0</td>\n",
       "      <td>1.0</td>\n",
       "      <td>1.0</td>\n",
       "      <td>0.0</td>\n",
       "      <td>0.0</td>\n",
       "    </tr>\n",
       "    <tr>\n",
       "      <th>7821</th>\n",
       "      <td>0.440520</td>\n",
       "      <td>0.189873</td>\n",
       "      <td>0.000000</td>\n",
       "      <td>0.028176</td>\n",
       "      <td>0.005236</td>\n",
       "      <td>0.000000</td>\n",
       "      <td>0.000829</td>\n",
       "      <td>0.0</td>\n",
       "      <td>0.5</td>\n",
       "      <td>1.0</td>\n",
       "      <td>0.0</td>\n",
       "      <td>0.0</td>\n",
       "    </tr>\n",
       "    <tr>\n",
       "      <th>7822</th>\n",
       "      <td>0.877128</td>\n",
       "      <td>0.569620</td>\n",
       "      <td>0.000000</td>\n",
       "      <td>0.000000</td>\n",
       "      <td>0.000000</td>\n",
       "      <td>0.000000</td>\n",
       "      <td>0.000000</td>\n",
       "      <td>1.0</td>\n",
       "      <td>0.0</td>\n",
       "      <td>1.0</td>\n",
       "      <td>0.0</td>\n",
       "      <td>0.5</td>\n",
       "    </tr>\n",
       "  </tbody>\n",
       "</table>\n",
       "<p>7823 rows × 12 columns</p>\n",
       "</div>"
      ],
      "text/plain": [
       "      PassengerId       Age  RoomService  FoodCourt  ShoppingMall       Spa  \\\n",
       "0        0.394616  0.721519     0.000000   0.129440      0.000553  0.008702   \n",
       "1        0.076967  0.227848     0.000000   0.000000      0.000000  0.000000   \n",
       "2        0.969857  0.417722     0.000000   0.000000      0.000000  0.000000   \n",
       "3        0.743557  0.544304     0.009911   0.040519      0.000000  0.000000   \n",
       "4        0.009779  0.240506     0.000000   0.000000      0.028520  0.000045   \n",
       "...           ...       ...          ...        ...           ...       ...   \n",
       "7818     0.751035  0.151899     0.000000   0.000000      0.000000  0.000000   \n",
       "7819     0.309825  0.556962     0.000000   0.000000      0.031670  0.002767   \n",
       "7820     0.929130  0.696203     0.000000   0.000000      0.000000  0.000000   \n",
       "7821     0.440520  0.189873     0.000000   0.028176      0.005236  0.000000   \n",
       "7822     0.877128  0.569620     0.000000   0.000000      0.000000  0.000000   \n",
       "\n",
       "        VRDeck  CryoSleep_num  HomePlanet_num  CabinSide_num  VIP_num  \\\n",
       "0     0.160527            0.0             0.0            1.0      0.0   \n",
       "1     0.000000            1.0             1.0            0.0      0.0   \n",
       "2     0.000000            1.0             0.0            0.0      0.0   \n",
       "3     0.008453            0.0             0.5            1.0      0.0   \n",
       "4     0.001409            0.0             0.5            1.0      0.0   \n",
       "...        ...            ...             ...            ...      ...   \n",
       "7818  0.000000            0.0             1.0            0.0      0.0   \n",
       "7819  0.000124            0.0             0.5            0.0      0.0   \n",
       "7820  0.000000            1.0             1.0            1.0      0.0   \n",
       "7821  0.000829            0.0             0.5            1.0      0.0   \n",
       "7822  0.000000            1.0             0.0            1.0      0.0   \n",
       "\n",
       "      Destination_num  \n",
       "0                 0.0  \n",
       "1                 0.0  \n",
       "2                 0.0  \n",
       "3                 0.0  \n",
       "4                 0.0  \n",
       "...               ...  \n",
       "7818              0.0  \n",
       "7819              0.0  \n",
       "7820              0.0  \n",
       "7821              0.0  \n",
       "7822              0.5  \n",
       "\n",
       "[7823 rows x 12 columns]"
      ]
     },
     "execution_count": 30,
     "metadata": {},
     "output_type": "execute_result"
    }
   ],
   "source": [
    "# Escalamos\n",
    "x_names = X.columns\n",
    "scaler = MinMaxScaler(feature_range=(0, 1), copy=True)\n",
    "X_orig = X.copy(deep=True)\n",
    "X = scaler.fit_transform(X_orig)\n",
    "X = pd.DataFrame(X, columns=x_names)\n",
    "X"
   ]
  },
  {
   "cell_type": "markdown",
   "metadata": {},
   "source": [
    "### Entrenamiento y Test"
   ]
  },
  {
   "cell_type": "code",
   "execution_count": 31,
   "metadata": {},
   "outputs": [],
   "source": [
    "x_train, x_test, y_train, y_test = train_test_split(X, y, train_size=0.8, random_state = 8)"
   ]
  },
  {
   "cell_type": "code",
   "execution_count": 32,
   "metadata": {},
   "outputs": [
    {
     "data": {
      "text/plain": [
       "((6258, 12), (6258,), (1565, 12), (1565,))"
      ]
     },
     "execution_count": 32,
     "metadata": {},
     "output_type": "execute_result"
    }
   ],
   "source": [
    "x_train.shape, y_train.shape, x_test.shape, y_test.shape"
   ]
  },
  {
   "cell_type": "markdown",
   "metadata": {},
   "source": [
    "### Modelo Baseline"
   ]
  },
  {
   "cell_type": "code",
   "execution_count": 33,
   "metadata": {},
   "outputs": [
    {
     "name": "stdout",
     "output_type": "stream",
     "text": [
      "Árbol de decisión\n",
      "Accuracy train Árbol de decisión: 100.00%\n",
      "Accuracy test {name}: 71.95%\n"
     ]
    }
   ],
   "source": [
    "clfs = [DecisionTreeClassifier()]\n",
    "names = ['Árbol de decisión']\n",
    "\n",
    "trained_models = []\n",
    "accuracy_models = []\n",
    "for clf,name in zip(clfs,names):\n",
    "    print(name)\n",
    "    clf.fit(x_train, y_train)\n",
    "    train_predictions = clf.predict(x_train)\n",
    "    accuracy = accuracy_score(y_train, train_predictions)\n",
    "    print(f\"Accuracy train {name}: %.2f%%\" % (accuracy * 100.0))\n",
    "\n",
    "    train_predictions = clf.predict(x_test)\n",
    "    accuracy = accuracy_score(y_test, train_predictions)\n",
    "    print(\"Accuracy test {name}: %.2f%%\" % (accuracy * 100.0))\n",
    "    # plot_confusion_matrix(clf,x_test,y_test)\n",
    "    trained_models.append(clf)\n",
    "    accuracy_models.append(accuracy*100)"
   ]
  },
  {
   "cell_type": "markdown",
   "metadata": {},
   "source": [
    "### Algún tipo de ajuste de hiperparámetros de los modelos elegidos"
   ]
  },
  {
   "cell_type": "code",
   "execution_count": 34,
   "metadata": {},
   "outputs": [
    {
     "data": {
      "text/plain": [
       "{'criterion': 'entropy', 'max_depth': 10, 'splitter': 'random'}"
      ]
     },
     "execution_count": 34,
     "metadata": {},
     "output_type": "execute_result"
    }
   ],
   "source": [
    "grid = GridSearchCV(DecisionTreeClassifier(),\n",
    " {'criterion':('gini','entropy'),\n",
    " 'splitter':(\"best\",\"random\"),\n",
    " 'max_depth':(10,20,100)})\n",
    "grid.fit(x_train,y_train)\n",
    "grid.best_params_"
   ]
  },
  {
   "cell_type": "code",
   "execution_count": 35,
   "metadata": {},
   "outputs": [
    {
     "name": "stdout",
     "output_type": "stream",
     "text": [
      "Accuracy train Arbol de decisión: 78.49%\n",
      "Accuracy test Arbol de decisión: 76.61%\n",
      "              precision    recall  f1-score   support\n",
      "\n",
      "         0.0       0.72      0.83      0.77       748\n",
      "         1.0       0.82      0.71      0.76       817\n",
      "\n",
      "    accuracy                           0.77      1565\n",
      "   macro avg       0.77      0.77      0.77      1565\n",
      "weighted avg       0.77      0.77      0.77      1565\n",
      "\n"
     ]
    }
   ],
   "source": [
    "clf = DecisionTreeClassifier(**grid.best_params_).fit(x_train, y_train)\n",
    "\n",
    "train_predictions = clf.predict(x_train)\n",
    "accuracy = accuracy_score(y_train, train_predictions)\n",
    "print(\"Accuracy train Arbol de decisión: %.2f%%\" % (accuracy * 100.0))\n",
    "\n",
    "test_predictions = clf.predict(x_test)\n",
    "accuracy = accuracy_score(y_test, test_predictions)\n",
    "print(\"Accuracy test Arbol de decisión: %.2f%%\" % (accuracy * 100.0))\n",
    "\n",
    "print(classification_report(y_test,clf.predict(x_test)))"
   ]
  },
  {
   "cell_type": "code",
   "execution_count": 36,
   "metadata": {},
   "outputs": [
    {
     "name": "stdout",
     "output_type": "stream",
     "text": [
      "DecisionTreeClassifier(criterion='entropy', max_depth=10, splitter='random')\n",
      "Precisión test fold 0: 71.25\n",
      "Precisión test fold 1: 77.64\n",
      "Precisión test fold 2: 75.64\n",
      "Precisión test fold 3: 76.74\n",
      "Precisión test fold 4: 74.34\n",
      "Avg. accuracy = 75.11998069276208\n"
     ]
    }
   ],
   "source": [
    "FOLDS=5\n",
    "cv = StratifiedKFold(n_splits=FOLDS, shuffle=True, random_state=10)\n",
    "\n",
    "x_train2 = np.array(x_train)\n",
    "y_train2 = np.array(y_train)\n",
    "\n",
    "\n",
    "for clfi, name in zip([DecisionTreeClassifier(**grid.best_params_)],names):\n",
    "    print(clfi)\n",
    "    avg_accuracy = 0\n",
    "    for fold, (train_idx, val_idx) in enumerate(cv.split(x_train2, y_train2)):\n",
    "        xi, yi = x_train2[train_idx], y_train2[train_idx]\n",
    "        x_valid, y_valid = x_train2[val_idx], y_train2[val_idx]\n",
    "        clfi = clfi.fit(xi, yi)\n",
    "\n",
    "        test_predictions = clfi.predict(x_valid)\n",
    "        accuracy = accuracy_score(y_valid, test_predictions)\n",
    "        avg_accuracy +=accuracy\n",
    "        print(f\"Precisión test fold {fold}: {accuracy * 100.0 :.2f}\" % ())\n",
    "\n",
    "    avg_accuracy /= FOLDS\n",
    "    print(f'Avg. accuracy = {avg_accuracy * 100}')"
   ]
  },
  {
   "cell_type": "markdown",
   "metadata": {},
   "source": [
    "### Validamos ahora varios modelos para obtener mayor Accuracy"
   ]
  },
  {
   "cell_type": "markdown",
   "metadata": {},
   "source": [
    "### Primero validaremos con varios modelos para verificar cual puede ser que obtenga un mayor Accuracy"
   ]
  },
  {
   "cell_type": "code",
   "execution_count": 37,
   "metadata": {},
   "outputs": [
    {
     "name": "stdout",
     "output_type": "stream",
     "text": [
      "Arbol de decisión\n",
      "Accuracy train Arbol de decisión: 100.00%\n",
      "Accuracy test Arbol de decisión: 72.33%\n",
      "Random Forest\n",
      "Accuracy train Random Forest: 100.00%\n",
      "Accuracy test Random Forest: 80.38%\n",
      "Regresión Logística\n",
      "Accuracy train Regresión Logística: 76.30%\n",
      "Accuracy test Regresión Logística: 75.91%\n",
      "Perceptrón multicapa\n",
      "Accuracy train Perceptrón multicapa: 80.44%\n",
      "Accuracy test Perceptrón multicapa: 80.51%\n",
      "XGBoost\n",
      "Accuracy train XGBoost: 92.62%\n",
      "Accuracy test XGBoost: 80.51%\n",
      "Naive Bayes\n",
      "Accuracy train Naive Bayes: 70.07%\n",
      "Accuracy test Naive Bayes: 69.71%\n",
      "SVM\n",
      "Accuracy train SVM: 78.12%\n",
      "Accuracy test SVM: 79.17%\n"
     ]
    }
   ],
   "source": [
    "from sklearn.model_selection import cross_val_score, cross_validate, KFold, StratifiedKFold, LeaveOneOut, LeavePOut\n",
    "from sklearn.metrics import recall_score, accuracy_score, precision_score, f1_score, roc_auc_score, mean_squared_error, r2_score, confusion_matrix, classification_report, ConfusionMatrixDisplay\n",
    "\n",
    "from sklearn.tree import DecisionTreeClassifier\n",
    "from sklearn.ensemble import RandomForestClassifier\n",
    "from sklearn.linear_model import LogisticRegression\n",
    "from sklearn.neural_network import MLPClassifier\n",
    "from xgboost import XGBClassifier\n",
    "from sklearn.naive_bayes import GaussianNB\n",
    "from sklearn.svm import LinearSVC\n",
    "\n",
    "clfs =  [DecisionTreeClassifier(),\n",
    "        RandomForestClassifier(),\n",
    "        LogisticRegression(),\n",
    "        MLPClassifier(),\n",
    "        XGBClassifier(),\n",
    "        GaussianNB(),\n",
    "        LinearSVC()]\n",
    "\n",
    "names = ['Arbol de decisión',\n",
    "        'Random Forest',\n",
    "        'Regresión Logística',\n",
    "        'Perceptrón multicapa',\n",
    "        'XGBoost',\n",
    "        'Naive Bayes',\n",
    "        'SVM']\n",
    "\n",
    "trained_models = []\n",
    "accuracy_models = []\n",
    "for clf, name in zip(clfs, names):\n",
    "    print(name)\n",
    "    clf.fit(x_train, y_train)\n",
    "    \n",
    "    train_predictions = clf.predict(x_train)\n",
    "    accuracy = accuracy_score(y_train, train_predictions)\n",
    "    print(f\"Accuracy train {name}: %.2f%%\" % (accuracy * 100.0))\n",
    "\n",
    "    test_predictions = clf.predict(x_test)\n",
    "    accuracy = accuracy_score(y_test, test_predictions)\n",
    "    print(f\"Accuracy test {name}: %.2f%%\" % (accuracy * 100.0))\n",
    "    trained_models.append(clf)    \n",
    "    accuracy_models.append(accuracy)"
   ]
  },
  {
   "cell_type": "code",
   "execution_count": 38,
   "metadata": {},
   "outputs": [
    {
     "data": {
      "text/html": [
       "<div>\n",
       "<style scoped>\n",
       "    .dataframe tbody tr th:only-of-type {\n",
       "        vertical-align: middle;\n",
       "    }\n",
       "\n",
       "    .dataframe tbody tr th {\n",
       "        vertical-align: top;\n",
       "    }\n",
       "\n",
       "    .dataframe thead th {\n",
       "        text-align: right;\n",
       "    }\n",
       "</style>\n",
       "<table border=\"1\" class=\"dataframe\">\n",
       "  <thead>\n",
       "    <tr style=\"text-align: right;\">\n",
       "      <th></th>\n",
       "      <th>Model</th>\n",
       "      <th>Score</th>\n",
       "    </tr>\n",
       "  </thead>\n",
       "  <tbody>\n",
       "    <tr>\n",
       "      <th>3</th>\n",
       "      <td>Perceptrón multicapa</td>\n",
       "      <td>0.805112</td>\n",
       "    </tr>\n",
       "    <tr>\n",
       "      <th>4</th>\n",
       "      <td>XGBoost</td>\n",
       "      <td>0.805112</td>\n",
       "    </tr>\n",
       "    <tr>\n",
       "      <th>1</th>\n",
       "      <td>Random Forest</td>\n",
       "      <td>0.803834</td>\n",
       "    </tr>\n",
       "    <tr>\n",
       "      <th>6</th>\n",
       "      <td>SVM</td>\n",
       "      <td>0.791693</td>\n",
       "    </tr>\n",
       "    <tr>\n",
       "      <th>2</th>\n",
       "      <td>Regresión Logística</td>\n",
       "      <td>0.759105</td>\n",
       "    </tr>\n",
       "    <tr>\n",
       "      <th>0</th>\n",
       "      <td>Arbol de decisión</td>\n",
       "      <td>0.723323</td>\n",
       "    </tr>\n",
       "    <tr>\n",
       "      <th>5</th>\n",
       "      <td>Naive Bayes</td>\n",
       "      <td>0.697125</td>\n",
       "    </tr>\n",
       "  </tbody>\n",
       "</table>\n",
       "</div>"
      ],
      "text/plain": [
       "                  Model     Score\n",
       "3  Perceptrón multicapa  0.805112\n",
       "4               XGBoost  0.805112\n",
       "1         Random Forest  0.803834\n",
       "6                   SVM  0.791693\n",
       "2   Regresión Logística  0.759105\n",
       "0     Arbol de decisión  0.723323\n",
       "5           Naive Bayes  0.697125"
      ]
     },
     "execution_count": 38,
     "metadata": {},
     "output_type": "execute_result"
    }
   ],
   "source": [
    "models = pd.DataFrame({'Model':names, 'Score':accuracy_models})\n",
    "models.sort_values(by='Score', ascending=False)"
   ]
  },
  {
   "cell_type": "markdown",
   "metadata": {},
   "source": [
    "#### En esta validacion de por todos los modelos, se puede observar que el que mejor comportamiento se obtuvo fue el de XGBoost, ya que obtiene un balance entre el tran y el test\n",
    "\n",
    "#### Ahora validaremos cuales serian los mejores parametros para el modelo de XGBoost."
   ]
  },
  {
   "cell_type": "code",
   "execution_count": 85,
   "metadata": {},
   "outputs": [],
   "source": [
    "from xgboost import XGBClassifier\n",
    "\n",
    "params={\n",
    " \"n_estimators\"     : [30,60,100],\n",
    " \"learning_rate\"    : [0.05, 0.10, 0.1] ,\n",
    " \"max_depth\"        : [ 3, 4, 5],\n",
    " \"min_child_weight\" : [ 1, 3, 5],\n",
    " \"gamma\"            : [ 0.0, 0.1, 0.2]  \n",
    "}\n"
   ]
  },
  {
   "cell_type": "code",
   "execution_count": 86,
   "metadata": {},
   "outputs": [],
   "source": [
    "classifier=XGBClassifier()"
   ]
  },
  {
   "cell_type": "code",
   "execution_count": 87,
   "metadata": {},
   "outputs": [],
   "source": [
    "grid = GridSearchCV(classifier,params)"
   ]
  },
  {
   "cell_type": "code",
   "execution_count": 88,
   "metadata": {},
   "outputs": [
    {
     "data": {
      "text/plain": [
       "GridSearchCV(estimator=XGBClassifier(base_score=None, booster=None,\n",
       "                                     callbacks=None, colsample_bylevel=None,\n",
       "                                     colsample_bynode=None,\n",
       "                                     colsample_bytree=None,\n",
       "                                     early_stopping_rounds=None,\n",
       "                                     enable_categorical=False, eval_metric=None,\n",
       "                                     gamma=None, gpu_id=None, grow_policy=None,\n",
       "                                     importance_type=None,\n",
       "                                     interaction_constraints=None,\n",
       "                                     learning_rate=None, max_bin=None,\n",
       "                                     max_cat_to_...\n",
       "                                     max_delta_step=None, max_depth=None,\n",
       "                                     max_leaves=None, min_child_weight=None,\n",
       "                                     missing=nan, monotone_constraints=None,\n",
       "                                     n_estimators=100, n_jobs=None,\n",
       "                                     num_parallel_tree=None, predictor=None,\n",
       "                                     random_state=None, reg_alpha=None,\n",
       "                                     reg_lambda=None, ...),\n",
       "             param_grid={'gamma': [0.0, 0.1, 0.2],\n",
       "                         'learning_rate': [0.05, 0.1, 0.1],\n",
       "                         'max_depth': [3, 4, 5], 'min_child_weight': [1, 3, 5],\n",
       "                         'n_estimators': [30, 60, 100]})"
      ]
     },
     "execution_count": 88,
     "metadata": {},
     "output_type": "execute_result"
    }
   ],
   "source": [
    "grid.fit(x_train,y_train)"
   ]
  },
  {
   "cell_type": "code",
   "execution_count": 89,
   "metadata": {},
   "outputs": [
    {
     "data": {
      "text/plain": [
       "{'gamma': 0.1,\n",
       " 'learning_rate': 0.1,\n",
       " 'max_depth': 4,\n",
       " 'min_child_weight': 3,\n",
       " 'n_estimators': 100}"
      ]
     },
     "execution_count": 89,
     "metadata": {},
     "output_type": "execute_result"
    }
   ],
   "source": [
    "grid.best_params_"
   ]
  },
  {
   "cell_type": "code",
   "execution_count": 90,
   "metadata": {},
   "outputs": [
    {
     "name": "stdout",
     "output_type": "stream",
     "text": [
      "Accuracy train Arbol de decisión: 82.36%\n",
      "Accuracy test Arbol de decisión: 81.09%\n"
     ]
    }
   ],
   "source": [
    "clfxboost = XGBClassifier(**grid.best_params_).fit(x_train, y_train)\n",
    "\n",
    "train_predictions = clfxboost.predict(x_train)\n",
    "accuracy = accuracy_score(y_train, train_predictions)\n",
    "print(\"Accuracy train Arbol de decisión: %.2f%%\" % (accuracy * 100.0))\n",
    "\n",
    "test_predictions = clfxboost.predict(x_test)\n",
    "accuracy = accuracy_score(y_test, test_predictions)\n",
    "print(\"Accuracy test Arbol de decisión: %.2f%%\" % (accuracy * 100.0))\n",
    "plt.show()"
   ]
  },
  {
   "cell_type": "code",
   "execution_count": 91,
   "metadata": {},
   "outputs": [
    {
     "name": "stdout",
     "output_type": "stream",
     "text": [
      "              precision    recall  f1-score   support\n",
      "\n",
      "         0.0       0.82      0.78      0.80       748\n",
      "         1.0       0.80      0.84      0.82       817\n",
      "\n",
      "    accuracy                           0.81      1565\n",
      "   macro avg       0.81      0.81      0.81      1565\n",
      "weighted avg       0.81      0.81      0.81      1565\n",
      "\n"
     ]
    }
   ],
   "source": [
    "print(classification_report(y_test, test_predictions))"
   ]
  },
  {
   "cell_type": "code",
   "execution_count": 99,
   "metadata": {},
   "outputs": [
    {
     "data": {
      "text/plain": [
       "4349    0.0\n",
       "5764    0.0\n",
       "2319    1.0\n",
       "2709    0.0\n",
       "827     0.0\n",
       "       ... \n",
       "3170    0.0\n",
       "1872    1.0\n",
       "5153    1.0\n",
       "7584    0.0\n",
       "6344    1.0\n",
       "Name: Transported, Length: 1565, dtype: float64"
      ]
     },
     "execution_count": 99,
     "metadata": {},
     "output_type": "execute_result"
    }
   ],
   "source": [
    "y_test"
   ]
  },
  {
   "cell_type": "code",
   "execution_count": 50,
   "metadata": {},
   "outputs": [
    {
     "name": "stdout",
     "output_type": "stream",
     "text": [
      "              precision    recall  f1-score   support\n",
      "\n",
      "         0.0       0.82      0.78      0.80       748\n",
      "         1.0       0.80      0.84      0.82       817\n",
      "\n",
      "    accuracy                           0.81      1565\n",
      "   macro avg       0.81      0.81      0.81      1565\n",
      "weighted avg       0.81      0.81      0.81      1565\n",
      "\n"
     ]
    },
    {
     "data": {
      "image/png": "[encoded data removed]",
      "text/plain": [
       "<Figure size 432x288 with 2 Axes>"
      ]
     },
     "metadata": {
      "needs_background": "light"
     },
     "output_type": "display_data"
    }
   ],
   "source": [
    "print(classification_report(y_test, test_predictions))\n",
    "from sklearn.metrics import confusion_matrix,roc_curve\n",
    "\n",
    "cm = confusion_matrix(y_test, test_predictions)\n",
    "f = sns.heatmap(cm, annot=True, fmt='d')"
   ]
  },
  {
   "cell_type": "code",
   "execution_count": 51,
   "metadata": {},
   "outputs": [
    {
     "data": {
      "text/plain": [
       "<matplotlib.legend.Legend at 0x21e00e35c40>"
      ]
     },
     "execution_count": 51,
     "metadata": {},
     "output_type": "execute_result"
    },
    {
     "data": {
      "image/png": "[encoded data removed]",
      "text/plain": [
       "<Figure size 432x288 with 1 Axes>"
      ]
     },
     "metadata": {
      "needs_background": "light"
     },
     "output_type": "display_data"
    }
   ],
   "source": [
    "fpr, tpr, thresholds = roc_curve(y_test,clfxboost.predict_proba(x_test)[:,1])\n",
    "plt.plot(fpr, tpr, label='ROC curve')\n",
    "plt.plot([0, 1], [0, 1], 'k--', label='Random guess')\n",
    "plt.xlabel('False Positive Rate')\n",
    "plt.ylabel('True Positive Rate')\n",
    "plt.title('ROC Curve')\n",
    "plt.xlim([-0.02, 1])\n",
    "plt.ylim([0, 1.02])\n",
    "plt.legend(loc=\"lower right\")"
   ]
  },
  {
   "cell_type": "code",
   "execution_count": 52,
   "metadata": {},
   "outputs": [
    {
     "data": {
      "text/plain": [
       "0.8094216155361665"
      ]
     },
     "execution_count": 52,
     "metadata": {},
     "output_type": "execute_result"
    }
   ],
   "source": [
    "roc_auc_score(y_test, test_predictions)"
   ]
  },
  {
   "cell_type": "markdown",
   "metadata": {},
   "source": [
    "#### Debido a que el GridsearchCV para este este modelo se tarda, validaremos tambien por RandomSearchCV para verificar si se obtienen mejores o mismos resultados"
   ]
  },
  {
   "cell_type": "code",
   "execution_count": 54,
   "metadata": {},
   "outputs": [
    {
     "name": "stdout",
     "output_type": "stream",
     "text": [
      "Fitting 5 folds for each of 30 candidates, totalling 150 fits\n"
     ]
    },
    {
     "name": "stderr",
     "output_type": "stream",
     "text": [
      "[Parallel(n_jobs=-1)]: Using backend LokyBackend with 4 concurrent workers.\n",
      "[Parallel(n_jobs=-1)]: Done  24 tasks      | elapsed:   11.4s\n",
      "[Parallel(n_jobs=-1)]: Done 120 tasks      | elapsed:   47.3s\n",
      "[Parallel(n_jobs=-1)]: Done 150 out of 150 | elapsed:   55.4s finished\n"
     ]
    },
    {
     "data": {
      "text/plain": [
       "RandomizedSearchCV(cv=5,\n",
       "                   estimator=XGBClassifier(base_score=None, booster=None,\n",
       "                                           callbacks=None,\n",
       "                                           colsample_bylevel=None,\n",
       "                                           colsample_bynode=None,\n",
       "                                           colsample_bytree=None,\n",
       "                                           early_stopping_rounds=None,\n",
       "                                           enable_categorical=False,\n",
       "                                           eval_metric=None, gamma=None,\n",
       "                                           gpu_id=None, grow_policy=None,\n",
       "                                           importance_type=None,\n",
       "                                           interaction_constraints=None,\n",
       "                                           learning_rate=None, max_bin=None,...\n",
       "                                           min_child_weight=None, missing=nan,\n",
       "                                           monotone_constraints=None,\n",
       "                                           n_estimators=100, n_jobs=None,\n",
       "                                           num_parallel_tree=None,\n",
       "                                           predictor=None, random_state=None,\n",
       "                                           reg_alpha=None, reg_lambda=None, ...),\n",
       "                   n_iter=30, n_jobs=-1,\n",
       "                   param_distributions={'gamma': [0.0, 0.1, 0.2],\n",
       "                                        'learning_rate': [0.05, 0.1, 0.1],\n",
       "                                        'max_depth': [3, 4, 5],\n",
       "                                        'min_child_weight': [1, 3, 5]},\n",
       "                   scoring='roc_auc', verbose=3)"
      ]
     },
     "execution_count": 54,
     "metadata": {},
     "output_type": "execute_result"
    }
   ],
   "source": [
    "from sklearn.model_selection import RandomizedSearchCV\n",
    "\n",
    "random_search = RandomizedSearchCV(classifier,param_distributions=params,n_iter=30,scoring='roc_auc',n_jobs=-1,cv=5,verbose=3)\n",
    "random_search.fit(x_train,y_train)"
   ]
  },
  {
   "cell_type": "code",
   "execution_count": 55,
   "metadata": {},
   "outputs": [
    {
     "data": {
      "text/plain": [
       "{'min_child_weight': 3, 'max_depth': 4, 'learning_rate': 0.1, 'gamma': 0.0}"
      ]
     },
     "execution_count": 55,
     "metadata": {},
     "output_type": "execute_result"
    }
   ],
   "source": [
    "random_search.best_params_"
   ]
  },
  {
   "cell_type": "code",
   "execution_count": 57,
   "metadata": {},
   "outputs": [
    {
     "name": "stdout",
     "output_type": "stream",
     "text": [
      "Accuracy train Arbol de decisión: 82.28%\n",
      "Accuracy test Arbol de decisión: 80.89%\n"
     ]
    }
   ],
   "source": [
    "clfrandom_search = XGBClassifier(**random_search.best_params_).fit(x_train, y_train)\n",
    "\n",
    "train_predictions = clfrandom_search.predict(x_train)\n",
    "accuracy = accuracy_score(y_train, train_predictions)\n",
    "print(\"Accuracy train Arbol de decisión: %.2f%%\" % (accuracy * 100.0))\n",
    "\n",
    "test_predictions = clfrandom_search.predict(x_test)\n",
    "accuracy = accuracy_score(y_test, test_predictions)\n",
    "print(\"Accuracy test Arbol de decisión: %.2f%%\" % (accuracy * 100.0))\n",
    "plt.show()\n"
   ]
  },
  {
   "cell_type": "code",
   "execution_count": 58,
   "metadata": {},
   "outputs": [
    {
     "name": "stdout",
     "output_type": "stream",
     "text": [
      "              precision    recall  f1-score   support\n",
      "\n",
      "         0.0       0.82      0.77      0.79       748\n",
      "         1.0       0.80      0.84      0.82       817\n",
      "\n",
      "    accuracy                           0.81      1565\n",
      "   macro avg       0.81      0.81      0.81      1565\n",
      "weighted avg       0.81      0.81      0.81      1565\n",
      "\n"
     ]
    }
   ],
   "source": [
    "print(classification_report(y_test, test_predictions))"
   ]
  },
  {
   "cell_type": "code",
   "execution_count": 59,
   "metadata": {},
   "outputs": [
    {
     "data": {
      "image/png": "[encoded data removed]",
      "text/plain": [
       "<Figure size 432x288 with 2 Axes>"
      ]
     },
     "metadata": {
      "needs_background": "light"
     },
     "output_type": "display_data"
    }
   ],
   "source": [
    "from sklearn.metrics import confusion_matrix,roc_curve\n",
    "\n",
    "cm = confusion_matrix(y_test, test_predictions)\n",
    "f = sns.heatmap(cm, annot=True, fmt='d')"
   ]
  },
  {
   "cell_type": "code",
   "execution_count": 60,
   "metadata": {},
   "outputs": [
    {
     "data": {
      "text/plain": [
       "<matplotlib.legend.Legend at 0x21e00e3fa30>"
      ]
     },
     "execution_count": 60,
     "metadata": {},
     "output_type": "execute_result"
    },
    {
     "data": {
      "image/png": "[encoded data removed]",
      "text/plain": [
       "<Figure size 432x288 with 1 Axes>"
      ]
     },
     "metadata": {
      "needs_background": "light"
     },
     "output_type": "display_data"
    }
   ],
   "source": [
    "fpr, tpr, thresholds = roc_curve(y_test,clfrandom_search.predict_proba(x_test)[:,1])\n",
    "plt.plot(fpr, tpr, label='ROC curve')\n",
    "plt.plot([0, 1], [0, 1], 'k--', label='Random guess')\n",
    "plt.xlabel('False Positive Rate')\n",
    "plt.ylabel('True Positive Rate')\n",
    "plt.title('ROC Curve')\n",
    "plt.xlim([-0.02, 1])\n",
    "plt.ylim([0, 1.02])\n",
    "plt.legend(loc=\"lower right\")"
   ]
  },
  {
   "cell_type": "code",
   "execution_count": 61,
   "metadata": {},
   "outputs": [
    {
     "data": {
      "text/plain": [
       "0.8073033597549402"
      ]
     },
     "execution_count": 61,
     "metadata": {},
     "output_type": "execute_result"
    }
   ],
   "source": [
    "roc_auc_score(y_test, test_predictions)"
   ]
  },
  {
   "cell_type": "markdown",
   "metadata": {},
   "source": [
    "#### Por lo analizado anteriormente, los mejores parametros se obtuvieron con el GridsearchCV aun cuando su procesamiento sea tardio, ahora validaremos un modelo diferente para verificar si se consigo una payor precision."
   ]
  },
  {
   "cell_type": "code",
   "execution_count": 62,
   "metadata": {},
   "outputs": [],
   "source": [
    "param_grid = {\n",
    "             'max_depth'   : [3, 10, 20],\n",
    "             'min_samples_leaf': [0.05, 0.1],\n",
    "             'max_features': ['sqrt', 'log2'],\n",
    "             'ccp_alpha': [0, 0.01]\n",
    "            }\n",
    "\n",
    "model = RandomForestClassifier(\n",
    "            n_estimators = 100,\n",
    "            oob_score    = True,\n",
    "            n_jobs       = -1,\n",
    "            random_state = 123\n",
    "        )\n",
    "grid = GridSearchCV(\n",
    "        estimator  = model,\n",
    "        param_grid = param_grid,\n",
    "        scoring    = 'roc_auc',\n",
    "        cv         = 5, \n",
    "        refit      = False,\n",
    "        verbose    = 0,\n",
    "        return_train_score = True\n",
    "       )"
   ]
  },
  {
   "cell_type": "code",
   "execution_count": 63,
   "metadata": {},
   "outputs": [
    {
     "data": {
      "text/plain": [
       "GridSearchCV(cv=5,\n",
       "             estimator=RandomForestClassifier(n_jobs=-1, oob_score=True,\n",
       "                                              random_state=123),\n",
       "             param_grid={'ccp_alpha': [0, 0.01], 'max_depth': [3, 10, 20],\n",
       "                         'max_features': ['sqrt', 'log2'],\n",
       "                         'min_samples_leaf': [0.05, 0.1]},\n",
       "             refit=False, return_train_score=True, scoring='roc_auc')"
      ]
     },
     "execution_count": 63,
     "metadata": {},
     "output_type": "execute_result"
    }
   ],
   "source": [
    "grid.fit(x_train,y_train)"
   ]
  },
  {
   "cell_type": "code",
   "execution_count": 64,
   "metadata": {},
   "outputs": [
    {
     "data": {
      "text/plain": [
       "{'ccp_alpha': 0,\n",
       " 'max_depth': 10,\n",
       " 'max_features': 'sqrt',\n",
       " 'min_samples_leaf': 0.05}"
      ]
     },
     "execution_count": 64,
     "metadata": {},
     "output_type": "execute_result"
    }
   ],
   "source": [
    "grid.best_params_"
   ]
  },
  {
   "cell_type": "code",
   "execution_count": 65,
   "metadata": {},
   "outputs": [
    {
     "name": "stdout",
     "output_type": "stream",
     "text": [
      "Accuracy train Arbol de decisión: 74.72%\n",
      "Accuracy test Arbol de decisión: 74.44%\n"
     ]
    }
   ],
   "source": [
    "clfrandomForest = RandomForestClassifier(**grid.best_params_).fit(x_train, y_train)\n",
    "\n",
    "train_predictions = clfrandomForest.predict(x_train)\n",
    "accuracy = accuracy_score(y_train, train_predictions)\n",
    "print(\"Accuracy train Arbol de decisión: %.2f%%\" % (accuracy * 100.0))\n",
    "\n",
    "test_predictions = clfrandomForest.predict(x_test)\n",
    "accuracy = accuracy_score(y_test, test_predictions)\n",
    "print(\"Accuracy test Arbol de decisión: %.2f%%\" % (accuracy * 100.0))\n",
    "plt.show()"
   ]
  },
  {
   "cell_type": "code",
   "execution_count": 66,
   "metadata": {},
   "outputs": [
    {
     "name": "stdout",
     "output_type": "stream",
     "text": [
      "              precision    recall  f1-score   support\n",
      "\n",
      "         0.0       0.70      0.81      0.75       748\n",
      "         1.0       0.80      0.68      0.74       817\n",
      "\n",
      "    accuracy                           0.74      1565\n",
      "   macro avg       0.75      0.75      0.74      1565\n",
      "weighted avg       0.75      0.74      0.74      1565\n",
      "\n"
     ]
    }
   ],
   "source": [
    "print(classification_report(y_test, test_predictions))"
   ]
  },
  {
   "cell_type": "code",
   "execution_count": 67,
   "metadata": {},
   "outputs": [
    {
     "data": {
      "image/png": "[encoded data removed]",
      "text/plain": [
       "<Figure size 432x288 with 2 Axes>"
      ]
     },
     "metadata": {
      "needs_background": "light"
     },
     "output_type": "display_data"
    }
   ],
   "source": [
    "from sklearn.metrics import confusion_matrix,roc_curve\n",
    "\n",
    "cm = confusion_matrix(y_test, test_predictions)\n",
    "f = sns.heatmap(cm, annot=True, fmt='d')"
   ]
  },
  {
   "cell_type": "code",
   "execution_count": 68,
   "metadata": {},
   "outputs": [
    {
     "data": {
      "text/plain": [
       "<matplotlib.legend.Legend at 0x21e011d7d60>"
      ]
     },
     "execution_count": 68,
     "metadata": {},
     "output_type": "execute_result"
    },
    {
     "data": {
      "image/png": "[encoded data removed]",
      "text/plain": [
       "<Figure size 432x288 with 1 Axes>"
      ]
     },
     "metadata": {
      "needs_background": "light"
     },
     "output_type": "display_data"
    }
   ],
   "source": [
    "fpr, tpr, thresholds = roc_curve(y_test,clfrandomForest.predict_proba(x_test)[:,1])\n",
    "plt.plot(fpr, tpr, label='ROC curve')\n",
    "plt.plot([0, 1], [0, 1], 'k--', label='Random guess')\n",
    "plt.xlabel('False Positive Rate')\n",
    "plt.ylabel('True Positive Rate')\n",
    "plt.title('ROC Curve')\n",
    "plt.xlim([-0.02, 1])\n",
    "plt.ylim([0, 1.02])\n",
    "plt.legend(loc=\"lower right\")"
   ]
  },
  {
   "cell_type": "code",
   "execution_count": 69,
   "metadata": {},
   "outputs": [
    {
     "data": {
      "text/plain": [
       "0.7472419311554599"
      ]
     },
     "execution_count": 69,
     "metadata": {},
     "output_type": "execute_result"
    }
   ],
   "source": [
    "roc_auc_score(y_test, test_predictions)"
   ]
  },
  {
   "cell_type": "markdown",
   "metadata": {},
   "source": [
    "## En conclusion, el mejor modelo es el XGBClassifier con los parametros: 'gamma': 0.0, 'learning_rate': 0.1, 'max_depth': 4, 'min_child_weight': 3"
   ]
  },
  {
   "cell_type": "markdown",
   "metadata": {},
   "source": [
    "## Generar la salida para entregar"
   ]
  },
  {
   "cell_type": "code",
   "execution_count": 77,
   "metadata": {},
   "outputs": [],
   "source": [
    "test_df = pd.read_csv('Práctico_Aprendizaje_supervisado/test.csv')"
   ]
  },
  {
   "cell_type": "code",
   "execution_count": 78,
   "metadata": {},
   "outputs": [
    {
     "data": {
      "text/html": [
       "<div>\n",
       "<style scoped>\n",
       "    .dataframe tbody tr th:only-of-type {\n",
       "        vertical-align: middle;\n",
       "    }\n",
       "\n",
       "    .dataframe tbody tr th {\n",
       "        vertical-align: top;\n",
       "    }\n",
       "\n",
       "    .dataframe thead th {\n",
       "        text-align: right;\n",
       "    }\n",
       "</style>\n",
       "<table border=\"1\" class=\"dataframe\">\n",
       "  <thead>\n",
       "    <tr style=\"text-align: right;\">\n",
       "      <th></th>\n",
       "      <th>PassengerId</th>\n",
       "      <th>HomePlanet</th>\n",
       "      <th>CryoSleep</th>\n",
       "      <th>Cabin</th>\n",
       "      <th>Destination</th>\n",
       "      <th>Age</th>\n",
       "      <th>VIP</th>\n",
       "      <th>RoomService</th>\n",
       "      <th>FoodCourt</th>\n",
       "      <th>ShoppingMall</th>\n",
       "      <th>Spa</th>\n",
       "      <th>VRDeck</th>\n",
       "      <th>Name</th>\n",
       "    </tr>\n",
       "  </thead>\n",
       "  <tbody>\n",
       "    <tr>\n",
       "      <th>0</th>\n",
       "      <td>415</td>\n",
       "      <td>Europa</td>\n",
       "      <td>True</td>\n",
       "      <td>NaN</td>\n",
       "      <td>55 Cancri e</td>\n",
       "      <td>34.0</td>\n",
       "      <td>False</td>\n",
       "      <td>0.0</td>\n",
       "      <td>0.0</td>\n",
       "      <td>0.0</td>\n",
       "      <td>0.0</td>\n",
       "      <td>0.0</td>\n",
       "      <td>Minopus Taptiritty</td>\n",
       "    </tr>\n",
       "    <tr>\n",
       "      <th>1</th>\n",
       "      <td>8663</td>\n",
       "      <td>Earth</td>\n",
       "      <td>True</td>\n",
       "      <td>G/1489/S</td>\n",
       "      <td>PSO J318.5-22</td>\n",
       "      <td>13.0</td>\n",
       "      <td>False</td>\n",
       "      <td>0.0</td>\n",
       "      <td>0.0</td>\n",
       "      <td>0.0</td>\n",
       "      <td>0.0</td>\n",
       "      <td>0.0</td>\n",
       "      <td>Chrisa Francock</td>\n",
       "    </tr>\n",
       "    <tr>\n",
       "      <th>2</th>\n",
       "      <td>4524</td>\n",
       "      <td>Earth</td>\n",
       "      <td>False</td>\n",
       "      <td>G/776/P</td>\n",
       "      <td>TRAPPIST-1e</td>\n",
       "      <td>44.0</td>\n",
       "      <td>False</td>\n",
       "      <td>22.0</td>\n",
       "      <td>1.0</td>\n",
       "      <td>0.0</td>\n",
       "      <td>864.0</td>\n",
       "      <td>0.0</td>\n",
       "      <td>Elinda Miley</td>\n",
       "    </tr>\n",
       "    <tr>\n",
       "      <th>3</th>\n",
       "      <td>8246</td>\n",
       "      <td>Earth</td>\n",
       "      <td>False</td>\n",
       "      <td>E/577/S</td>\n",
       "      <td>PSO J318.5-22</td>\n",
       "      <td>63.0</td>\n",
       "      <td>False</td>\n",
       "      <td>0.0</td>\n",
       "      <td>0.0</td>\n",
       "      <td>80.0</td>\n",
       "      <td>0.0</td>\n",
       "      <td>2322.0</td>\n",
       "      <td>Karley Goods</td>\n",
       "    </tr>\n",
       "    <tr>\n",
       "      <th>4</th>\n",
       "      <td>2935</td>\n",
       "      <td>Europa</td>\n",
       "      <td>False</td>\n",
       "      <td>B/117/S</td>\n",
       "      <td>55 Cancri e</td>\n",
       "      <td>10.0</td>\n",
       "      <td>False</td>\n",
       "      <td>0.0</td>\n",
       "      <td>0.0</td>\n",
       "      <td>0.0</td>\n",
       "      <td>0.0</td>\n",
       "      <td>0.0</td>\n",
       "      <td>Arkard Sechausive</td>\n",
       "    </tr>\n",
       "    <tr>\n",
       "      <th>...</th>\n",
       "      <td>...</td>\n",
       "      <td>...</td>\n",
       "      <td>...</td>\n",
       "      <td>...</td>\n",
       "      <td>...</td>\n",
       "      <td>...</td>\n",
       "      <td>...</td>\n",
       "      <td>...</td>\n",
       "      <td>...</td>\n",
       "      <td>...</td>\n",
       "      <td>...</td>\n",
       "      <td>...</td>\n",
       "      <td>...</td>\n",
       "    </tr>\n",
       "    <tr>\n",
       "      <th>865</th>\n",
       "      <td>5996</td>\n",
       "      <td>Mars</td>\n",
       "      <td>False</td>\n",
       "      <td>F/1212/S</td>\n",
       "      <td>TRAPPIST-1e</td>\n",
       "      <td>54.0</td>\n",
       "      <td>False</td>\n",
       "      <td>676.0</td>\n",
       "      <td>0.0</td>\n",
       "      <td>231.0</td>\n",
       "      <td>379.0</td>\n",
       "      <td>0.0</td>\n",
       "      <td>Anch Perta</td>\n",
       "    </tr>\n",
       "    <tr>\n",
       "      <th>866</th>\n",
       "      <td>5478</td>\n",
       "      <td>Earth</td>\n",
       "      <td>True</td>\n",
       "      <td>G/947/S</td>\n",
       "      <td>TRAPPIST-1e</td>\n",
       "      <td>58.0</td>\n",
       "      <td>False</td>\n",
       "      <td>0.0</td>\n",
       "      <td>0.0</td>\n",
       "      <td>0.0</td>\n",
       "      <td>0.0</td>\n",
       "      <td>0.0</td>\n",
       "      <td>Hughy Hessey</td>\n",
       "    </tr>\n",
       "    <tr>\n",
       "      <th>867</th>\n",
       "      <td>6760</td>\n",
       "      <td>Earth</td>\n",
       "      <td>True</td>\n",
       "      <td>G/1148/P</td>\n",
       "      <td>PSO J318.5-22</td>\n",
       "      <td>18.0</td>\n",
       "      <td>False</td>\n",
       "      <td>0.0</td>\n",
       "      <td>0.0</td>\n",
       "      <td>0.0</td>\n",
       "      <td>0.0</td>\n",
       "      <td>0.0</td>\n",
       "      <td>Heidie Kimpson</td>\n",
       "    </tr>\n",
       "    <tr>\n",
       "      <th>868</th>\n",
       "      <td>1437</td>\n",
       "      <td>Earth</td>\n",
       "      <td>False</td>\n",
       "      <td>F/293/S</td>\n",
       "      <td>TRAPPIST-1e</td>\n",
       "      <td>18.0</td>\n",
       "      <td>False</td>\n",
       "      <td>765.0</td>\n",
       "      <td>0.0</td>\n",
       "      <td>13.0</td>\n",
       "      <td>0.0</td>\n",
       "      <td>0.0</td>\n",
       "      <td>Herina Oconley</td>\n",
       "    </tr>\n",
       "    <tr>\n",
       "      <th>869</th>\n",
       "      <td>5171</td>\n",
       "      <td>Earth</td>\n",
       "      <td>False</td>\n",
       "      <td>F/1059/S</td>\n",
       "      <td>TRAPPIST-1e</td>\n",
       "      <td>20.0</td>\n",
       "      <td>False</td>\n",
       "      <td>0.0</td>\n",
       "      <td>0.0</td>\n",
       "      <td>0.0</td>\n",
       "      <td>703.0</td>\n",
       "      <td>0.0</td>\n",
       "      <td>Ollip Hinglendez</td>\n",
       "    </tr>\n",
       "  </tbody>\n",
       "</table>\n",
       "<p>870 rows × 13 columns</p>\n",
       "</div>"
      ],
      "text/plain": [
       "     PassengerId HomePlanet CryoSleep     Cabin    Destination   Age    VIP  \\\n",
       "0            415     Europa      True       NaN    55 Cancri e  34.0  False   \n",
       "1           8663      Earth      True  G/1489/S  PSO J318.5-22  13.0  False   \n",
       "2           4524      Earth     False   G/776/P    TRAPPIST-1e  44.0  False   \n",
       "3           8246      Earth     False   E/577/S  PSO J318.5-22  63.0  False   \n",
       "4           2935     Europa     False   B/117/S    55 Cancri e  10.0  False   \n",
       "..           ...        ...       ...       ...            ...   ...    ...   \n",
       "865         5996       Mars     False  F/1212/S    TRAPPIST-1e  54.0  False   \n",
       "866         5478      Earth      True   G/947/S    TRAPPIST-1e  58.0  False   \n",
       "867         6760      Earth      True  G/1148/P  PSO J318.5-22  18.0  False   \n",
       "868         1437      Earth     False   F/293/S    TRAPPIST-1e  18.0  False   \n",
       "869         5171      Earth     False  F/1059/S    TRAPPIST-1e  20.0  False   \n",
       "\n",
       "     RoomService  FoodCourt  ShoppingMall    Spa  VRDeck                Name  \n",
       "0            0.0        0.0           0.0    0.0     0.0  Minopus Taptiritty  \n",
       "1            0.0        0.0           0.0    0.0     0.0     Chrisa Francock  \n",
       "2           22.0        1.0           0.0  864.0     0.0        Elinda Miley  \n",
       "3            0.0        0.0          80.0    0.0  2322.0        Karley Goods  \n",
       "4            0.0        0.0           0.0    0.0     0.0   Arkard Sechausive  \n",
       "..           ...        ...           ...    ...     ...                 ...  \n",
       "865        676.0        0.0         231.0  379.0     0.0          Anch Perta  \n",
       "866          0.0        0.0           0.0    0.0     0.0        Hughy Hessey  \n",
       "867          0.0        0.0           0.0    0.0     0.0      Heidie Kimpson  \n",
       "868        765.0        0.0          13.0    0.0     0.0      Herina Oconley  \n",
       "869          0.0        0.0           0.0  703.0     0.0    Ollip Hinglendez  \n",
       "\n",
       "[870 rows x 13 columns]"
      ]
     },
     "execution_count": 78,
     "metadata": {},
     "output_type": "execute_result"
    }
   ],
   "source": [
    "test_df"
   ]
  },
  {
   "cell_type": "markdown",
   "metadata": {},
   "source": [
    "Para poder evaluar nuestra predicción los datos de prueba deben tener exactamente el mismo tratamiento que los datos de entrenamiento"
   ]
  },
  {
   "cell_type": "code",
   "execution_count": 79,
   "metadata": {},
   "outputs": [],
   "source": [
    "test_df['CabinDeck'] = test_df.Cabin.str.rsplit(pat='/', n=3, expand=True )[0]\n",
    "test_df['CabinNum'] = test_df.Cabin.str.rsplit(pat='/', n=3, expand=True )[1].astype(float)\n",
    "test_df['CabinSide'] = test_df.Cabin.str.rsplit(pat='/', n=3, expand=True )[2]\n",
    "\n",
    "# codificamos\n",
    "test_df['CryoSleep_num']=test_df.CryoSleep.astype(str).apply(lambda x: 1 if x == 'True' else (0 if x == 'False' else np.nan)) \n",
    "test_df['HomePlanet_num']=test_df.HomePlanet.apply(lambda x: 1 if x == 'Europa' else (2 if x == 'Earth' else (3 if x == 'Mars' else np.nan))) \n",
    "test_df['CabinSide_num']=test_df.CabinSide.apply(lambda x: 1 if x == 'S' else 2 if x == 'P' else np.nan) \n",
    "test_df['VIP_num']=test_df.VIP.astype(str).apply(lambda x: 1 if x == 'True' else 0 if x == 'False' else np.nan) \n",
    "test_df['Destination_num']=test_df.Destination.apply(lambda x: 1 if x == 'TRAPPIST-1e' else 2 if x == '55 Cancri e' else 3 if x == 'PSO J318.5-22' else np.nan) \n",
    "\n",
    "# imputamos\n",
    "test_df_continuas = test_df.copy()\n",
    "test_df_continuas = test_df_continuas[['PassengerId','Age','RoomService', 'FoodCourt', 'ShoppingMall', 'Spa', 'VRDeck']]\n",
    "test_df_continuas[test_df_continuas.columns] = imputer_knn.fit_transform(test_df_continuas)\n",
    "\n",
    "test_df_categoricas = test_df.copy()\n",
    "test_df_categoricas = test_df_categoricas[['PassengerId','CryoSleep_num','HomePlanet_num','CabinSide_num','VIP_num','Destination_num']]\n",
    "test_df_categoricas[test_df_categoricas.columns] = imputer_mf.fit_transform(test_df_categoricas)\n"
   ]
  },
  {
   "cell_type": "code",
   "execution_count": 80,
   "metadata": {},
   "outputs": [
    {
     "data": {
      "text/html": [
       "<div>\n",
       "<style scoped>\n",
       "    .dataframe tbody tr th:only-of-type {\n",
       "        vertical-align: middle;\n",
       "    }\n",
       "\n",
       "    .dataframe tbody tr th {\n",
       "        vertical-align: top;\n",
       "    }\n",
       "\n",
       "    .dataframe thead th {\n",
       "        text-align: right;\n",
       "    }\n",
       "</style>\n",
       "<table border=\"1\" class=\"dataframe\">\n",
       "  <thead>\n",
       "    <tr style=\"text-align: right;\">\n",
       "      <th></th>\n",
       "      <th>PassengerId</th>\n",
       "      <th>HomePlanet</th>\n",
       "      <th>CryoSleep</th>\n",
       "      <th>Cabin</th>\n",
       "      <th>Destination</th>\n",
       "      <th>Age</th>\n",
       "      <th>VIP</th>\n",
       "      <th>RoomService</th>\n",
       "      <th>FoodCourt</th>\n",
       "      <th>ShoppingMall</th>\n",
       "      <th>...</th>\n",
       "      <th>VRDeck</th>\n",
       "      <th>Name</th>\n",
       "      <th>CabinDeck</th>\n",
       "      <th>CabinNum</th>\n",
       "      <th>CabinSide</th>\n",
       "      <th>CryoSleep_num</th>\n",
       "      <th>HomePlanet_num</th>\n",
       "      <th>CabinSide_num</th>\n",
       "      <th>VIP_num</th>\n",
       "      <th>Destination_num</th>\n",
       "    </tr>\n",
       "  </thead>\n",
       "  <tbody>\n",
       "    <tr>\n",
       "      <th>0</th>\n",
       "      <td>415</td>\n",
       "      <td>Europa</td>\n",
       "      <td>True</td>\n",
       "      <td>NaN</td>\n",
       "      <td>55 Cancri e</td>\n",
       "      <td>34.0</td>\n",
       "      <td>False</td>\n",
       "      <td>0.0</td>\n",
       "      <td>0.0</td>\n",
       "      <td>0.0</td>\n",
       "      <td>...</td>\n",
       "      <td>0.0</td>\n",
       "      <td>Minopus Taptiritty</td>\n",
       "      <td>NaN</td>\n",
       "      <td>NaN</td>\n",
       "      <td>NaN</td>\n",
       "      <td>1.0</td>\n",
       "      <td>1.0</td>\n",
       "      <td>NaN</td>\n",
       "      <td>0.0</td>\n",
       "      <td>2.0</td>\n",
       "    </tr>\n",
       "    <tr>\n",
       "      <th>1</th>\n",
       "      <td>8663</td>\n",
       "      <td>Earth</td>\n",
       "      <td>True</td>\n",
       "      <td>G/1489/S</td>\n",
       "      <td>PSO J318.5-22</td>\n",
       "      <td>13.0</td>\n",
       "      <td>False</td>\n",
       "      <td>0.0</td>\n",
       "      <td>0.0</td>\n",
       "      <td>0.0</td>\n",
       "      <td>...</td>\n",
       "      <td>0.0</td>\n",
       "      <td>Chrisa Francock</td>\n",
       "      <td>G</td>\n",
       "      <td>1489.0</td>\n",
       "      <td>S</td>\n",
       "      <td>1.0</td>\n",
       "      <td>2.0</td>\n",
       "      <td>1.0</td>\n",
       "      <td>0.0</td>\n",
       "      <td>3.0</td>\n",
       "    </tr>\n",
       "    <tr>\n",
       "      <th>2</th>\n",
       "      <td>4524</td>\n",
       "      <td>Earth</td>\n",
       "      <td>False</td>\n",
       "      <td>G/776/P</td>\n",
       "      <td>TRAPPIST-1e</td>\n",
       "      <td>44.0</td>\n",
       "      <td>False</td>\n",
       "      <td>22.0</td>\n",
       "      <td>1.0</td>\n",
       "      <td>0.0</td>\n",
       "      <td>...</td>\n",
       "      <td>0.0</td>\n",
       "      <td>Elinda Miley</td>\n",
       "      <td>G</td>\n",
       "      <td>776.0</td>\n",
       "      <td>P</td>\n",
       "      <td>0.0</td>\n",
       "      <td>2.0</td>\n",
       "      <td>2.0</td>\n",
       "      <td>0.0</td>\n",
       "      <td>1.0</td>\n",
       "    </tr>\n",
       "    <tr>\n",
       "      <th>3</th>\n",
       "      <td>8246</td>\n",
       "      <td>Earth</td>\n",
       "      <td>False</td>\n",
       "      <td>E/577/S</td>\n",
       "      <td>PSO J318.5-22</td>\n",
       "      <td>63.0</td>\n",
       "      <td>False</td>\n",
       "      <td>0.0</td>\n",
       "      <td>0.0</td>\n",
       "      <td>80.0</td>\n",
       "      <td>...</td>\n",
       "      <td>2322.0</td>\n",
       "      <td>Karley Goods</td>\n",
       "      <td>E</td>\n",
       "      <td>577.0</td>\n",
       "      <td>S</td>\n",
       "      <td>0.0</td>\n",
       "      <td>2.0</td>\n",
       "      <td>1.0</td>\n",
       "      <td>0.0</td>\n",
       "      <td>3.0</td>\n",
       "    </tr>\n",
       "    <tr>\n",
       "      <th>4</th>\n",
       "      <td>2935</td>\n",
       "      <td>Europa</td>\n",
       "      <td>False</td>\n",
       "      <td>B/117/S</td>\n",
       "      <td>55 Cancri e</td>\n",
       "      <td>10.0</td>\n",
       "      <td>False</td>\n",
       "      <td>0.0</td>\n",
       "      <td>0.0</td>\n",
       "      <td>0.0</td>\n",
       "      <td>...</td>\n",
       "      <td>0.0</td>\n",
       "      <td>Arkard Sechausive</td>\n",
       "      <td>B</td>\n",
       "      <td>117.0</td>\n",
       "      <td>S</td>\n",
       "      <td>0.0</td>\n",
       "      <td>1.0</td>\n",
       "      <td>1.0</td>\n",
       "      <td>0.0</td>\n",
       "      <td>2.0</td>\n",
       "    </tr>\n",
       "    <tr>\n",
       "      <th>...</th>\n",
       "      <td>...</td>\n",
       "      <td>...</td>\n",
       "      <td>...</td>\n",
       "      <td>...</td>\n",
       "      <td>...</td>\n",
       "      <td>...</td>\n",
       "      <td>...</td>\n",
       "      <td>...</td>\n",
       "      <td>...</td>\n",
       "      <td>...</td>\n",
       "      <td>...</td>\n",
       "      <td>...</td>\n",
       "      <td>...</td>\n",
       "      <td>...</td>\n",
       "      <td>...</td>\n",
       "      <td>...</td>\n",
       "      <td>...</td>\n",
       "      <td>...</td>\n",
       "      <td>...</td>\n",
       "      <td>...</td>\n",
       "      <td>...</td>\n",
       "    </tr>\n",
       "    <tr>\n",
       "      <th>865</th>\n",
       "      <td>5996</td>\n",
       "      <td>Mars</td>\n",
       "      <td>False</td>\n",
       "      <td>F/1212/S</td>\n",
       "      <td>TRAPPIST-1e</td>\n",
       "      <td>54.0</td>\n",
       "      <td>False</td>\n",
       "      <td>676.0</td>\n",
       "      <td>0.0</td>\n",
       "      <td>231.0</td>\n",
       "      <td>...</td>\n",
       "      <td>0.0</td>\n",
       "      <td>Anch Perta</td>\n",
       "      <td>F</td>\n",
       "      <td>1212.0</td>\n",
       "      <td>S</td>\n",
       "      <td>0.0</td>\n",
       "      <td>3.0</td>\n",
       "      <td>1.0</td>\n",
       "      <td>0.0</td>\n",
       "      <td>1.0</td>\n",
       "    </tr>\n",
       "    <tr>\n",
       "      <th>866</th>\n",
       "      <td>5478</td>\n",
       "      <td>Earth</td>\n",
       "      <td>True</td>\n",
       "      <td>G/947/S</td>\n",
       "      <td>TRAPPIST-1e</td>\n",
       "      <td>58.0</td>\n",
       "      <td>False</td>\n",
       "      <td>0.0</td>\n",
       "      <td>0.0</td>\n",
       "      <td>0.0</td>\n",
       "      <td>...</td>\n",
       "      <td>0.0</td>\n",
       "      <td>Hughy Hessey</td>\n",
       "      <td>G</td>\n",
       "      <td>947.0</td>\n",
       "      <td>S</td>\n",
       "      <td>1.0</td>\n",
       "      <td>2.0</td>\n",
       "      <td>1.0</td>\n",
       "      <td>0.0</td>\n",
       "      <td>1.0</td>\n",
       "    </tr>\n",
       "    <tr>\n",
       "      <th>867</th>\n",
       "      <td>6760</td>\n",
       "      <td>Earth</td>\n",
       "      <td>True</td>\n",
       "      <td>G/1148/P</td>\n",
       "      <td>PSO J318.5-22</td>\n",
       "      <td>18.0</td>\n",
       "      <td>False</td>\n",
       "      <td>0.0</td>\n",
       "      <td>0.0</td>\n",
       "      <td>0.0</td>\n",
       "      <td>...</td>\n",
       "      <td>0.0</td>\n",
       "      <td>Heidie Kimpson</td>\n",
       "      <td>G</td>\n",
       "      <td>1148.0</td>\n",
       "      <td>P</td>\n",
       "      <td>1.0</td>\n",
       "      <td>2.0</td>\n",
       "      <td>2.0</td>\n",
       "      <td>0.0</td>\n",
       "      <td>3.0</td>\n",
       "    </tr>\n",
       "    <tr>\n",
       "      <th>868</th>\n",
       "      <td>1437</td>\n",
       "      <td>Earth</td>\n",
       "      <td>False</td>\n",
       "      <td>F/293/S</td>\n",
       "      <td>TRAPPIST-1e</td>\n",
       "      <td>18.0</td>\n",
       "      <td>False</td>\n",
       "      <td>765.0</td>\n",
       "      <td>0.0</td>\n",
       "      <td>13.0</td>\n",
       "      <td>...</td>\n",
       "      <td>0.0</td>\n",
       "      <td>Herina Oconley</td>\n",
       "      <td>F</td>\n",
       "      <td>293.0</td>\n",
       "      <td>S</td>\n",
       "      <td>0.0</td>\n",
       "      <td>2.0</td>\n",
       "      <td>1.0</td>\n",
       "      <td>0.0</td>\n",
       "      <td>1.0</td>\n",
       "    </tr>\n",
       "    <tr>\n",
       "      <th>869</th>\n",
       "      <td>5171</td>\n",
       "      <td>Earth</td>\n",
       "      <td>False</td>\n",
       "      <td>F/1059/S</td>\n",
       "      <td>TRAPPIST-1e</td>\n",
       "      <td>20.0</td>\n",
       "      <td>False</td>\n",
       "      <td>0.0</td>\n",
       "      <td>0.0</td>\n",
       "      <td>0.0</td>\n",
       "      <td>...</td>\n",
       "      <td>0.0</td>\n",
       "      <td>Ollip Hinglendez</td>\n",
       "      <td>F</td>\n",
       "      <td>1059.0</td>\n",
       "      <td>S</td>\n",
       "      <td>0.0</td>\n",
       "      <td>2.0</td>\n",
       "      <td>1.0</td>\n",
       "      <td>0.0</td>\n",
       "      <td>1.0</td>\n",
       "    </tr>\n",
       "  </tbody>\n",
       "</table>\n",
       "<p>870 rows × 21 columns</p>\n",
       "</div>"
      ],
      "text/plain": [
       "     PassengerId HomePlanet CryoSleep     Cabin    Destination   Age    VIP  \\\n",
       "0            415     Europa      True       NaN    55 Cancri e  34.0  False   \n",
       "1           8663      Earth      True  G/1489/S  PSO J318.5-22  13.0  False   \n",
       "2           4524      Earth     False   G/776/P    TRAPPIST-1e  44.0  False   \n",
       "3           8246      Earth     False   E/577/S  PSO J318.5-22  63.0  False   \n",
       "4           2935     Europa     False   B/117/S    55 Cancri e  10.0  False   \n",
       "..           ...        ...       ...       ...            ...   ...    ...   \n",
       "865         5996       Mars     False  F/1212/S    TRAPPIST-1e  54.0  False   \n",
       "866         5478      Earth      True   G/947/S    TRAPPIST-1e  58.0  False   \n",
       "867         6760      Earth      True  G/1148/P  PSO J318.5-22  18.0  False   \n",
       "868         1437      Earth     False   F/293/S    TRAPPIST-1e  18.0  False   \n",
       "869         5171      Earth     False  F/1059/S    TRAPPIST-1e  20.0  False   \n",
       "\n",
       "     RoomService  FoodCourt  ShoppingMall  ...  VRDeck                Name  \\\n",
       "0            0.0        0.0           0.0  ...     0.0  Minopus Taptiritty   \n",
       "1            0.0        0.0           0.0  ...     0.0     Chrisa Francock   \n",
       "2           22.0        1.0           0.0  ...     0.0        Elinda Miley   \n",
       "3            0.0        0.0          80.0  ...  2322.0        Karley Goods   \n",
       "4            0.0        0.0           0.0  ...     0.0   Arkard Sechausive   \n",
       "..           ...        ...           ...  ...     ...                 ...   \n",
       "865        676.0        0.0         231.0  ...     0.0          Anch Perta   \n",
       "866          0.0        0.0           0.0  ...     0.0        Hughy Hessey   \n",
       "867          0.0        0.0           0.0  ...     0.0      Heidie Kimpson   \n",
       "868        765.0        0.0          13.0  ...     0.0      Herina Oconley   \n",
       "869          0.0        0.0           0.0  ...     0.0    Ollip Hinglendez   \n",
       "\n",
       "    CabinDeck CabinNum  CabinSide CryoSleep_num  HomePlanet_num  \\\n",
       "0         NaN      NaN        NaN           1.0             1.0   \n",
       "1           G   1489.0          S           1.0             2.0   \n",
       "2           G    776.0          P           0.0             2.0   \n",
       "3           E    577.0          S           0.0             2.0   \n",
       "4           B    117.0          S           0.0             1.0   \n",
       "..        ...      ...        ...           ...             ...   \n",
       "865         F   1212.0          S           0.0             3.0   \n",
       "866         G    947.0          S           1.0             2.0   \n",
       "867         G   1148.0          P           1.0             2.0   \n",
       "868         F    293.0          S           0.0             2.0   \n",
       "869         F   1059.0          S           0.0             2.0   \n",
       "\n",
       "     CabinSide_num  VIP_num  Destination_num  \n",
       "0              NaN      0.0              2.0  \n",
       "1              1.0      0.0              3.0  \n",
       "2              2.0      0.0              1.0  \n",
       "3              1.0      0.0              3.0  \n",
       "4              1.0      0.0              2.0  \n",
       "..             ...      ...              ...  \n",
       "865            1.0      0.0              1.0  \n",
       "866            1.0      0.0              1.0  \n",
       "867            2.0      0.0              3.0  \n",
       "868            1.0      0.0              1.0  \n",
       "869            1.0      0.0              1.0  \n",
       "\n",
       "[870 rows x 21 columns]"
      ]
     },
     "execution_count": 80,
     "metadata": {},
     "output_type": "execute_result"
    }
   ],
   "source": [
    "test_df"
   ]
  },
  {
   "cell_type": "code",
   "execution_count": 81,
   "metadata": {},
   "outputs": [],
   "source": [
    "# unimos el resultado\n",
    "test_df_imputed = test_df_continuas.set_index('PassengerId').join(test_df_categoricas.set_index('PassengerId')).reset_index()\n",
    "#status(test_df_imputed)\n",
    "\n",
    "# escalamos\n",
    "x_names = test_df_imputed.columns\n",
    "scaler = MinMaxScaler(feature_range=(0, 1), copy=True)\n",
    "X_orig = test_df_imputed.copy(deep=True)\n",
    "X = scaler.fit_transform(X_orig)\n",
    "X = pd.DataFrame(X, columns=x_names)"
   ]
  },
  {
   "cell_type": "markdown",
   "metadata": {},
   "source": [
    "Generamos la salida"
   ]
  },
  {
   "cell_type": "code",
   "execution_count": 92,
   "metadata": {},
   "outputs": [],
   "source": [
    "clf = clfxboost\n",
    "\n",
    "test_id = test_df.PassengerId\n",
    "test_pred = clf.predict(X)"
   ]
  },
  {
   "cell_type": "code",
   "execution_count": 100,
   "metadata": {},
   "outputs": [
    {
     "ename": "ValueError",
     "evalue": "Found input variables with inconsistent numbers of samples: [7823, 870]",
     "output_type": "error",
     "traceback": [
      "\u001b[1;31m---------------------------------------------------------------------------\u001b[0m",
      "\u001b[1;31mValueError\u001b[0m                                Traceback (most recent call last)",
      "\u001b[1;32m<ipython-input-100-14d98b2b093c>\u001b[0m in \u001b[0;36m<module>\u001b[1;34m\u001b[0m\n\u001b[1;32m----> 1\u001b[1;33m \u001b[0maccuracy\u001b[0m \u001b[1;33m=\u001b[0m \u001b[0maccuracy_score\u001b[0m\u001b[1;33m(\u001b[0m\u001b[0my\u001b[0m\u001b[1;33m,\u001b[0m \u001b[0mtest_pred\u001b[0m\u001b[1;33m)\u001b[0m\u001b[1;33m\u001b[0m\u001b[1;33m\u001b[0m\u001b[0m\n\u001b[0m\u001b[0;32m      2\u001b[0m \u001b[0mprint\u001b[0m\u001b[1;33m(\u001b[0m\u001b[1;34m\"Accuracy test Arbol de decisión: %.2f%%\"\u001b[0m \u001b[1;33m%\u001b[0m \u001b[1;33m(\u001b[0m\u001b[0maccuracy\u001b[0m \u001b[1;33m*\u001b[0m \u001b[1;36m100.0\u001b[0m\u001b[1;33m)\u001b[0m\u001b[1;33m)\u001b[0m\u001b[1;33m\u001b[0m\u001b[1;33m\u001b[0m\u001b[0m\n\u001b[0;32m      3\u001b[0m \u001b[0mplt\u001b[0m\u001b[1;33m.\u001b[0m\u001b[0mshow\u001b[0m\u001b[1;33m(\u001b[0m\u001b[1;33m)\u001b[0m\u001b[1;33m\u001b[0m\u001b[1;33m\u001b[0m\u001b[0m\n",
      "\u001b[1;32m~\\anaconda3\\lib\\site-packages\\sklearn\\utils\\validation.py\u001b[0m in \u001b[0;36minner_f\u001b[1;34m(*args, **kwargs)\u001b[0m\n\u001b[0;32m     71\u001b[0m                           FutureWarning)\n\u001b[0;32m     72\u001b[0m         \u001b[0mkwargs\u001b[0m\u001b[1;33m.\u001b[0m\u001b[0mupdate\u001b[0m\u001b[1;33m(\u001b[0m\u001b[1;33m{\u001b[0m\u001b[0mk\u001b[0m\u001b[1;33m:\u001b[0m \u001b[0marg\u001b[0m \u001b[1;32mfor\u001b[0m \u001b[0mk\u001b[0m\u001b[1;33m,\u001b[0m \u001b[0marg\u001b[0m \u001b[1;32min\u001b[0m \u001b[0mzip\u001b[0m\u001b[1;33m(\u001b[0m\u001b[0msig\u001b[0m\u001b[1;33m.\u001b[0m\u001b[0mparameters\u001b[0m\u001b[1;33m,\u001b[0m \u001b[0margs\u001b[0m\u001b[1;33m)\u001b[0m\u001b[1;33m}\u001b[0m\u001b[1;33m)\u001b[0m\u001b[1;33m\u001b[0m\u001b[1;33m\u001b[0m\u001b[0m\n\u001b[1;32m---> 73\u001b[1;33m         \u001b[1;32mreturn\u001b[0m \u001b[0mf\u001b[0m\u001b[1;33m(\u001b[0m\u001b[1;33m**\u001b[0m\u001b[0mkwargs\u001b[0m\u001b[1;33m)\u001b[0m\u001b[1;33m\u001b[0m\u001b[1;33m\u001b[0m\u001b[0m\n\u001b[0m\u001b[0;32m     74\u001b[0m     \u001b[1;32mreturn\u001b[0m \u001b[0minner_f\u001b[0m\u001b[1;33m\u001b[0m\u001b[1;33m\u001b[0m\u001b[0m\n\u001b[0;32m     75\u001b[0m \u001b[1;33m\u001b[0m\u001b[0m\n",
      "\u001b[1;32m~\\anaconda3\\lib\\site-packages\\sklearn\\metrics\\_classification.py\u001b[0m in \u001b[0;36maccuracy_score\u001b[1;34m(y_true, y_pred, normalize, sample_weight)\u001b[0m\n\u001b[0;32m    185\u001b[0m \u001b[1;33m\u001b[0m\u001b[0m\n\u001b[0;32m    186\u001b[0m     \u001b[1;31m# Compute accuracy for each possible representation\u001b[0m\u001b[1;33m\u001b[0m\u001b[1;33m\u001b[0m\u001b[1;33m\u001b[0m\u001b[0m\n\u001b[1;32m--> 187\u001b[1;33m     \u001b[0my_type\u001b[0m\u001b[1;33m,\u001b[0m \u001b[0my_true\u001b[0m\u001b[1;33m,\u001b[0m \u001b[0my_pred\u001b[0m \u001b[1;33m=\u001b[0m \u001b[0m_check_targets\u001b[0m\u001b[1;33m(\u001b[0m\u001b[0my_true\u001b[0m\u001b[1;33m,\u001b[0m \u001b[0my_pred\u001b[0m\u001b[1;33m)\u001b[0m\u001b[1;33m\u001b[0m\u001b[1;33m\u001b[0m\u001b[0m\n\u001b[0m\u001b[0;32m    188\u001b[0m     \u001b[0mcheck_consistent_length\u001b[0m\u001b[1;33m(\u001b[0m\u001b[0my_true\u001b[0m\u001b[1;33m,\u001b[0m \u001b[0my_pred\u001b[0m\u001b[1;33m,\u001b[0m \u001b[0msample_weight\u001b[0m\u001b[1;33m)\u001b[0m\u001b[1;33m\u001b[0m\u001b[1;33m\u001b[0m\u001b[0m\n\u001b[0;32m    189\u001b[0m     \u001b[1;32mif\u001b[0m \u001b[0my_type\u001b[0m\u001b[1;33m.\u001b[0m\u001b[0mstartswith\u001b[0m\u001b[1;33m(\u001b[0m\u001b[1;34m'multilabel'\u001b[0m\u001b[1;33m)\u001b[0m\u001b[1;33m:\u001b[0m\u001b[1;33m\u001b[0m\u001b[1;33m\u001b[0m\u001b[0m\n",
      "\u001b[1;32m~\\anaconda3\\lib\\site-packages\\sklearn\\metrics\\_classification.py\u001b[0m in \u001b[0;36m_check_targets\u001b[1;34m(y_true, y_pred)\u001b[0m\n\u001b[0;32m     79\u001b[0m     \u001b[0my_pred\u001b[0m \u001b[1;33m:\u001b[0m \u001b[0marray\u001b[0m \u001b[1;32mor\u001b[0m \u001b[0mindicator\u001b[0m \u001b[0mmatrix\u001b[0m\u001b[1;33m\u001b[0m\u001b[1;33m\u001b[0m\u001b[0m\n\u001b[0;32m     80\u001b[0m     \"\"\"\n\u001b[1;32m---> 81\u001b[1;33m     \u001b[0mcheck_consistent_length\u001b[0m\u001b[1;33m(\u001b[0m\u001b[0my_true\u001b[0m\u001b[1;33m,\u001b[0m \u001b[0my_pred\u001b[0m\u001b[1;33m)\u001b[0m\u001b[1;33m\u001b[0m\u001b[1;33m\u001b[0m\u001b[0m\n\u001b[0m\u001b[0;32m     82\u001b[0m     \u001b[0mtype_true\u001b[0m \u001b[1;33m=\u001b[0m \u001b[0mtype_of_target\u001b[0m\u001b[1;33m(\u001b[0m\u001b[0my_true\u001b[0m\u001b[1;33m)\u001b[0m\u001b[1;33m\u001b[0m\u001b[1;33m\u001b[0m\u001b[0m\n\u001b[0;32m     83\u001b[0m     \u001b[0mtype_pred\u001b[0m \u001b[1;33m=\u001b[0m \u001b[0mtype_of_target\u001b[0m\u001b[1;33m(\u001b[0m\u001b[0my_pred\u001b[0m\u001b[1;33m)\u001b[0m\u001b[1;33m\u001b[0m\u001b[1;33m\u001b[0m\u001b[0m\n",
      "\u001b[1;32m~\\anaconda3\\lib\\site-packages\\sklearn\\utils\\validation.py\u001b[0m in \u001b[0;36mcheck_consistent_length\u001b[1;34m(*arrays)\u001b[0m\n\u001b[0;32m    254\u001b[0m     \u001b[0muniques\u001b[0m \u001b[1;33m=\u001b[0m \u001b[0mnp\u001b[0m\u001b[1;33m.\u001b[0m\u001b[0munique\u001b[0m\u001b[1;33m(\u001b[0m\u001b[0mlengths\u001b[0m\u001b[1;33m)\u001b[0m\u001b[1;33m\u001b[0m\u001b[1;33m\u001b[0m\u001b[0m\n\u001b[0;32m    255\u001b[0m     \u001b[1;32mif\u001b[0m \u001b[0mlen\u001b[0m\u001b[1;33m(\u001b[0m\u001b[0muniques\u001b[0m\u001b[1;33m)\u001b[0m \u001b[1;33m>\u001b[0m \u001b[1;36m1\u001b[0m\u001b[1;33m:\u001b[0m\u001b[1;33m\u001b[0m\u001b[1;33m\u001b[0m\u001b[0m\n\u001b[1;32m--> 256\u001b[1;33m         raise ValueError(\"Found input variables with inconsistent numbers of\"\n\u001b[0m\u001b[0;32m    257\u001b[0m                          \" samples: %r\" % [int(l) for l in lengths])\n\u001b[0;32m    258\u001b[0m \u001b[1;33m\u001b[0m\u001b[0m\n",
      "\u001b[1;31mValueError\u001b[0m: Found input variables with inconsistent numbers of samples: [7823, 870]"
     ]
    }
   ],
   "source": [
    "accuracy = accuracy_score(y, test_pred)\n",
    "print(\"Accuracy test Arbol de decisión: %.2f%%\" % (accuracy * 100.0))\n",
    "plt.show()"
   ]
  },
  {
   "cell_type": "code",
   "execution_count": null,
   "metadata": {},
   "outputs": [],
   "source": [
    "pd.DataFrame(list(zip(test_id, test_pred)), columns=[\"PassengerId\", \"Transported\"])"
   ]
  },
  {
   "cell_type": "code",
   "execution_count": 83,
   "metadata": {},
   "outputs": [],
   "source": [
    "submission = pd.DataFrame(list(zip(test_id, test_pred)), columns=[\"PassengerId\", \"Transported\"])\n",
    "submission.to_csv(\"submission_G23.csv\", header=True, index=False)"
   ]
  }
 ],
 "metadata": {
  "kernelspec": {
   "display_name": "Python 3",
   "language": "python",
   "name": "python3"
  },
  "language_info": {
   "codemirror_mode": {
    "name": "ipython",
    "version": 3
   },
   "file_extension": ".py",
   "mimetype": "text/x-python",
   "name": "python",
   "nbconvert_exporter": "python",
   "pygments_lexer": "ipython3",
   "version": "3.8.3"
  },
  "vscode": {
   "interpreter": {
    "hash": "e6b65fc4380ac725e50a330b268a227bbdbe91bddfffbf68e5f7ce9848a2b8d5"
   }
  }
 },
 "nbformat": 4,
 "nbformat_minor": 4
}
