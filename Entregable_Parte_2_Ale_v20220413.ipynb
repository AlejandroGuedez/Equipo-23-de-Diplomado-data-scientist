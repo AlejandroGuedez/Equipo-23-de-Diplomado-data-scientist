{
  "nbformat": 4,
  "nbformat_minor": 0,
  "metadata": {
    "colab": {
      "name": "Entregable - Parte 2 Ale v20220413.ipynb",
      "provenance": [],
      "collapsed_sections": [],
      "include_colab_link": true
    },
    "kernelspec": {
      "name": "python3",
      "display_name": "Python 3"
    }
  },
  "cells": [
    {
      "cell_type": "markdown",
      "metadata": {
        "id": "view-in-github",
        "colab_type": "text"
      },
      "source": [
        "<a href=\"https://colab.research.google.com/github/AlejandroGuedez/Equipo-23-de-Diplomado-data-scientist/blob/main/Entregable_Parte_2_Ale_v20220413.ipynb\" target=\"_parent\"><img src=\"https://colab.research.google.com/assets/colab-badge.svg\" alt=\"Open In Colab\"/></a>"
      ]
    },
    {
      "cell_type": "markdown",
      "metadata": {
        "id": "LYvAOR2VzHmW"
      },
      "source": [
        "\n",
        "**Diplomatura en Ciencia de Datos, Aprendizaje Automático y sus Aplicaciones**\n",
        "\n",
        "**Edición 2022**\n",
        "\n",
        "---\n",
        "\n",
        "# Trabajo práctico entregable - Parte 2"
      ]
    },
    {
      "cell_type": "code",
      "metadata": {
        "id": "Xwdfo7z20TUK"
      },
      "source": [
        "import io\n",
        "import matplotlib\n",
        "import matplotlib.pyplot as plt\n",
        "import numpy\n",
        "import pandas as pd\n",
        "import seaborn\n",
        "import scipy.stats\n",
        "\n",
        "\n",
        "seaborn.set_context('talk')"
      ],
      "execution_count": 170,
      "outputs": []
    },
    {
      "cell_type": "markdown",
      "metadata": {
        "id": "XY2Hl-Ma07Nn"
      },
      "source": [
        "## Lectura del dataset\n",
        "\n",
        "En la notebook 00 se explican los detalles de la siguiente sección."
      ]
    },
    {
      "cell_type": "code",
      "metadata": {
        "id": "Vviv_sqXdR5W"
      },
      "source": [
        "url = 'https://cs.famaf.unc.edu.ar/~mteruel/datasets/diplodatos/sysarmy_survey_2020_processed.csv'\n",
        "df = pd.read_csv(url)"
      ],
      "execution_count": 171,
      "outputs": []
    },
    {
      "cell_type": "code",
      "metadata": {
        "id": "gckNHXXLktJ4",
        "colab": {
          "base_uri": "https://localhost:8080/",
          "height": 324
        },
        "outputId": "cada2ac9-f2fd-4a29-bf56-612413bd7007"
      },
      "source": [
        "df[:3]"
      ],
      "execution_count": 172,
      "outputs": [
        {
          "output_type": "execute_result",
          "data": {
            "text/plain": [
              "  profile_gender  profile_age work_country                    work_province  \\\n",
              "0          Mujer           26    Argentina  Ciudad Autónoma de Buenos Aires   \n",
              "1         Hombre           29    Argentina                       Corrientes   \n",
              "2          Mujer           22    Argentina  Ciudad Autónoma de Buenos Aires   \n",
              "\n",
              "   profile_years_experience  work_years_in_company  \\\n",
              "0                       3.0                    3.0   \n",
              "1                       5.0                    2.0   \n",
              "2                       2.0                    0.0   \n",
              "\n",
              "   work_years_in_current_position  work_people_in_charge_of  \\\n",
              "0                             3.0                         0   \n",
              "1                             2.0                         4   \n",
              "2                             0.0                         0   \n",
              "\n",
              "  profile_studies_level profile_studies_level_state  ...  \\\n",
              "0         Universitario                    En curso  ...   \n",
              "1         Universitario                    En curso  ...   \n",
              "2            Secundario                  Completado  ...   \n",
              "\n",
              "  work_has_violence_situations profile_sexual_orientation  \\\n",
              "0         En mi trabajo actual                 Homosexual   \n",
              "1                        Jamás               Heterosexual   \n",
              "2       En un trabajo anterior           Bisexual o queer   \n",
              "\n",
              "  profile_has_disabilities profile_has_disabilities_hiring_difficulties  \\\n",
              "0                      NaN                                          NaN   \n",
              "1                   Visual                                           No   \n",
              "2                      NaN                                           No   \n",
              "\n",
              "  company_employee_number                          company_main_activity  \\\n",
              "0                501-1000  Servicios / Consultoría de Software / Digital   \n",
              "1                 201-500                               Otras industrias   \n",
              "2               2001-5000                               Otras industrias   \n",
              "\n",
              "  company_recommended company_diversity_policies  \\\n",
              "0                   7                          2   \n",
              "1                   8                          9   \n",
              "2                   6                          9   \n",
              "\n",
              "                              company_extra_benefits  \\\n",
              "0  Capacitaciones y/o cursos, Comidas pagas / sub...   \n",
              "1  Horarios flexibles, Stock options / RSUs, Viát...   \n",
              "2  Clases de gimnasia online, Comidas pagas / sub...   \n",
              "\n",
              "  company_best_companies_city  \n",
              "0                         NaN  \n",
              "1                         NaN  \n",
              "2                         NaN  \n",
              "\n",
              "[3 rows x 48 columns]"
            ],
            "text/html": [
              "\n",
              "  <div id=\"df-5dece77b-16e9-429f-89e9-99224ac919bc\">\n",
              "    <div class=\"colab-df-container\">\n",
              "      <div>\n",
              "<style scoped>\n",
              "    .dataframe tbody tr th:only-of-type {\n",
              "        vertical-align: middle;\n",
              "    }\n",
              "\n",
              "    .dataframe tbody tr th {\n",
              "        vertical-align: top;\n",
              "    }\n",
              "\n",
              "    .dataframe thead th {\n",
              "        text-align: right;\n",
              "    }\n",
              "</style>\n",
              "<table border=\"1\" class=\"dataframe\">\n",
              "  <thead>\n",
              "    <tr style=\"text-align: right;\">\n",
              "      <th></th>\n",
              "      <th>profile_gender</th>\n",
              "      <th>profile_age</th>\n",
              "      <th>work_country</th>\n",
              "      <th>work_province</th>\n",
              "      <th>profile_years_experience</th>\n",
              "      <th>work_years_in_company</th>\n",
              "      <th>work_years_in_current_position</th>\n",
              "      <th>work_people_in_charge_of</th>\n",
              "      <th>profile_studies_level</th>\n",
              "      <th>profile_studies_level_state</th>\n",
              "      <th>...</th>\n",
              "      <th>work_has_violence_situations</th>\n",
              "      <th>profile_sexual_orientation</th>\n",
              "      <th>profile_has_disabilities</th>\n",
              "      <th>profile_has_disabilities_hiring_difficulties</th>\n",
              "      <th>company_employee_number</th>\n",
              "      <th>company_main_activity</th>\n",
              "      <th>company_recommended</th>\n",
              "      <th>company_diversity_policies</th>\n",
              "      <th>company_extra_benefits</th>\n",
              "      <th>company_best_companies_city</th>\n",
              "    </tr>\n",
              "  </thead>\n",
              "  <tbody>\n",
              "    <tr>\n",
              "      <th>0</th>\n",
              "      <td>Mujer</td>\n",
              "      <td>26</td>\n",
              "      <td>Argentina</td>\n",
              "      <td>Ciudad Autónoma de Buenos Aires</td>\n",
              "      <td>3.0</td>\n",
              "      <td>3.0</td>\n",
              "      <td>3.0</td>\n",
              "      <td>0</td>\n",
              "      <td>Universitario</td>\n",
              "      <td>En curso</td>\n",
              "      <td>...</td>\n",
              "      <td>En mi trabajo actual</td>\n",
              "      <td>Homosexual</td>\n",
              "      <td>NaN</td>\n",
              "      <td>NaN</td>\n",
              "      <td>501-1000</td>\n",
              "      <td>Servicios / Consultoría de Software / Digital</td>\n",
              "      <td>7</td>\n",
              "      <td>2</td>\n",
              "      <td>Capacitaciones y/o cursos, Comidas pagas / sub...</td>\n",
              "      <td>NaN</td>\n",
              "    </tr>\n",
              "    <tr>\n",
              "      <th>1</th>\n",
              "      <td>Hombre</td>\n",
              "      <td>29</td>\n",
              "      <td>Argentina</td>\n",
              "      <td>Corrientes</td>\n",
              "      <td>5.0</td>\n",
              "      <td>2.0</td>\n",
              "      <td>2.0</td>\n",
              "      <td>4</td>\n",
              "      <td>Universitario</td>\n",
              "      <td>En curso</td>\n",
              "      <td>...</td>\n",
              "      <td>Jamás</td>\n",
              "      <td>Heterosexual</td>\n",
              "      <td>Visual</td>\n",
              "      <td>No</td>\n",
              "      <td>201-500</td>\n",
              "      <td>Otras industrias</td>\n",
              "      <td>8</td>\n",
              "      <td>9</td>\n",
              "      <td>Horarios flexibles, Stock options / RSUs, Viát...</td>\n",
              "      <td>NaN</td>\n",
              "    </tr>\n",
              "    <tr>\n",
              "      <th>2</th>\n",
              "      <td>Mujer</td>\n",
              "      <td>22</td>\n",
              "      <td>Argentina</td>\n",
              "      <td>Ciudad Autónoma de Buenos Aires</td>\n",
              "      <td>2.0</td>\n",
              "      <td>0.0</td>\n",
              "      <td>0.0</td>\n",
              "      <td>0</td>\n",
              "      <td>Secundario</td>\n",
              "      <td>Completado</td>\n",
              "      <td>...</td>\n",
              "      <td>En un trabajo anterior</td>\n",
              "      <td>Bisexual o queer</td>\n",
              "      <td>NaN</td>\n",
              "      <td>No</td>\n",
              "      <td>2001-5000</td>\n",
              "      <td>Otras industrias</td>\n",
              "      <td>6</td>\n",
              "      <td>9</td>\n",
              "      <td>Clases de gimnasia online, Comidas pagas / sub...</td>\n",
              "      <td>NaN</td>\n",
              "    </tr>\n",
              "  </tbody>\n",
              "</table>\n",
              "<p>3 rows × 48 columns</p>\n",
              "</div>\n",
              "      <button class=\"colab-df-convert\" onclick=\"convertToInteractive('df-5dece77b-16e9-429f-89e9-99224ac919bc')\"\n",
              "              title=\"Convert this dataframe to an interactive table.\"\n",
              "              style=\"display:none;\">\n",
              "        \n",
              "  <svg xmlns=\"http://www.w3.org/2000/svg\" height=\"24px\"viewBox=\"0 0 24 24\"\n",
              "       width=\"24px\">\n",
              "    <path d=\"M0 0h24v24H0V0z\" fill=\"none\"/>\n",
              "    <path d=\"M18.56 5.44l.94 2.06.94-2.06 2.06-.94-2.06-.94-.94-2.06-.94 2.06-2.06.94zm-11 1L8.5 8.5l.94-2.06 2.06-.94-2.06-.94L8.5 2.5l-.94 2.06-2.06.94zm10 10l.94 2.06.94-2.06 2.06-.94-2.06-.94-.94-2.06-.94 2.06-2.06.94z\"/><path d=\"M17.41 7.96l-1.37-1.37c-.4-.4-.92-.59-1.43-.59-.52 0-1.04.2-1.43.59L10.3 9.45l-7.72 7.72c-.78.78-.78 2.05 0 2.83L4 21.41c.39.39.9.59 1.41.59.51 0 1.02-.2 1.41-.59l7.78-7.78 2.81-2.81c.8-.78.8-2.07 0-2.86zM5.41 20L4 18.59l7.72-7.72 1.47 1.35L5.41 20z\"/>\n",
              "  </svg>\n",
              "      </button>\n",
              "      \n",
              "  <style>\n",
              "    .colab-df-container {\n",
              "      display:flex;\n",
              "      flex-wrap:wrap;\n",
              "      gap: 12px;\n",
              "    }\n",
              "\n",
              "    .colab-df-convert {\n",
              "      background-color: #E8F0FE;\n",
              "      border: none;\n",
              "      border-radius: 50%;\n",
              "      cursor: pointer;\n",
              "      display: none;\n",
              "      fill: #1967D2;\n",
              "      height: 32px;\n",
              "      padding: 0 0 0 0;\n",
              "      width: 32px;\n",
              "    }\n",
              "\n",
              "    .colab-df-convert:hover {\n",
              "      background-color: #E2EBFA;\n",
              "      box-shadow: 0px 1px 2px rgba(60, 64, 67, 0.3), 0px 1px 3px 1px rgba(60, 64, 67, 0.15);\n",
              "      fill: #174EA6;\n",
              "    }\n",
              "\n",
              "    [theme=dark] .colab-df-convert {\n",
              "      background-color: #3B4455;\n",
              "      fill: #D2E3FC;\n",
              "    }\n",
              "\n",
              "    [theme=dark] .colab-df-convert:hover {\n",
              "      background-color: #434B5C;\n",
              "      box-shadow: 0px 1px 3px 1px rgba(0, 0, 0, 0.15);\n",
              "      filter: drop-shadow(0px 1px 2px rgba(0, 0, 0, 0.3));\n",
              "      fill: #FFFFFF;\n",
              "    }\n",
              "  </style>\n",
              "\n",
              "      <script>\n",
              "        const buttonEl =\n",
              "          document.querySelector('#df-5dece77b-16e9-429f-89e9-99224ac919bc button.colab-df-convert');\n",
              "        buttonEl.style.display =\n",
              "          google.colab.kernel.accessAllowed ? 'block' : 'none';\n",
              "\n",
              "        async function convertToInteractive(key) {\n",
              "          const element = document.querySelector('#df-5dece77b-16e9-429f-89e9-99224ac919bc');\n",
              "          const dataTable =\n",
              "            await google.colab.kernel.invokeFunction('convertToInteractive',\n",
              "                                                     [key], {});\n",
              "          if (!dataTable) return;\n",
              "\n",
              "          const docLinkHtml = 'Like what you see? Visit the ' +\n",
              "            '<a target=\"_blank\" href=https://colab.research.google.com/notebooks/data_table.ipynb>data table notebook</a>'\n",
              "            + ' to learn more about interactive tables.';\n",
              "          element.innerHTML = '';\n",
              "          dataTable['output_type'] = 'display_data';\n",
              "          await google.colab.output.renderOutput(dataTable, element);\n",
              "          const docLink = document.createElement('div');\n",
              "          docLink.innerHTML = docLinkHtml;\n",
              "          element.appendChild(docLink);\n",
              "        }\n",
              "      </script>\n",
              "    </div>\n",
              "  </div>\n",
              "  "
            ]
          },
          "metadata": {},
          "execution_count": 172
        }
      ]
    },
    {
      "cell_type": "code",
      "metadata": {
        "id": "2lzmzK1NuPNT",
        "colab": {
          "base_uri": "https://localhost:8080/",
          "height": 206
        },
        "outputId": "f86a01cf-effc-4a95-db6b-3c5421a88f42"
      },
      "source": [
        "df[['profile_gender', 'salary_monthly_NETO']].groupby('profile_gender').describe()"
      ],
      "execution_count": 173,
      "outputs": [
        {
          "output_type": "execute_result",
          "data": {
            "text/plain": [
              "               salary_monthly_NETO                                     \\\n",
              "                             count          mean            std   min   \n",
              "profile_gender                                                          \n",
              "Hombre                      4944.0  98836.063558  102159.664237   1.0   \n",
              "Mujer                        908.0  73501.414465   56256.880181   2.0   \n",
              "Otros                         31.0  95441.354839   88635.674358  40.0   \n",
              "\n",
              "                                                       \n",
              "                    25%      50%       75%        max  \n",
              "profile_gender                                         \n",
              "Hombre          53285.0  80000.0  110000.0  2080000.0  \n",
              "Mujer           43818.0  65000.0   92000.0   800000.0  \n",
              "Otros           39500.0  74000.0  117500.0   380000.0  "
            ],
            "text/html": [
              "\n",
              "  <div id=\"df-d9fdfd92-2782-4e67-a9bb-ad7407c13c9a\">\n",
              "    <div class=\"colab-df-container\">\n",
              "      <div>\n",
              "<style scoped>\n",
              "    .dataframe tbody tr th:only-of-type {\n",
              "        vertical-align: middle;\n",
              "    }\n",
              "\n",
              "    .dataframe tbody tr th {\n",
              "        vertical-align: top;\n",
              "    }\n",
              "\n",
              "    .dataframe thead tr th {\n",
              "        text-align: left;\n",
              "    }\n",
              "\n",
              "    .dataframe thead tr:last-of-type th {\n",
              "        text-align: right;\n",
              "    }\n",
              "</style>\n",
              "<table border=\"1\" class=\"dataframe\">\n",
              "  <thead>\n",
              "    <tr>\n",
              "      <th></th>\n",
              "      <th colspan=\"8\" halign=\"left\">salary_monthly_NETO</th>\n",
              "    </tr>\n",
              "    <tr>\n",
              "      <th></th>\n",
              "      <th>count</th>\n",
              "      <th>mean</th>\n",
              "      <th>std</th>\n",
              "      <th>min</th>\n",
              "      <th>25%</th>\n",
              "      <th>50%</th>\n",
              "      <th>75%</th>\n",
              "      <th>max</th>\n",
              "    </tr>\n",
              "    <tr>\n",
              "      <th>profile_gender</th>\n",
              "      <th></th>\n",
              "      <th></th>\n",
              "      <th></th>\n",
              "      <th></th>\n",
              "      <th></th>\n",
              "      <th></th>\n",
              "      <th></th>\n",
              "      <th></th>\n",
              "    </tr>\n",
              "  </thead>\n",
              "  <tbody>\n",
              "    <tr>\n",
              "      <th>Hombre</th>\n",
              "      <td>4944.0</td>\n",
              "      <td>98836.063558</td>\n",
              "      <td>102159.664237</td>\n",
              "      <td>1.0</td>\n",
              "      <td>53285.0</td>\n",
              "      <td>80000.0</td>\n",
              "      <td>110000.0</td>\n",
              "      <td>2080000.0</td>\n",
              "    </tr>\n",
              "    <tr>\n",
              "      <th>Mujer</th>\n",
              "      <td>908.0</td>\n",
              "      <td>73501.414465</td>\n",
              "      <td>56256.880181</td>\n",
              "      <td>2.0</td>\n",
              "      <td>43818.0</td>\n",
              "      <td>65000.0</td>\n",
              "      <td>92000.0</td>\n",
              "      <td>800000.0</td>\n",
              "    </tr>\n",
              "    <tr>\n",
              "      <th>Otros</th>\n",
              "      <td>31.0</td>\n",
              "      <td>95441.354839</td>\n",
              "      <td>88635.674358</td>\n",
              "      <td>40.0</td>\n",
              "      <td>39500.0</td>\n",
              "      <td>74000.0</td>\n",
              "      <td>117500.0</td>\n",
              "      <td>380000.0</td>\n",
              "    </tr>\n",
              "  </tbody>\n",
              "</table>\n",
              "</div>\n",
              "      <button class=\"colab-df-convert\" onclick=\"convertToInteractive('df-d9fdfd92-2782-4e67-a9bb-ad7407c13c9a')\"\n",
              "              title=\"Convert this dataframe to an interactive table.\"\n",
              "              style=\"display:none;\">\n",
              "        \n",
              "  <svg xmlns=\"http://www.w3.org/2000/svg\" height=\"24px\"viewBox=\"0 0 24 24\"\n",
              "       width=\"24px\">\n",
              "    <path d=\"M0 0h24v24H0V0z\" fill=\"none\"/>\n",
              "    <path d=\"M18.56 5.44l.94 2.06.94-2.06 2.06-.94-2.06-.94-.94-2.06-.94 2.06-2.06.94zm-11 1L8.5 8.5l.94-2.06 2.06-.94-2.06-.94L8.5 2.5l-.94 2.06-2.06.94zm10 10l.94 2.06.94-2.06 2.06-.94-2.06-.94-.94-2.06-.94 2.06-2.06.94z\"/><path d=\"M17.41 7.96l-1.37-1.37c-.4-.4-.92-.59-1.43-.59-.52 0-1.04.2-1.43.59L10.3 9.45l-7.72 7.72c-.78.78-.78 2.05 0 2.83L4 21.41c.39.39.9.59 1.41.59.51 0 1.02-.2 1.41-.59l7.78-7.78 2.81-2.81c.8-.78.8-2.07 0-2.86zM5.41 20L4 18.59l7.72-7.72 1.47 1.35L5.41 20z\"/>\n",
              "  </svg>\n",
              "      </button>\n",
              "      \n",
              "  <style>\n",
              "    .colab-df-container {\n",
              "      display:flex;\n",
              "      flex-wrap:wrap;\n",
              "      gap: 12px;\n",
              "    }\n",
              "\n",
              "    .colab-df-convert {\n",
              "      background-color: #E8F0FE;\n",
              "      border: none;\n",
              "      border-radius: 50%;\n",
              "      cursor: pointer;\n",
              "      display: none;\n",
              "      fill: #1967D2;\n",
              "      height: 32px;\n",
              "      padding: 0 0 0 0;\n",
              "      width: 32px;\n",
              "    }\n",
              "\n",
              "    .colab-df-convert:hover {\n",
              "      background-color: #E2EBFA;\n",
              "      box-shadow: 0px 1px 2px rgba(60, 64, 67, 0.3), 0px 1px 3px 1px rgba(60, 64, 67, 0.15);\n",
              "      fill: #174EA6;\n",
              "    }\n",
              "\n",
              "    [theme=dark] .colab-df-convert {\n",
              "      background-color: #3B4455;\n",
              "      fill: #D2E3FC;\n",
              "    }\n",
              "\n",
              "    [theme=dark] .colab-df-convert:hover {\n",
              "      background-color: #434B5C;\n",
              "      box-shadow: 0px 1px 3px 1px rgba(0, 0, 0, 0.15);\n",
              "      filter: drop-shadow(0px 1px 2px rgba(0, 0, 0, 0.3));\n",
              "      fill: #FFFFFF;\n",
              "    }\n",
              "  </style>\n",
              "\n",
              "      <script>\n",
              "        const buttonEl =\n",
              "          document.querySelector('#df-d9fdfd92-2782-4e67-a9bb-ad7407c13c9a button.colab-df-convert');\n",
              "        buttonEl.style.display =\n",
              "          google.colab.kernel.accessAllowed ? 'block' : 'none';\n",
              "\n",
              "        async function convertToInteractive(key) {\n",
              "          const element = document.querySelector('#df-d9fdfd92-2782-4e67-a9bb-ad7407c13c9a');\n",
              "          const dataTable =\n",
              "            await google.colab.kernel.invokeFunction('convertToInteractive',\n",
              "                                                     [key], {});\n",
              "          if (!dataTable) return;\n",
              "\n",
              "          const docLinkHtml = 'Like what you see? Visit the ' +\n",
              "            '<a target=\"_blank\" href=https://colab.research.google.com/notebooks/data_table.ipynb>data table notebook</a>'\n",
              "            + ' to learn more about interactive tables.';\n",
              "          element.innerHTML = '';\n",
              "          dataTable['output_type'] = 'display_data';\n",
              "          await google.colab.output.renderOutput(dataTable, element);\n",
              "          const docLink = document.createElement('div');\n",
              "          docLink.innerHTML = docLinkHtml;\n",
              "          element.appendChild(docLink);\n",
              "        }\n",
              "      </script>\n",
              "    </div>\n",
              "  </div>\n",
              "  "
            ]
          },
          "metadata": {},
          "execution_count": 173
        }
      ]
    },
    {
      "cell_type": "code",
      "metadata": {
        "colab": {
          "base_uri": "https://localhost:8080/",
          "height": 206
        },
        "id": "pycKJ5jWkShW",
        "outputId": "bec81a7c-f892-4355-d17c-2cb474a9fb94"
      },
      "source": [
        "df[df.salary_monthly_NETO > 1000]\\\n",
        "  [['profile_gender', 'salary_monthly_NETO']].groupby('profile_gender').describe()"
      ],
      "execution_count": 174,
      "outputs": [
        {
          "output_type": "execute_result",
          "data": {
            "text/plain": [
              "               salary_monthly_NETO                                         \\\n",
              "                             count           mean            std      min   \n",
              "profile_gender                                                              \n",
              "Hombre                      4815.0  101481.624343  102215.304684   1100.0   \n",
              "Mujer                        863.0   77328.913778   55082.760570   2000.0   \n",
              "Otros                         28.0  105660.714286   87235.710235  34000.0   \n",
              "\n",
              "                                                       \n",
              "                    25%      50%       75%        max  \n",
              "profile_gender                                         \n",
              "Hombre          55000.0  80000.0  110000.0  2080000.0  \n",
              "Mujer           47850.0  67200.0   93000.0   800000.0  \n",
              "Otros           43750.0  78900.0  122750.0   380000.0  "
            ],
            "text/html": [
              "\n",
              "  <div id=\"df-d254922f-0247-4415-86c1-1fb03227a37d\">\n",
              "    <div class=\"colab-df-container\">\n",
              "      <div>\n",
              "<style scoped>\n",
              "    .dataframe tbody tr th:only-of-type {\n",
              "        vertical-align: middle;\n",
              "    }\n",
              "\n",
              "    .dataframe tbody tr th {\n",
              "        vertical-align: top;\n",
              "    }\n",
              "\n",
              "    .dataframe thead tr th {\n",
              "        text-align: left;\n",
              "    }\n",
              "\n",
              "    .dataframe thead tr:last-of-type th {\n",
              "        text-align: right;\n",
              "    }\n",
              "</style>\n",
              "<table border=\"1\" class=\"dataframe\">\n",
              "  <thead>\n",
              "    <tr>\n",
              "      <th></th>\n",
              "      <th colspan=\"8\" halign=\"left\">salary_monthly_NETO</th>\n",
              "    </tr>\n",
              "    <tr>\n",
              "      <th></th>\n",
              "      <th>count</th>\n",
              "      <th>mean</th>\n",
              "      <th>std</th>\n",
              "      <th>min</th>\n",
              "      <th>25%</th>\n",
              "      <th>50%</th>\n",
              "      <th>75%</th>\n",
              "      <th>max</th>\n",
              "    </tr>\n",
              "    <tr>\n",
              "      <th>profile_gender</th>\n",
              "      <th></th>\n",
              "      <th></th>\n",
              "      <th></th>\n",
              "      <th></th>\n",
              "      <th></th>\n",
              "      <th></th>\n",
              "      <th></th>\n",
              "      <th></th>\n",
              "    </tr>\n",
              "  </thead>\n",
              "  <tbody>\n",
              "    <tr>\n",
              "      <th>Hombre</th>\n",
              "      <td>4815.0</td>\n",
              "      <td>101481.624343</td>\n",
              "      <td>102215.304684</td>\n",
              "      <td>1100.0</td>\n",
              "      <td>55000.0</td>\n",
              "      <td>80000.0</td>\n",
              "      <td>110000.0</td>\n",
              "      <td>2080000.0</td>\n",
              "    </tr>\n",
              "    <tr>\n",
              "      <th>Mujer</th>\n",
              "      <td>863.0</td>\n",
              "      <td>77328.913778</td>\n",
              "      <td>55082.760570</td>\n",
              "      <td>2000.0</td>\n",
              "      <td>47850.0</td>\n",
              "      <td>67200.0</td>\n",
              "      <td>93000.0</td>\n",
              "      <td>800000.0</td>\n",
              "    </tr>\n",
              "    <tr>\n",
              "      <th>Otros</th>\n",
              "      <td>28.0</td>\n",
              "      <td>105660.714286</td>\n",
              "      <td>87235.710235</td>\n",
              "      <td>34000.0</td>\n",
              "      <td>43750.0</td>\n",
              "      <td>78900.0</td>\n",
              "      <td>122750.0</td>\n",
              "      <td>380000.0</td>\n",
              "    </tr>\n",
              "  </tbody>\n",
              "</table>\n",
              "</div>\n",
              "      <button class=\"colab-df-convert\" onclick=\"convertToInteractive('df-d254922f-0247-4415-86c1-1fb03227a37d')\"\n",
              "              title=\"Convert this dataframe to an interactive table.\"\n",
              "              style=\"display:none;\">\n",
              "        \n",
              "  <svg xmlns=\"http://www.w3.org/2000/svg\" height=\"24px\"viewBox=\"0 0 24 24\"\n",
              "       width=\"24px\">\n",
              "    <path d=\"M0 0h24v24H0V0z\" fill=\"none\"/>\n",
              "    <path d=\"M18.56 5.44l.94 2.06.94-2.06 2.06-.94-2.06-.94-.94-2.06-.94 2.06-2.06.94zm-11 1L8.5 8.5l.94-2.06 2.06-.94-2.06-.94L8.5 2.5l-.94 2.06-2.06.94zm10 10l.94 2.06.94-2.06 2.06-.94-2.06-.94-.94-2.06-.94 2.06-2.06.94z\"/><path d=\"M17.41 7.96l-1.37-1.37c-.4-.4-.92-.59-1.43-.59-.52 0-1.04.2-1.43.59L10.3 9.45l-7.72 7.72c-.78.78-.78 2.05 0 2.83L4 21.41c.39.39.9.59 1.41.59.51 0 1.02-.2 1.41-.59l7.78-7.78 2.81-2.81c.8-.78.8-2.07 0-2.86zM5.41 20L4 18.59l7.72-7.72 1.47 1.35L5.41 20z\"/>\n",
              "  </svg>\n",
              "      </button>\n",
              "      \n",
              "  <style>\n",
              "    .colab-df-container {\n",
              "      display:flex;\n",
              "      flex-wrap:wrap;\n",
              "      gap: 12px;\n",
              "    }\n",
              "\n",
              "    .colab-df-convert {\n",
              "      background-color: #E8F0FE;\n",
              "      border: none;\n",
              "      border-radius: 50%;\n",
              "      cursor: pointer;\n",
              "      display: none;\n",
              "      fill: #1967D2;\n",
              "      height: 32px;\n",
              "      padding: 0 0 0 0;\n",
              "      width: 32px;\n",
              "    }\n",
              "\n",
              "    .colab-df-convert:hover {\n",
              "      background-color: #E2EBFA;\n",
              "      box-shadow: 0px 1px 2px rgba(60, 64, 67, 0.3), 0px 1px 3px 1px rgba(60, 64, 67, 0.15);\n",
              "      fill: #174EA6;\n",
              "    }\n",
              "\n",
              "    [theme=dark] .colab-df-convert {\n",
              "      background-color: #3B4455;\n",
              "      fill: #D2E3FC;\n",
              "    }\n",
              "\n",
              "    [theme=dark] .colab-df-convert:hover {\n",
              "      background-color: #434B5C;\n",
              "      box-shadow: 0px 1px 3px 1px rgba(0, 0, 0, 0.15);\n",
              "      filter: drop-shadow(0px 1px 2px rgba(0, 0, 0, 0.3));\n",
              "      fill: #FFFFFF;\n",
              "    }\n",
              "  </style>\n",
              "\n",
              "      <script>\n",
              "        const buttonEl =\n",
              "          document.querySelector('#df-d254922f-0247-4415-86c1-1fb03227a37d button.colab-df-convert');\n",
              "        buttonEl.style.display =\n",
              "          google.colab.kernel.accessAllowed ? 'block' : 'none';\n",
              "\n",
              "        async function convertToInteractive(key) {\n",
              "          const element = document.querySelector('#df-d254922f-0247-4415-86c1-1fb03227a37d');\n",
              "          const dataTable =\n",
              "            await google.colab.kernel.invokeFunction('convertToInteractive',\n",
              "                                                     [key], {});\n",
              "          if (!dataTable) return;\n",
              "\n",
              "          const docLinkHtml = 'Like what you see? Visit the ' +\n",
              "            '<a target=\"_blank\" href=https://colab.research.google.com/notebooks/data_table.ipynb>data table notebook</a>'\n",
              "            + ' to learn more about interactive tables.';\n",
              "          element.innerHTML = '';\n",
              "          dataTable['output_type'] = 'display_data';\n",
              "          await google.colab.output.renderOutput(dataTable, element);\n",
              "          const docLink = document.createElement('div');\n",
              "          docLink.innerHTML = docLinkHtml;\n",
              "          element.appendChild(docLink);\n",
              "        }\n",
              "      </script>\n",
              "    </div>\n",
              "  </div>\n",
              "  "
            ]
          },
          "metadata": {},
          "execution_count": 174
        }
      ]
    },
    {
      "cell_type": "code",
      "source": [
        "df_mean=df[df.salary_monthly_NETO > 1000]\\\n",
        "  [['profile_gender', 'salary_monthly_NETO']].groupby('profile_gender').mean()"
      ],
      "metadata": {
        "id": "lFK2fZAoph8k"
      },
      "execution_count": 261,
      "outputs": []
    },
    {
      "cell_type": "code",
      "metadata": {
        "id": "uZ1GxkLylHx0"
      },
      "source": [
        "alpha = 0.05"
      ],
      "execution_count": 175,
      "outputs": []
    },
    {
      "cell_type": "code",
      "metadata": {
        "id": "OfzFpDO-lYxk"
      },
      "source": [
        "is_man = df.profile_gender == 'Hombre'\n",
        "\n",
        "groupA = df[(df.salary_monthly_NETO > 1000) & is_man].salary_monthly_NETO\n",
        "groupB = df[(df.salary_monthly_NETO > 1000) & ~is_man].salary_monthly_NETO"
      ],
      "execution_count": 176,
      "outputs": []
    },
    {
      "cell_type": "markdown",
      "source": [
        "Con cantidad de muestra fija de 50"
      ],
      "metadata": {
        "id": "R_Xy01SmcQvU"
      }
    },
    {
      "cell_type": "code",
      "source": [
        "alpha = 0.05\n",
        "z_0975 = 1.96"
      ],
      "metadata": {
        "id": "M82mGNZPSoOV"
      },
      "execution_count": 177,
      "outputs": []
    },
    {
      "cell_type": "code",
      "source": [
        "n_A = 50\n",
        "n_B = 50\n",
        "\n",
        "Muestra_A = groupA.sample(n_A, replace=False)\n",
        "Muestra_B = groupB.sample(n_B, replace=False)\n",
        "Muestra_A_mean = Muestra_A.mean()\n",
        "Muestra_A_std = Muestra_A.std()\n",
        "Muestra_B_mean = Muestra_B.mean()\n",
        "Muestra_B_std = Muestra_B.std()"
      ],
      "metadata": {
        "id": "uofL8INBP3TQ"
      },
      "execution_count": 231,
      "outputs": []
    },
    {
      "cell_type": "code",
      "source": [
        "grupoA_liminf = Muestra_A_mean - z_0975 * (Muestra_A_std / numpy.sqrt(n_A))\n",
        "grupoA_limsup = Muestra_A_mean + z_0975 * (Muestra_A_std / numpy.sqrt(n_A))"
      ],
      "metadata": {
        "id": "Xf8CtS6BRdSW"
      },
      "execution_count": 232,
      "outputs": []
    },
    {
      "cell_type": "code",
      "source": [
        "Long_intervalA_1=grupoA_limsup-grupoA_liminf"
      ],
      "metadata": {
        "id": "cG7fpMG1Qm2f"
      },
      "execution_count": 233,
      "outputs": []
    },
    {
      "cell_type": "code",
      "source": [
        "grupoB_liminf = Muestra_B_mean - z_0975 * (Muestra_B_std / numpy.sqrt(n_B))\n",
        "grupoB_limsup = Muestra_B_mean + z_0975 * (Muestra_B_std / numpy.sqrt(n_B))"
      ],
      "metadata": {
        "id": "SanTxtC2S1We"
      },
      "execution_count": 234,
      "outputs": []
    },
    {
      "cell_type": "code",
      "source": [
        "Long_intervalB_1 = grupoB_limsup-grupoB_liminf"
      ],
      "metadata": {
        "id": "rT3lpTf4S7uN"
      },
      "execution_count": 235,
      "outputs": []
    },
    {
      "cell_type": "code",
      "source": [
        "abs(Long_intervalA_1-Long_intervalB_1)"
      ],
      "metadata": {
        "colab": {
          "base_uri": "https://localhost:8080/"
        },
        "id": "KVWllAwdT5sj",
        "outputId": "b36237ae-f880-4382-8309-daaca7cdb09a"
      },
      "execution_count": 236,
      "outputs": [
        {
          "output_type": "execute_result",
          "data": {
            "text/plain": [
              "14226.920035053103"
            ]
          },
          "metadata": {},
          "execution_count": 236
        }
      ]
    },
    {
      "cell_type": "code",
      "source": [
        "seaborn.displot(Muestra_A, aspect=2)"
      ],
      "metadata": {
        "colab": {
          "base_uri": "https://localhost:8080/",
          "height": 369
        },
        "id": "Q_g_6qf0b4Nl",
        "outputId": "b8c5a2b6-69f1-470d-88ef-511dd6cc4745"
      },
      "execution_count": 237,
      "outputs": [
        {
          "output_type": "execute_result",
          "data": {
            "text/plain": [
              "<seaborn.axisgrid.FacetGrid at 0x7f0e8a92b290>"
            ]
          },
          "metadata": {},
          "execution_count": 237
        },
        {
          "output_type": "display_data",
          "data": {
            "text/plain": [
              "<Figure size 720x360 with 1 Axes>"
            ],
            "image/png": "[encoded data removed]"
          },
          "metadata": {
            "needs_background": "light"
          }
        }
      ]
    },
    {
      "cell_type": "code",
      "source": [
        "seaborn.displot(Muestra_B, aspect=2)"
      ],
      "metadata": {
        "colab": {
          "base_uri": "https://localhost:8080/",
          "height": 369
        },
        "id": "5lQy70PMb9M8",
        "outputId": "59906f0c-5dcd-4ce4-ee19-529754ec0f9d"
      },
      "execution_count": 238,
      "outputs": [
        {
          "output_type": "execute_result",
          "data": {
            "text/plain": [
              "<seaborn.axisgrid.FacetGrid at 0x7f0e86394590>"
            ]
          },
          "metadata": {},
          "execution_count": 238
        },
        {
          "output_type": "display_data",
          "data": {
            "text/plain": [
              "<Figure size 720x360 with 1 Axes>"
            ],
            "image/png": "[encoded data removed]"
          },
          "metadata": {
            "needs_background": "light"
          }
        }
      ]
    },
    {
      "cell_type": "markdown",
      "source": [
        ""
      ],
      "metadata": {
        "id": "-HjPkpnlb00U"
      }
    },
    {
      "cell_type": "markdown",
      "metadata": {
        "id": "co_0M_ojtmUh"
      },
      "source": [
        "## Ejercicio 1: Estimación\n",
        "\n",
        "**Consigna:**  Calcular una estimación puntual y un intervalo de confianza de nivel (1-alpha) para la resta entre la media del salario Neto para Hombres menos la media del salario Neto para otros géneros(diferencia de las medias entre el grupoA y grupoB). \n",
        "¿Cómo se relaciona este intervalo de confianza con el test de hipótesis?"
      ]
    },
    {
      "cell_type": "code",
      "metadata": {
        "id": "0fA1RQ0upe6N"
      },
      "source": [
        ""
      ],
      "execution_count": 191,
      "outputs": []
    },
    {
      "cell_type": "markdown",
      "metadata": {
        "id": "IFi2T7Y6nM92"
      },
      "source": [
        "## Ejercicio 2: Test de hipótesis\n"
      ]
    },
    {
      "cell_type": "markdown",
      "metadata": {
        "id": "Rzxe8UYU6EfJ"
      },
      "source": [
        "\n",
        "### 2.1 Formalización\n",
        "\n",
        "Describir formalmente los distintos componentes de un test de hipótesis para comprobar si la distribución de los salarios es distinta entre los grupos A y B.\n",
        "\n",
        "**Hipótesis Nula**\n",
        "\n",
        "$H_0=...$\n",
        "\n",
        "**Estadístico (Pivote)**\n",
        "  * Identificar el estadístico\n",
        "  * Escribir qué distribución tiene bajo $H_0$\n"
      ]
    },
    {
      "cell_type": "markdown",
      "source": [
        ""
      ],
      "metadata": {
        "id": "ecZgM3iCsImp"
      }
    },
    {
      "cell_type": "markdown",
      "source": [
        "**H0** = Los hombres cobran mas que las mujeres\n",
        "**H1** = las mujeres cobran mas que los hombres"
      ],
      "metadata": {
        "id": "ymuzAhV2n0oS"
      }
    },
    {
      "cell_type": "markdown",
      "metadata": {
        "id": "3Ip_5YdenC8u"
      },
      "source": [
        "### 2.2 P-valor\n",
        "\n",
        "1. Calcule el p-valor y decida si rechazar o no la hipótesis nula.\n",
        "2. Interprete el resultado.\n",
        "\n",
        "Links útiles:\n",
        "* [Test de hipótesis usando scipy](https://docs.scipy.org/doc/scipy/reference/generated/scipy.stats.ttest_ind.html)\n",
        "* [Test de Welch](http://daniellakens.blogspot.com/2015/01/always-use-welchs-t-test-instead-of.html)"
      ]
    },
    {
      "cell_type": "code",
      "source": [
        "from scipy import stats\n",
        "import plotly.graph_objects as go\n",
        "\n",
        "stats.ttest_ind(groupA, groupB,equal_var=False)"
      ],
      "metadata": {
        "colab": {
          "base_uri": "https://localhost:8080/"
        },
        "id": "TlCTqseRkX3k",
        "outputId": "7d87d1dc-2ca6-4e36-abd5-49783b196668"
      },
      "execution_count": 254,
      "outputs": [
        {
          "output_type": "execute_result",
          "data": {
            "text/plain": [
              "Ttest_indResult(statistic=9.697205976350673, pvalue=8.605197322133209e-22)"
            ]
          },
          "metadata": {},
          "execution_count": 254
        }
      ]
    },
    {
      "cell_type": "markdown",
      "source": [
        "Conclusion = al tener un valor de p mayor a 5 % existe evidencia para afirmar la no igualdad de las medidas."
      ],
      "metadata": {
        "id": "yhFmK0fFoPa5"
      }
    },
    {
      "cell_type": "code",
      "source": [
        "flg = go.Figure()\n",
        "flg.add_trace(go.Box(y=groupA,name=\"Hombres\"))\n",
        "flg.add_trace(go.Box(y=groupB,name=\"Mujeres\"))\n",
        "flg.update_layout(\n",
        "    title={\n",
        "        'text':\"Salario por grupo\",\n",
        "        'y': 0.9,\n",
        "        'x': 0.9,\n",
        "        'xanchor':'center',\n",
        "        'yanchor':'top'\n",
        "    }\n",
        ")\n",
        "flg.show()"
      ],
      "metadata": {
        "colab": {
          "base_uri": "https://localhost:8080/",
          "height": 542
        },
        "id": "sE5GDxn4ozOh",
        "outputId": "26519d1d-0ae5-4e50-d287-4da582dcc50e"
      },
      "execution_count": 276,
      "outputs": [
        {
          "output_type": "display_data",
          "data": {
            "text/html": [
              "<html>\n",
              "<head><meta charset=\"utf-8\" /></head>\n",
              "<body>\n",
              "    <div>            <script src=\"https://cdnjs.cloudflare.com/ajax/libs/mathjax/2.7.5/MathJax.js?config=TeX-AMS-MML_SVG\"></script><script type=\"text/javascript\">if (window.MathJax) {MathJax.Hub.Config({SVG: {font: \"STIX-Web\"}});}</script>                <script type=\"text/javascript\">window.PlotlyConfig = {MathJaxConfig: 'local'};</script>\n",
              "        <script src=\"https://cdn.plot.ly/plotly-2.8.3.min.js\"></script>                <div id=\"2bb8291a-30d9-4d38-af44-d247f45c9e58\" class=\"plotly-graph-div\" style=\"height:525px; width:100%;\"></div>            <script type=\"text/javascript\">                                    window.PLOTLYENV=window.PLOTLYENV || {};                                    if (document.getElementById(\"2bb8291a-30d9-4d38-af44-d247f45c9e58\")) {                    Plotly.newPlot(                        \"2bb8291a-30d9-4d38-af44-d247f45c9e58\",                        [{\"name\":\"Hombres\",\"y\":[63000.0,102000.0,106000.0,44000.0,62400.0,37500.0,75000.0,36800.0,94621.0,63000.0,92000.0,80000.0,75000.0,100000.0,93000.0,68000.0,80000.0,47950.0,84000.0,38460.0,66000.0,200000.0,88900.0,137000.0,168000.0,90000.0,132000.0,56000.0,122000.0,280000.0,130000.0,126500.0,64500.0,38943.0,65023.0,168000.0,90000.0,40000.0,50000.0,74144.0,82000.0,72000.0,80000.0,57117.0,75000.0,75000.0,21995.0,345420.0,67000.0,72000.0,130000.0,36000.0,49800.0,47875.0,40000.0,55000.0,111000.0,80000.0,150000.0,80000.0,44500.0,48000.0,100000.0,93000.0,300000.0,50000.0,78000.0,34500.0,48000.0,106000.0,95000.0,125000.0,42000.0,120000.0,41500.0,102000.0,34000.0,280000.0,55000.0,65000.0,85000.0,199000.0,43000.0,29822.0,117000.0,35500.0,68768.51,14000.0,80000.0,49000.0,51209.0,47000.0,39000.0,60963.0,70000.0,70000.0,100000.0,48000.0,220000.0,99000.0,71000.0,120000.0,90000.0,230000.0,36900.0,65000.0,65000.0,50888.0,66815.0,170000.0,46750.0,93000.0,106000.0,100000.0,88500.0,44000.0,84900.0,65000.0,48000.0,240000.0,84000.0,48000.0,55000.0,35200.0,200000.0,29500.0,75000.0,70000.0,29880.0,57000.0,53000.0,57000.0,78400.0,95000.0,92650.0,83000.0,81000.0,69000.0,41500.0,41500.0,120000.0,38000.0,72000.0,46000.0,95000.0,62500.0,101000.0,104000.0,45000.0,82000.0,40000.0,27500.0,108000.0,89000.0,87000.0,48000.0,150000.0,85000.0,50000.0,155000.0,86000.0,90000.0,92000.0,67000.0,85000.0,52000.0,56586.0,92650.0,73000.0,89000.0,87000.0,170000.0,47000.0,65000.0,68000.0,100000.0,70000.0,93500.0,93000.0,153000.0,40000.0,80000.0,94000.0,54000.0,38000.0,105000.0,80000.0,70000.0,5000.0,31500.0,54000.0,35674.0,77000.0,50000.0,200000.0,93000.0,115000.0,58500.0,110000.0,33560.0,130000.0,100000.0,84000.0,38000.0,27000.0,83000.0,75000.0,185000.0,48000.0,40000.0,165000.0,77000.0,88000.0,105000.0,500000.0,41385.75,230000.0,21000.0,50000.0,44000.0,19800.0,93000.0,76000.0,92000.0,76000.0,25000.0,77000.0,120000.0,94000.0,44000.0,43050.0,70000.0,39800.0,300000.0,340099.0,100000.0,88000.0,45000.0,430000.0,68000.0,89000.0,103330.0,40000.0,120000.0,115000.0,73500.0,122000.0,167033.0,120000.0,422500.0,41000.0,70500.0,210000.0,135000.0,110000.0,32900.0,80000.0,103057.0,75000.0,140000.0,68000.0,46200.0,120000.0,138500.0,95000.0,65000.0,47000.0,91000.0,144000.0,83000.0,53950.0,54000.0,56741.0,64000.0,45000.0,105000.0,78000.0,99000.0,68000.0,96000.0,85000.0,95000.0,54946.0,47400.0,93000.0,110000.0,165000.0,57967.0,31495.0,91000.0,130000.0,100000.0,113000.0,66393.0,104000.0,80000.0,45000.0,49000.0,65343.0,58000.0,132000.0,50069.76,60000.0,40600.0,48000.0,53000.0,90000.0,140000.0,22000.0,88000.0,62700.0,38000.0,75000.0,35000.0,275000.0,49000.0,62250.0,130000.0,75000.0,220000.0,52000.0,85000.0,71000.0,115000.0,90000.0,65000.0,38000.0,35000.0,70000.0,66000.0,27000.0,73000.0,80000.0,380000.0,65000.0,75000.0,84000.0,72000.0,108000.0,100000.0,86500.0,62675.0,180000.0,80000.0,80000.0,14500.0,160000.0,55300.0,65000.0,96000.0,43600.0,38000.0,147497.0,66528.0,80000.0,80000.0,53000.0,35000.0,110000.0,80000.0,84500.0,508000.0,113000.0,44000.0,125000.0,165000.0,149000.0,66191.6,72500.0,75000.0,60000.0,112000.0,50000.0,77000.0,55000.0,104580.0,130000.0,69000.0,330000.0,100600.0,85000.0,75000.0,97194.0,140000.0,134000.0,41500.0,77000.0,40500.0,110000.0,109000.0,250000.0,175000.0,69300.0,75000.0,130000.0,86000.0,121983.0,202380.0,78000.0,65000.0,110000.0,100000.0,125000.0,70000.0,175000.0,108000.0,108000.0,78000.0,43000.0,57000.0,49882.17,80000.0,72000.0,79895.0,86500.0,180009.0,90000.0,76000.0,42000.0,138000.0,130000.0,165000.0,75900.0,120000.0,73000.0,40000.0,74000.0,65000.0,140000.0,108000.0,48000.0,136000.0,102000.0,65000.0,160000.0,101000.0,101000.0,89000.0,100000.0,90000.0,49800.0,96000.0,130000.0,70000.0,55000.0,31590.0,86500.0,85000.0,50000.0,85000.0,100000.0,160000.0,96000.0,100000.0,108000.0,84000.0,97000.0,130000.0,40000.0,82000.0,134000.0,121000.0,90700.0,23000.0,63910.0,237500.0,85000.0,60000.0,86000.0,125000.0,73000.0,100000.0,90000.0,93000.0,85000.0,71200.0,38000.0,90000.0,90000.0,102000.0,85100.0,85100.0,95000.0,110000.0,58000.0,47000.0,98210.0,82000.0,78000.0,108000.0,370000.0,100000.0,67000.0,80000.0,70000.0,99000.0,54000.0,74000.0,120000.0,53000.0,90000.0,140000.0,25550.0,79000.0,80000.0,50000.0,80000.0,80000.0,99728.0,115000.0,42000.0,60000.0,65000.0,68000.0,25000.0,87000.0,60000.0,67000.0,34000.0,193000.0,75000.0,97000.0,90000.0,101000.0,52000.0,90771.0,62000.0,80000.0,50000.0,73413.5,90000.0,29050.0,330000.0,52000.0,90000.0,20000.0,108000.0,110000.0,116000.0,65000.0,60000.0,66000.0,115000.0,56000.0,41500.0,99900.0,32500.0,105000.0,65500.0,143000.0,416500.0,90000.0,200000.0,152000.0,95500.0,80000.0,150000.0,91300.0,62000.0,98000.0,110000.0,105000.0,87000.0,80000.0,170000.0,33250.0,105000.0,64000.0,58250.0,39000.0,55387.0,123000.0,30000.0,38306.71,79000.0,37200.0,65000.0,62250.0,102000.0,248000.0,146000.0,74000.0,70200.0,34560.0,33200.0,95000.0,61500.0,207000.0,109720.0,1000000.0,58800.0,33000.0,38000.0,111000.0,62000.0,64000.0,82000.0,200962.0,106000.0,67000.0,69000.0,75000.0,14000.0,43000.0,59000.0,105000.0,92000.0,83300.0,300000.0,63000.0,120000.0,50000.0,280000.0,80150.0,87312.0,35761.9,480000.0,52000.0,34000.0,76000.0,124000.0,78000.0,84000.0,150000.0,111127.0,40300.0,40000.0,121000.0,50000.0,50000.0,85000.0,127000.0,62558.0,180000.0,107500.0,95000.0,104000.0,75000.0,70000.0,64200.0,180000.0,95000.0,110000.0,91000.0,48500.0,80000.0,86000.0,96000.0,76595.0,75000.0,85000.0,280000.0,39840.0,53000.0,79879.0,58000.0,28000.0,39000.0,240000.0,87496.0,49800.0,29000.0,40000.0,100000.0,70000.0,94000.0,80000.0,170000.0,250000.0,20000.0,200000.0,99000.0,110000.0,690000.0,102000.0,79000.0,546000.0,31000.0,135000.0,38782.0,110000.0,85000.0,320000.0,72000.0,114085.0,33000.0,33000.0,76670.0,30000.0,63000.0,210000.0,66000.0,80000.0,57300.0,82000.0,82600.0,97000.0,86500.0,49900.0,97000.0,80000.0,137000.0,95000.0,39300.0,400000.0,71000.0,110000.0,200000.0,100000.0,350000.0,178000.0,73000.0,100000.0,153130.0,70000.0,100000.0,47310.0,50400.0,135000.0,50000.0,57000.0,130000.0,130000.0,135000.0,6000.0,107000.0,90000.0,164000.0,112000.0,120000.0,57000.0,70000.0,106000.0,59000.0,70000.0,106000.0,65000.0,132000.0,160000.0,78000.0,96000.0,264550.0,59168.0,66000.0,140000.0,180000.0,41000.0,120000.0,112000.0,45000.0,97000.0,116000.0,100000.0,87500.0,106000.0,42000.0,72000.0,64000.0,170000.0,82000.0,83000.0,29800.0,50000.0,74000.0,63000.0,45000.0,188000.0,66000.0,105500.0,80000.0,74000.0,65000.0,102000.0,106000.0,95600.0,100000.0,69000.0,42000.0,70000.0,76000.0,74000.0,101000.0,75000.0,95000.0,59960.0,68600.0,68000.0,75000.0,95000.0,64676.0,66000.0,80000.0,71214.0,40000.0,68000.0,83000.0,118000.0,53000.0,85000.0,121900.0,100000.0,90620.0,83000.0,270000.0,66098.0,88000.0,75000.0,22000.0,29100.0,145000.0,90000.0,122000.0,181000.0,24000.0,45000.0,40000.0,33000.0,127000.0,51993.0,59967.0,105359.0,104000.0,37000.0,109000.0,471408.0,70000.0,63000.0,38457.0,95700.0,44000.0,64000.0,72000.0,99000.0,102000.0,63000.0,110000.0,116000.0,73000.0,36500.0,51000.0,58000.0,43575.0,83029.0,57946.0,45000.0,115000.0,42000.0,68000.0,105000.0,54000.0,158000.0,85000.0,58418.0,38000.0,85000.0,75000.0,55839.26,65000.0,73000.0,100000.0,108015.0,63200.0,73155.0,75000.0,75000.0,290000.0,120000.0,68000.0,82307.0,93000.0,55000.0,51000.0,61000.0,66000.0,115000.0,58000.0,185000.0,37000.0,140000.0,75500.0,120000.0,60000.0,93000.0,50000.0,48000.0,418000.0,38000.0,63000.0,62000.0,100000.0,80000.0,120000.0,50000.0,57000.0,100000.0,87500.0,100000.0,123000.0,112000.0,130000.0,260000.0,62568.0,40000.0,44000.0,28000.0,19000.0,107000.0,40000.0,110000.0,89000.0,130000.0,95000.0,105000.0,19000.0,160000.0,89000.0,85000.0,170000.0,65382.6,30000.0,90000.0,170000.0,76334.0,37800.0,63000.0,109214.0,65000.0,37000.0,31700.0,98800.0,360000.0,84000.0,75000.0,120000.0,66400.0,105000.0,110000.0,99000.0,74400.0,47000.0,67800.0,40440.0,116000.0,95000.0,120000.0,195000.0,80320.0,131000.0,53132.58,330000.0,150000.0,33000.0,36000.0,251000.0,100000.0,44500.0,71519.0,115000.0,35903.65,65000.0,57081.68,61000.0,84400.0,89000.0,105000.0,68000.0,103000.0,80000.0,63000.0,80000.0,160000.0,95662.0,213870.0,87279.0,65000.0,89000.0,80000.0,75000.0,39000.0,200000.0,150000.0,106000.0,475000.0,155000.0,130000.0,37000.0,100000.0,19900.0,150000.0,140000.0,25000.0,55000.0,500000.0,120000.0,100500.0,75000.0,84000.0,33325.0,49000.0,79000.0,86000.0,107000.0,66000.0,190000.0,142000.0,85000.0,62250.0,86600.0,80000.0,150000.0,210000.0,46000.0,145000.0,165000.0,44500.0,100000.0,85000.0,55022.36,85000.0,87000.0,132000.0,107800.0,78000.0,70000.0,110000.0,124127.0,75000.0,45000.0,39000.0,57477.0,200000.0,57000.0,72600.0,100000.0,38000.0,115000.0,100000.0,350000.0,80000.0,150000.0,102000.0,62800.0,88000.0,107000.0,285000.0,80000.0,130000.0,207000.0,80000.0,115000.0,109000.0,100000.0,85000.0,76000.0,150000.0,100000.0,89800.0,81000.0,38000.0,98000.0,60000.0,150000.0,50000.0,140000.0,120000.0,220000.0,88000.0,97000.0,40000.0,78500.0,75000.0,270000.0,120000.0,189000.0,55000.0,116472.0,122000.0,189000.0,85000.0,40000.0,29000.0,105000.0,278000.0,100000.0,225000.0,32885.0,73500.0,55000.0,59000.0,71000.0,103000.0,375021.0,52000.0,66000.0,71000.0,180000.0,120000.0,75000.0,74000.0,99093.56,42000.0,39037.0,135000.0,45000.0,60000.0,83000.0,108197.0,130000.0,88757.19,26000.0,34180.0,80000.0,180000.0,280000.0,71000.0,300000.0,95000.0,140000.0,61000.0,65000.0,42000.0,60800.0,105000.0,42000.0,110000.0,63000.0,105000.0,97000.0,62000.0,195000.0,80000.0,56000.0,132000.0,58000.0,54400.0,81000.0,20000.0,87000.0,120000.0,130000.0,75000.0,38130.0,150000.0,73000.0,114428.0,90600.0,71000.0,35000.0,90000.0,67000.0,237000.0,100000.0,98500.0,46000.0,105000.0,120000.0,110000.0,360000.0,98000.0,59000.0,317800.0,89000.0,220000.0,102000.0,92000.0,44300.0,105000.0,42000.0,1300000.0,126000.0,165000.0,72000.0,150000.0,73000.0,69000.0,30108.0,24000.0,50000.0,380000.0,97000.0,120000.0,163000.0,67820.0,90000.0,150000.0,80000.0,88300.0,99690.0,6700.0,62000.0,108516.39,140000.0,34000.0,105000.0,72000.0,110000.0,72000.0,42000.0,65000.0,440000.0,52703.0,60000.0,37000.0,95000.0,127387.0,49500.0,24000.0,162000.0,300000.0,110000.0,93000.0,60000.0,75000.0,51016.0,117000.0,110000.0,123000.0,59000.0,130000.0,66400.0,44632.2,44720.4,58870.0,120000.0,123888.0,58700.0,135000.0,45000.0,33000.0,96000.0,55900.0,65000.0,72000.0,63000.0,65000.0,140000.0,21318.0,48304.0,52290.0,125000.0,124000.0,90000.0,51600.0,180000.0,140000.0,110000.0,150000.0,110000.0,53000.0,13000.0,37000.0,110000.0,74800.0,77000.0,92600.0,110000.0,130000.0,127000.0,36553.0,45000.0,71000.0,37000.0,115000.0,65000.0,99200.0,95000.0,415000.0,86000.0,100000.0,280000.0,142000.0,70000.0,73000.0,50000.0,34500.0,120000.0,73000.0,97000.0,90000.0,97000.0,140000.0,97000.0,92372.0,78000.0,122000.0,65500.0,63400.0,105000.0,109500.0,48000.0,50000.0,420000.0,100000.0,85000.0,130000.0,207020.0,46000.0,36100.0,52000.0,38000.0,42000.0,68000.0,444000.0,98000.0,215000.0,67000.0,129968.0,90000.0,72000.0,55000.0,180000.0,30000.0,85000.0,74700.0,77420.0,63000.0,135000.0,165000.0,51460.0,160000.0,46000.0,83000.0,250000.0,72000.0,205000.0,45000.0,51000.0,115000.0,260000.0,98000.0,225000.0,145000.0,88000.0,520000.0,71000.0,87000.0,98500.0,67230.0,41928.0,80000.0,100000.0,109195.0,103000.0,79000.0,78060.0,1250000.0,280000.0,75000.0,56000.0,70000.0,114000.0,83000.0,49500.0,61000.0,110000.0,300000.0,570000.0,300000.0,106000.0,22100.0,78000.0,100866.79,100000.0,500000.0,130000.0,40000.0,29160.0,79000.0,80000.0,60000.0,188000.0,85000.0,49056.0,80000.0,65000.0,137000.0,79465.0,99670.0,100000.0,80000.0,105000.0,385000.0,66500.0,62220.0,115000.0,447000.0,650000.0,39000.0,102000.0,60000.0,122000.0,83000.0,105000.0,60000.0,105000.0,95000.0,72000.0,94000.0,115000.0,49030.0,220000.0,62000.0,72500.0,165000.0,49700.0,50340.0,85000.0,500000.0,65000.0,63600.0,132421.0,90000.0,150000.0,98000.0,98000.0,58000.0,132000.0,68000.0,12000.0,56300.0,93000.0,84521.8,170000.0,95000.0,90000.0,45000.0,4000.0,43000.0,103000.0,600000.0,113000.0,113000.0,47000.0,54000.0,63000.0,77000.0,140000.0,91865.0,145000.0,200000.0,76000.0,45500.0,29500.0,298000.0,50000.0,169720.25,72000.0,46000.0,120000.0,62000.0,95000.0,125000.0,52500.0,87000.0,50000.0,952500.0,37500.0,191000.0,45000.0,96000.0,45500.0,100000.0,200000.0,550000.0,51958.0,87000.0,90000.0,85000.0,61000.0,120000.0,40030.0,76000.0,95000.0,140000.0,77000.0,65000.0,130000.0,45600.0,94000.0,140000.0,95000.0,130000.0,72466.0,110000.0,108000.0,120000.0,490000.0,73000.0,320000.0,76000.0,60784.0,145000.0,126000.0,265000.0,101000.0,110000.0,81625.0,53000.0,62372.0,100000.0,150000.0,65000.0,32000.0,90000.0,89000.0,195000.0,78000.0,170000.0,127000.0,55681.0,56500.0,71500.0,230000.0,56000.0,71000.0,125000.0,91000.0,36000.0,18000.0,100000.0,58483.0,85000.0,130000.0,77000.0,64000.0,142000.0,140658.0,125000.0,85000.0,112000.0,85000.0,34000.0,80000.0,240000.0,74854.81,104000.0,89000.0,46000.0,117000.0,86153.0,870000.0,120000.0,85000.0,67803.0,78193.0,110000.0,41500.0,180000.0,94000.0,332100.0,93000.0,140000.0,50000.0,120000.0,39077.0,200000.0,175000.0,187000.0,93000.0,1190000.0,47000.0,77545.0,46000.0,127000.0,95000.0,105000.0,86400.0,210000.0,170000.0,130000.0,86317.0,149863.0,105000.0,37000.0,80000.0,200000.0,60000.0,39400.0,364000.0,90000.0,67000.0,36000.0,58431.0,62000.0,103000.0,59000.0,52000.0,97000.0,78000.0,97000.0,50000.0,72000.0,64500.0,74700.0,30000.0,100000.0,53000.0,95448.0,92000.0,46000.0,39077.0,8300.0,95000.0,85000.0,75000.0,90000.0,157336.0,120000.0,100000.0,53000.0,130000.0,150000.0,86000.0,33000.0,100000.0,77000.0,125000.0,350000.0,32000.0,43746.0,740000.0,40000.0,51000.0,83000.0,105000.0,111000.0,80000.0,87000.0,92000.0,65400.0,10000.0,125000.0,68170.0,83917.0,73300.0,90000.0,90000.0,180000.0,120000.0,58900.0,58000.0,230000.0,150000.0,82000.0,345000.0,108000.0,76000.0,32000.0,80000.0,20346.0,88000.0,44000.0,68000.0,130000.0,95000.0,200000.0,35700.0,60000.0,45000.0,190000.0,76000.0,68000.0,110000.0,110000.0,320000.0,80000.0,100000.0,150000.0,100000.0,133476.0,160000.0,106000.0,32000.0,80000.0,125000.0,78000.0,38900.0,90407.0,40000.0,38900.0,115000.0,8500.0,37000.0,70000.0,95000.0,140000.0,87800.0,110000.0,110000.0,61000.0,230000.0,102000.0,570000.0,110000.0,68819.0,80742.0,71990.0,63000.0,94000.0,57650.0,105000.0,102000.0,200000.0,150000.0,82500.0,130000.0,68011.0,98500.0,52300.0,279000.0,80000.0,120000.0,118000.0,55000.0,80000.0,92500.0,110000.0,105000.0,120000.0,79000.0,85000.0,92485.0,135000.0,90000.0,69606.0,55000.0,95000.0,38000.0,75000.0,34000.0,95000.0,22000.0,90000.0,150000.0,73000.0,91000.0,70000.0,267452.0,70000.0,91000.0,80000.0,220000.0,54906.0,43500.0,74253.0,60900.0,130000.0,40000.0,117500.0,600000.0,50000.0,92336.0,46000.0,112000.0,48000.0,73000.0,140000.0,30000.0,80000.0,95000.0,99000.0,78000.0,90000.0,110000.0,125000.0,125000.0,105000.0,142000.0,53000.0,560000.0,39000.0,36000.0,56000.0,36000.0,64500.0,43000.0,45000.0,90000.0,85000.0,39900.0,73526.0,63080.0,475000.0,60000.0,150000.0,61000.0,160000.0,70000.0,105000.0,120000.0,60000.0,55022.36,125000.0,72000.0,69000.0,112000.0,70000.0,78000.0,510000.0,145000.0,100000.0,150000.0,79000.0,100000.0,37000.0,186000.0,105000.0,41000.0,34000.0,82899.0,82000.0,44000.0,145000.0,180000.0,180000.0,59000.0,71401.0,25000.0,90000.0,140000.0,135000.0,25400.0,90000.0,200000.0,22000.0,112000.0,76481.0,94000.0,155000.0,38000.0,57036.0,60000.0,100000.0,450000.0,150000.0,52000.0,40000.0,70700.0,462000.0,150000.0,69000.0,95364.0,250000.0,55000.0,48500.0,100000.0,100000.0,64636.0,55000.0,160000.0,265000.0,60000.0,110000.0,45650.0,400000.0,100000.0,10000.0,75000.0,88000.0,252000.0,34000.0,138000.0,200000.0,158000.0,90000.0,65000.0,74000.0,79000.0,130000.0,100000.0,49800.0,220000.0,43500.0,88975.0,62500.0,216000.0,48000.0,60000.0,120000.0,72000.0,45000.0,120000.0,200000.0,95000.0,320000.0,38000.0,122000.0,122000.0,72000.0,45000.0,115000.0,90000.0,56000.0,197000.0,49085.0,170000.0,120000.0,39531.0,32000.0,70000.0,130000.0,74000.0,470000.0,39000.0,105000.0,93000.0,65500.0,93000.0,70000.0,85000.0,120000.0,60000.0,95000.0,64000.0,86000.0,35000.0,87000.0,101410.0,84300.0,64000.0,147000.0,94000.0,71000.0,175000.0,185000.0,120000.0,121000.0,180000.0,25000.0,63900.0,135000.0,78000.0,31000.0,120000.0,48000.0,175000.0,103000.0,43500.0,100000.0,125000.0,200000.0,181951.0,135000.0,34000.0,122000.0,88000.0,85000.0,80000.0,350000.0,100000.0,40000.0,102000.0,80000.0,99200.0,110000.0,73540.0,72000.0,30000.0,110000.0,90000.0,88000.0,100000.0,40000.0,94216.28,55000.0,38200.0,150000.0,70000.0,42000.0,60000.0,173000.0,44200.0,184000.0,73000.0,167000.0,210000.0,135000.0,52290.0,62700.0,45000.0,93000.0,52300.0,93000.0,55000.0,55000.0,82000.0,68061.0,110000.0,300000.0,85000.0,128000.0,57270.27,54000.0,90000.0,153800.0,82000.0,114000.0,48000.0,70000.0,196000.0,230000.0,340000.0,72000.0,78900.0,35484.0,40000.0,54000.0,38000.0,105000.0,23912.0,215000.0,41000.0,55000.0,62000.0,101000.0,70000.0,75000.0,104654.0,98378.0,46000.0,126000.0,14000.0,85000.0,28000.0,65000.0,59000.0,105000.0,65000.0,49000.0,102000.0,95841.0,275000.0,75382.0,105000.0,60000.0,85000.0,40000.0,90000.0,37000.0,61000.0,89700.0,38000.0,41000.0,93000.0,260000.0,71000.0,45000.0,105000.0,964320.0,110000.0,54000.0,65039.0,71000.0,64000.0,84000.0,110000.0,55000.0,107908.0,240000.0,200000.0,85000.0,33500.0,13000.0,55000.0,64055.0,57000.0,32000.0,44000.0,280000.0,100171.0,90000.0,115000.0,78500.0,82000.0,59000.0,90000.0,36000.0,57947.0,49000.0,200000.0,72000.0,62000.0,87000.0,450000.0,12000.0,41250.0,135000.0,53000.0,170000.0,58000.0,105000.0,84824.0,85103.31,81000.0,56000.0,65000.0,149900.0,86500.0,52300.0,25000.0,73812.0,66000.0,49000.0,75000.0,51000.0,31000.0,57000.0,117000.0,85000.0,42127.0,60900.0,3800.0,86000.0,125000.0,80000.0,89658.0,85000.0,53950.0,89000.0,63910.0,12000.0,123000.0,135000.0,105000.0,160000.0,80000.0,140000.0,127000.0,25000.0,100000.0,90000.0,11300.0,84000.0,89000.0,48000.0,66000.0,368300.0,51000.0,111465.0,53500.0,75281.0,96000.0,80000.0,83000.0,94000.0,60000.0,45000.0,90000.0,75000.0,76000.0,93000.0,18000.0,45000.0,850000.0,320000.0,70000.0,50000.0,105500.0,64200.0,75000.0,60000.0,74000.0,1600000.0,85000.0,100000.0,30000.0,75000.0,150000.0,42000.0,93000.0,70000.0,177000.0,53800.0,45000.0,115000.0,103833.0,180000.0,170000.0,55000.0,93000.0,87000.0,45000.0,90000.0,91380.0,50000.0,18500.0,90000.0,80000.0,500000.0,86000.0,78000.0,52000.0,78000.0,52000.0,270000.0,63500.0,63000.0,27200.0,110000.0,80000.0,210000.0,400000.0,180000.0,48000.0,70000.0,81000.0,92000.0,60000.0,59000.0,33000.0,60852.0,95000.0,42000.0,37500.0,600000.0,45000.0,78000.0,100000.0,23700.0,80000.0,180000.0,53200.0,48000.0,75000.0,65000.0,150000.0,68000.0,250000.0,38000.0,114000.0,100000.0,115000.0,76820.0,67000.0,120000.0,180000.0,61000.0,54000.0,130000.0,89500.0,100000.0,130000.0,78657.0,106000.0,105000.0,102000.0,64000.0,80000.0,58000.0,70000.0,130000.0,1500000.0,300000.0,41500.0,35000.0,117000.0,87000.0,123000.0,23000.0,70000.0,350000.0,55000.0,73241.0,72000.0,63560.0,29800.0,76000.0,61000.0,125231.0,96201.0,172000.0,40000.0,55000.0,94000.0,135000.0,54000.0,120000.0,112000.0,121000.0,75000.0,114000.0,150000.0,260000.0,53240.0,80000.0,75000.0,170000.0,58000.0,36000.0,170000.0,508252.0,41500.0,110000.0,118000.0,88300.0,130000.0,36000.0,95000.0,113000.0,125000.0,83300.0,53400.0,38000.0,72000.0,62000.0,56000.0,80000.0,73000.0,62000.0,82000.0,85000.0,49800.0,105000.0,145000.0,35000.0,800000.0,32000.0,102000.0,61200.0,92000.0,310000.0,74700.0,145000.0,130000.0,112000.0,330000.0,85000.0,76000.0,98300.0,35000.0,70000.0,87000.0,95000.0,30000.0,118318.0,125000.0,89000.0,67228.0,58008.0,95000.0,82000.0,105000.0,136000.0,62000.0,65000.0,76000.0,35000.0,74009.0,105000.0,509500.0,96000.0,53000.0,40000.0,53528.0,60000.0,31000.0,140000.0,85737.0,58921.0,65500.0,92950.0,60000.0,46000.0,175200.0,45000.0,57000.0,106000.0,100000.0,126900.0,84000.0,2800.0,50000.0,40000.0,130000.0,135000.0,60000.0,55000.0,105000.0,48440.0,91334.0,42000.0,70000.0,54192.0,53900.0,95000.0,63000.0,55000.0,110000.0,38000.0,140000.0,136000.0,100000.0,70000.0,44000.0,38900.0,95000.0,100000.0,119000.0,90000.0,450000.0,63000.0,39800.0,65000.0,113000.0,44000.0,93000.0,455000.0,112000.0,42000.0,80500.0,92000.0,106000.0,70000.0,110000.0,110000.0,25800.0,62000.0,85000.0,123160.0,110000.0,103750.0,99600.0,58000.0,28220.0,67500.0,32000.0,101440.0,75000.0,200000.0,79656.0,70000.0,60000.0,64125.0,190000.0,87000.0,150000.0,63289.0,135000.0,52000.0,123000.0,189000.0,82170.0,60000.0,58000.0,42000.0,357000.0,55000.0,24000.0,65000.0,160000.0,90000.0,150000.0,190000.0,290000.0,115000.0,35000.0,81000.0,45000.0,86000.0,48400.0,285000.0,50451.0,25000.0,101760.0,40000.0,115000.0,65000.0,42700.0,30050.0,90000.0,48000.0,71973.0,25000.0,60000.0,65000.0,200000.0,110000.0,103000.0,49000.0,85000.0,61000.0,106000.0,70000.0,70000.0,80000.0,100000.0,39000.0,100000.0,111800.0,140000.0,181000.0,80000.0,124000.0,37328.0,36000.0,200000.0,60000.0,90000.0,46700.0,190000.0,394375.0,80000.0,100000.0,95000.0,100000.0,46000.0,84000.0,65000.0,90000.0,90000.0,110000.0,81213.0,95000.0,80400.0,179000.0,42000.0,70000.0,88000.0,200000.0,100000.0,70000.0,141000.0,107000.0,196000.0,150000.0,95000.0,140000.0,90000.0,500000.0,38000.0,82936.0,100000.0,98000.0,32700.0,500000.0,90000.0,80400.0,175000.0,22000.0,159000.0,60000.0,60000.0,36500.0,61420.0,58000.0,44000.0,50000.0,159000.0,35000.0,72000.0,75000.0,44500.0,88000.0,85000.0,110000.0,85000.0,57000.0,80000.0,53000.0,93000.0,380000.0,73000.0,62500.0,90000.0,80231.0,50000.0,21000.0,65000.0,47000.0,92000.0,60900.0,50000.0,38000.0,105000.0,70000.0,57700.0,100000.0,83000.0,370000.0,52500.0,83000.0,95000.0,120000.0,79700.0,156000.0,130000.0,500000.0,63000.0,38700.0,38700.0,81545.0,75800.0,200000.0,31500.0,80000.0,74096.0,40000.0,110000.0,143175.0,47000.0,97000.0,100000.0,72000.0,52000.0,40000.0,65000.0,42600.0,40000.0,86000.0,56830.0,95000.0,397000.0,397000.0,108000.0,37436.26,78000.0,90000.0,100000.0,1066000.0,130000.0,75000.0,92000.0,140000.0,99500.0,110000.0,43000.0,124000.0,58134.48,185000.0,66938.0,54000.0,60000.0,180000.0,97000.0,79000.0,50000.0,150000.0,58000.0,19000.0,64000.0,100000.0,75000.0,124000.0,49800.0,65000.0,42000.0,61000.0,86000.0,95000.0,175000.0,125000.0,500000.0,112000.0,7000.0,50000.0,115000.0,180000.0,380000.0,64491.0,60000.0,108000.0,35000.0,101000.0,53000.0,141304.0,26000.0,27000.0,100000.0,80000.0,70000.0,160000.0,75000.0,38000.0,55550.75,82000.0,91940.0,54000.0,60000.0,40000.0,52500.0,86000.0,140000.0,155000.0,82000.0,75000.0,49850.0,72290.0,63000.0,52500.0,130000.0,110000.0,68000.0,100000.0,130000.0,98000.0,106000.0,85879.0,106000.0,145000.0,190000.0,132000.0,100000.0,119835.0,109000.0,125000.0,91000.0,31000.0,122000.0,63000.0,73000.0,78000.0,76000.0,127000.0,86000.0,83000.0,85000.0,71000.0,73000.0,75000.0,93800.0,110000.0,77407.1,75000.0,120000.0,96000.0,100000.0,100000.0,123000.0,10000.0,100000.0,85000.0,82000.0,80000.0,127000.0,81938.0,85000.0,93000.0,105000.0,120000.0,91000.0,120000.0,70000.0,97000.0,190000.0,100000.0,130000.0,120000.0,77500.0,110000.0,102000.0,30000.0,109000.0,70000.0,117000.0,350000.0,91000.0,24500.0,80000.0,98000.0,90000.0,100000.0,56000.0,107000.0,78000.0,123242.0,110000.0,110000.0,80000.0,120000.0,100000.0,195000.0,50000.0,90000.0,82000.0,90000.0,100000.0,100000.0,85000.0,64000.0,80000.0,84000.0,80000.0,82000.0,74000.0,70944.0,110000.0,66000.0,110000.0,110000.0,65000.0,100000.0,33000.0,33000.0,81000.0,90000.0,136000.0,135000.0,70000.0,78000.0,144000.0,103000.0,40000.0,90000.0,120000.0,73000.0,370000.0,55000.0,102472.12,95000.0,84000.0,155000.0,42000.0,57790.0,68920.0,95000.0,157000.0,51000.0,51000.0,59539.0,39000.0,102000.0,40800.0,34860.0,81000.0,59000.0,82000.0,52000.0,76000.0,36882.0,73000.0,140000.0,1311.0,49000.0,40000.0,400000.0,155000.0,125000.0,108269.0,125000.0,165000.0,67500.0,70798.0,63000.0,82000.0,120000.0,43000.0,84000.0,44000.0,120000.0,135000.0,40000.0,61000.0,90000.0,87000.0,150000.0,54000.0,41500.0,89784.0,55000.0,95000.0,56000.0,75500.0,55000.0,255000.0,54000.0,137076.0,131127.0,50000.0,113000.0,45000.0,45000.0,130000.0,103000.0,77000.0,87795.0,38000.0,51200.0,10000.0,35000.0,80000.0,80000.0,54000.0,34000.0,72000.0,170000.0,105000.0,106000.0,68000.0,43500.0,116000.0,90000.0,83700.0,89000.0,54500.0,110000.0,200000.0,56500.0,80000.0,91000.0,36590.0,78553.0,180000.0,71000.0,57000.0,65000.0,163000.0,170000.0,104000.0,74000.0,170000.0,92000.0,110000.0,71000.0,75000.0,73000.0,90000.0,47000.0,60000.0,160000.0,77000.0,75788.0,59670.0,110000.0,85000.0,80000.0,105000.0,37000.0,70000.0,132000.0,115000.0,95000.0,110000.0,150000.0,75000.0,162000.0,38500.0,95000.0,70000.0,105000.0,39000.0,123000.0,77000.0,113000.0,890000.0,4300.0,50000.0,85000.0,72000.0,118000.0,110000.0,45000.0,110000.0,120000.0,32000.0,82000.0,55000.0,455000.0,56000.0,69000.0,110000.0,70000.0,95000.0,91300.0,35000.0,70000.0,56700.0,126000.0,60450.0,110000.0,95000.0,79000.0,37614.0,40000.0,130000.0,37500.0,119000.0,64000.0,87029.0,110000.0,325000.0,90000.0,45000.0,38000.0,90000.0,1800.0,33449.0,68000.0,13500.0,188938.0,105000.0,72000.0,45000.0,297000.0,114000.0,46480.0,97000.0,60000.0,52000.0,92000.0,63718.27,57000.0,97500.0,105500.0,50000.0,88000.0,53300.0,100000.0,97000.0,75000.0,70000.0,112000.0,150000.0,74000.0,37000.0,62379.0,84000.0,50000.0,1000000.0,37100.0,85000.0,117000.0,85000.0,113000.0,50000.0,71000.0,500000.0,29550.0,97000.0,55000.0,26000.0,85000.0,105000.0,100000.0,103000.0,91000.0,104000.0,82000.0,49000.0,95000.0,93770.0,70000.0,70000.0,71400.0,49000.0,68000.0,73000.0,83000.0,59000.0,125000.0,88782.0,90000.0,40500.0,110000.0,95000.0,35000.0,35000.0,85000.0,120000.0,97000.0,90000.0,171000.0,75000.0,105000.0,270000.0,92000.0,160000.0,55000.0,115000.0,93000.0,105000.0,62500.0,65000.0,70978.0,95000.0,55000.0,114000.0,56000.0,2000.0,93000.0,123902.0,120000.0,105000.0,40500.0,83000.0,120000.0,150000.0,70000.0,50000.0,130000.0,120000.0,150000.0,85500.0,100000.0,200000.0,115000.0,100000.0,170000.0,34000.0,68000.0,41000.0,60547.77,144000.0,75000.0,170000.0,215000.0,75000.0,72000.0,74230.0,60000.0,90000.0,480000.0,155000.0,90000.0,62000.0,103000.0,175000.0,56000.0,69785.24,80000.0,75000.0,150000.0,40000.0,75000.0,94000.0,80000.0,49800.0,97000.0,110000.0,26000.0,100000.0,80000.0,52000.0,83000.0,75191.0,85000.0,450000.0,197000.0,140000.0,49500.0,15000.0,535000.0,35000.0,118000.0,56500.0,33600.0,61000.0,35000.0,120000.0,39000.0,77000.0,150000.0,38000.0,98000.0,80000.0,173663.56,49000.0,92000.0,97000.0,72000.0,80000.0,49823.0,25000.0,110000.0,85000.0,130000.0,36800.0,42000.0,43000.0,110000.0,85600.0,50000.0,80000.0,59000.0,125000.0,91000.0,59000.0,45922.0,150000.0,83000.0,74000.0,80000.0,61000.0,81500.0,58000.0,35500.0,37000.0,75000.0,44000.0,48141.0,39890.0,400000.0,248000.0,78449.0,112000.0,66400.0,105000.0,68000.0,81000.0,39000.0,105000.0,74000.0,180000.0,64000.0,75000.0,76894.0,36500.0,240000.0,54536.0,105000.0,51000.0,115000.0,186000.0,186000.0,186000.0,140000.0,90000.0,130000.0,100000.0,260000.0,47000.0,90000.0,75000.0,100000.0,100000.0,78200.0,119000.0,91000.0,50000.0,64408.0,150000.0,82000.0,346000.0,86000.0,129573.0,85700.0,74000.0,89000.0,71000.0,200000.0,85000.0,73000.0,220000.0,123000.0,220000.0,188888.0,42000.0,46280.0,77200.0,90000.0,130000.0,115000.0,48000.0,95000.0,90500.0,85500.0,16600.0,49000.0,53000.0,20000.0,60000.0,43000.0,60000.0,58200.0,42000.0,106000.0,83000.0,52000.0,52000.0,324075.0,180000.0,42000.0,53000.0,55752.47,87500.0,280000.0,83000.0,250000.0,30000.0,150000.0,85000.0,80000.0,34000.0,117000.0,66000.0,51000.0,180000.0,105000.0,650000.0,490000.0,61000.0,210000.0,78000.0,65000.0,135000.0,127000.0,15000.0,85000.0,13000.0,30000.0,45000.0,118000.0,450000.0,70550.0,85000.0,106000.0,70000.0,220000.0,108576.0,140000.0,73000.0,396000.0,85000.0,85000.0,67000.0,183000.0,115000.0,140000.0,53200.0,84000.0,93700.0,118813.0,54000.0,80000.0,70000.0,81000.0,88000.0,50000.0,102000.0,85000.0,120000.0,277000.0,88400.0,62000.0,95000.0,30000.0,107900.0,107000.0,125000.0,127000.0,130000.0,84333.0,108740.0,37640.0,97000.0,40000.0,290000.0,92000.0,30000.0,62557.0,43981.0,110000.0,38000.0,89000.0,92000.0,72800.0,62000.0,91000.0,101000.0,120000.0,300000.0,99000.0,75000.0,300000.0,154000.0,175000.0,155000.0,130000.0,60000.0,48400.0,40000.0,56000.0,85000.0,47000.0,61844.0,34860.0,57000.0,91000.0,50000.0,124671.0,63000.0,99493.0,73350.0,165392.0,95000.0,400000.0,72950.0,59000.0,240000.0,131200.0,121000.0,44109.0,71000.0,50000.0,75300.0,64000.0,110000.0,112000.0,150000.0,650000.0,45000.0,95000.0,46000.0,70000.0,135000.0,90000.0,150000.0,85000.0,140000.0,117000.0,95000.0,1030000.0,47000.0,378000.0,75000.0,155000.0,107000.0,69698.0,76000.0,50000.0,4800.0,71000.0,40000.0,116400.0,162000.0,74000.0,98000.0,76200.0,89000.0,60000.0,60000.0,36000.0,137000.0,53320.0,74000.0,110000.0,55000.0,160000.0,48000.0,79000.0,140000.0,60000.0,180000.0,90000.0,56200.0,61000.0,52000.0,45000.0,290000.0,105000.0,118000.0,118000.0,91000.0,153000.0,29831.0,47000.0,87000.0,115750.0,105000.0,81000.0,210000.0,70000.0,72200.0,120000.0,41500.0,39000.0,35000.0,80000.0,125000.0,80000.0,46465.0,290000.0,90000.0,73232.0,83000.0,350000.0,69350.0,120000.0,120000.0,750000.0,60000.0,150000.0,98000.0,85000.0,86000.0,40000.0,78000.0,50000.0,75800.0,54000.0,370000.0,208000.0,128000.0,63000.0,110000.0,58913.0,205000.0,38400.0,76000.0,120000.0,67000.0,89000.0,66800.0,131000.0,43824.0,80000.0,80000.0,54000.0,105000.0,350000.0,92000.0,86000.0,135000.0,62000.0,250000.0,260000.0,170000.0,120000.0,44000.0,80000.0,72500.0,96900.0,102000.0,52000.0,98000.0,250000.0,2080000.0,47000.0,60000.0,88700.0,137000.0,93000.0,130000.0,95000.0,36462.0,134000.0,300000.0,114000.0,65000.0,88000.0,140000.0,115000.0,118000.0,76800.0,50000.0,54000.0,97000.0,125000.0,74000.0,33800.0,25000.0,91000.0,90000.0,105000.0,300000.0,82000.0,52506.0,34000.0,58000.0,68000.0,109000.0,180000.0,189000.0,36000.0,30000.0,40250.0,60000.0,33000.0,210600.0,120000.0,170000.0,102000.0,110000.0,200000.0,80000.0,90000.0,85000.0,75843.0,250000.0,103000.0,150000.0,60900.0,74700.0,67500.0,340000.0,110000.0,180000.0,170000.0,46300.0,103000.0,130000.0,95000.0,45000.0,33394.0,120000.0,90000.0,83000.0,47125.4,257000.0,52600.0,98000.0,112000.0,102000.0,69056.0,73505.0,300000.0,71986.14,64000.0,103000.0,150000.0,71000.0,125000.0,73200.0,99000.0,50000.0,113000.0,93000.0,12000.0,111000.0,900000.0,65000.0,130000.0,60000.0,35100.0,195000.0,30000.0,32000.0,120000.0,60000.0,75000.0,99000.0,73000.0,89000.0,55156.0,380000.0,255000.0,71000.0,97000.0,45000.0,55800.0,81000.0,72000.0,54000.0,26304.0,53000.0,74760.0,140000.0,45000.0,61700.0,33000.0,81000.0,76000.0,113000.0,125000.0,86541.0,100000.0,150000.0,145000.0,65000.0,45000.0,135000.0,80000.0,280000.0,39000.0,54000.0,100000.0,82000.0,209480.0,60000.0,30000.0,192072.0,35000.0,38900.0,47000.0,39000.0,93348.0,93000.0,42000.0,95000.0,55000.0,90000.0,21000.0,90000.0,220000.0,162000.0,200000.0,64000.0,93208.0,38000.0,280000.0,78000.0,72000.0,93000.0,105000.0,91826.0,30000.0,58000.0,51000.0,120000.0,180000.0,73000.0,210000.0,100000.0,58000.0,63540.0,167776.0,55000.0,37900.0,65000.0,90000.0,77000.0,75000.0,61000.0,23200.0,25000.0,105000.0,29500.0,69794.55,85000.0,120000.0,260000.0,36000.0,56000.0,125000.0,120000.0,94000.0,300000.0,71000.0,90000.0,72000.0,80000.0,37000.0,320000.0,60000.0,55000.0,41000.0,118000.0,56700.0,18000.0,42000.0,87000.0,59000.0,66380.0,46000.0,117000.0,135000.0,86722.0,53000.0,73000.0,122000.0,572000.0,91500.0,72039.0,6000.0,110000.0,91000.0,18665.0,100000.0,130000.0,78000.0,83000.0,40000.0,70000.0,100000.0,60300.0,120000.0,64000.0,74000.0,22500.0,57000.0,114278.0,100000.0,125000.0,90000.0,110000.0,117000.0,250000.0,81250.0,160000.0,200000.0,1000000.0,120000.0,72100.0,149000.0,40000.0,140000.0,38466.0,82000.0,104600.0,120000.0,90000.0,35000.0,45000.0,60000.0,95000.0,55000.0,51981.0,87500.0,52000.0,62000.0,100000.0,92000.0,14000.0,39000.0,40000.0,37000.0,39050.0,36700.0,30000.0,62000.0,33500.0,105000.0,38900.0,20000.0,65000.0,37000.0,89000.0,83000.0,29000.0,52000.0,62000.0,122000.0,71000.0,100000.0,73000.0,30200.0,70800.0,115000.0,35000.0,25000.0,22000.0,70000.0,95877.0,45000.0,69000.0,130000.0,68000.0,77000.0,110000.0,57000.0,80000.0,92000.0,35000.0,75000.0,41000.0,55000.0,35700.0,17000.0,69000.0,51000.0,70000.0,40000.0,62000.0,73000.0,110000.0,68000.0,69600.0,17900.0,42000.0,45000.0,49000.0,175000.0,52500.0,400000.0,33000.0,175000.0,30000.0,40000.0,48961.0,84000.0,34000.0,46000.0,83000.0,65000.0,120000.0,42836.0,32000.0,70000.0,39000.0,43000.0,33000.0,19650.0,127834.0,32000.0,52400.0,36000.0,42000.0,80000.0,23400.0,40000.0,85000.0,65000.0,83000.0,54000.0,15600.0,90000.0,36950.0,107900.0,65000.0,28000.0,115000.0,32000.0,45000.0,79000.0,246000.0,54737.0,50000.0,105000.0,32000.0,63000.0,60000.0,71500.0,18500.0,22000.0,80000.0,50000.0,62000.0,57000.0,50000.0,79000.0,78000.0,84000.0,48000.0,114000.0,55000.0,97000.0,43000.0,65000.0,30000.0,80000.0,60000.0,55610.0,59000.0,70000.0,77736.0,37000.0,86000.0,40000.0,30000.0,100000.0,108000.0,57300.0,450000.0,54000.0,70000.0,35000.0,74000.0,19890.0,85000.0,85000.0,49000.0,15000.0,69000.0,89000.0,68350.0,80000.0,250000.0,50000.0,80000.0,67000.0,59300.0,57474.0,105675.0,70000.0,95000.0,60000.0,130000.0,140000.0,65000.0,95000.0,52000.0,90000.0,30000.0,98000.0,40414.0,120000.0,62000.0,100000.0,33000.0,40000.0,75000.0,37500.0,135000.0,100000.0,170000.0,68000.0,25000.0,89000.0,64267.0,115000.0,50000.0,46000.0,82000.0,130000.0,57990.0,43000.0,56000.0,500000.0,105000.0,67000.0,41600.0,78000.0,70000.0,130000.0,24000.0,106000.0,100400.0,40000.0,72000.0,60000.0,85000.0,133000.0,53000.0,54100.0,160000.0,95000.0,35842.72,56000.0,96000.0,42000.0,50216.35,25000.0,123000.0,88100.0,36000.0,200000.0,80000.0,116000.0,100000.0,130000.0,40000.0,67000.0,79000.0,90000.0,85000.0,74000.0,65000.0,24000.0,48000.0,51000.0,30800.0,57926.0,30000.0,98000.0,95000.0,44000.0,78000.0,45000.0,41500.0,70000.0,67000.0,40000.0,37000.0,24650.0,24650.0,37000.0,90000.0,38000.0,108000.0,60000.0,32000.0,38000.0,84000.0,33000.0,70000.0,85000.0,46000.0,140000.0,115000.0,82000.0,55000.0,21700.0,62000.0,70000.0,29888.0,39000.0,44000.0,55000.0,66000.0,290000.0,65000.0,43000.0,61000.0,90000.0,55000.0,50000.0,99600.0,45600.0,36683.0,59000.0,41500.0,80288.0,80000.0,58000.0,61000.0,22400.0,60000.0,310000.0,81000.0,60000.0,53800.0,75000.0,36365.0,100000.0,80000.0,93000.0,150000.0,38000.0,53000.0,152950.0,60000.0,60000.0,894000.0,30000.0,22500.0,64000.0,21600.0,14000.0,204500.0,48000.0,40000.0,36694.0,46000.0,80000.0,90000.0,38000.0,38000.0,64400.0,58000.0,200000.0,47700.0,44000.0,45000.0,100000.0,50000.0,108000.0,70000.0,50000.0,76000.0,195000.0,53500.0,150000.0,80000.0,89000.0,60000.0,67500.0,45000.0,43000.0,50000.0,118000.0,96000.0,62000.0,133000.0,41950.0,89000.0,31000.0,85000.0,37000.0,31500.0,62700.0,45000.0,45000.0,110000.0,61500.0,13894.17,84000.0,69000.0,85000.0,124000.0,160000.0,110000.0,90000.0,48000.0,70000.0,51275.0,122000.0,170000.0,60000.0,135000.0,74849.0,85000.0,128000.0,68000.0,54000.0,15849.0,94000.0,99500.0,55000.0,76000.0,38000.0,43000.0,43570.0,87500.0,80000.0,48000.0,100000.0,25000.0,46000.0,280000.0,37000.0,330000.0,51353.0,46000.0,40890.0,41500.0,85000.0,61000.0,64000.0,120000.0,154000.0,61000.0,190000.0,60000.0,45000.0,35711.0,100000.0,75996.0,52000.0,22500.0,39000.0,22500.0,53156.0,88000.0,69489.0,55000.0,110000.0,54000.0,37000.0,70000.0,85000.0,34500.0,41000.0,113000.0,99800.0,82000.0,72000.0,64848.0,105000.0,35000.0,116000.0,25000.0,69800.0,300000.0,22980.0,80000.0,32500.0,69000.0,59000.0,69000.0,100000.0,55000.0,88800.0,63000.0,70000.0,105000.0,48000.0,200000.0,48000.0,40000.0,60000.0,75000.0,37500.0,80000.0,43000.0,73000.0,100000.0,55000.0,55000.0,100000.0,79000.0,85000.0,59000.0,95000.0,40000.0,117000.0,50000.0,65000.0,38827.0,25000.0,100000.0,85208.0,94000.0,76000.0,35000.0,21300.0,57000.0,60000.0,205000.0,82000.0,80000.0,156000.0,125000.0,75000.0,50000.0,29500.0,20534.0,27000.0,55000.0,85000.0,40000.0,6600.0,21000.0,200000.0,30000.0,136000.0,53000.0,65000.0,42054.0,50000.0,107000.0,61000.0,42800.0,53725.0,20000.0,38000.0,65000.0,101500.0,45000.0,80000.0,585000.0,125000.0,100000.0,45000.0,39000.0,100000.0,103000.0,50000.0,45851.0,46000.0,67899.0,30000.0,20000.0,31500.0,25000.0,42851.0,53000.0,72286.06,120000.0,86000.0,127000.0,90000.0,51500.0,57000.0,167000.0,57270.0,52000.0,104000.0,93000.0,60000.0,800000.0,42500.0,70000.0,230000.0,400000.0,92962.0,78500.0,102000.0,40000.0,45000.0,78000.0,71000.0,45232.67,190000.0,90410.0,98984.0,390000.0,80992.0,80358.0,95000.0,55000.0,350000.0,56000.0,106000.0,50000.0,75000.0,115000.0,139762.0,107000.0,70223.0,110000.0,66400.0,114000.0,85000.0,100000.0,38000.0,22411.0,120000.0,25730.0,45000.0,114000.0,36200.0,72000.0,120000.0,52000.0,12000.0,104000.0,180000.0,51000.0,101000.0,50000.0,119000.0,150000.0,50000.0,107000.0,40591.0,58000.0,120000.0,158000.0,65000.0,72649.0,63000.0,80000.0,62000.0,400000.0,170000.0,105000.0,101000.0,135000.0,65000.0,100000.0,32000.0,39850.0,75000.0,130000.0,97000.0,35000.0,460000.0,67000.0,88087.0,16600.0,87000.0,53000.0,80000.0,93000.0,80900.0,78000.0,170000.0,58500.0,49800.0,25700.0,42000.0,60000.0,107000.0,650000.0,98000.0,85000.0,109000.0,220000.0,41500.0,115000.0,90000.0,105000.0,220000.0,58300.0,80000.0,33000.0,80000.0,348585.0,130988.0,82000.0,145000.0,130988.0,130988.0,40000.0,33000.0,40000.0,120000.0,42000.0,115000.0,43000.0,90000.0,90000.0,170000.0,424000.0,90000.0,105000.0,85000.0,53000.0,101000.0,45000.0,80000.0,41000.0,900000.0,101000.0,140000.0,10700.0,40000.0,95000.0,235000.0,74000.0,78000.0,55000.0,53950.0,43000.0,126300.0,117000.0,30000.0,99000.0,112000.0,48000.0,30000.0,120000.0,163000.0,240000.0,57000.0,70000.0,27500.0,44000.0,280000.0,84000.0,115000.0,57000.0,50000.0,35000.0,49800.0,230000.0,47000.0,87000.0,280000.0,18000.0,40000.0,39000.0,44000.0,18729.0,70000.0,53951.0,47500.0,64000.0,59356.0,77000.0,42300.0,116000.0,105000.0,110000.0,140000.0,74750.0,130000.0,97000.0,140000.0,49500.0,83000.0,250000.0,110000.0,105000.0,166000.0,140000.0,82000.0,116000.0,96670.0,58230.0,61000.0,1100.0,104499.0,77600.0,54000.0,300000.0,61000.0,108000.0,43990.0,74000.0,54000.0,70566.0,180000.0,42025.0,140000.0,105000.0,78454.0,143000.0,135000.0,49950.0,40000.0,52000.0,119114.0,53000.0,39000.0,99000.0,96000.0,90000.0,120000.0,60000.0,120000.0,130000.0,100000.0,84000.0,53000.0,145000.0,120000.0,60500.0,104000.0,80000.0,130000.0,130000.0,52000.0,90000.0,40000.0,300000.0,54000.0,78000.0,38500.0,111000.0,150000.0,42000.0,64030.0,600000.0,60013.0,40000.0,62250.0,70000.0,72000.0,94000.0,122000.0,190000.0,70000.0,42000.0,110000.0,120000.0,107000.0,55000.0,836400.0,59800.0,140000.0,52789.0,80000.0,67260.31,200000.0,107000.0,57405.0,280000.0,50000.0,170000.0,79000.0,77600.0,137614.0,53950.0,117000.0,130000.0,45000.0,110000.0,150000.0,135000.0,60000.0,105000.0,56275.0,180000.0,37200.0,235000.0,11000.0,51500.0,59324.0,73128.0,36000.0,42000.0,140000.0,98000.0,69747.18,130000.0,135000.0,80200.0,125000.0,95000.0,123000.0,87000.0,95000.0,81000.0,140000.0,32800.0,480000.0,170000.0,320000.0,62000.0,45000.0,175000.0,113000.0,66300.0,43000.0,68900.0,50630.0,62000.0,45000.0,17800.0,76134.0,27000.0,112000.0,70000.0,30000.0,37000.0,145000.0,180000.0,86000.0,41200.0,55000.0,75820.0,220000.0,82000.0,40000.0,75000.0,16475.0,71000.0,96000.0,96000.0,33600.0,70000.0,64000.0,115000.0,70000.0,160000.0,60000.0,38000.0,106000.0,61400.0,190000.0,49800.0,90000.0,43000.0,110000.0,120000.0,41000.0,90000.0,75000.0,64000.0,75000.0,27000.0,20000.0,49500.0,68000.0,110000.0,51000.0,57019.0,49000.0,183000.0,110000.0,81534.0,45000.0,128000.0,45000.0,72000.0,36000.0,48000.0,125000.0,76000.0,80000.0,120000.0,112000.0,80000.0,52000.0,48970.0,92000.0,140000.0,93770.0,38000.0,75000.0,90000.0,360000.0,27390.0,95000.0,68900.0,144946.0,63500.0,145760.0,48000.0,112082.0,210000.0,22000.0,78000.0,400000.0,95000.0,100000.0,66612.0,160000.0,118000.0,55000.0,65000.0,46000.0,95000.0,160000.0,50000.0,85000.0,38000.0,42000.0,96970.0,85000.0,50000.0,60000.0,140000.0,120000.0,100000.0,106000.0,93000.0,101200.0,157000.0,32000.0,102000.0,42000.0,42000.0,76000.0,150000.0,85000.0,40000.0,80000.0,88000.0,58000.0,96000.0,98000.0,80000.0,391000.0,18000.0,100000.0,70000.0,53784.0,82000.0,120000.0,56450.0,130000.0,97000.0,71000.0,65000.0],\"type\":\"box\"},{\"name\":\"Mujeres\",\"y\":[43000.0,127000.0,39000.0,70000.0,98700.0,31000.0,74000.0,45000.0,51000.0,31955.0,84000.0,50138.0,43824.0,265000.0,74989.0,140000.0,92500.0,75700.0,100000.0,33200.0,54000.0,56000.0,150000.0,40700.0,146000.0,32125.0,121000.0,150000.0,64552.0,90000.0,37000.0,169000.0,68000.0,68000.0,40000.0,380000.0,29880.0,43000.0,32700.0,34500.0,50400.0,340000.0,69000.0,42413.0,83000.0,65000.0,35000.0,50000.0,73500.0,42000.0,32000.0,50000.0,43000.0,82000.0,60000.0,56400.0,44300.0,41000.0,16000.0,40000.0,32000.0,100000.0,38000.0,38000.0,270000.0,110000.0,95000.0,130000.0,130000.0,200000.0,16000.0,39000.0,58000.0,90000.0,110000.0,82000.0,54000.0,67000.0,95000.0,150000.0,250000.0,141000.0,58000.0,100000.0,58600.0,90000.0,43800.0,43800.0,76725.0,59000.0,55300.0,110000.0,115000.0,115000.0,92000.0,38834.0,121000.0,43000.0,99825.0,40000.0,75000.0,48473.0,107500.0,55000.0,23003.0,38500.0,46000.0,117000.0,100000.0,36000.0,92914.0,92914.0,65490.0,100000.0,90072.0,72300.0,54000.0,89200.0,107024.0,92000.0,43800.0,69100.0,48815.07,60000.0,86000.0,42700.0,39840.0,45000.0,50000.0,100000.0,88000.0,168000.0,69602.0,30000.0,72000.0,43505.0,65000.0,65000.0,80000.0,93000.0,130000.0,67000.0,64983.19,94920.0,109765.0,98000.0,78000.0,50694.0,51000.0,32900.0,37000.0,58000.0,56440.0,51000.0,68000.0,66400.0,76000.0,80000.0,23000.0,35000.0,54000.0,65000.0,74000.0,67200.0,61311.0,80000.0,81000.0,86000.0,45000.0,62000.0,85000.0,79500.0,57000.0,82000.0,89000.0,62000.0,90000.0,63000.0,68000.0,83475.0,130401.0,53000.0,135000.0,100909.0,47000.0,89000.0,77197.0,81000.0,14500.0,35000.0,63910.0,55500.0,75000.0,80000.0,74000.0,37000.0,67000.0,75000.0,60000.0,62000.0,118000.0,79000.0,67000.0,135000.0,38000.0,91185.0,33000.0,67000.0,33000.0,48700.0,75000.0,39913.0,74000.0,87000.0,128690.0,71000.0,54000.0,49800.0,39677.0,101000.0,36000.0,53784.0,40000.0,62000.0,105000.0,110000.0,61000.0,78000.0,61000.0,46000.0,36500.0,98000.0,56000.0,41500.0,72000.0,33000.0,80000.0,95000.0,94500.0,78000.0,62000.0,45000.0,52009.0,45000.0,69500.0,26000.0,66000.0,62000.0,79600.0,93000.0,45000.0,27500.0,64700.0,57000.0,38488.0,48900.0,62000.0,67000.0,98000.0,70000.0,30000.0,92500.0,203000.0,120000.0,37420.0,54000.0,44000.0,44820.0,63000.0,67025.0,83000.0,37000.0,77000.0,57686.0,122000.0,123000.0,130000.0,110000.0,35000.0,75000.0,35000.0,118000.0,117000.0,59000.0,74655.0,127300.0,52000.0,177707.0,42000.0,70000.0,88000.0,58000.0,67000.0,60000.0,80564.0,49800.0,120000.0,51700.0,93000.0,44619.0,85000.0,31992.0,62400.0,86000.0,64000.0,38303.0,47500.0,98000.0,53000.0,87399.0,53000.0,51000.0,40000.0,57000.0,95000.0,168750.0,69000.0,58000.0,66400.0,55800.0,95000.0,59000.0,96000.0,168300.0,15000.0,122500.0,96000.0,94000.0,75000.0,41500.0,62000.0,77100.0,60000.0,46288.0,39000.0,90000.0,36500.0,49500.0,61979.0,43000.0,41000.0,70681.0,190000.0,90784.0,55000.0,115000.0,49000.0,45710.0,80000.0,83000.0,37797.0,40000.0,49700.0,43928.0,45000.0,23000.0,100000.0,70300.0,78174.0,41000.0,168000.0,110000.0,55600.0,114000.0,38000.0,36900.0,87000.0,97000.0,90000.0,83000.0,105000.0,80000.0,56900.0,74000.0,136000.0,15600.0,34500.0,28271.0,93770.0,80000.0,50000.0,62000.0,49000.0,102000.0,37000.0,54500.0,81000.0,78000.0,48000.0,70988.0,164000.0,32000.0,40300.0,49000.0,131000.0,89000.0,42000.0,50000.0,44521.7,70000.0,10000.0,75000.0,31180.0,35000.0,31180.0,54800.0,102866.0,70000.0,73000.0,47700.0,300000.0,160000.0,74000.0,50000.0,44000.0,38700.0,70559.0,110000.0,104000.0,120000.0,56000.0,53500.0,74000.0,54310.0,136500.0,48140.0,138000.0,63000.0,101000.0,95000.0,51686.0,315000.0,87000.0,75000.0,67700.0,65400.0,75000.0,54722.0,20000.0,81000.0,62000.0,82000.0,128000.0,125000.0,108000.0,34000.0,86168.0,199000.0,63000.0,40000.0,70000.0,98500.0,43000.0,116000.0,178951.0,45000.0,34885.0,55424.0,50000.0,89788.0,80000.0,270000.0,92000.0,31250.0,41097.0,36000.0,200000.0,40000.0,130000.0,21000.0,68000.0,83000.0,32071.0,16000.0,56573.0,74000.0,109000.0,35000.0,100000.0,38400.0,52000.0,140000.0,110000.0,54000.0,48000.0,34528.0,43450.0,15000.0,95000.0,39000.0,41000.0,131000.0,96678.0,54000.0,34000.0,30000.0,54000.0,40000.0,41000.0,49000.0,45600.0,50000.0,31000.0,97027.0,120000.0,76800.0,88900.0,750000.0,95000.0,95000.0,63000.0,43590.87,37000.0,20000.0,50000.0,80000.0,61000.0,64000.0,12000.0,80000.0,50000.0,66000.0,84000.0,58000.0,50890.0,82000.0,92000.0,150000.0,64000.0,40500.0,175000.0,32000.0,47000.0,140000.0,83000.0,60000.0,52800.0,70000.0,31000.0,36644.5,60000.0,23000.0,92500.0,73000.0,43000.0,81000.0,121000.0,62156.0,85000.0,125000.0,35000.0,60000.0,83000.0,66000.0,54000.0,32515.67,78000.0,91000.0,102000.0,112000.0,80000.0,53000.0,312000.0,101000.0,68000.0,96188.63,106800.0,68000.0,45000.0,120000.0,63490.0,104022.05,80000.0,70000.0,60000.0,38000.0,58000.0,68900.0,58000.0,51000.0,190000.0,63000.0,50625.0,81000.0,72000.0,120000.0,80000.0,112000.0,85000.0,125484.46,37350.0,36000.0,92000.0,35000.0,140000.0,78000.0,50000.0,57000.0,53250.0,30200.0,64000.0,32500.0,100000.0,56000.0,23000.0,45000.0,25000.0,65000.0,62000.0,43300.0,36422.0,98831.0,150000.0,39063.0,72000.0,110000.0,71480.0,120000.0,37000.0,260000.0,20000.0,77000.0,80000.0,80000.0,43000.0,80000.0,123000.0,200000.0,70800.0,85000.0,73400.0,93000.0,62500.0,230000.0,60000.0,89571.0,108000.0,85000.0,37000.0,97034.0,62933.86,91000.0,97495.0,98000.0,80000.0,80000.0,57074.28,49971.0,33000.0,113000.0,45000.0,57500.0,63000.0,52290.0,140000.0,60000.0,54000.0,80000.0,63900.0,90000.0,104000.0,106000.0,56000.0,75105.0,135000.0,77000.0,62000.0,92000.0,50000.0,400000.0,102000.0,42911.0,130000.0,89000.0,47000.0,53044.0,105000.0,122000.0,54000.0,155800.0,75000.0,62000.0,60230.0,55000.0,281250.0,442127.0,57670.0,45000.0,33423.0,91943.0,80000.0,76000.0,37000.0,90000.0,149000.0,800000.0,160000.0,51500.0,105000.0,40000.0,70000.0,49800.0,84000.0,54000.0,31900.0,47000.0,38000.0,80000.0,89000.0,200000.0,95000.0,50500.0,35000.0,72000.0,75000.0,25000.0,65000.0,45000.0,59000.0,43114.14,67310.0,94000.0,36000.0,20700.0,53819.09,56000.0,56000.0,55000.0,94000.0,50000.0,100000.0,90000.0,41475.0,15000.0,62000.0,40000.0,65000.0,83000.0,97000.0,67275.0,42000.0,97000.0,64000.0,120000.0,104000.0,68000.0,82480.08,170000.0,25400.0,150000.0,66000.0,37353.0,145000.0,35900.0,200000.0,110971.0,110000.0,55680.0,102000.0,89000.0,55870.0,110000.0,64000.0,42000.0,33400.0,112000.0,45000.0,145000.0,133000.0,51000.0,85300.0,37500.0,2500.0,67992.0,71033.0,42330.0,65000.0,2000.0,40000.0,65163.0,74000.0,54000.0,65000.0,85000.0,75000.0,71000.0,91360.0,52000.0,35000.0,48316.0,68928.0,61005.0,99800.0,150000.0,83727.0,73035.0,42000.0,54000.0,61000.0,120000.0,100000.0,85000.0,98000.0,39000.0,43000.0,110000.0,33400.0,100000.0,41000.0,110000.0,38345.0,62000.0,52000.0,83000.0,130000.0,75000.0,50032.0,58300.0,54588.0,100000.0,90000.0,80000.0,32500.0,70000.0,160000.0,91000.0,74000.0,95000.0,135953.0,100000.0,70000.0,10000.0,31290.0,10000.0,115000.0,85000.0,110000.0,56440.0,54350.0,167000.0,32000.0,120000.0,120000.0,79000.0,105000.0,115000.0,110000.0,131840.0,127000.0,62000.0,140000.0,85000.0,30000.0,150000.0,35000.0,39000.0,98000.0,44000.0,82000.0,98000.0,130000.0,69000.0,56403.0,52290.0,89000.0,170282.0,101000.0,75000.0,80000.0,82000.0,90000.0,35000.0,34000.0,95000.0,105000.0,38000.0,100000.0,150000.0,120000.0,125000.0,67000.0,45500.0,115000.0,70100.0,69000.0,50000.0,57000.0,57000.0,8000.0,30000.0,77800.0],\"type\":\"box\"}],                        {\"template\":{\"data\":{\"bar\":[{\"error_x\":{\"color\":\"#2a3f5f\"},\"error_y\":{\"color\":\"#2a3f5f\"},\"marker\":{\"line\":{\"color\":\"#E5ECF6\",\"width\":0.5},\"pattern\":{\"fillmode\":\"overlay\",\"size\":10,\"solidity\":0.2}},\"type\":\"bar\"}],\"barpolar\":[{\"marker\":{\"line\":{\"color\":\"#E5ECF6\",\"width\":0.5},\"pattern\":{\"fillmode\":\"overlay\",\"size\":10,\"solidity\":0.2}},\"type\":\"barpolar\"}],\"carpet\":[{\"aaxis\":{\"endlinecolor\":\"#2a3f5f\",\"gridcolor\":\"white\",\"linecolor\":\"white\",\"minorgridcolor\":\"white\",\"startlinecolor\":\"#2a3f5f\"},\"baxis\":{\"endlinecolor\":\"#2a3f5f\",\"gridcolor\":\"white\",\"linecolor\":\"white\",\"minorgridcolor\":\"white\",\"startlinecolor\":\"#2a3f5f\"},\"type\":\"carpet\"}],\"choropleth\":[{\"colorbar\":{\"outlinewidth\":0,\"ticks\":\"\"},\"type\":\"choropleth\"}],\"contour\":[{\"colorbar\":{\"outlinewidth\":0,\"ticks\":\"\"},\"colorscale\":[[0.0,\"#0d0887\"],[0.1111111111111111,\"#46039f\"],[0.2222222222222222,\"#7201a8\"],[0.3333333333333333,\"#9c179e\"],[0.4444444444444444,\"#bd3786\"],[0.5555555555555556,\"#d8576b\"],[0.6666666666666666,\"#ed7953\"],[0.7777777777777778,\"#fb9f3a\"],[0.8888888888888888,\"#fdca26\"],[1.0,\"#f0f921\"]],\"type\":\"contour\"}],\"contourcarpet\":[{\"colorbar\":{\"outlinewidth\":0,\"ticks\":\"\"},\"type\":\"contourcarpet\"}],\"heatmap\":[{\"colorbar\":{\"outlinewidth\":0,\"ticks\":\"\"},\"colorscale\":[[0.0,\"#0d0887\"],[0.1111111111111111,\"#46039f\"],[0.2222222222222222,\"#7201a8\"],[0.3333333333333333,\"#9c179e\"],[0.4444444444444444,\"#bd3786\"],[0.5555555555555556,\"#d8576b\"],[0.6666666666666666,\"#ed7953\"],[0.7777777777777778,\"#fb9f3a\"],[0.8888888888888888,\"#fdca26\"],[1.0,\"#f0f921\"]],\"type\":\"heatmap\"}],\"heatmapgl\":[{\"colorbar\":{\"outlinewidth\":0,\"ticks\":\"\"},\"colorscale\":[[0.0,\"#0d0887\"],[0.1111111111111111,\"#46039f\"],[0.2222222222222222,\"#7201a8\"],[0.3333333333333333,\"#9c179e\"],[0.4444444444444444,\"#bd3786\"],[0.5555555555555556,\"#d8576b\"],[0.6666666666666666,\"#ed7953\"],[0.7777777777777778,\"#fb9f3a\"],[0.8888888888888888,\"#fdca26\"],[1.0,\"#f0f921\"]],\"type\":\"heatmapgl\"}],\"histogram\":[{\"marker\":{\"pattern\":{\"fillmode\":\"overlay\",\"size\":10,\"solidity\":0.2}},\"type\":\"histogram\"}],\"histogram2d\":[{\"colorbar\":{\"outlinewidth\":0,\"ticks\":\"\"},\"colorscale\":[[0.0,\"#0d0887\"],[0.1111111111111111,\"#46039f\"],[0.2222222222222222,\"#7201a8\"],[0.3333333333333333,\"#9c179e\"],[0.4444444444444444,\"#bd3786\"],[0.5555555555555556,\"#d8576b\"],[0.6666666666666666,\"#ed7953\"],[0.7777777777777778,\"#fb9f3a\"],[0.8888888888888888,\"#fdca26\"],[1.0,\"#f0f921\"]],\"type\":\"histogram2d\"}],\"histogram2dcontour\":[{\"colorbar\":{\"outlinewidth\":0,\"ticks\":\"\"},\"colorscale\":[[0.0,\"#0d0887\"],[0.1111111111111111,\"#46039f\"],[0.2222222222222222,\"#7201a8\"],[0.3333333333333333,\"#9c179e\"],[0.4444444444444444,\"#bd3786\"],[0.5555555555555556,\"#d8576b\"],[0.6666666666666666,\"#ed7953\"],[0.7777777777777778,\"#fb9f3a\"],[0.8888888888888888,\"#fdca26\"],[1.0,\"#f0f921\"]],\"type\":\"histogram2dcontour\"}],\"mesh3d\":[{\"colorbar\":{\"outlinewidth\":0,\"ticks\":\"\"},\"type\":\"mesh3d\"}],\"parcoords\":[{\"line\":{\"colorbar\":{\"outlinewidth\":0,\"ticks\":\"\"}},\"type\":\"parcoords\"}],\"pie\":[{\"automargin\":true,\"type\":\"pie\"}],\"scatter\":[{\"marker\":{\"colorbar\":{\"outlinewidth\":0,\"ticks\":\"\"}},\"type\":\"scatter\"}],\"scatter3d\":[{\"line\":{\"colorbar\":{\"outlinewidth\":0,\"ticks\":\"\"}},\"marker\":{\"colorbar\":{\"outlinewidth\":0,\"ticks\":\"\"}},\"type\":\"scatter3d\"}],\"scattercarpet\":[{\"marker\":{\"colorbar\":{\"outlinewidth\":0,\"ticks\":\"\"}},\"type\":\"scattercarpet\"}],\"scattergeo\":[{\"marker\":{\"colorbar\":{\"outlinewidth\":0,\"ticks\":\"\"}},\"type\":\"scattergeo\"}],\"scattergl\":[{\"marker\":{\"colorbar\":{\"outlinewidth\":0,\"ticks\":\"\"}},\"type\":\"scattergl\"}],\"scattermapbox\":[{\"marker\":{\"colorbar\":{\"outlinewidth\":0,\"ticks\":\"\"}},\"type\":\"scattermapbox\"}],\"scatterpolar\":[{\"marker\":{\"colorbar\":{\"outlinewidth\":0,\"ticks\":\"\"}},\"type\":\"scatterpolar\"}],\"scatterpolargl\":[{\"marker\":{\"colorbar\":{\"outlinewidth\":0,\"ticks\":\"\"}},\"type\":\"scatterpolargl\"}],\"scatterternary\":[{\"marker\":{\"colorbar\":{\"outlinewidth\":0,\"ticks\":\"\"}},\"type\":\"scatterternary\"}],\"surface\":[{\"colorbar\":{\"outlinewidth\":0,\"ticks\":\"\"},\"colorscale\":[[0.0,\"#0d0887\"],[0.1111111111111111,\"#46039f\"],[0.2222222222222222,\"#7201a8\"],[0.3333333333333333,\"#9c179e\"],[0.4444444444444444,\"#bd3786\"],[0.5555555555555556,\"#d8576b\"],[0.6666666666666666,\"#ed7953\"],[0.7777777777777778,\"#fb9f3a\"],[0.8888888888888888,\"#fdca26\"],[1.0,\"#f0f921\"]],\"type\":\"surface\"}],\"table\":[{\"cells\":{\"fill\":{\"color\":\"#EBF0F8\"},\"line\":{\"color\":\"white\"}},\"header\":{\"fill\":{\"color\":\"#C8D4E3\"},\"line\":{\"color\":\"white\"}},\"type\":\"table\"}]},\"layout\":{\"annotationdefaults\":{\"arrowcolor\":\"#2a3f5f\",\"arrowhead\":0,\"arrowwidth\":1},\"autotypenumbers\":\"strict\",\"coloraxis\":{\"colorbar\":{\"outlinewidth\":0,\"ticks\":\"\"}},\"colorscale\":{\"diverging\":[[0,\"#8e0152\"],[0.1,\"#c51b7d\"],[0.2,\"#de77ae\"],[0.3,\"#f1b6da\"],[0.4,\"#fde0ef\"],[0.5,\"#f7f7f7\"],[0.6,\"#e6f5d0\"],[0.7,\"#b8e186\"],[0.8,\"#7fbc41\"],[0.9,\"#4d9221\"],[1,\"#276419\"]],\"sequential\":[[0.0,\"#0d0887\"],[0.1111111111111111,\"#46039f\"],[0.2222222222222222,\"#7201a8\"],[0.3333333333333333,\"#9c179e\"],[0.4444444444444444,\"#bd3786\"],[0.5555555555555556,\"#d8576b\"],[0.6666666666666666,\"#ed7953\"],[0.7777777777777778,\"#fb9f3a\"],[0.8888888888888888,\"#fdca26\"],[1.0,\"#f0f921\"]],\"sequentialminus\":[[0.0,\"#0d0887\"],[0.1111111111111111,\"#46039f\"],[0.2222222222222222,\"#7201a8\"],[0.3333333333333333,\"#9c179e\"],[0.4444444444444444,\"#bd3786\"],[0.5555555555555556,\"#d8576b\"],[0.6666666666666666,\"#ed7953\"],[0.7777777777777778,\"#fb9f3a\"],[0.8888888888888888,\"#fdca26\"],[1.0,\"#f0f921\"]]},\"colorway\":[\"#636efa\",\"#EF553B\",\"#00cc96\",\"#ab63fa\",\"#FFA15A\",\"#19d3f3\",\"#FF6692\",\"#B6E880\",\"#FF97FF\",\"#FECB52\"],\"font\":{\"color\":\"#2a3f5f\"},\"geo\":{\"bgcolor\":\"white\",\"lakecolor\":\"white\",\"landcolor\":\"#E5ECF6\",\"showlakes\":true,\"showland\":true,\"subunitcolor\":\"white\"},\"hoverlabel\":{\"align\":\"left\"},\"hovermode\":\"closest\",\"mapbox\":{\"style\":\"light\"},\"paper_bgcolor\":\"white\",\"plot_bgcolor\":\"#E5ECF6\",\"polar\":{\"angularaxis\":{\"gridcolor\":\"white\",\"linecolor\":\"white\",\"ticks\":\"\"},\"bgcolor\":\"#E5ECF6\",\"radialaxis\":{\"gridcolor\":\"white\",\"linecolor\":\"white\",\"ticks\":\"\"}},\"scene\":{\"xaxis\":{\"backgroundcolor\":\"#E5ECF6\",\"gridcolor\":\"white\",\"gridwidth\":2,\"linecolor\":\"white\",\"showbackground\":true,\"ticks\":\"\",\"zerolinecolor\":\"white\"},\"yaxis\":{\"backgroundcolor\":\"#E5ECF6\",\"gridcolor\":\"white\",\"gridwidth\":2,\"linecolor\":\"white\",\"showbackground\":true,\"ticks\":\"\",\"zerolinecolor\":\"white\"},\"zaxis\":{\"backgroundcolor\":\"#E5ECF6\",\"gridcolor\":\"white\",\"gridwidth\":2,\"linecolor\":\"white\",\"showbackground\":true,\"ticks\":\"\",\"zerolinecolor\":\"white\"}},\"shapedefaults\":{\"line\":{\"color\":\"#2a3f5f\"}},\"ternary\":{\"aaxis\":{\"gridcolor\":\"white\",\"linecolor\":\"white\",\"ticks\":\"\"},\"baxis\":{\"gridcolor\":\"white\",\"linecolor\":\"white\",\"ticks\":\"\"},\"bgcolor\":\"#E5ECF6\",\"caxis\":{\"gridcolor\":\"white\",\"linecolor\":\"white\",\"ticks\":\"\"}},\"title\":{\"x\":0.05},\"xaxis\":{\"automargin\":true,\"gridcolor\":\"white\",\"linecolor\":\"white\",\"ticks\":\"\",\"title\":{\"standoff\":15},\"zerolinecolor\":\"white\",\"zerolinewidth\":2},\"yaxis\":{\"automargin\":true,\"gridcolor\":\"white\",\"linecolor\":\"white\",\"ticks\":\"\",\"title\":{\"standoff\":15},\"zerolinecolor\":\"white\",\"zerolinewidth\":2}}},\"title\":{\"text\":\"Salario por grupo\",\"y\":0.9,\"x\":0.9,\"xanchor\":\"center\",\"yanchor\":\"top\"}},                        {\"responsive\": true}                    ).then(function(){\n",
              "                            \n",
              "var gd = document.getElementById('2bb8291a-30d9-4d38-af44-d247f45c9e58');\n",
              "var x = new MutationObserver(function (mutations, observer) {{\n",
              "        var display = window.getComputedStyle(gd).display;\n",
              "        if (!display || display === 'none') {{\n",
              "            console.log([gd, 'removed!']);\n",
              "            Plotly.purge(gd);\n",
              "            observer.disconnect();\n",
              "        }}\n",
              "}});\n",
              "\n",
              "// Listen for the removal of the full notebook cells\n",
              "var notebookContainer = gd.closest('#notebook-container');\n",
              "if (notebookContainer) {{\n",
              "    x.observe(notebookContainer, {childList: true});\n",
              "}}\n",
              "\n",
              "// Listen for the clearing of the current output cell\n",
              "var outputEl = gd.closest('.output');\n",
              "if (outputEl) {{\n",
              "    x.observe(outputEl, {childList: true});\n",
              "}}\n",
              "\n",
              "                        })                };                            </script>        </div>\n",
              "</body>\n",
              "</html>"
            ]
          },
          "metadata": {}
        }
      ]
    },
    {
      "cell_type": "markdown",
      "metadata": {
        "id": "8VxiQr5YrQYR"
      },
      "source": [
        "### [Opcional] 2.3 Potencia del test\n",
        "\n",
        "Nuestra muestra, ¿era lo suficientemente grande para detectar si existe o no una diferencia entre los grupos?\n",
        "\n",
        "1. Utilice la función `tt_ind_solve_power` para calcular el tamaño necesario de la muestra para un poder estadístico de 0.8, 0.9 y 0.95, asumiendo una significancia estadística de 0.05.\n",
        "2. ¿Cómo intepretan el poder estadístico de un test? Dado su conocimiento de dominio sobre los datos, ¿les parece que esta muestra es lo suficientemente grande para ser representativo de la tendencia general? ¿y para utilizarlo en un juicio penal contra una empresa XX por una causa de discriminación?\n",
        "\n",
        "[Documentación](https://www.statsmodels.org/stable/generated/statsmodels.stats.power.tt_ind_solve_power.html)\n",
        "\n",
        "NOTA: este análisis debería hacerse ANTES de recolectar los datos."
      ]
    },
    {
      "cell_type": "code",
      "metadata": {
        "id": "_IiqGfo4t6Db"
      },
      "source": [
        "from statsmodels.stats.power import tt_ind_solve_power"
      ],
      "execution_count": 192,
      "outputs": []
    },
    {
      "cell_type": "code",
      "metadata": {
        "id": "LUQ7MA2Apj9x"
      },
      "source": [
        "effect_size = (groupA.mean() - groupB.mean()) / groupB.std()\n",
        "# nobs1=None  - What we want to know\n",
        "alpha = 0.05\n",
        "ratio = len(groupB) / len(groupA)"
      ],
      "execution_count": 193,
      "outputs": []
    },
    {
      "cell_type": "code",
      "metadata": {
        "id": "cvHcpY-3ty8Q",
        "colab": {
          "base_uri": "https://localhost:8080/",
          "height": 165
        },
        "outputId": "cd4dab4f-4140-4751-d754-aba2879db344"
      },
      "source": [
        "tt_ind_solve_power(effect_size=effect_size, alpha=alpha, power=power, ratio=ratio)"
      ],
      "execution_count": 194,
      "outputs": [
        {
          "output_type": "error",
          "ename": "NameError",
          "evalue": "ignored",
          "traceback": [
            "\u001b[0;31m---------------------------------------------------------------------------\u001b[0m",
            "\u001b[0;31mNameError\u001b[0m                                 Traceback (most recent call last)",
            "\u001b[0;32m<ipython-input-194-1f79e8a31986>\u001b[0m in \u001b[0;36m<module>\u001b[0;34m()\u001b[0m\n\u001b[0;32m----> 1\u001b[0;31m \u001b[0mtt_ind_solve_power\u001b[0m\u001b[0;34m(\u001b[0m\u001b[0meffect_size\u001b[0m\u001b[0;34m=\u001b[0m\u001b[0meffect_size\u001b[0m\u001b[0;34m,\u001b[0m \u001b[0malpha\u001b[0m\u001b[0;34m=\u001b[0m\u001b[0malpha\u001b[0m\u001b[0;34m,\u001b[0m \u001b[0mpower\u001b[0m\u001b[0;34m=\u001b[0m\u001b[0mpower\u001b[0m\u001b[0;34m,\u001b[0m \u001b[0mratio\u001b[0m\u001b[0;34m=\u001b[0m\u001b[0mratio\u001b[0m\u001b[0;34m)\u001b[0m\u001b[0;34m\u001b[0m\u001b[0;34m\u001b[0m\u001b[0m\n\u001b[0m",
            "\u001b[0;31mNameError\u001b[0m: name 'power' is not defined"
          ]
        }
      ]
    },
    {
      "cell_type": "markdown",
      "metadata": {
        "id": "useKMdPyMod5"
      },
      "source": [
        "## Ejercicio 3: Comunicación y visualización\n",
        "\n",
        "**Consigna:** Seleccionen un resultado que les parezca relevante a partir de alguno de los ejercicios del entregable. Diseñe e implemente una comunicación en base a este mensaje, en un archivo PDF.\n",
        "\n",
        "Elija las palabras y visualización más adecuada para que la comunicación sea entendible, efectiva y se dapte a UNA de las siguientes situaciones:\n",
        "\n",
        "1. Una sección en un artículo de difusión a presentar como parte de una organización sin fines de lucro.\n",
        "No más de 1 página A4 (o dos si los gráficos son muy grandes).\n",
        "  1. Ejemplo: Alguna de las secciones [Los ecosistemas de emprendimiento de América Latina y el Caribe frente al COVID-19: Impactos, necesidades y recomendaciones](https://publications.iadb.org/es/los-ecosistemas-de-emprendimiento-de-america-latina-y-el-caribe-frente-al-covid-19-impactos-necesidades-y-recomendaciones), por ejemplo la sección *2.2. Reacciones de los emprendedores*.\n",
        "  2. Ejemplo: Alguna de las secciones de [The state of gender pay gap in 2021](https://www.payscale.com/data/gender-pay-gap?tk=carousel-ps-rc-job)\n",
        "  3. Puntos clave: \n",
        "    1. Simpleza de los gráficos.\n",
        "    2. Comunicación en lenguaje simple a personas que no son necesariamente expertos de dominio.\n",
        "    2. Selección de UNA oración sobre la que se hace énfasis.\n",
        "    3. No es necesario que mencionen objetivos ni descripciones del conjunto de datos, se supone que eso ya estaría explicado en otras secciones del informe.\n",
        "\n",
        "2. Una publicación científica o reporte técnico interno. No más de una página A4:\n",
        "  2. Ejemplo: La sección de resultados de [IZA DP No. 12914: The Impact of a Minimum Wage Change on the Distribution of Wages and Household Income](https://www.iza.org/publications/dp/12914/the-impact-of-a-minimum-wage-change-on-the-distribution-of-wages-and-household-income).\n",
        "  2. Ejemplo: Alguna de las secciones de [Temporary reduction in daily global CO2 emissions during the COVID-19 forced confinement](https://www.nature.com/articles/s41558-020-0797-x)\n",
        "  3. Puntos clave:\n",
        "    3. Nivel de detalle técnico requerido. Es necesario justificar la validez del análisis.\n",
        "    4. La idea presentada puede ser más compleja. Pueden asumir que la audiencia tiene conocimiento técnico y va a analizar las visualizaciones en detalle. \n",
        "    5. Pueden presentar más en detalle las limitaciones del análisis (significancia estadística, etc.)\n",
        "    2. No es necesario que mencionen objetivos ni descripciones del conjunto de datos, se supone que eso ya estaría explicado en otras secciones del informe.\n",
        "\n",
        "3. Un tweet (o post de LinkedIn) para la cuenta de su empresa consultora que hace análisis de datos. El objetivo es promocionar un análisis de datos abiertos que van a incluir en su portfolio:\n",
        "  1. Ejemplo: [Comparación vacunas covid](https://twitter.com/infobeautiful/status/1381577746527236098?s=20)\n",
        "  2. Ejemplo: [Tweet del BID](https://twitter.com/el_BID/status/1388508583944507396?s=20). Lo valioso de este tweet es que usaron un único número para transmitir un mensaje. Puede ser algo así, o con un gráfico muy simple.\n",
        "  3. Ejemplo: [Cambio climático](https://twitter.com/UNFCCC/status/1387732156190011394?s=20) Es un muy buen ejemplo, excepto que el gráfico no se lee nada y hay que entrar a la publicación original.\n",
        "  3. Ejemplo: [¿Cuánto están los programadores en las empresas?](https://www.linkedin.com/posts/denis-rothman-0b034043_tech-career-work-activity-6793861923269054464-gS6y) (No verificamos la veracidad o seriedad de la fuente).\n",
        "  4. Puntos clave:\n",
        "    1. Su audiencia no va a mirar la visualización por más de unos segundos, y no tiene conocimiento técnico.\n",
        "  3. Tienen que incluir además una *breve* descripción de cómo obtuvieron los datos que están presentando, que no entraría en el tweet.\n"
      ]
    },
    {
      "cell_type": "code",
      "metadata": {
        "id": "twwYHUztt45L"
      },
      "source": [
        ""
      ],
      "execution_count": null,
      "outputs": []
    }
  ]
}