{
  "nbformat": 4,
  "nbformat_minor": 0,
  "metadata": {
    "colab": {
      "name": "TP_Parte_1.2._Gr23_v_2022_04_18.ipynb",
      "provenance": [],
      "collapsed_sections": [],
      "toc_visible": true,
      "include_colab_link": true
    },
    "kernelspec": {
      "name": "python3",
      "display_name": "Python 3"
    }
  },
  "cells": [
    {
      "cell_type": "markdown",
      "metadata": {
        "id": "view-in-github",
        "colab_type": "text"
      },
      "source": [
        "<a href=\"https://colab.research.google.com/github/AlejandroGuedez/Equipo-23-de-Diplomado-data-scientist/blob/main/TP_Parte_1_2__Gr23.ipynb\" target=\"_parent\"><img src=\"https://colab.research.google.com/assets/colab-badge.svg\" alt=\"Open In Colab\"/></a>"
      ]
    },
    {
      "cell_type": "markdown",
      "metadata": {
        "id": "LYvAOR2VzHmW"
      },
      "source": [
        "\n",
        "**Diplomatura en Ciencia de Datos, Aprendizaje Automático y sus Aplicaciones**\n",
        "\n",
        "**Edición 2022**\n",
        "\n",
        "---\n",
        "## Trabajo práctico entregable - Parte 1 - Ejercicio 2 - Grupo 23"
      ]
    },
    {
      "cell_type": "markdown",
      "source": [
        "**Integrantes:** Franco Amilcar Genolet (francogeno97@gmail.com), Fabian Alejandro Zapata Cerutti (fzc501@gmail.com), Luis Alejandro Guedez Gomez (luis.guedez@dicsys.com), María Laura Mantovani (mantovanimlaura@gmail.com)."
      ],
      "metadata": {
        "id": "WAhJoBWr0994"
      }
    },
    {
      "cell_type": "markdown",
      "metadata": {
        "id": "tWo8SmmC9FAk"
      },
      "source": [
        "# Ejercicio 2 - Densidades y varias varialbes\n",
        "\n",
        "Responder a la pregunta general: **¿Que herramientas (prácticas y teóricas) són útiles para explorar la base, descubrir patrones, asociaciones?**\n",
        "\n",
        "Para ello considere (igual al ejercicio Anterior):\n",
        "1. Seleccionar las columnas relevantes para analizar.\n",
        "2. Seleccionar las filas relevantes para analizar. Esto incluye la eliminación de valores extremos y erróneos, pero también puede enfocar el análisis en sub-poblaciones. "
      ]
    },
    {
      "cell_type": "markdown",
      "metadata": {
        "id": "5baYhH0XHM3S"
      },
      "source": [
        "## a) Densidad conjunta\n",
        "\n",
        "Que herramientas visuales y modelos puede utilizar para estudiar la distribución y comportamiento de sus datos? \n",
        "\n",
        "Elija tres variables numéricas y 2 variables categóricas. Visualice la base según varias de las variables elegidas. Puede describir de alguna forma el comportamiento de sus datos? Que herramientas utilizaría? Describa\n",
        "\n",
        "\n"
      ]
    },
    {
      "cell_type": "markdown",
      "source": [
        "Las herramientas utilizadas pueden ser graficos, con los cuales podemos observar la distribucion de las observaciones, y en caso que existieran, valores extremos (outliers). \n",
        "Para variables categoricas, el crosstab es una buena medida para analizar el comportamiento ya que CROSSTAB agrupa registros que tienen la misma combinación de valores en dos o más campos o de caracteres.\n",
        "Por otro lado, las variables numericas podrian ser analizadas con histogramas o graficos de densidad para poder determinar el comportamientos de las observaciones. Mas alla de los medios visuales propuestos. Siempre es recomendable verificar la dependencia de variables con medidas estadisticas tales como la covarianza o el coeficiente de correlacion, el cual es una excelente medida de relacion LINEAL. "
      ],
      "metadata": {
        "id": "DP11viOuPbUL"
      }
    },
    {
      "cell_type": "code",
      "source": [
        "import io\n",
        "import matplotlib.pyplot as plt\n",
        "import numpy as np\n",
        "from numpy import random\n",
        "import pandas as pd\n",
        "import seaborn\n",
        "seaborn.set_context('notebook')\n",
        "\n",
        "url = 'https://cs.famaf.unc.edu.ar/~mteruel/datasets/diplodatos/sysarmy_survey_2020_processed.csv'\n",
        "original_df = pd.read_csv(url)"
      ],
      "metadata": {
        "id": "450vP97KQqh7"
      },
      "execution_count": null,
      "outputs": []
    },
    {
      "cell_type": "code",
      "source": [
        "print(\"Las variables totales del data set son:\\n{}\".format(original_df.columns.values))"
      ],
      "metadata": {
        "colab": {
          "base_uri": "https://localhost:8080/"
        },
        "id": "WSacUxpCRjTq",
        "outputId": "e8e288f3-40b7-4a0a-c165-5e5766d9468c"
      },
      "execution_count": null,
      "outputs": [
        {
          "output_type": "stream",
          "name": "stdout",
          "text": [
            "Las variables totales del data set son:\n",
            "['profile_gender' 'profile_age' 'work_country' 'work_province'\n",
            " 'profile_years_experience' 'work_years_in_company'\n",
            " 'work_years_in_current_position' 'work_people_in_charge_of'\n",
            " 'profile_studies_level' 'profile_studies_level_state' 'profile_career'\n",
            " 'profile_university' 'profile_specialization_courses'\n",
            " 'profile_open_source_contributions' 'profile_programming_as_hobby'\n",
            " 'work_role' 'tools_platform' 'tools_programming_languages'\n",
            " 'tools_frameworks' 'tools_data_bases' 'tools_qa_testing' 'tools_IDEs'\n",
            " 'tools_work_pc_os' 'tools_cellphone_os' 'work_on_call_duty'\n",
            " 'salary_on_call_duty_charge' 'work_on_call_duty_charge_type'\n",
            " 'work_contract_type' 'salary_monthly_BRUTO' 'salary_monthly_NETO'\n",
            " 'salary_in_usd' 'salary_satisfaction' 'salary_comparison_last_semester'\n",
            " 'salary_has_bonus' 'salary_bonus_tied_to'\n",
            " 'salary_inflation_adjustment_2020'\n",
            " 'salary_percentage_inflation_adjustment_2020'\n",
            " 'salary_month_last_inflation_adjustment' 'work_has_violence_situations'\n",
            " 'profile_sexual_orientation' 'profile_has_disabilities'\n",
            " 'profile_has_disabilities_hiring_difficulties' 'company_employee_number'\n",
            " 'company_main_activity' 'company_recommended'\n",
            " 'company_diversity_policies' 'company_extra_benefits'\n",
            " 'company_best_companies_city']\n"
          ]
        }
      ]
    },
    {
      "cell_type": "code",
      "source": [
        "variables = ['profile_gender','profile_studies_level','salary_monthly_BRUTO', 'salary_monthly_NETO', 'profile_years_experience']\n",
        "\n",
        "df = original_df[variables]\n",
        "df.head(20)"
      ],
      "metadata": {
        "colab": {
          "base_uri": "https://localhost:8080/",
          "height": 677
        },
        "id": "7MeiZKCpSRRp",
        "outputId": "aca84d82-293a-4e7b-c272-9bb1dc0a7a06"
      },
      "execution_count": null,
      "outputs": [
        {
          "output_type": "execute_result",
          "data": {
            "text/plain": [
              "   profile_gender profile_studies_level  salary_monthly_BRUTO  \\\n",
              "0           Mujer         Universitario               53000.0   \n",
              "1          Hombre         Universitario               79000.0   \n",
              "2           Mujer            Secundario              160000.0   \n",
              "3          Hombre              Posgrado              130000.0   \n",
              "4          Hombre         Universitario              140000.0   \n",
              "5          Hombre             Terciario               54000.0   \n",
              "6          Hombre         Universitario               75000.0   \n",
              "7          Hombre             Terciario               45000.0   \n",
              "8          Hombre         Universitario              105000.0   \n",
              "9           Otros         Universitario               47000.0   \n",
              "10         Hombre             Terciario               36800.0   \n",
              "11         Hombre         Universitario               93735.0   \n",
              "12         Hombre         Universitario               70000.0   \n",
              "13         Hombre            Secundario              102000.0   \n",
              "14         Hombre         Universitario              102000.0   \n",
              "15         Hombre             Terciario              100000.0   \n",
              "16         Hombre             Terciario              140000.0   \n",
              "17          Mujer         Universitario               88000.0   \n",
              "18         Hombre         Universitario              125000.0   \n",
              "19         Hombre             Terciario               75000.0   \n",
              "\n",
              "    salary_monthly_NETO  profile_years_experience  \n",
              "0               43000.0                       3.0  \n",
              "1               63000.0                       5.0  \n",
              "2              127000.0                       2.0  \n",
              "3              102000.0                      15.0  \n",
              "4              106000.0                       9.0  \n",
              "5               44000.0                       1.0  \n",
              "6               62400.0                       1.0  \n",
              "7               37500.0                       0.0  \n",
              "8               75000.0                      20.0  \n",
              "9               39000.0                      20.0  \n",
              "10              36800.0                       1.0  \n",
              "11              94621.0                      15.0  \n",
              "12              63000.0                      10.0  \n",
              "13              92000.0                      20.0  \n",
              "14              80000.0                      10.0  \n",
              "15              75000.0                      10.0  \n",
              "16             100000.0                       4.0  \n",
              "17              70000.0                       3.0  \n",
              "18              93000.0                       1.0  \n",
              "19              68000.0                       3.0  "
            ],
            "text/html": [
              "\n",
              "  <div id=\"df-e16c590d-52de-4602-b841-ff4c8f7a3646\">\n",
              "    <div class=\"colab-df-container\">\n",
              "      <div>\n",
              "<style scoped>\n",
              "    .dataframe tbody tr th:only-of-type {\n",
              "        vertical-align: middle;\n",
              "    }\n",
              "\n",
              "    .dataframe tbody tr th {\n",
              "        vertical-align: top;\n",
              "    }\n",
              "\n",
              "    .dataframe thead th {\n",
              "        text-align: right;\n",
              "    }\n",
              "</style>\n",
              "<table border=\"1\" class=\"dataframe\">\n",
              "  <thead>\n",
              "    <tr style=\"text-align: right;\">\n",
              "      <th></th>\n",
              "      <th>profile_gender</th>\n",
              "      <th>profile_studies_level</th>\n",
              "      <th>salary_monthly_BRUTO</th>\n",
              "      <th>salary_monthly_NETO</th>\n",
              "      <th>profile_years_experience</th>\n",
              "    </tr>\n",
              "  </thead>\n",
              "  <tbody>\n",
              "    <tr>\n",
              "      <th>0</th>\n",
              "      <td>Mujer</td>\n",
              "      <td>Universitario</td>\n",
              "      <td>53000.0</td>\n",
              "      <td>43000.0</td>\n",
              "      <td>3.0</td>\n",
              "    </tr>\n",
              "    <tr>\n",
              "      <th>1</th>\n",
              "      <td>Hombre</td>\n",
              "      <td>Universitario</td>\n",
              "      <td>79000.0</td>\n",
              "      <td>63000.0</td>\n",
              "      <td>5.0</td>\n",
              "    </tr>\n",
              "    <tr>\n",
              "      <th>2</th>\n",
              "      <td>Mujer</td>\n",
              "      <td>Secundario</td>\n",
              "      <td>160000.0</td>\n",
              "      <td>127000.0</td>\n",
              "      <td>2.0</td>\n",
              "    </tr>\n",
              "    <tr>\n",
              "      <th>3</th>\n",
              "      <td>Hombre</td>\n",
              "      <td>Posgrado</td>\n",
              "      <td>130000.0</td>\n",
              "      <td>102000.0</td>\n",
              "      <td>15.0</td>\n",
              "    </tr>\n",
              "    <tr>\n",
              "      <th>4</th>\n",
              "      <td>Hombre</td>\n",
              "      <td>Universitario</td>\n",
              "      <td>140000.0</td>\n",
              "      <td>106000.0</td>\n",
              "      <td>9.0</td>\n",
              "    </tr>\n",
              "    <tr>\n",
              "      <th>5</th>\n",
              "      <td>Hombre</td>\n",
              "      <td>Terciario</td>\n",
              "      <td>54000.0</td>\n",
              "      <td>44000.0</td>\n",
              "      <td>1.0</td>\n",
              "    </tr>\n",
              "    <tr>\n",
              "      <th>6</th>\n",
              "      <td>Hombre</td>\n",
              "      <td>Universitario</td>\n",
              "      <td>75000.0</td>\n",
              "      <td>62400.0</td>\n",
              "      <td>1.0</td>\n",
              "    </tr>\n",
              "    <tr>\n",
              "      <th>7</th>\n",
              "      <td>Hombre</td>\n",
              "      <td>Terciario</td>\n",
              "      <td>45000.0</td>\n",
              "      <td>37500.0</td>\n",
              "      <td>0.0</td>\n",
              "    </tr>\n",
              "    <tr>\n",
              "      <th>8</th>\n",
              "      <td>Hombre</td>\n",
              "      <td>Universitario</td>\n",
              "      <td>105000.0</td>\n",
              "      <td>75000.0</td>\n",
              "      <td>20.0</td>\n",
              "    </tr>\n",
              "    <tr>\n",
              "      <th>9</th>\n",
              "      <td>Otros</td>\n",
              "      <td>Universitario</td>\n",
              "      <td>47000.0</td>\n",
              "      <td>39000.0</td>\n",
              "      <td>20.0</td>\n",
              "    </tr>\n",
              "    <tr>\n",
              "      <th>10</th>\n",
              "      <td>Hombre</td>\n",
              "      <td>Terciario</td>\n",
              "      <td>36800.0</td>\n",
              "      <td>36800.0</td>\n",
              "      <td>1.0</td>\n",
              "    </tr>\n",
              "    <tr>\n",
              "      <th>11</th>\n",
              "      <td>Hombre</td>\n",
              "      <td>Universitario</td>\n",
              "      <td>93735.0</td>\n",
              "      <td>94621.0</td>\n",
              "      <td>15.0</td>\n",
              "    </tr>\n",
              "    <tr>\n",
              "      <th>12</th>\n",
              "      <td>Hombre</td>\n",
              "      <td>Universitario</td>\n",
              "      <td>70000.0</td>\n",
              "      <td>63000.0</td>\n",
              "      <td>10.0</td>\n",
              "    </tr>\n",
              "    <tr>\n",
              "      <th>13</th>\n",
              "      <td>Hombre</td>\n",
              "      <td>Secundario</td>\n",
              "      <td>102000.0</td>\n",
              "      <td>92000.0</td>\n",
              "      <td>20.0</td>\n",
              "    </tr>\n",
              "    <tr>\n",
              "      <th>14</th>\n",
              "      <td>Hombre</td>\n",
              "      <td>Universitario</td>\n",
              "      <td>102000.0</td>\n",
              "      <td>80000.0</td>\n",
              "      <td>10.0</td>\n",
              "    </tr>\n",
              "    <tr>\n",
              "      <th>15</th>\n",
              "      <td>Hombre</td>\n",
              "      <td>Terciario</td>\n",
              "      <td>100000.0</td>\n",
              "      <td>75000.0</td>\n",
              "      <td>10.0</td>\n",
              "    </tr>\n",
              "    <tr>\n",
              "      <th>16</th>\n",
              "      <td>Hombre</td>\n",
              "      <td>Terciario</td>\n",
              "      <td>140000.0</td>\n",
              "      <td>100000.0</td>\n",
              "      <td>4.0</td>\n",
              "    </tr>\n",
              "    <tr>\n",
              "      <th>17</th>\n",
              "      <td>Mujer</td>\n",
              "      <td>Universitario</td>\n",
              "      <td>88000.0</td>\n",
              "      <td>70000.0</td>\n",
              "      <td>3.0</td>\n",
              "    </tr>\n",
              "    <tr>\n",
              "      <th>18</th>\n",
              "      <td>Hombre</td>\n",
              "      <td>Universitario</td>\n",
              "      <td>125000.0</td>\n",
              "      <td>93000.0</td>\n",
              "      <td>1.0</td>\n",
              "    </tr>\n",
              "    <tr>\n",
              "      <th>19</th>\n",
              "      <td>Hombre</td>\n",
              "      <td>Terciario</td>\n",
              "      <td>75000.0</td>\n",
              "      <td>68000.0</td>\n",
              "      <td>3.0</td>\n",
              "    </tr>\n",
              "  </tbody>\n",
              "</table>\n",
              "</div>\n",
              "      <button class=\"colab-df-convert\" onclick=\"convertToInteractive('df-e16c590d-52de-4602-b841-ff4c8f7a3646')\"\n",
              "              title=\"Convert this dataframe to an interactive table.\"\n",
              "              style=\"display:none;\">\n",
              "        \n",
              "  <svg xmlns=\"http://www.w3.org/2000/svg\" height=\"24px\"viewBox=\"0 0 24 24\"\n",
              "       width=\"24px\">\n",
              "    <path d=\"M0 0h24v24H0V0z\" fill=\"none\"/>\n",
              "    <path d=\"M18.56 5.44l.94 2.06.94-2.06 2.06-.94-2.06-.94-.94-2.06-.94 2.06-2.06.94zm-11 1L8.5 8.5l.94-2.06 2.06-.94-2.06-.94L8.5 2.5l-.94 2.06-2.06.94zm10 10l.94 2.06.94-2.06 2.06-.94-2.06-.94-.94-2.06-.94 2.06-2.06.94z\"/><path d=\"M17.41 7.96l-1.37-1.37c-.4-.4-.92-.59-1.43-.59-.52 0-1.04.2-1.43.59L10.3 9.45l-7.72 7.72c-.78.78-.78 2.05 0 2.83L4 21.41c.39.39.9.59 1.41.59.51 0 1.02-.2 1.41-.59l7.78-7.78 2.81-2.81c.8-.78.8-2.07 0-2.86zM5.41 20L4 18.59l7.72-7.72 1.47 1.35L5.41 20z\"/>\n",
              "  </svg>\n",
              "      </button>\n",
              "      \n",
              "  <style>\n",
              "    .colab-df-container {\n",
              "      display:flex;\n",
              "      flex-wrap:wrap;\n",
              "      gap: 12px;\n",
              "    }\n",
              "\n",
              "    .colab-df-convert {\n",
              "      background-color: #E8F0FE;\n",
              "      border: none;\n",
              "      border-radius: 50%;\n",
              "      cursor: pointer;\n",
              "      display: none;\n",
              "      fill: #1967D2;\n",
              "      height: 32px;\n",
              "      padding: 0 0 0 0;\n",
              "      width: 32px;\n",
              "    }\n",
              "\n",
              "    .colab-df-convert:hover {\n",
              "      background-color: #E2EBFA;\n",
              "      box-shadow: 0px 1px 2px rgba(60, 64, 67, 0.3), 0px 1px 3px 1px rgba(60, 64, 67, 0.15);\n",
              "      fill: #174EA6;\n",
              "    }\n",
              "\n",
              "    [theme=dark] .colab-df-convert {\n",
              "      background-color: #3B4455;\n",
              "      fill: #D2E3FC;\n",
              "    }\n",
              "\n",
              "    [theme=dark] .colab-df-convert:hover {\n",
              "      background-color: #434B5C;\n",
              "      box-shadow: 0px 1px 3px 1px rgba(0, 0, 0, 0.15);\n",
              "      filter: drop-shadow(0px 1px 2px rgba(0, 0, 0, 0.3));\n",
              "      fill: #FFFFFF;\n",
              "    }\n",
              "  </style>\n",
              "\n",
              "      <script>\n",
              "        const buttonEl =\n",
              "          document.querySelector('#df-e16c590d-52de-4602-b841-ff4c8f7a3646 button.colab-df-convert');\n",
              "        buttonEl.style.display =\n",
              "          google.colab.kernel.accessAllowed ? 'block' : 'none';\n",
              "\n",
              "        async function convertToInteractive(key) {\n",
              "          const element = document.querySelector('#df-e16c590d-52de-4602-b841-ff4c8f7a3646');\n",
              "          const dataTable =\n",
              "            await google.colab.kernel.invokeFunction('convertToInteractive',\n",
              "                                                     [key], {});\n",
              "          if (!dataTable) return;\n",
              "\n",
              "          const docLinkHtml = 'Like what you see? Visit the ' +\n",
              "            '<a target=\"_blank\" href=https://colab.research.google.com/notebooks/data_table.ipynb>data table notebook</a>'\n",
              "            + ' to learn more about interactive tables.';\n",
              "          element.innerHTML = '';\n",
              "          dataTable['output_type'] = 'display_data';\n",
              "          await google.colab.output.renderOutput(dataTable, element);\n",
              "          const docLink = document.createElement('div');\n",
              "          docLink.innerHTML = docLinkHtml;\n",
              "          element.appendChild(docLink);\n",
              "        }\n",
              "      </script>\n",
              "    </div>\n",
              "  </div>\n",
              "  "
            ]
          },
          "metadata": {},
          "execution_count": 13
        }
      ]
    },
    {
      "cell_type": "code",
      "source": [
        "#CHEQUEO RAPIDO DE LAS MEDIDAS ESTADISTICAS DE LAS VARIABLES NUMERICAS:\n",
        "df.describe().round()\n",
        "#En primera medida se observa que la media del salario neto es menor al bruto. Lo cual es logico ya que NETO = BRUTO - APORTES. \n",
        "#Por otro lado, la observacion de outliers como sueldos mensuales mayores a 2 millones de pesos o aun mas ilogico, sueldos de $1.\n",
        "#La cantidad de observaciones NA del salario neto es mayor a la de salario brutos, datos que deberian ser completados con algun criterio."
      ],
      "metadata": {
        "colab": {
          "base_uri": "https://localhost:8080/",
          "height": 300
        },
        "id": "1KKcnLOHWHYi",
        "outputId": "f617d5b8-431b-4e4b-d2c3-b7ee0fe78143"
      },
      "execution_count": null,
      "outputs": [
        {
          "output_type": "execute_result",
          "data": {
            "text/plain": [
              "       salary_monthly_BRUTO  salary_monthly_NETO  profile_years_experience\n",
              "count                6095.0               5883.0                    6095.0\n",
              "mean               124059.0              94908.0                       9.0\n",
              "std                122912.0              96862.0                       7.0\n",
              "min                     1.0                  1.0                       0.0\n",
              "25%                 61595.0              51480.0                       3.0\n",
              "50%                 96000.0              78000.0                       7.0\n",
              "75%                145000.0             106000.0                      13.0\n",
              "max               2180000.0            2080000.0                     115.0"
            ],
            "text/html": [
              "\n",
              "  <div id=\"df-09daed0d-b22e-4e7d-9176-13c9bd9debac\">\n",
              "    <div class=\"colab-df-container\">\n",
              "      <div>\n",
              "<style scoped>\n",
              "    .dataframe tbody tr th:only-of-type {\n",
              "        vertical-align: middle;\n",
              "    }\n",
              "\n",
              "    .dataframe tbody tr th {\n",
              "        vertical-align: top;\n",
              "    }\n",
              "\n",
              "    .dataframe thead th {\n",
              "        text-align: right;\n",
              "    }\n",
              "</style>\n",
              "<table border=\"1\" class=\"dataframe\">\n",
              "  <thead>\n",
              "    <tr style=\"text-align: right;\">\n",
              "      <th></th>\n",
              "      <th>salary_monthly_BRUTO</th>\n",
              "      <th>salary_monthly_NETO</th>\n",
              "      <th>profile_years_experience</th>\n",
              "    </tr>\n",
              "  </thead>\n",
              "  <tbody>\n",
              "    <tr>\n",
              "      <th>count</th>\n",
              "      <td>6095.0</td>\n",
              "      <td>5883.0</td>\n",
              "      <td>6095.0</td>\n",
              "    </tr>\n",
              "    <tr>\n",
              "      <th>mean</th>\n",
              "      <td>124059.0</td>\n",
              "      <td>94908.0</td>\n",
              "      <td>9.0</td>\n",
              "    </tr>\n",
              "    <tr>\n",
              "      <th>std</th>\n",
              "      <td>122912.0</td>\n",
              "      <td>96862.0</td>\n",
              "      <td>7.0</td>\n",
              "    </tr>\n",
              "    <tr>\n",
              "      <th>min</th>\n",
              "      <td>1.0</td>\n",
              "      <td>1.0</td>\n",
              "      <td>0.0</td>\n",
              "    </tr>\n",
              "    <tr>\n",
              "      <th>25%</th>\n",
              "      <td>61595.0</td>\n",
              "      <td>51480.0</td>\n",
              "      <td>3.0</td>\n",
              "    </tr>\n",
              "    <tr>\n",
              "      <th>50%</th>\n",
              "      <td>96000.0</td>\n",
              "      <td>78000.0</td>\n",
              "      <td>7.0</td>\n",
              "    </tr>\n",
              "    <tr>\n",
              "      <th>75%</th>\n",
              "      <td>145000.0</td>\n",
              "      <td>106000.0</td>\n",
              "      <td>13.0</td>\n",
              "    </tr>\n",
              "    <tr>\n",
              "      <th>max</th>\n",
              "      <td>2180000.0</td>\n",
              "      <td>2080000.0</td>\n",
              "      <td>115.0</td>\n",
              "    </tr>\n",
              "  </tbody>\n",
              "</table>\n",
              "</div>\n",
              "      <button class=\"colab-df-convert\" onclick=\"convertToInteractive('df-09daed0d-b22e-4e7d-9176-13c9bd9debac')\"\n",
              "              title=\"Convert this dataframe to an interactive table.\"\n",
              "              style=\"display:none;\">\n",
              "        \n",
              "  <svg xmlns=\"http://www.w3.org/2000/svg\" height=\"24px\"viewBox=\"0 0 24 24\"\n",
              "       width=\"24px\">\n",
              "    <path d=\"M0 0h24v24H0V0z\" fill=\"none\"/>\n",
              "    <path d=\"M18.56 5.44l.94 2.06.94-2.06 2.06-.94-2.06-.94-.94-2.06-.94 2.06-2.06.94zm-11 1L8.5 8.5l.94-2.06 2.06-.94-2.06-.94L8.5 2.5l-.94 2.06-2.06.94zm10 10l.94 2.06.94-2.06 2.06-.94-2.06-.94-.94-2.06-.94 2.06-2.06.94z\"/><path d=\"M17.41 7.96l-1.37-1.37c-.4-.4-.92-.59-1.43-.59-.52 0-1.04.2-1.43.59L10.3 9.45l-7.72 7.72c-.78.78-.78 2.05 0 2.83L4 21.41c.39.39.9.59 1.41.59.51 0 1.02-.2 1.41-.59l7.78-7.78 2.81-2.81c.8-.78.8-2.07 0-2.86zM5.41 20L4 18.59l7.72-7.72 1.47 1.35L5.41 20z\"/>\n",
              "  </svg>\n",
              "      </button>\n",
              "      \n",
              "  <style>\n",
              "    .colab-df-container {\n",
              "      display:flex;\n",
              "      flex-wrap:wrap;\n",
              "      gap: 12px;\n",
              "    }\n",
              "\n",
              "    .colab-df-convert {\n",
              "      background-color: #E8F0FE;\n",
              "      border: none;\n",
              "      border-radius: 50%;\n",
              "      cursor: pointer;\n",
              "      display: none;\n",
              "      fill: #1967D2;\n",
              "      height: 32px;\n",
              "      padding: 0 0 0 0;\n",
              "      width: 32px;\n",
              "    }\n",
              "\n",
              "    .colab-df-convert:hover {\n",
              "      background-color: #E2EBFA;\n",
              "      box-shadow: 0px 1px 2px rgba(60, 64, 67, 0.3), 0px 1px 3px 1px rgba(60, 64, 67, 0.15);\n",
              "      fill: #174EA6;\n",
              "    }\n",
              "\n",
              "    [theme=dark] .colab-df-convert {\n",
              "      background-color: #3B4455;\n",
              "      fill: #D2E3FC;\n",
              "    }\n",
              "\n",
              "    [theme=dark] .colab-df-convert:hover {\n",
              "      background-color: #434B5C;\n",
              "      box-shadow: 0px 1px 3px 1px rgba(0, 0, 0, 0.15);\n",
              "      filter: drop-shadow(0px 1px 2px rgba(0, 0, 0, 0.3));\n",
              "      fill: #FFFFFF;\n",
              "    }\n",
              "  </style>\n",
              "\n",
              "      <script>\n",
              "        const buttonEl =\n",
              "          document.querySelector('#df-09daed0d-b22e-4e7d-9176-13c9bd9debac button.colab-df-convert');\n",
              "        buttonEl.style.display =\n",
              "          google.colab.kernel.accessAllowed ? 'block' : 'none';\n",
              "\n",
              "        async function convertToInteractive(key) {\n",
              "          const element = document.querySelector('#df-09daed0d-b22e-4e7d-9176-13c9bd9debac');\n",
              "          const dataTable =\n",
              "            await google.colab.kernel.invokeFunction('convertToInteractive',\n",
              "                                                     [key], {});\n",
              "          if (!dataTable) return;\n",
              "\n",
              "          const docLinkHtml = 'Like what you see? Visit the ' +\n",
              "            '<a target=\"_blank\" href=https://colab.research.google.com/notebooks/data_table.ipynb>data table notebook</a>'\n",
              "            + ' to learn more about interactive tables.';\n",
              "          element.innerHTML = '';\n",
              "          dataTable['output_type'] = 'display_data';\n",
              "          await google.colab.output.renderOutput(dataTable, element);\n",
              "          const docLink = document.createElement('div');\n",
              "          docLink.innerHTML = docLinkHtml;\n",
              "          element.appendChild(docLink);\n",
              "        }\n",
              "      </script>\n",
              "    </div>\n",
              "  </div>\n",
              "  "
            ]
          },
          "metadata": {},
          "execution_count": 14
        }
      ]
    },
    {
      "cell_type": "code",
      "source": [
        "obs = df.shape[0]\n",
        "print(obs)\n",
        "#Se observa que la cantidad de observaciones del DF es igual al count de salario bruto y de profile years experience, \n",
        "#por lo tanto, no hay valores nulos en dichas variables. \n",
        "\n"
      ],
      "metadata": {
        "id": "CF0H1EHKX2kv",
        "colab": {
          "base_uri": "https://localhost:8080/"
        },
        "outputId": "5918fb7d-93d3-4c50-e085-bc7d8bb84cd0"
      },
      "execution_count": null,
      "outputs": [
        {
          "output_type": "stream",
          "name": "stdout",
          "text": [
            "6095\n"
          ]
        }
      ]
    },
    {
      "cell_type": "code",
      "source": [
        "seaborn.boxplot(data = df, x='salary_monthly_BRUTO', y = 'profile_gender')\n",
        "plt.show()"
      ],
      "metadata": {
        "colab": {
          "base_uri": "https://localhost:8080/",
          "height": 285
        },
        "id": "-3O8F7KZZkTq",
        "outputId": "09405808-502e-4dc9-b7b6-4a0720ebd98f"
      },
      "execution_count": null,
      "outputs": [
        {
          "output_type": "display_data",
          "data": {
            "text/plain": [
              "<Figure size 432x288 with 1 Axes>"
            ],
            "image/png": "[encoded data removed]"
          },
          "metadata": {
            "needs_background": "light"
          }
        }
      ]
    },
    {
      "cell_type": "markdown",
      "source": [
        "En el grafico se observan una gran cantidad de outliers en la variable salario bruto mensual. Los mismos seran eliminados para un mejor analisis. "
      ],
      "metadata": {
        "id": "agF7OHITarc1"
      }
    },
    {
      "cell_type": "code",
      "source": [
        "def clean_outliers_sd(dataset, column_name):\n",
        "    \"\"\"Returns dataset removing the outlier rows from column @column_name.\"\"\"\n",
        "    interesting_col = dataset[column_name]\n",
        "    # Here we can remove the outliers from both ends, or even add more restrictions.\n",
        "    mask_outlier = (\n",
        "        np.abs(interesting_col - interesting_col.mean()) <=\n",
        "        (2.5 * interesting_col.std()))\n",
        "    return dataset[mask_outlier]"
      ],
      "metadata": {
        "id": "qeUrmicwa3Cn"
      },
      "execution_count": null,
      "outputs": []
    },
    {
      "cell_type": "code",
      "source": [
        "df1 = clean_outliers_sd(df, 'salary_monthly_BRUTO')\n",
        "df2 = clean_outliers_sd(df1, 'salary_monthly_NETO')\n",
        "dfClean = clean_outliers_sd(df2, 'profile_years_experience')\n",
        "dfClean.head()"
      ],
      "metadata": {
        "colab": {
          "base_uri": "https://localhost:8080/",
          "height": 206
        },
        "id": "mvJpoTftgBnN",
        "outputId": "d7346991-9e42-4da6-d043-1e22f4c72bda"
      },
      "execution_count": null,
      "outputs": [
        {
          "output_type": "execute_result",
          "data": {
            "text/plain": [
              "  profile_gender profile_studies_level  salary_monthly_BRUTO  \\\n",
              "0          Mujer         Universitario               53000.0   \n",
              "1         Hombre         Universitario               79000.0   \n",
              "2          Mujer            Secundario              160000.0   \n",
              "3         Hombre              Posgrado              130000.0   \n",
              "4         Hombre         Universitario              140000.0   \n",
              "\n",
              "   salary_monthly_NETO  profile_years_experience  \n",
              "0              43000.0                       3.0  \n",
              "1              63000.0                       5.0  \n",
              "2             127000.0                       2.0  \n",
              "3             102000.0                      15.0  \n",
              "4             106000.0                       9.0  "
            ],
            "text/html": [
              "\n",
              "  <div id=\"df-48810a3e-06ee-4792-a026-bdf8516a7668\">\n",
              "    <div class=\"colab-df-container\">\n",
              "      <div>\n",
              "<style scoped>\n",
              "    .dataframe tbody tr th:only-of-type {\n",
              "        vertical-align: middle;\n",
              "    }\n",
              "\n",
              "    .dataframe tbody tr th {\n",
              "        vertical-align: top;\n",
              "    }\n",
              "\n",
              "    .dataframe thead th {\n",
              "        text-align: right;\n",
              "    }\n",
              "</style>\n",
              "<table border=\"1\" class=\"dataframe\">\n",
              "  <thead>\n",
              "    <tr style=\"text-align: right;\">\n",
              "      <th></th>\n",
              "      <th>profile_gender</th>\n",
              "      <th>profile_studies_level</th>\n",
              "      <th>salary_monthly_BRUTO</th>\n",
              "      <th>salary_monthly_NETO</th>\n",
              "      <th>profile_years_experience</th>\n",
              "    </tr>\n",
              "  </thead>\n",
              "  <tbody>\n",
              "    <tr>\n",
              "      <th>0</th>\n",
              "      <td>Mujer</td>\n",
              "      <td>Universitario</td>\n",
              "      <td>53000.0</td>\n",
              "      <td>43000.0</td>\n",
              "      <td>3.0</td>\n",
              "    </tr>\n",
              "    <tr>\n",
              "      <th>1</th>\n",
              "      <td>Hombre</td>\n",
              "      <td>Universitario</td>\n",
              "      <td>79000.0</td>\n",
              "      <td>63000.0</td>\n",
              "      <td>5.0</td>\n",
              "    </tr>\n",
              "    <tr>\n",
              "      <th>2</th>\n",
              "      <td>Mujer</td>\n",
              "      <td>Secundario</td>\n",
              "      <td>160000.0</td>\n",
              "      <td>127000.0</td>\n",
              "      <td>2.0</td>\n",
              "    </tr>\n",
              "    <tr>\n",
              "      <th>3</th>\n",
              "      <td>Hombre</td>\n",
              "      <td>Posgrado</td>\n",
              "      <td>130000.0</td>\n",
              "      <td>102000.0</td>\n",
              "      <td>15.0</td>\n",
              "    </tr>\n",
              "    <tr>\n",
              "      <th>4</th>\n",
              "      <td>Hombre</td>\n",
              "      <td>Universitario</td>\n",
              "      <td>140000.0</td>\n",
              "      <td>106000.0</td>\n",
              "      <td>9.0</td>\n",
              "    </tr>\n",
              "  </tbody>\n",
              "</table>\n",
              "</div>\n",
              "      <button class=\"colab-df-convert\" onclick=\"convertToInteractive('df-48810a3e-06ee-4792-a026-bdf8516a7668')\"\n",
              "              title=\"Convert this dataframe to an interactive table.\"\n",
              "              style=\"display:none;\">\n",
              "        \n",
              "  <svg xmlns=\"http://www.w3.org/2000/svg\" height=\"24px\"viewBox=\"0 0 24 24\"\n",
              "       width=\"24px\">\n",
              "    <path d=\"M0 0h24v24H0V0z\" fill=\"none\"/>\n",
              "    <path d=\"M18.56 5.44l.94 2.06.94-2.06 2.06-.94-2.06-.94-.94-2.06-.94 2.06-2.06.94zm-11 1L8.5 8.5l.94-2.06 2.06-.94-2.06-.94L8.5 2.5l-.94 2.06-2.06.94zm10 10l.94 2.06.94-2.06 2.06-.94-2.06-.94-.94-2.06-.94 2.06-2.06.94z\"/><path d=\"M17.41 7.96l-1.37-1.37c-.4-.4-.92-.59-1.43-.59-.52 0-1.04.2-1.43.59L10.3 9.45l-7.72 7.72c-.78.78-.78 2.05 0 2.83L4 21.41c.39.39.9.59 1.41.59.51 0 1.02-.2 1.41-.59l7.78-7.78 2.81-2.81c.8-.78.8-2.07 0-2.86zM5.41 20L4 18.59l7.72-7.72 1.47 1.35L5.41 20z\"/>\n",
              "  </svg>\n",
              "      </button>\n",
              "      \n",
              "  <style>\n",
              "    .colab-df-container {\n",
              "      display:flex;\n",
              "      flex-wrap:wrap;\n",
              "      gap: 12px;\n",
              "    }\n",
              "\n",
              "    .colab-df-convert {\n",
              "      background-color: #E8F0FE;\n",
              "      border: none;\n",
              "      border-radius: 50%;\n",
              "      cursor: pointer;\n",
              "      display: none;\n",
              "      fill: #1967D2;\n",
              "      height: 32px;\n",
              "      padding: 0 0 0 0;\n",
              "      width: 32px;\n",
              "    }\n",
              "\n",
              "    .colab-df-convert:hover {\n",
              "      background-color: #E2EBFA;\n",
              "      box-shadow: 0px 1px 2px rgba(60, 64, 67, 0.3), 0px 1px 3px 1px rgba(60, 64, 67, 0.15);\n",
              "      fill: #174EA6;\n",
              "    }\n",
              "\n",
              "    [theme=dark] .colab-df-convert {\n",
              "      background-color: #3B4455;\n",
              "      fill: #D2E3FC;\n",
              "    }\n",
              "\n",
              "    [theme=dark] .colab-df-convert:hover {\n",
              "      background-color: #434B5C;\n",
              "      box-shadow: 0px 1px 3px 1px rgba(0, 0, 0, 0.15);\n",
              "      filter: drop-shadow(0px 1px 2px rgba(0, 0, 0, 0.3));\n",
              "      fill: #FFFFFF;\n",
              "    }\n",
              "  </style>\n",
              "\n",
              "      <script>\n",
              "        const buttonEl =\n",
              "          document.querySelector('#df-48810a3e-06ee-4792-a026-bdf8516a7668 button.colab-df-convert');\n",
              "        buttonEl.style.display =\n",
              "          google.colab.kernel.accessAllowed ? 'block' : 'none';\n",
              "\n",
              "        async function convertToInteractive(key) {\n",
              "          const element = document.querySelector('#df-48810a3e-06ee-4792-a026-bdf8516a7668');\n",
              "          const dataTable =\n",
              "            await google.colab.kernel.invokeFunction('convertToInteractive',\n",
              "                                                     [key], {});\n",
              "          if (!dataTable) return;\n",
              "\n",
              "          const docLinkHtml = 'Like what you see? Visit the ' +\n",
              "            '<a target=\"_blank\" href=https://colab.research.google.com/notebooks/data_table.ipynb>data table notebook</a>'\n",
              "            + ' to learn more about interactive tables.';\n",
              "          element.innerHTML = '';\n",
              "          dataTable['output_type'] = 'display_data';\n",
              "          await google.colab.output.renderOutput(dataTable, element);\n",
              "          const docLink = document.createElement('div');\n",
              "          docLink.innerHTML = docLinkHtml;\n",
              "          element.appendChild(docLink);\n",
              "        }\n",
              "      </script>\n",
              "    </div>\n",
              "  </div>\n",
              "  "
            ]
          },
          "metadata": {},
          "execution_count": 18
        }
      ]
    },
    {
      "cell_type": "code",
      "source": [
        "dfClean.describe().round()"
      ],
      "metadata": {
        "colab": {
          "base_uri": "https://localhost:8080/",
          "height": 300
        },
        "id": "vBc-lg63gZLz",
        "outputId": "06e7a6ba-3cd0-4b85-9c6e-12cc1651775b"
      },
      "execution_count": null,
      "outputs": [
        {
          "output_type": "execute_result",
          "data": {
            "text/plain": [
              "       salary_monthly_BRUTO  salary_monthly_NETO  profile_years_experience\n",
              "count                5496.0               5496.0                    5496.0\n",
              "mean               103315.0              79254.0                       8.0\n",
              "std                 61128.0              41537.0                       6.0\n",
              "min                     1.0                  1.0                       0.0\n",
              "25%                 60000.0              50000.0                       3.0\n",
              "50%                 92000.0              75000.0                       7.0\n",
              "75%                135000.0             100000.0                      12.0\n",
              "max                411000.0             237500.0                      26.0"
            ],
            "text/html": [
              "\n",
              "  <div id=\"df-68ccbb43-8dfa-4e39-a9ec-1ce14177aca2\">\n",
              "    <div class=\"colab-df-container\">\n",
              "      <div>\n",
              "<style scoped>\n",
              "    .dataframe tbody tr th:only-of-type {\n",
              "        vertical-align: middle;\n",
              "    }\n",
              "\n",
              "    .dataframe tbody tr th {\n",
              "        vertical-align: top;\n",
              "    }\n",
              "\n",
              "    .dataframe thead th {\n",
              "        text-align: right;\n",
              "    }\n",
              "</style>\n",
              "<table border=\"1\" class=\"dataframe\">\n",
              "  <thead>\n",
              "    <tr style=\"text-align: right;\">\n",
              "      <th></th>\n",
              "      <th>salary_monthly_BRUTO</th>\n",
              "      <th>salary_monthly_NETO</th>\n",
              "      <th>profile_years_experience</th>\n",
              "    </tr>\n",
              "  </thead>\n",
              "  <tbody>\n",
              "    <tr>\n",
              "      <th>count</th>\n",
              "      <td>5496.0</td>\n",
              "      <td>5496.0</td>\n",
              "      <td>5496.0</td>\n",
              "    </tr>\n",
              "    <tr>\n",
              "      <th>mean</th>\n",
              "      <td>103315.0</td>\n",
              "      <td>79254.0</td>\n",
              "      <td>8.0</td>\n",
              "    </tr>\n",
              "    <tr>\n",
              "      <th>std</th>\n",
              "      <td>61128.0</td>\n",
              "      <td>41537.0</td>\n",
              "      <td>6.0</td>\n",
              "    </tr>\n",
              "    <tr>\n",
              "      <th>min</th>\n",
              "      <td>1.0</td>\n",
              "      <td>1.0</td>\n",
              "      <td>0.0</td>\n",
              "    </tr>\n",
              "    <tr>\n",
              "      <th>25%</th>\n",
              "      <td>60000.0</td>\n",
              "      <td>50000.0</td>\n",
              "      <td>3.0</td>\n",
              "    </tr>\n",
              "    <tr>\n",
              "      <th>50%</th>\n",
              "      <td>92000.0</td>\n",
              "      <td>75000.0</td>\n",
              "      <td>7.0</td>\n",
              "    </tr>\n",
              "    <tr>\n",
              "      <th>75%</th>\n",
              "      <td>135000.0</td>\n",
              "      <td>100000.0</td>\n",
              "      <td>12.0</td>\n",
              "    </tr>\n",
              "    <tr>\n",
              "      <th>max</th>\n",
              "      <td>411000.0</td>\n",
              "      <td>237500.0</td>\n",
              "      <td>26.0</td>\n",
              "    </tr>\n",
              "  </tbody>\n",
              "</table>\n",
              "</div>\n",
              "      <button class=\"colab-df-convert\" onclick=\"convertToInteractive('df-68ccbb43-8dfa-4e39-a9ec-1ce14177aca2')\"\n",
              "              title=\"Convert this dataframe to an interactive table.\"\n",
              "              style=\"display:none;\">\n",
              "        \n",
              "  <svg xmlns=\"http://www.w3.org/2000/svg\" height=\"24px\"viewBox=\"0 0 24 24\"\n",
              "       width=\"24px\">\n",
              "    <path d=\"M0 0h24v24H0V0z\" fill=\"none\"/>\n",
              "    <path d=\"M18.56 5.44l.94 2.06.94-2.06 2.06-.94-2.06-.94-.94-2.06-.94 2.06-2.06.94zm-11 1L8.5 8.5l.94-2.06 2.06-.94-2.06-.94L8.5 2.5l-.94 2.06-2.06.94zm10 10l.94 2.06.94-2.06 2.06-.94-2.06-.94-.94-2.06-.94 2.06-2.06.94z\"/><path d=\"M17.41 7.96l-1.37-1.37c-.4-.4-.92-.59-1.43-.59-.52 0-1.04.2-1.43.59L10.3 9.45l-7.72 7.72c-.78.78-.78 2.05 0 2.83L4 21.41c.39.39.9.59 1.41.59.51 0 1.02-.2 1.41-.59l7.78-7.78 2.81-2.81c.8-.78.8-2.07 0-2.86zM5.41 20L4 18.59l7.72-7.72 1.47 1.35L5.41 20z\"/>\n",
              "  </svg>\n",
              "      </button>\n",
              "      \n",
              "  <style>\n",
              "    .colab-df-container {\n",
              "      display:flex;\n",
              "      flex-wrap:wrap;\n",
              "      gap: 12px;\n",
              "    }\n",
              "\n",
              "    .colab-df-convert {\n",
              "      background-color: #E8F0FE;\n",
              "      border: none;\n",
              "      border-radius: 50%;\n",
              "      cursor: pointer;\n",
              "      display: none;\n",
              "      fill: #1967D2;\n",
              "      height: 32px;\n",
              "      padding: 0 0 0 0;\n",
              "      width: 32px;\n",
              "    }\n",
              "\n",
              "    .colab-df-convert:hover {\n",
              "      background-color: #E2EBFA;\n",
              "      box-shadow: 0px 1px 2px rgba(60, 64, 67, 0.3), 0px 1px 3px 1px rgba(60, 64, 67, 0.15);\n",
              "      fill: #174EA6;\n",
              "    }\n",
              "\n",
              "    [theme=dark] .colab-df-convert {\n",
              "      background-color: #3B4455;\n",
              "      fill: #D2E3FC;\n",
              "    }\n",
              "\n",
              "    [theme=dark] .colab-df-convert:hover {\n",
              "      background-color: #434B5C;\n",
              "      box-shadow: 0px 1px 3px 1px rgba(0, 0, 0, 0.15);\n",
              "      filter: drop-shadow(0px 1px 2px rgba(0, 0, 0, 0.3));\n",
              "      fill: #FFFFFF;\n",
              "    }\n",
              "  </style>\n",
              "\n",
              "      <script>\n",
              "        const buttonEl =\n",
              "          document.querySelector('#df-68ccbb43-8dfa-4e39-a9ec-1ce14177aca2 button.colab-df-convert');\n",
              "        buttonEl.style.display =\n",
              "          google.colab.kernel.accessAllowed ? 'block' : 'none';\n",
              "\n",
              "        async function convertToInteractive(key) {\n",
              "          const element = document.querySelector('#df-68ccbb43-8dfa-4e39-a9ec-1ce14177aca2');\n",
              "          const dataTable =\n",
              "            await google.colab.kernel.invokeFunction('convertToInteractive',\n",
              "                                                     [key], {});\n",
              "          if (!dataTable) return;\n",
              "\n",
              "          const docLinkHtml = 'Like what you see? Visit the ' +\n",
              "            '<a target=\"_blank\" href=https://colab.research.google.com/notebooks/data_table.ipynb>data table notebook</a>'\n",
              "            + ' to learn more about interactive tables.';\n",
              "          element.innerHTML = '';\n",
              "          dataTable['output_type'] = 'display_data';\n",
              "          await google.colab.output.renderOutput(dataTable, element);\n",
              "          const docLink = document.createElement('div');\n",
              "          docLink.innerHTML = docLinkHtml;\n",
              "          element.appendChild(docLink);\n",
              "        }\n",
              "      </script>\n",
              "    </div>\n",
              "  </div>\n",
              "  "
            ]
          },
          "metadata": {},
          "execution_count": 19
        }
      ]
    },
    {
      "cell_type": "code",
      "source": [
        "#Con la funcion para eliminar outliers, se filtraron aquellas observaciones que superan 2,5 veces la desviacion estandar. Sin embargo, \n",
        "#continuan valores de salario iguales a 1. Se analizaran aquellos sueldos, tanto brutos y netos por encima de $40.000.\n",
        "\n",
        "dfClean = dfClean[(dfClean.salary_monthly_BRUTO > 40000) & (dfClean.salary_monthly_NETO > 40000)]\n",
        "dfClean.describe().round()"
      ],
      "metadata": {
        "colab": {
          "base_uri": "https://localhost:8080/",
          "height": 300
        },
        "id": "hk9nfZ57hAgB",
        "outputId": "3c76103a-b3ea-4e8b-c36c-103994008dd1"
      },
      "execution_count": null,
      "outputs": [
        {
          "output_type": "execute_result",
          "data": {
            "text/plain": [
              "       salary_monthly_BRUTO  salary_monthly_NETO  profile_years_experience\n",
              "count                4547.0               4547.0                    4547.0\n",
              "mean               117137.0              89873.0                       9.0\n",
              "std                 56344.0              36714.0                       6.0\n",
              "min                 41000.0              40030.0                       0.0\n",
              "25%                 75000.0              62000.0                       4.0\n",
              "50%                102000.0              83000.0                       8.0\n",
              "75%                145000.0             107012.0                      13.0\n",
              "max                411000.0             237000.0                      26.0"
            ],
            "text/html": [
              "\n",
              "  <div id=\"df-bce90677-25be-4c1d-9644-fd513569e944\">\n",
              "    <div class=\"colab-df-container\">\n",
              "      <div>\n",
              "<style scoped>\n",
              "    .dataframe tbody tr th:only-of-type {\n",
              "        vertical-align: middle;\n",
              "    }\n",
              "\n",
              "    .dataframe tbody tr th {\n",
              "        vertical-align: top;\n",
              "    }\n",
              "\n",
              "    .dataframe thead th {\n",
              "        text-align: right;\n",
              "    }\n",
              "</style>\n",
              "<table border=\"1\" class=\"dataframe\">\n",
              "  <thead>\n",
              "    <tr style=\"text-align: right;\">\n",
              "      <th></th>\n",
              "      <th>salary_monthly_BRUTO</th>\n",
              "      <th>salary_monthly_NETO</th>\n",
              "      <th>profile_years_experience</th>\n",
              "    </tr>\n",
              "  </thead>\n",
              "  <tbody>\n",
              "    <tr>\n",
              "      <th>count</th>\n",
              "      <td>4547.0</td>\n",
              "      <td>4547.0</td>\n",
              "      <td>4547.0</td>\n",
              "    </tr>\n",
              "    <tr>\n",
              "      <th>mean</th>\n",
              "      <td>117137.0</td>\n",
              "      <td>89873.0</td>\n",
              "      <td>9.0</td>\n",
              "    </tr>\n",
              "    <tr>\n",
              "      <th>std</th>\n",
              "      <td>56344.0</td>\n",
              "      <td>36714.0</td>\n",
              "      <td>6.0</td>\n",
              "    </tr>\n",
              "    <tr>\n",
              "      <th>min</th>\n",
              "      <td>41000.0</td>\n",
              "      <td>40030.0</td>\n",
              "      <td>0.0</td>\n",
              "    </tr>\n",
              "    <tr>\n",
              "      <th>25%</th>\n",
              "      <td>75000.0</td>\n",
              "      <td>62000.0</td>\n",
              "      <td>4.0</td>\n",
              "    </tr>\n",
              "    <tr>\n",
              "      <th>50%</th>\n",
              "      <td>102000.0</td>\n",
              "      <td>83000.0</td>\n",
              "      <td>8.0</td>\n",
              "    </tr>\n",
              "    <tr>\n",
              "      <th>75%</th>\n",
              "      <td>145000.0</td>\n",
              "      <td>107012.0</td>\n",
              "      <td>13.0</td>\n",
              "    </tr>\n",
              "    <tr>\n",
              "      <th>max</th>\n",
              "      <td>411000.0</td>\n",
              "      <td>237000.0</td>\n",
              "      <td>26.0</td>\n",
              "    </tr>\n",
              "  </tbody>\n",
              "</table>\n",
              "</div>\n",
              "      <button class=\"colab-df-convert\" onclick=\"convertToInteractive('df-bce90677-25be-4c1d-9644-fd513569e944')\"\n",
              "              title=\"Convert this dataframe to an interactive table.\"\n",
              "              style=\"display:none;\">\n",
              "        \n",
              "  <svg xmlns=\"http://www.w3.org/2000/svg\" height=\"24px\"viewBox=\"0 0 24 24\"\n",
              "       width=\"24px\">\n",
              "    <path d=\"M0 0h24v24H0V0z\" fill=\"none\"/>\n",
              "    <path d=\"M18.56 5.44l.94 2.06.94-2.06 2.06-.94-2.06-.94-.94-2.06-.94 2.06-2.06.94zm-11 1L8.5 8.5l.94-2.06 2.06-.94-2.06-.94L8.5 2.5l-.94 2.06-2.06.94zm10 10l.94 2.06.94-2.06 2.06-.94-2.06-.94-.94-2.06-.94 2.06-2.06.94z\"/><path d=\"M17.41 7.96l-1.37-1.37c-.4-.4-.92-.59-1.43-.59-.52 0-1.04.2-1.43.59L10.3 9.45l-7.72 7.72c-.78.78-.78 2.05 0 2.83L4 21.41c.39.39.9.59 1.41.59.51 0 1.02-.2 1.41-.59l7.78-7.78 2.81-2.81c.8-.78.8-2.07 0-2.86zM5.41 20L4 18.59l7.72-7.72 1.47 1.35L5.41 20z\"/>\n",
              "  </svg>\n",
              "      </button>\n",
              "      \n",
              "  <style>\n",
              "    .colab-df-container {\n",
              "      display:flex;\n",
              "      flex-wrap:wrap;\n",
              "      gap: 12px;\n",
              "    }\n",
              "\n",
              "    .colab-df-convert {\n",
              "      background-color: #E8F0FE;\n",
              "      border: none;\n",
              "      border-radius: 50%;\n",
              "      cursor: pointer;\n",
              "      display: none;\n",
              "      fill: #1967D2;\n",
              "      height: 32px;\n",
              "      padding: 0 0 0 0;\n",
              "      width: 32px;\n",
              "    }\n",
              "\n",
              "    .colab-df-convert:hover {\n",
              "      background-color: #E2EBFA;\n",
              "      box-shadow: 0px 1px 2px rgba(60, 64, 67, 0.3), 0px 1px 3px 1px rgba(60, 64, 67, 0.15);\n",
              "      fill: #174EA6;\n",
              "    }\n",
              "\n",
              "    [theme=dark] .colab-df-convert {\n",
              "      background-color: #3B4455;\n",
              "      fill: #D2E3FC;\n",
              "    }\n",
              "\n",
              "    [theme=dark] .colab-df-convert:hover {\n",
              "      background-color: #434B5C;\n",
              "      box-shadow: 0px 1px 3px 1px rgba(0, 0, 0, 0.15);\n",
              "      filter: drop-shadow(0px 1px 2px rgba(0, 0, 0, 0.3));\n",
              "      fill: #FFFFFF;\n",
              "    }\n",
              "  </style>\n",
              "\n",
              "      <script>\n",
              "        const buttonEl =\n",
              "          document.querySelector('#df-bce90677-25be-4c1d-9644-fd513569e944 button.colab-df-convert');\n",
              "        buttonEl.style.display =\n",
              "          google.colab.kernel.accessAllowed ? 'block' : 'none';\n",
              "\n",
              "        async function convertToInteractive(key) {\n",
              "          const element = document.querySelector('#df-bce90677-25be-4c1d-9644-fd513569e944');\n",
              "          const dataTable =\n",
              "            await google.colab.kernel.invokeFunction('convertToInteractive',\n",
              "                                                     [key], {});\n",
              "          if (!dataTable) return;\n",
              "\n",
              "          const docLinkHtml = 'Like what you see? Visit the ' +\n",
              "            '<a target=\"_blank\" href=https://colab.research.google.com/notebooks/data_table.ipynb>data table notebook</a>'\n",
              "            + ' to learn more about interactive tables.';\n",
              "          element.innerHTML = '';\n",
              "          dataTable['output_type'] = 'display_data';\n",
              "          await google.colab.output.renderOutput(dataTable, element);\n",
              "          const docLink = document.createElement('div');\n",
              "          docLink.innerHTML = docLinkHtml;\n",
              "          element.appendChild(docLink);\n",
              "        }\n",
              "      </script>\n",
              "    </div>\n",
              "  </div>\n",
              "  "
            ]
          },
          "metadata": {},
          "execution_count": 20
        }
      ]
    },
    {
      "cell_type": "code",
      "source": [
        "seaborn.boxplot(data = dfClean, x='salary_monthly_BRUTO', y = 'profile_gender')\n",
        "plt.title(\"Analisis de sueldo bruto segun genero\")\n",
        "plt.xlabel(\"Salario bruto mensual\")\n",
        "plt.ylabel(\"Genero del colaborador\")\n",
        "plt.show()"
      ],
      "metadata": {
        "colab": {
          "base_uri": "https://localhost:8080/",
          "height": 301
        },
        "id": "ApTFadrIjNs2",
        "outputId": "330037ed-a661-490d-ae40-fffaf83b613b"
      },
      "execution_count": null,
      "outputs": [
        {
          "output_type": "display_data",
          "data": {
            "text/plain": [
              "<Figure size 432x288 with 1 Axes>"
            ],
            "image/png": "[encoded data removed]"
          },
          "metadata": {
            "needs_background": "light"
          }
        }
      ]
    },
    {
      "cell_type": "markdown",
      "source": [
        "En el grafico se puede observar que los hombres cobran valores muy por encima de la media, a diferencia de las mujeres, quienes dificilmente se acercan a valores cercanos a los $400000 "
      ],
      "metadata": {
        "id": "AhZscXOQtf7F"
      }
    },
    {
      "cell_type": "code",
      "source": [
        "plt.subplot(1,2,1)\n",
        "seaborn.kdeplot(data = dfClean[dfClean['profile_gender']== 'Hombre'], x = \"salary_monthly_BRUTO\",\n",
        "            hue = \"profile_gender\", palette = \"magma\")\n",
        "plt.title(\"Distribucion del salario del hombre\")\n",
        "plt.xlabel(\"Salario bruto\")\n",
        "plt.ylabel(\"Densidad\")\n",
        "\n",
        "plt.subplot(1,2,2)\n",
        "seaborn.kdeplot(data = dfClean[dfClean['profile_gender']== 'Mujer'], x = \"salary_monthly_BRUTO\",\n",
        "            hue = \"profile_gender\", color = \"blue\")\n",
        "plt.title(\"Distribucion del salario del hombre\")\n",
        "plt.xlabel(\"Salario bruto\")\n",
        "plt.ylabel(\"Densidad\")\n",
        "plt.show()\n",
        "\n",
        "#VER CON LOS CHICOS, MEJORAR FORMATO"
      ],
      "metadata": {
        "colab": {
          "base_uri": "https://localhost:8080/",
          "height": 301
        },
        "id": "REMiBTcAt1LO",
        "outputId": "83efb9cb-98ea-4519-d907-3dc7d9f7e46c"
      },
      "execution_count": null,
      "outputs": [
        {
          "output_type": "display_data",
          "data": {
            "text/plain": [
              "<Figure size 432x288 with 2 Axes>"
            ],
            "image/png": "[encoded data removed]"
          },
          "metadata": {
            "needs_background": "light"
          }
        }
      ]
    },
    {
      "cell_type": "markdown",
      "source": [
        "En el grafico se puede observar que la variable \"salario bruto\" cuenta con una distribucion normal. Tanto para las mujeres coomo para los hombres, en el caso de los hombres, alcanzando valores mayores. "
      ],
      "metadata": {
        "id": "__QmcjAvAQ4q"
      }
    },
    {
      "cell_type": "code",
      "source": [
        "seaborn.set_context(\"notebook\", font_scale=1.25) #CONSULTAR COMO AGRANDAR LOS GRAFICOS. \n",
        "\n",
        "seaborn.barplot(data = dfClean, x = \"profile_studies_level\", y = \"salary_monthly_BRUTO\", \n",
        "            hue = \"profile_gender\", palette = \"Spectral\", order = [\"Primario\", 'Secundario', 'Terciario', \n",
        "                  'Universitario', 'Posgrado', \"Doctorado\", 'Posdoctorado'])\n",
        "plt.title(\"Promedio pagado en función a los estudios\")\n",
        "plt.xlabel(\"Estudios alcanzados\")\n",
        "plt.xticks(rotation=50)\n",
        "plt.ylabel(\"Promedio pagado\")\n",
        "plt.show()"
      ],
      "metadata": {
        "colab": {
          "base_uri": "https://localhost:8080/",
          "height": 376
        },
        "id": "se5QXRDrtpGn",
        "outputId": "bf6b5cd5-873b-46ec-9dbd-c7fa810b20e4"
      },
      "execution_count": null,
      "outputs": [
        {
          "output_type": "display_data",
          "data": {
            "text/plain": [
              "<Figure size 432x288 with 1 Axes>"
            ],
            "image/png": "[encoded data removed]"
          },
          "metadata": {
            "needs_background": "light"
          }
        }
      ]
    },
    {
      "cell_type": "markdown",
      "source": [
        "## b) Asociación\n",
        "\n",
        "* Necesitamos decidir si sacar o no la columna de salario bruto. Para hacer la encuesta más simple.\n",
        "¿Existe una correlación entre el salario bruto y el neto? Que abordaje y medidas usaría\n",
        "\n"
      ],
      "metadata": {
        "id": "lkuHE2aZGHMO"
      }
    },
    {
      "cell_type": "code",
      "source": [
        "seaborn.pairplot(data=dfClean, y_vars =['salary_monthly_BRUTO'],\n",
        "                 x_vars =['salary_monthly_NETO'],\n",
        "                 aspect=2, height=4)\n",
        "plt.xticks(rotation=20)\n",
        "plt.xlabel(\"Salario neto\")\n",
        "plt.ylabel(\"Salario bruto\")"
      ],
      "metadata": {
        "colab": {
          "base_uri": "https://localhost:8080/",
          "height": 331
        },
        "id": "2AD-hY42Afuu",
        "outputId": "05136d09-6975-4bd0-dc89-e08d1aa2db03"
      },
      "execution_count": null,
      "outputs": [
        {
          "output_type": "execute_result",
          "data": {
            "text/plain": [
              "Text(-1.1618749999999949, 0.5, 'Salario bruto')"
            ]
          },
          "metadata": {},
          "execution_count": 24
        },
        {
          "output_type": "display_data",
          "data": {
            "text/plain": [
              "<Figure size 576x288 with 1 Axes>"
            ],
            "image/png": "[encoded data removed]"
          },
          "metadata": {
            "needs_background": "light"
          }
        }
      ]
    },
    {
      "cell_type": "markdown",
      "source": [
        "En el grafico anterior, se puede observar claramente una relacion positiva entre el salario bruto y el salario neto. A medidad que uno aumenta el otro tambien. Mas alla de la visualizazion grafico. Comprobaremos la conclusion con el calculo de la covarianza.\n",
        "\n",
        "Si la covarianza es mayor a 0. Se verificara la relacion directa entre las variables."
      ],
      "metadata": {
        "id": "o6GDOPt-M0qq"
      }
    },
    {
      "cell_type": "code",
      "source": [
        "covarianza = np.cov(dfClean['salary_monthly_BRUTO'], dfClean['salary_monthly_NETO'])[0][1]\n",
        "if covarianza >0:\n",
        "  print(\"La covarianza es igual a {}, al ser mayor a 0, existe una relacion directa entre las variables\".format(covarianza))\n",
        "else:\n",
        "  print('La covarianza no es igual a 1 por lo tanto no existe relacion directa entra las variables')"
      ],
      "metadata": {
        "colab": {
          "base_uri": "https://localhost:8080/"
        },
        "id": "gEvRZPclJDqf",
        "outputId": "ccf4647f-6dc3-4d25-e8cf-c25410c1db29"
      },
      "execution_count": null,
      "outputs": [
        {
          "output_type": "stream",
          "name": "stdout",
          "text": [
            "La covarianza es igual a 1967651684.6308875, al ser mayor a 0, existe una relacion directa entre las variables\n"
          ]
        }
      ]
    },
    {
      "cell_type": "code",
      "source": [
        "#OTRA MEDIDA DE RELACION ES EL COEFICIENTE DE CORRELACION, EL CUAL CALCULAREMOS A CONTINUACION PARA PODER INTERPRETARLO. \n",
        "coef_corr= np.corrcoef(dfClean['salary_monthly_BRUTO'], dfClean['salary_monthly_NETO'])[0,1]\n",
        "print('El coeficiente de correlacion de las variables analizadas es igual a:\\n', coef_corr)"
      ],
      "metadata": {
        "colab": {
          "base_uri": "https://localhost:8080/"
        },
        "id": "gCD-KTP0K7yC",
        "outputId": "02353804-343c-4eb8-9118-58a20d05596e"
      },
      "execution_count": null,
      "outputs": [
        {
          "output_type": "stream",
          "name": "stdout",
          "text": [
            "El coeficiente de correlacion de las variables analizadas es igual a:\n",
            " 0.9511742740523401\n"
          ]
        }
      ]
    },
    {
      "cell_type": "markdown",
      "source": [
        "El coeficiente calculado en el codigo de arriba, nos arroja un resultado muy cercano a 1. En el cual podemos interpretar que las variables analizadas tienen una relacion positiva CASI perfecta. Por lo tanto, cuando una variable aumenta, la otra lo hace en una proporcion similar. "
      ],
      "metadata": {
        "id": "HmN5Vho8Mcso"
      }
    },
    {
      "cell_type": "markdown",
      "metadata": {
        "id": "7MZrbRJCm-ae"
      },
      "source": [
        "## c) Densidad condicional \n",
        "\n",
        "Estudie la distribución del salario según el nivel de estudio.\n",
        "\n",
        "Separe la población según el nivel de estudio (elija dos subpoblaciones numerosas) y grafique de manera comparativa ambos histogramas de la variable `'salary_monthly_NETO'`\n",
        "¿Considera que ambas variables son independientes?\n",
        "¿Qué analizaría al respecto?\n",
        "\n",
        "Calcule medidas de centralización y dispersión para cada subpoblación\n",
        "\n",
        "\n",
        "\n",
        "\n"
      ]
    },
    {
      "cell_type": "code",
      "source": [
        "analizedVariables = ['salary_monthly_NETO','profile_studies_level']\n",
        "dfClean2 = dfClean[analizedVariables]\n",
        "print(dfClean2.shape)\n",
        "dfClean2.head(15)"
      ],
      "metadata": {
        "colab": {
          "base_uri": "https://localhost:8080/",
          "height": 537
        },
        "id": "5x6JISVAOfTL",
        "outputId": "1ba84be8-a815-47bd-b721-e85fcebdc56a"
      },
      "execution_count": null,
      "outputs": [
        {
          "output_type": "stream",
          "name": "stdout",
          "text": [
            "(4547, 2)\n"
          ]
        },
        {
          "output_type": "execute_result",
          "data": {
            "text/plain": [
              "    salary_monthly_NETO profile_studies_level\n",
              "0               43000.0         Universitario\n",
              "1               63000.0         Universitario\n",
              "2              127000.0            Secundario\n",
              "3              102000.0              Posgrado\n",
              "4              106000.0         Universitario\n",
              "5               44000.0             Terciario\n",
              "6               62400.0         Universitario\n",
              "8               75000.0         Universitario\n",
              "11              94621.0         Universitario\n",
              "12              63000.0         Universitario\n",
              "13              92000.0            Secundario\n",
              "14              80000.0         Universitario\n",
              "15              75000.0             Terciario\n",
              "16             100000.0             Terciario\n",
              "17              70000.0         Universitario"
            ],
            "text/html": [
              "\n",
              "  <div id=\"df-408bb3b2-5dcf-4003-8292-086f4108b81f\">\n",
              "    <div class=\"colab-df-container\">\n",
              "      <div>\n",
              "<style scoped>\n",
              "    .dataframe tbody tr th:only-of-type {\n",
              "        vertical-align: middle;\n",
              "    }\n",
              "\n",
              "    .dataframe tbody tr th {\n",
              "        vertical-align: top;\n",
              "    }\n",
              "\n",
              "    .dataframe thead th {\n",
              "        text-align: right;\n",
              "    }\n",
              "</style>\n",
              "<table border=\"1\" class=\"dataframe\">\n",
              "  <thead>\n",
              "    <tr style=\"text-align: right;\">\n",
              "      <th></th>\n",
              "      <th>salary_monthly_NETO</th>\n",
              "      <th>profile_studies_level</th>\n",
              "    </tr>\n",
              "  </thead>\n",
              "  <tbody>\n",
              "    <tr>\n",
              "      <th>0</th>\n",
              "      <td>43000.0</td>\n",
              "      <td>Universitario</td>\n",
              "    </tr>\n",
              "    <tr>\n",
              "      <th>1</th>\n",
              "      <td>63000.0</td>\n",
              "      <td>Universitario</td>\n",
              "    </tr>\n",
              "    <tr>\n",
              "      <th>2</th>\n",
              "      <td>127000.0</td>\n",
              "      <td>Secundario</td>\n",
              "    </tr>\n",
              "    <tr>\n",
              "      <th>3</th>\n",
              "      <td>102000.0</td>\n",
              "      <td>Posgrado</td>\n",
              "    </tr>\n",
              "    <tr>\n",
              "      <th>4</th>\n",
              "      <td>106000.0</td>\n",
              "      <td>Universitario</td>\n",
              "    </tr>\n",
              "    <tr>\n",
              "      <th>5</th>\n",
              "      <td>44000.0</td>\n",
              "      <td>Terciario</td>\n",
              "    </tr>\n",
              "    <tr>\n",
              "      <th>6</th>\n",
              "      <td>62400.0</td>\n",
              "      <td>Universitario</td>\n",
              "    </tr>\n",
              "    <tr>\n",
              "      <th>8</th>\n",
              "      <td>75000.0</td>\n",
              "      <td>Universitario</td>\n",
              "    </tr>\n",
              "    <tr>\n",
              "      <th>11</th>\n",
              "      <td>94621.0</td>\n",
              "      <td>Universitario</td>\n",
              "    </tr>\n",
              "    <tr>\n",
              "      <th>12</th>\n",
              "      <td>63000.0</td>\n",
              "      <td>Universitario</td>\n",
              "    </tr>\n",
              "    <tr>\n",
              "      <th>13</th>\n",
              "      <td>92000.0</td>\n",
              "      <td>Secundario</td>\n",
              "    </tr>\n",
              "    <tr>\n",
              "      <th>14</th>\n",
              "      <td>80000.0</td>\n",
              "      <td>Universitario</td>\n",
              "    </tr>\n",
              "    <tr>\n",
              "      <th>15</th>\n",
              "      <td>75000.0</td>\n",
              "      <td>Terciario</td>\n",
              "    </tr>\n",
              "    <tr>\n",
              "      <th>16</th>\n",
              "      <td>100000.0</td>\n",
              "      <td>Terciario</td>\n",
              "    </tr>\n",
              "    <tr>\n",
              "      <th>17</th>\n",
              "      <td>70000.0</td>\n",
              "      <td>Universitario</td>\n",
              "    </tr>\n",
              "  </tbody>\n",
              "</table>\n",
              "</div>\n",
              "      <button class=\"colab-df-convert\" onclick=\"convertToInteractive('df-408bb3b2-5dcf-4003-8292-086f4108b81f')\"\n",
              "              title=\"Convert this dataframe to an interactive table.\"\n",
              "              style=\"display:none;\">\n",
              "        \n",
              "  <svg xmlns=\"http://www.w3.org/2000/svg\" height=\"24px\"viewBox=\"0 0 24 24\"\n",
              "       width=\"24px\">\n",
              "    <path d=\"M0 0h24v24H0V0z\" fill=\"none\"/>\n",
              "    <path d=\"M18.56 5.44l.94 2.06.94-2.06 2.06-.94-2.06-.94-.94-2.06-.94 2.06-2.06.94zm-11 1L8.5 8.5l.94-2.06 2.06-.94-2.06-.94L8.5 2.5l-.94 2.06-2.06.94zm10 10l.94 2.06.94-2.06 2.06-.94-2.06-.94-.94-2.06-.94 2.06-2.06.94z\"/><path d=\"M17.41 7.96l-1.37-1.37c-.4-.4-.92-.59-1.43-.59-.52 0-1.04.2-1.43.59L10.3 9.45l-7.72 7.72c-.78.78-.78 2.05 0 2.83L4 21.41c.39.39.9.59 1.41.59.51 0 1.02-.2 1.41-.59l7.78-7.78 2.81-2.81c.8-.78.8-2.07 0-2.86zM5.41 20L4 18.59l7.72-7.72 1.47 1.35L5.41 20z\"/>\n",
              "  </svg>\n",
              "      </button>\n",
              "      \n",
              "  <style>\n",
              "    .colab-df-container {\n",
              "      display:flex;\n",
              "      flex-wrap:wrap;\n",
              "      gap: 12px;\n",
              "    }\n",
              "\n",
              "    .colab-df-convert {\n",
              "      background-color: #E8F0FE;\n",
              "      border: none;\n",
              "      border-radius: 50%;\n",
              "      cursor: pointer;\n",
              "      display: none;\n",
              "      fill: #1967D2;\n",
              "      height: 32px;\n",
              "      padding: 0 0 0 0;\n",
              "      width: 32px;\n",
              "    }\n",
              "\n",
              "    .colab-df-convert:hover {\n",
              "      background-color: #E2EBFA;\n",
              "      box-shadow: 0px 1px 2px rgba(60, 64, 67, 0.3), 0px 1px 3px 1px rgba(60, 64, 67, 0.15);\n",
              "      fill: #174EA6;\n",
              "    }\n",
              "\n",
              "    [theme=dark] .colab-df-convert {\n",
              "      background-color: #3B4455;\n",
              "      fill: #D2E3FC;\n",
              "    }\n",
              "\n",
              "    [theme=dark] .colab-df-convert:hover {\n",
              "      background-color: #434B5C;\n",
              "      box-shadow: 0px 1px 3px 1px rgba(0, 0, 0, 0.15);\n",
              "      filter: drop-shadow(0px 1px 2px rgba(0, 0, 0, 0.3));\n",
              "      fill: #FFFFFF;\n",
              "    }\n",
              "  </style>\n",
              "\n",
              "      <script>\n",
              "        const buttonEl =\n",
              "          document.querySelector('#df-408bb3b2-5dcf-4003-8292-086f4108b81f button.colab-df-convert');\n",
              "        buttonEl.style.display =\n",
              "          google.colab.kernel.accessAllowed ? 'block' : 'none';\n",
              "\n",
              "        async function convertToInteractive(key) {\n",
              "          const element = document.querySelector('#df-408bb3b2-5dcf-4003-8292-086f4108b81f');\n",
              "          const dataTable =\n",
              "            await google.colab.kernel.invokeFunction('convertToInteractive',\n",
              "                                                     [key], {});\n",
              "          if (!dataTable) return;\n",
              "\n",
              "          const docLinkHtml = 'Like what you see? Visit the ' +\n",
              "            '<a target=\"_blank\" href=https://colab.research.google.com/notebooks/data_table.ipynb>data table notebook</a>'\n",
              "            + ' to learn more about interactive tables.';\n",
              "          element.innerHTML = '';\n",
              "          dataTable['output_type'] = 'display_data';\n",
              "          await google.colab.output.renderOutput(dataTable, element);\n",
              "          const docLink = document.createElement('div');\n",
              "          docLink.innerHTML = docLinkHtml;\n",
              "          element.appendChild(docLink);\n",
              "        }\n",
              "      </script>\n",
              "    </div>\n",
              "  </div>\n",
              "  "
            ]
          },
          "metadata": {},
          "execution_count": 27
        }
      ]
    },
    {
      "cell_type": "code",
      "source": [
        "grup = dfClean2.groupby(\"profile_studies_level\").count().round()\n",
        "print(grup)\n",
        "\n",
        "# SEPARAR POBLACION ENTRE POST UNIVERSITARIO Y NO. "
      ],
      "metadata": {
        "colab": {
          "base_uri": "https://localhost:8080/"
        },
        "id": "AYbHqgw-UV-Z",
        "outputId": "a3d3fec1-c24c-4b04-97cf-7029f8d27b63"
      },
      "execution_count": null,
      "outputs": [
        {
          "output_type": "stream",
          "name": "stdout",
          "text": [
            "                       salary_monthly_NETO\n",
            "profile_studies_level                     \n",
            "Doctorado                               21\n",
            "Posdoctorado                             2\n",
            "Posgrado                               258\n",
            "Primario                                 2\n",
            "Secundario                             307\n",
            "Terciario                              845\n",
            "Universitario                         3112\n"
          ]
        }
      ]
    },
    {
      "cell_type": "markdown",
      "source": [
        "El codigo anterior nos brinda informacion acerca de la distribucion de el nivel de estudio. Decidimos separar la poblacion en 2:\n",
        "\n",
        "\n",
        "1.   Pre universitarios: Conformado por gente que no finalizo la universidad. Es decir: Primerio, secundario y terciario.\n",
        "2.   Post universitario: De universitario en adelante. \n",
        "\n"
      ],
      "metadata": {
        "id": "CShbx2Y6Mbzt"
      }
    },
    {
      "cell_type": "code",
      "source": [
        "PreUniversitary = ['Primario', 'Secundario', 'Terciario']"
      ],
      "metadata": {
        "id": "T4n-RMBv10Rs"
      },
      "execution_count": null,
      "outputs": []
    },
    {
      "cell_type": "code",
      "source": [
        "DfPreU = dfClean2[dfClean2['profile_studies_level'].isin(PreUniversitary)]\n",
        "\n",
        "DfPostU = dfClean2[~dfClean2['profile_studies_level'].isin(PreUniversitary)]"
      ],
      "metadata": {
        "id": "Ii-i0Hjk2EnU"
      },
      "execution_count": null,
      "outputs": []
    },
    {
      "cell_type": "code",
      "source": [
        "print(round(DfPreU.describe(), 0))"
      ],
      "metadata": {
        "colab": {
          "base_uri": "https://localhost:8080/"
        },
        "id": "Hnst6li1_mgX",
        "outputId": "5f648368-db1c-4f18-c8fd-7cbc5d89d1d2"
      },
      "execution_count": null,
      "outputs": [
        {
          "output_type": "stream",
          "name": "stdout",
          "text": [
            "       salary_monthly_NETO\n",
            "count               1154.0\n",
            "mean               83285.0\n",
            "std                34920.0\n",
            "min                40030.0\n",
            "25%                58000.0\n",
            "50%                75000.0\n",
            "75%                99000.0\n",
            "max               230000.0\n"
          ]
        }
      ]
    },
    {
      "cell_type": "code",
      "source": [
        "#Histogramas de las 2 subpoblaciones. \n",
        "seaborn.histplot(data = DfPreU.sample(500), x= 'salary_monthly_NETO', stat='count', hue= 'profile_studies_level', multiple = 'dodge', binwidth= 10000,\n",
        "                 kde = True)\n",
        "plt.title(\"Salario neto de la poblacion pre universitaria\")\n",
        "plt.xlabel(\"Salario neto\")\n",
        "plt.ylabel(\"Cuenta\")\n",
        "plt.figure(figsize = (6000,6000))\n",
        "plt.show()"
      ],
      "metadata": {
        "colab": {
          "base_uri": "https://localhost:8080/",
          "height": 326
        },
        "id": "bwrG5D6-39N2",
        "outputId": "e6025b8f-48ae-4049-9bfc-105db85ae8db"
      },
      "execution_count": null,
      "outputs": [
        {
          "output_type": "display_data",
          "data": {
            "text/plain": [
              "<Figure size 432x288 with 1 Axes>"
            ],
            "image/png": "[encoded data removed]"
          },
          "metadata": {
            "needs_background": "light"
          }
        },
        {
          "output_type": "display_data",
          "data": {
            "text/plain": [
              "<Figure size 432000x432000 with 0 Axes>"
            ]
          },
          "metadata": {}
        }
      ]
    },
    {
      "cell_type": "code",
      "source": [
        "print(round(DfPostU.describe(), 0))"
      ],
      "metadata": {
        "colab": {
          "base_uri": "https://localhost:8080/"
        },
        "id": "gBk6fnH0AThw",
        "outputId": "740d37c5-c7f5-4a65-ce7e-199f8eb4e7f2"
      },
      "execution_count": null,
      "outputs": [
        {
          "output_type": "stream",
          "name": "stdout",
          "text": [
            "       salary_monthly_NETO\n",
            "count               3393.0\n",
            "mean               92113.0\n",
            "std                37044.0\n",
            "min                40250.0\n",
            "25%                65000.0\n",
            "50%                85000.0\n",
            "75%               110000.0\n",
            "max               237000.0\n"
          ]
        }
      ]
    },
    {
      "cell_type": "code",
      "source": [
        "#Histogramas de las 2 subpoblaciones. \n",
        "#EN EL SEGUNDO GRAFICO DISTINGUIMOS UNIVERSITARIOS CON POS UNIVERSITARIOS PARA UN MEJOR ANALISIS.\n",
        "plt.subplot(2,1,1)\n",
        "\n",
        "seaborn.histplot(data = DfPostU[DfPostU['profile_studies_level'] == \"Universitario\"], x= 'salary_monthly_NETO', stat='count', hue= 'profile_studies_level', multiple = 'dodge', binwidth= 10000,\n",
        "                 kde = True)\n",
        "plt.title(\"Salario neto de la poblacion post universitaria\")\n",
        "plt.xlabel(\"Salario neto\")\n",
        "plt.ylabel(\"Cuenta\")\n",
        "plt.xticks(rotation=0)\n",
        "\n",
        "plt.subplot(2,1,2)\n",
        "\n",
        "seaborn.histplot(data = DfPostU[DfPostU['profile_studies_level'] != \"Universitario\"], x= 'salary_monthly_NETO', stat='count', hue= 'profile_studies_level', multiple = 'dodge', binwidth= 10000,\n",
        "                 kde = True, palette = 'Spectral')\n",
        "plt.xticks(rotation=20)\n",
        "plt.xlabel(\"Salario neto\")\n",
        "plt.ylabel(\"Cuenta\")\n",
        "\n",
        "plt.show()"
      ],
      "metadata": {
        "colab": {
          "base_uri": "https://localhost:8080/",
          "height": 326
        },
        "id": "sJtZJhfLATvg",
        "outputId": "b63b15a4-6e0a-4f3d-b511-907ac6475c69"
      },
      "execution_count": null,
      "outputs": [
        {
          "output_type": "display_data",
          "data": {
            "text/plain": [
              "<Figure size 432x288 with 2 Axes>"
            ],
            "image/png": "[encoded data removed]"
          },
          "metadata": {
            "needs_background": "light"
          }
        }
      ]
    },
    {
      "cell_type": "markdown",
      "source": [
        "Como se puede observar con los graficos y con la media de ambas subpoblaciones (83285 para los pre universitarios y 92113 para los post universitarios). Tener mayor nivel de estudios implica mejor sueldo en la actividad profesional. "
      ],
      "metadata": {
        "id": "k5qFd2IKGPMY"
      }
    },
    {
      "cell_type": "markdown",
      "metadata": {
        "id": "u8wgYxNiqVpE"
      },
      "source": [
        "## d) Densidad Conjunta condicional\n",
        "\n",
        "Elija dos variables numéricas y una categórica. \n",
        "Estudie la dispersión (scatterplot) de las dos variables discriminando en color por la variable categórica (ayuda: hue en seaborn)\n"
      ]
    },
    {
      "cell_type": "code",
      "source": [
        "dfClean.columns.values"
      ],
      "metadata": {
        "colab": {
          "base_uri": "https://localhost:8080/"
        },
        "id": "uOgeqbjMXOz4",
        "outputId": "b9cc1b2b-d7ce-4549-aa1d-ac70f6b99953"
      },
      "execution_count": null,
      "outputs": [
        {
          "output_type": "execute_result",
          "data": {
            "text/plain": [
              "array(['profile_gender', 'profile_studies_level', 'salary_monthly_BRUTO',\n",
              "       'salary_monthly_NETO', 'profile_years_experience'], dtype=object)"
            ]
          },
          "metadata": {},
          "execution_count": 35
        }
      ]
    },
    {
      "cell_type": "code",
      "source": [
        "variables_analizadas = ['salary_monthly_NETO', 'profile_years_experience','profile_gender']"
      ],
      "metadata": {
        "id": "PDeDW2YLXncL"
      },
      "execution_count": null,
      "outputs": []
    },
    {
      "cell_type": "code",
      "source": [
        "new_df = dfClean[variables_analizadas]"
      ],
      "metadata": {
        "id": "vQSaDGvjYNHY"
      },
      "execution_count": null,
      "outputs": []
    },
    {
      "cell_type": "code",
      "source": [
        "seaborn.scatterplot(data = dfClean.sample(1000), x = \"salary_monthly_NETO\", y = \"profile_years_experience\", \n",
        "                hue = \"profile_gender\", palette = [\"blue\", \"red\", 'yellow'],\n",
        "                style = \"profile_gender\")\n",
        "plt.title(\"Salario por años de experiencia y genero\")\n",
        "plt.xlabel(\"Salario neto\")\n",
        "plt.ylabel(\"Años de experiencia\")\n",
        "plt.figure(figsize = (6000,6000))\n",
        "plt.show()"
      ],
      "metadata": {
        "colab": {
          "base_uri": "https://localhost:8080/",
          "height": 326
        },
        "id": "SQtTPReQZlzI",
        "outputId": "0c51fbdd-2ad1-444c-ec6b-b9a4e1ab799f"
      },
      "execution_count": null,
      "outputs": [
        {
          "output_type": "display_data",
          "data": {
            "text/plain": [
              "<Figure size 432x288 with 1 Axes>"
            ],
            "image/png": "[encoded data removed]"
          },
          "metadata": {
            "needs_background": "light"
          }
        },
        {
          "output_type": "display_data",
          "data": {
            "text/plain": [
              "<Figure size 432000x432000 with 0 Axes>"
            ]
          },
          "metadata": {}
        }
      ]
    }
  ]
}